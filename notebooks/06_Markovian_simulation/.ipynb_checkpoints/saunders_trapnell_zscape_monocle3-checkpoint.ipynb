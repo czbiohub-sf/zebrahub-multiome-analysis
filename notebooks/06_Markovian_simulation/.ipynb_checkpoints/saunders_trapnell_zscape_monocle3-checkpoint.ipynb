{
 "cells": [
  {
   "cell_type": "markdown",
   "id": "bc1f5073-0a41-4bcc-b4a5-1fb96c0d0a55",
   "metadata": {},
   "source": [
    "## exploration on Saunders, Trapnell, 2023 datasets\n",
    "\n",
    "- Last updated: 05/17/2024\n",
    "- reference:\n",
    "- perturbation:"
   ]
  },
  {
   "cell_type": "code",
   "execution_count": 3,
   "id": "ffbcccdf-9b91-4173-90e7-3ac897e8efd8",
   "metadata": {},
   "outputs": [
    {
     "ename": "ERROR",
     "evalue": "Error in readRDS(\"/hpc/projects/data.science/yangjoon.kim/zebrahub_multiome/data/Saunders_Trapnell_2023/zscape_perturb_cds.RDS\"): error reading from connection\n",
     "output_type": "error",
     "traceback": [
      "Error in readRDS(\"/hpc/projects/data.science/yangjoon.kim/zebrahub_multiome/data/Saunders_Trapnell_2023/zscape_perturb_cds.RDS\"): error reading from connection\nTraceback:\n",
      "1. readRDS(\"/hpc/projects/data.science/yangjoon.kim/zebrahub_multiome/data/Saunders_Trapnell_2023/zscape_perturb_cds.RDS\")"
     ]
    }
   ],
   "source": [
    "# cicero\n",
    ".libPaths(\"/hpc/scratch/group.data.science/yangjoon.kim/.local/R_lib\")\n",
    "withr::with_libpaths(new = \"/hpc/scratch/group.data.science/yangjoon.kim/.local/R_lib\", library(monocle3))\n",
    "# withr::with_libpaths(new = \"/hpc/scratch/group.data.science/yangjoon.kim/.local/R_lib\", library(cicero))\n",
    "library(ggplot2)\n",
    "\n",
    "# Load the zebrafish perturbation data\n",
    "perturb_cds <- readRDS(\"/hpc/projects/data.science/yangjoon.kim/zebrahub_multiome/data/Saunders_Trapnell_2023/zscape_perturb_cds.RDS\")\n",
    "\n",
    "# Subset the noto and tbxta crispants and controls\n",
    "noto_tbxta_cds <- perturb_cds[,colData(perturb_cds)$gene_target %in% c(\"noto\", \"tbxta\", \"ctrl-inj\")]\n",
    "\n",
    "# Don't forget to select timepoints too! \n",
    "noto_tbxta_cds <- perturb_cds[,colData(perturb_cds)$timepoint %in% c(\"18\", \"24\", \"36\")]\n",
    "\n",
    "# Plot the expression of epyc across conditions \n",
    "monocle3::plot_cells(noto_tbxta_cds, genes = c(\"epyc\")) +\n",
    "    # facet the plot by gene target \n",
    "    facet_wrap(~gene_target) +\n",
    "    # fix the color scale\n",
    "    scale_color_viridis_c()\n",
    "\n",
    "# load other libraries\n",
    "#library(cicero)\n",
    "# library(Signac)\n",
    "# library(Seurat)\n",
    "# library(SeuratWrappers)\n"
   ]
  },
  {
   "cell_type": "code",
   "execution_count": 2,
   "id": "70e4e4c6-e774-4029-b509-32dab29c90cc",
   "metadata": {},
   "outputs": [
    {
     "ename": "ERROR",
     "evalue": "Error in readRDS(paste0(filepath, \"zscape_perturb_cds.RDS\")): error reading from connection\n",
     "output_type": "error",
     "traceback": [
      "Error in readRDS(paste0(filepath, \"zscape_perturb_cds.RDS\")): error reading from connection\nTraceback:\n",
      "1. readRDS(paste0(filepath, \"zscape_perturb_cds.RDS\"))"
     ]
    }
   ],
   "source": [
    "# filepath <- \"/hpc/projects/data.science/yangjoon.kim/zebrahub_multiome/data/Saunders_Trapnell_2023/\"\n",
    "\n",
    "# perturb_cds <- readRDS(paste0(filepath, \"zscape_perturb_cds.RDS\"))\n",
    "# perturb_cds"
   ]
  },
  {
   "cell_type": "code",
   "execution_count": null,
   "id": "d9ff7334-5c7f-4796-88c4-f0236712d8de",
   "metadata": {},
   "outputs": [],
   "source": []
  },
  {
   "cell_type": "code",
   "execution_count": null,
   "id": "4ca192ff-86a7-4a9b-aa2f-93b8098da1e7",
   "metadata": {},
   "outputs": [],
   "source": []
  },
  {
   "cell_type": "code",
   "execution_count": null,
   "id": "6a6c2b5a-dc0c-46a0-8d8d-bbf664f8189c",
   "metadata": {},
   "outputs": [],
   "source": []
  },
  {
   "cell_type": "code",
   "execution_count": null,
   "id": "068f6731-c2b1-4970-bed7-f9b9b85b80e3",
   "metadata": {},
   "outputs": [],
   "source": []
  },
  {
   "cell_type": "code",
   "execution_count": null,
   "id": "c0eaeb58-0931-45d5-af21-11ec0c1f5a4d",
   "metadata": {},
   "outputs": [],
   "source": []
  }
 ],
 "metadata": {
  "kernelspec": {
   "display_name": "R 4.3",
   "language": "R",
   "name": "ir43"
  },
  "language_info": {
   "codemirror_mode": "r",
   "file_extension": ".r",
   "mimetype": "text/x-r-source",
   "name": "R",
   "pygments_lexer": "r",
   "version": "4.3.2"
  }
 },
 "nbformat": 4,
 "nbformat_minor": 5
}
