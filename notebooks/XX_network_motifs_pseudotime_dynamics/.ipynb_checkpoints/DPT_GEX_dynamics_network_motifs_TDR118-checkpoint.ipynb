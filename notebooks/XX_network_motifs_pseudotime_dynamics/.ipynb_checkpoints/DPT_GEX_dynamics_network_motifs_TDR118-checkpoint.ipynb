{
 "cells": [
  {
   "cell_type": "markdown",
   "id": "f7f6028e-7778-4d3c-9e0e-25e16a156471",
   "metadata": {},
   "source": [
    "# Using pseudotime (DPT) to check the gene expression dynamics\n",
    "\n",
    "- Last updated: 11/2/2023\n",
    "- Author: Yang-Joon Kim\n",
    "\n",
    "- We will use the CellOracle's default pseudotime result (Diffusion-based Pseudotime) to visualize the gene expression dynamics for the set of genes detected by network motifs.\n",
    "\n",
    "- motif 38 (Feed-Forward Loop) - can be split into coherent and incoherent\n",
    "- motif 46 (positive Feedback Loop)"
   ]
  },
  {
   "cell_type": "code",
   "execution_count": 1,
   "id": "38628551-e7aa-4878-9b06-7efc1b9e7e9c",
   "metadata": {},
   "outputs": [],
   "source": [
    "import time\n",
    "import os\n",
    "import shutil\n",
    "import sys\n",
    "\n",
    "import matplotlib.pyplot as plt\n",
    "import numpy as np\n",
    "import pandas as pd\n",
    "import scanpy as sc\n",
    "import seaborn as sns\n",
    "from tqdm.auto import tqdm"
   ]
  },
  {
   "cell_type": "code",
   "execution_count": 2,
   "id": "97bbb4ea-7737-4c95-888a-4cb21e6618f0",
   "metadata": {},
   "outputs": [
    {
     "name": "stderr",
     "output_type": "stream",
     "text": [
      "/home/yang-joon.kim/.conda/envs/celloracle_env/lib/python3.8/site-packages/loompy/bus_file.py:68: NumbaDeprecationWarning: \u001b[1mThe 'nopython' keyword argument was not supplied to the 'numba.jit' decorator. The implicit default value for this argument is currently False, but it will be changed to True in Numba 0.59.0. See https://numba.readthedocs.io/en/stable/reference/deprecation.html#deprecation-of-object-mode-fall-back-behaviour-when-using-jit for details.\u001b[0m\n",
      "  def twobit_to_dna(twobit: int, size: int) -> str:\n",
      "/home/yang-joon.kim/.conda/envs/celloracle_env/lib/python3.8/site-packages/loompy/bus_file.py:85: NumbaDeprecationWarning: \u001b[1mThe 'nopython' keyword argument was not supplied to the 'numba.jit' decorator. The implicit default value for this argument is currently False, but it will be changed to True in Numba 0.59.0. See https://numba.readthedocs.io/en/stable/reference/deprecation.html#deprecation-of-object-mode-fall-back-behaviour-when-using-jit for details.\u001b[0m\n",
      "  def dna_to_twobit(dna: str) -> int:\n",
      "/home/yang-joon.kim/.conda/envs/celloracle_env/lib/python3.8/site-packages/loompy/bus_file.py:102: NumbaDeprecationWarning: \u001b[1mThe 'nopython' keyword argument was not supplied to the 'numba.jit' decorator. The implicit default value for this argument is currently False, but it will be changed to True in Numba 0.59.0. See https://numba.readthedocs.io/en/stable/reference/deprecation.html#deprecation-of-object-mode-fall-back-behaviour-when-using-jit for details.\u001b[0m\n",
      "  def twobit_1hamming(twobit: int, size: int) -> List[int]:\n",
      "INFO:matplotlib.font_manager:Failed to extract font properties from /usr/share/fonts/google-noto-emoji/NotoColorEmoji.ttf: In FT2Font: Can not load face (unknown file format; error code 0x2)\n"
     ]
    },
    {
     "data": {
      "text/plain": [
       "'0.14.0'"
      ]
     },
     "execution_count": 2,
     "metadata": {},
     "output_type": "execute_result"
    }
   ],
   "source": [
    "import celloracle as co\n",
    "from celloracle.applications import Pseudotime_calculator\n",
    "co.__version__"
   ]
  },
  {
   "cell_type": "code",
   "execution_count": 3,
   "id": "b5d3ee00-b792-413e-bb09-f7d0c347f58f",
   "metadata": {},
   "outputs": [
    {
     "data": {
      "text/plain": [
       "Oracle object\n",
       "\n",
       "Meta data\n",
       "    celloracle version used for instantiation: 0.14.0\n",
       "    n_cells: 13022\n",
       "    n_genes: 3000\n",
       "    cluster_name: predicted.id\n",
       "    dimensional_reduction_name: X_atac.umap.cellranger\n",
       "    n_target_genes_in_TFdict: 12674 genes\n",
       "    n_regulatory_in_TFdict: 863 genes\n",
       "    n_regulatory_in_both_TFdict_and_scRNA-seq: 316 genes\n",
       "    n_target_genes_both_TFdict_and_scRNA-seq: 1637 genes\n",
       "    k_for_knn_imputation: 325\n",
       "Status\n",
       "    Gene expression matrix: Ready\n",
       "    BaseGRN: Ready\n",
       "    PCA calculation: Done\n",
       "    Knn imputation: Done\n",
       "    GRN calculation for simulation: Done"
      ]
     },
     "execution_count": 3,
     "metadata": {},
     "output_type": "execute_result"
    }
   ],
   "source": [
    "oracle_TDR118 = co.load_hdf5(\"/hpc/projects/data.science/yangjoon.kim/zebrahub_multiome/data/processed_data/TDR118_cicero_output/10_TDR118_pseudotime.celloracle.oracle\")\n",
    "oracle_TDR118"
   ]
  },
  {
   "cell_type": "code",
   "execution_count": null,
   "id": "aed685d8-d5a7-4574-adfa-78123ddbc28c",
   "metadata": {},
   "outputs": [],
   "source": [
    "# pt = Pseudotime_calculator(oracle_object=oracle_TDR118)\n",
    "# pt"
   ]
  },
  {
   "cell_type": "code",
   "execution_count": null,
   "id": "899a8ada-6ded-4f45-b18b-3cdb6eb129da",
   "metadata": {},
   "outputs": [],
   "source": [
    "oracle_TDR118_simulated = co.load_hdf5(\"/hpc/projects/data.science/yangjoon.kim/zebrahub_multiome/data/processed_data/TDR118_cicero_output/13_TDR118_pseudotime_KOsimulated.celloracle.oracle\")\n",
    "oracle_TDR118_simulated"
   ]
  },
  {
   "cell_type": "code",
   "execution_count": null,
   "id": "a86ae108-bb16-4f0b-b880-f4d2a50ed288",
   "metadata": {},
   "outputs": [],
   "source": [
    "oracle_TDR118_simulated.get_mcmc_cell_transition_table()"
   ]
  },
  {
   "cell_type": "code",
   "execution_count": null,
   "id": "9f71f6e4-4ea1-4d5c-b91b-3af411bae085",
   "metadata": {},
   "outputs": [],
   "source": []
  },
  {
   "cell_type": "code",
   "execution_count": null,
   "id": "99f64926-a3f0-4a02-8d2f-ed4e85ed8ae5",
   "metadata": {},
   "outputs": [],
   "source": []
  },
  {
   "cell_type": "code",
   "execution_count": null,
   "id": "c045a839-f0ad-495f-aec1-192cc0dbf53c",
   "metadata": {},
   "outputs": [],
   "source": []
  }
 ],
 "metadata": {
  "kernelspec": {
   "display_name": "Python [conda env:.conda-celloracle_env]",
   "language": "python",
   "name": "conda-env-.conda-celloracle_env-py"
  },
  "language_info": {
   "codemirror_mode": {
    "name": "ipython",
    "version": 3
   },
   "file_extension": ".py",
   "mimetype": "text/x-python",
   "name": "python",
   "nbconvert_exporter": "python",
   "pygments_lexer": "ipython3",
   "version": "3.8.17"
  }
 },
 "nbformat": 4,
 "nbformat_minor": 5
}
