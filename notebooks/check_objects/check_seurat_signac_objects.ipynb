{
 "cells": [
  {
   "cell_type": "markdown",
   "id": "263bc0ce-c013-4b78-8f1c-d38f6c62f12e",
   "metadata": {},
   "source": [
    "## check the seurat/signac object"
   ]
  },
  {
   "cell_type": "code",
   "execution_count": 2,
   "id": "93ce7a99-1094-4281-b841-47b9a8288846",
   "metadata": {},
   "outputs": [
    {
     "name": "stdout",
     "output_type": "stream",
     "text": [
      "               _                           \n",
      "platform       x86_64-pc-linux-gnu         \n",
      "arch           x86_64                      \n",
      "os             linux-gnu                   \n",
      "system         x86_64, linux-gnu           \n",
      "status                                     \n",
      "major          4                           \n",
      "minor          3.2                         \n",
      "year           2023                        \n",
      "month          10                          \n",
      "day            31                          \n",
      "svn rev        85441                       \n",
      "language       R                           \n",
      "version.string R version 4.3.2 (2023-10-31)\n",
      "nickname       Eye Holes                   \n",
      "[1] ‘4.4.0’\n"
     ]
    },
    {
     "data": {
      "text/html": [
       "<pre class=language-r><code>structure(function (..., workers = 20, envir = parent.frame()) \n",
       "strategy(..., workers = workers, envir = envir), class = c(\"FutureStrategy\", \n",
       "\"tweaked\", \"multicore\", \"multiprocess\", \"future\", \"function\"), call = plan(\"multicore\", \n",
       "<span style=white-space:pre-wrap>    workers = 20))</span></code></pre>"
      ],
      "text/latex": [
       "\\begin{minted}{r}\n",
       "structure(function (..., workers = 20, envir = parent.frame()) \n",
       "strategy(..., workers = workers, envir = envir), class = c(\"FutureStrategy\", \n",
       "\"tweaked\", \"multicore\", \"multiprocess\", \"future\", \"function\"), call = plan(\"multicore\", \n",
       "    workers = 20))\n",
       "\\end{minted}"
      ],
      "text/markdown": [
       "```r\n",
       "structure(function (..., workers = 20, envir = parent.frame()) \n",
       "strategy(..., workers = workers, envir = envir), class = c(\"FutureStrategy\", \n",
       "\"tweaked\", \"multicore\", \"multiprocess\", \"future\", \"function\"), call = plan(\"multicore\", \n",
       "    workers = 20))\n",
       "```"
      ],
      "text/plain": [
       "multicore:\n",
       "- args: function (..., workers = 20, envir = parent.frame())\n",
       "- tweaked: TRUE\n",
       "- call: plan(\"multicore\", workers = 20)"
      ]
     },
     "metadata": {},
     "output_type": "display_data"
    },
    {
     "data": {
      "text/html": [
       "<pre class=language-r><code>structure(function (..., workers = 20, envir = parent.frame()) \n",
       "strategy(..., workers = workers, envir = envir), class = c(\"FutureStrategy\", \n",
       "\"tweaked\", \"multicore\", \"multiprocess\", \"future\", \"function\"), call = plan(\"multicore\", \n",
       "<span style=white-space:pre-wrap>    workers = 20))</span></code></pre>"
      ],
      "text/latex": [
       "\\begin{minted}{r}\n",
       "structure(function (..., workers = 20, envir = parent.frame()) \n",
       "strategy(..., workers = workers, envir = envir), class = c(\"FutureStrategy\", \n",
       "\"tweaked\", \"multicore\", \"multiprocess\", \"future\", \"function\"), call = plan(\"multicore\", \n",
       "    workers = 20))\n",
       "\\end{minted}"
      ],
      "text/markdown": [
       "```r\n",
       "structure(function (..., workers = 20, envir = parent.frame()) \n",
       "strategy(..., workers = workers, envir = envir), class = c(\"FutureStrategy\", \n",
       "\"tweaked\", \"multicore\", \"multiprocess\", \"future\", \"function\"), call = plan(\"multicore\", \n",
       "    workers = 20))\n",
       "```"
      ],
      "text/plain": [
       "multicore:\n",
       "- args: function (..., workers = 20, envir = parent.frame())\n",
       "- tweaked: TRUE\n",
       "- call: plan(\"multicore\", workers = 20)"
      ]
     },
     "metadata": {},
     "output_type": "display_data"
    }
   ],
   "source": [
    "# load the libraries\n",
    "suppressMessages(library(Seurat))\n",
    "suppressMessages(library(Signac))\n",
    "#library(Seurat)\n",
    "#library(Signac)\n",
    "library(SeuratData)\n",
    "library(SeuratDisk)\n",
    "library(Matrix)\n",
    "\n",
    "# genome info\n",
    "library(GenomeInfoDb)\n",
    "library(ggplot2)\n",
    "library(patchwork)\n",
    "library(stringr)\n",
    "library(BSgenome.Drerio.UCSC.danRer11)\n",
    "\n",
    "print(R.version)\n",
    "print(packageVersion(\"Seurat\"))\n",
    "\n",
    "# parallelization in Signac: https://stuartlab.org/signac/articles/future\n",
    "library(future)\n",
    "plan()\n",
    "\n",
    "plan(\"multicore\", workers = 20)\n",
    "plan()"
   ]
  },
  {
   "cell_type": "code",
   "execution_count": 3,
   "id": "622d502e-fb3e-4d79-83ea-126befcb2bf7",
   "metadata": {},
   "outputs": [
    {
     "data": {
      "text/plain": [
       "An object of class Seurat \n",
       "1573599 features across 13614 samples within 7 assays \n",
       "Active assay: peaks_merged (485357 features, 485357 variable features)\n",
       " 6 other assays present: RNA, ATAC, SCT, peaks_bulk, peaks_celltype, Gene.Activity\n",
       " 5 dimensional reductions calculated: pca, umap.rna, lsi, umap.atac, umap.joint"
      ]
     },
     "metadata": {},
     "output_type": "display_data"
    }
   ],
   "source": [
    "# Load the seurat object (all assays - RNA and ATAC)\n",
    "multiome <- readRDS(\"/hpc/projects/data.science/yangjoon.kim/zebrahub_multiome/data/processed_data/01_Signac_processed/TDR118reseq/TDR118_processed.RDS\")\n",
    "multiome"
   ]
  },
  {
   "cell_type": "code",
   "execution_count": null,
   "id": "1298cddb-e826-43ff-b718-c85c5a31f881",
   "metadata": {},
   "outputs": [],
   "source": [
    "# multiome@assays$peaks_merged@data"
   ]
  },
  {
   "cell_type": "code",
   "execution_count": null,
   "id": "fb80609b-688a-46c7-84c3-f7d1037add55",
   "metadata": {},
   "outputs": [],
   "source": []
  },
  {
   "cell_type": "code",
   "execution_count": null,
   "id": "2474c076-5141-4244-ba11-10d8a8d6f16c",
   "metadata": {},
   "outputs": [
    {
     "name": "stderr",
     "output_type": "stream",
     "text": [
      "Warning message in asMethod(object):\n",
      "“sparse->dense coercion: allocating vector of size 49.2 GiB”\n"
     ]
    }
   ],
   "source": [
    "# Access the raw counts matrix\n",
    "counts_matrix_atac <- multiome@assays$peaks_merged@counts\n",
    "\n",
    "# Convert it to a regular matrix if it's sparse\n",
    "if (class(counts_matrix_atac) == \"dgCMatrix\") {\n",
    "  counts_matrix_atac <- as.matrix(counts_matrix_atac)\n",
    "}\n",
    "\n",
    "# Get cell IDs and gene/peak names\n",
    "cell_ids <- colnames(counts_matrix_atac)\n",
    "peak_names <- rownames(counts_matrix_atac)\n",
    "\n",
    "# Assign row and column names to the matrix\n",
    "rownames(counts_matrix_atac) <- peak_names\n",
    "colnames(counts_matrix_atac) <- cell_ids\n",
    "\n",
    "# Export to CSV file\n",
    "output_file <- file.path(\"/hpc/projects/data.science/yangjoon.kim/zebrahub_multiome/data/processed_data/post_Signac_CellOracle/TDR118reseq/\", \"peaks_merged_raw_counts.csv\")\n",
    "write.csv(counts_matrix_atac, file = output_file, row.names = TRUE)"
   ]
  },
  {
   "cell_type": "code",
   "execution_count": 6,
   "id": "7c96f7d7-7866-4f25-a230-b8836e7407d7",
   "metadata": {},
   "outputs": [
    {
     "data": {
      "text/plain": [
       "Assay data with 25032 features for 13614 cells\n",
       "First 10 features:\n",
       " ptpn12, phtf2, phtf2.1, CU856344.1, si:zfos-932h1.3, mansc1, lrp6,\n",
       "dusp16, crebl2, gpr19 "
      ]
     },
     "metadata": {},
     "output_type": "display_data"
    }
   ],
   "source": [
    "multiome@assays$Gene.Activity"
   ]
  }
 ],
 "metadata": {
  "kernelspec": {
   "display_name": "R 4.3",
   "language": "R",
   "name": "ir43"
  },
  "language_info": {
   "codemirror_mode": "r",
   "file_extension": ".r",
   "mimetype": "text/x-r-source",
   "name": "R",
   "pygments_lexer": "r",
   "version": "4.3.2"
  }
 },
 "nbformat": 4,
 "nbformat_minor": 5
}
