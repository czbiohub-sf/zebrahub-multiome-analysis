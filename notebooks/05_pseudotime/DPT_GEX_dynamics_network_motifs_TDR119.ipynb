{
 "cells": [
  {
   "cell_type": "markdown",
   "id": "f7f6028e-7778-4d3c-9e0e-25e16a156471",
   "metadata": {},
   "source": [
    "# Using pseudotime (DPT) to check the gene expression dynamics\n",
    "\n",
    "- sample: TDR119 (15 somites)\n",
    "\n",
    "- Last updated: 11/8/2023\n",
    "- Author: Yang-Joon Kim\n",
    "\n",
    "- We will use the CellOracle's default pseudotime result (Diffusion-based Pseudotime) to visualize the gene expression dynamics for the set of genes detected by network motifs.\n",
    "\n",
    "- motif 38 (Feed-Forward Loop) - can be split into coherent and incoherent\n",
    "- motif 46 (positive Feedback Loop)"
   ]
  },
  {
   "cell_type": "code",
   "execution_count": 1,
   "id": "38628551-e7aa-4878-9b06-7efc1b9e7e9c",
   "metadata": {},
   "outputs": [],
   "source": [
    "import time\n",
    "import os\n",
    "import shutil\n",
    "import sys\n",
    "\n",
    "import matplotlib.pyplot as plt\n",
    "import numpy as np\n",
    "import pandas as pd\n",
    "import scanpy as sc\n",
    "import seaborn as sns\n",
    "from tqdm.auto import tqdm"
   ]
  },
  {
   "cell_type": "code",
   "execution_count": 2,
   "id": "97bbb4ea-7737-4c95-888a-4cb21e6618f0",
   "metadata": {},
   "outputs": [
    {
     "name": "stderr",
     "output_type": "stream",
     "text": [
      "/home/yang-joon.kim/.conda/envs/celloracle_env/lib/python3.8/site-packages/loompy/bus_file.py:68: NumbaDeprecationWarning: \u001b[1mThe 'nopython' keyword argument was not supplied to the 'numba.jit' decorator. The implicit default value for this argument is currently False, but it will be changed to True in Numba 0.59.0. See https://numba.readthedocs.io/en/stable/reference/deprecation.html#deprecation-of-object-mode-fall-back-behaviour-when-using-jit for details.\u001b[0m\n",
      "  def twobit_to_dna(twobit: int, size: int) -> str:\n",
      "/home/yang-joon.kim/.conda/envs/celloracle_env/lib/python3.8/site-packages/loompy/bus_file.py:85: NumbaDeprecationWarning: \u001b[1mThe 'nopython' keyword argument was not supplied to the 'numba.jit' decorator. The implicit default value for this argument is currently False, but it will be changed to True in Numba 0.59.0. See https://numba.readthedocs.io/en/stable/reference/deprecation.html#deprecation-of-object-mode-fall-back-behaviour-when-using-jit for details.\u001b[0m\n",
      "  def dna_to_twobit(dna: str) -> int:\n",
      "/home/yang-joon.kim/.conda/envs/celloracle_env/lib/python3.8/site-packages/loompy/bus_file.py:102: NumbaDeprecationWarning: \u001b[1mThe 'nopython' keyword argument was not supplied to the 'numba.jit' decorator. The implicit default value for this argument is currently False, but it will be changed to True in Numba 0.59.0. See https://numba.readthedocs.io/en/stable/reference/deprecation.html#deprecation-of-object-mode-fall-back-behaviour-when-using-jit for details.\u001b[0m\n",
      "  def twobit_1hamming(twobit: int, size: int) -> List[int]:\n",
      "INFO:matplotlib.font_manager:Failed to extract font properties from /usr/share/fonts/google-noto-emoji/NotoColorEmoji.ttf: In FT2Font: Can not load face (unknown file format; error code 0x2)\n"
     ]
    },
    {
     "data": {
      "text/plain": [
       "'0.14.0'"
      ]
     },
     "execution_count": 2,
     "metadata": {},
     "output_type": "execute_result"
    }
   ],
   "source": [
    "import celloracle as co\n",
    "from celloracle.applications import Pseudotime_calculator\n",
    "co.__version__"
   ]
  },
  {
   "cell_type": "code",
   "execution_count": 3,
   "id": "b5d3ee00-b792-413e-bb09-f7d0c347f58f",
   "metadata": {},
   "outputs": [
    {
     "data": {
      "text/plain": [
       "Oracle object\n",
       "\n",
       "Meta data\n",
       "    celloracle version used for instantiation: 0.14.0\n",
       "    n_cells: 13022\n",
       "    n_genes: 3000\n",
       "    cluster_name: global_annotation\n",
       "    dimensional_reduction_name: X_umap.joint\n",
       "    n_target_genes_in_TFdict: 12674 genes\n",
       "    n_regulatory_in_TFdict: 872 genes\n",
       "    n_regulatory_in_both_TFdict_and_scRNA-seq: 318 genes\n",
       "    n_target_genes_both_TFdict_and_scRNA-seq: 1637 genes\n",
       "    k_for_knn_imputation: 325\n",
       "Status\n",
       "    Gene expression matrix: Ready\n",
       "    BaseGRN: Ready\n",
       "    PCA calculation: Done\n",
       "    Knn imputation: Done\n",
       "    GRN calculation for simulation: Not finished"
      ]
     },
     "execution_count": 3,
     "metadata": {},
     "output_type": "execute_result"
    }
   ],
   "source": [
    "oracle_TDR119 = co.load_hdf5(\"/hpc/projects/data.science/yangjoon.kim/zebrahub_multiome/data/processed_data/TDR119_cicero_output/10_TDR119_pseudotime.celloracle.oracle\")\n",
    "oracle_TDR119"
   ]
  },
  {
   "cell_type": "code",
   "execution_count": 5,
   "id": "fc010667-f021-4cdd-bc64-08ce1e68cda9",
   "metadata": {},
   "outputs": [
    {
     "data": {
      "text/plain": [
       "AAACAGCCACCTAAGC-1         NaN\n",
       "AAACAGCCAGGGAGGA-1    0.159441\n",
       "AAACAGCCATAGACCC-1    0.105814\n",
       "AAACATGCAAACTCAT-1         NaN\n",
       "AAACATGCAAGGACCA-1         NaN\n",
       "Name: Pseudotime_Lineage_Meso, dtype: float64"
      ]
     },
     "execution_count": 5,
     "metadata": {},
     "output_type": "execute_result"
    }
   ],
   "source": [
    "oracle_TDR119.adata.obs[\"Pseudotime_Lineage_Meso\"].head()"
   ]
  },
  {
   "cell_type": "code",
   "execution_count": 7,
   "id": "d6383988-94f5-49db-b3d8-18df95cd0cc2",
   "metadata": {},
   "outputs": [
    {
     "data": {
      "text/plain": [
       "AAACAGCCACCTAAGC-1         NaN\n",
       "AAACAGCCAGGGAGGA-1    0.159441\n",
       "AAACAGCCATAGACCC-1    0.105814\n",
       "AAACATGCAAACTCAT-1         NaN\n",
       "AAACATGCAAGGACCA-1         NaN\n",
       "Name: Pseudotime_Lineage_Meso, dtype: float64"
      ]
     },
     "execution_count": 7,
     "metadata": {},
     "output_type": "execute_result"
    }
   ],
   "source": [
    "oracle_TDR119.adata.obs[\"Pseudotime_Lineage_Meso\"].head()"
   ]
  },
  {
   "cell_type": "code",
   "execution_count": 8,
   "id": "ec74a46d-f474-4f07-bf2f-f69f9f7454e2",
   "metadata": {},
   "outputs": [
    {
     "data": {
      "text/plain": [
       "AAACAGCCACCTAAGC-1    False\n",
       "AAACAGCCAGGGAGGA-1     True\n",
       "AAACAGCCATAGACCC-1     True\n",
       "AAACATGCAAACTCAT-1    False\n",
       "AAACATGCAAGGACCA-1    False\n",
       "                      ...  \n",
       "TTTGTTGGTCGACTCC-1    False\n",
       "TTTGTTGGTGATTTGG-1    False\n",
       "TTTGTTGGTTCACCCA-1    False\n",
       "TTTGTTGGTTCGGGAT-1    False\n",
       "TTTGTTGGTTTGTGGA-1     True\n",
       "Name: Lineage_Meso, Length: 13022, dtype: category\n",
       "Categories (2, object): ['False', 'True']"
      ]
     },
     "execution_count": 8,
     "metadata": {},
     "output_type": "execute_result"
    }
   ],
   "source": [
    "oracle_TDR119.adata.obs[\"Lineage_Meso\"]"
   ]
  },
  {
   "cell_type": "code",
   "execution_count": 9,
   "id": "e7cf58fd-3fcc-4314-b781-0521f281e49d",
   "metadata": {},
   "outputs": [
    {
     "data": {
      "text/plain": [
       "View of AnnData object with n_obs × n_vars = 3359 × 3000\n",
       "    obs: 'orig.ident', 'nCount_RNA', 'nFeature_RNA', 'nCount_ATAC', 'nFeature_ATAC', 'nucleosome_signal', 'nucleosome_percentile', 'TSS.enrichment', 'TSS.percentile', 'nCount_SCT', 'nFeature_SCT', 'global_annotation', 'nCount_peaks_bulk', 'nFeature_peaks_bulk', 'nCount_peaks_celltype', 'nFeature_peaks_celltype', 'SCT.weight', 'peaks_celltype.weight', 'Lineage_Meso', 'Lineage_NeuroEcto', 'Pseudotime_Lineage_Meso', 'Pseudotime_Lineage_NeuroEcto', 'Pseudotime'\n",
       "    var: 'features', 'highly_variable', 'highly_variable_rank', 'means', 'variances', 'variances_norm', 'symbol', 'isin_top1000_var_mean_genes', 'isin_TFdict_targets', 'isin_TFdict_regulators'\n",
       "    uns: 'hvg', 'log1p', 'global_annotation_colors'\n",
       "    obsm: 'X_umap.atac', 'X_umap.joint', 'X_umap.rna'\n",
       "    layers: 'raw_count', 'normalized_count', 'imputed_count'"
      ]
     },
     "execution_count": 9,
     "metadata": {},
     "output_type": "execute_result"
    }
   ],
   "source": [
    "adata_lineage_meso = oracle_TDR119.adata[oracle_TDR119.adata.obs[\"Lineage_Meso\"]==\"True\"]\n",
    "adata_lineage_meso"
   ]
  },
  {
   "cell_type": "code",
   "execution_count": 10,
   "id": "3f654149-ae5a-4164-82ed-99398840249b",
   "metadata": {},
   "outputs": [
    {
     "data": {
      "text/plain": [
       "AAACAGCCAGGGAGGA-1    0.159441\n",
       "AAACAGCCATAGACCC-1    0.105814\n",
       "AAACATGCAGGACCTT-1    0.134348\n",
       "AAACATGCATAGGCGA-1    0.146993\n",
       "AAACCGAAGATAAAGC-1    0.161369\n",
       "                        ...   \n",
       "TTTGTGAAGGGTTAGA-1    0.112953\n",
       "TTTGTGGCATGTCAAT-1    0.088272\n",
       "TTTGTGTTCGCTAAGT-1    0.317869\n",
       "TTTGTTGGTAGGTGTC-1    0.296209\n",
       "TTTGTTGGTTTGTGGA-1    0.170284\n",
       "Name: Pseudotime_Lineage_Meso, Length: 3359, dtype: float64"
      ]
     },
     "execution_count": 10,
     "metadata": {},
     "output_type": "execute_result"
    }
   ],
   "source": [
    "adata_lineage_meso.obs[\"Pseudotime_Lineage_Meso\"]"
   ]
  },
  {
   "cell_type": "code",
   "execution_count": 17,
   "id": "e628dd67-974d-4988-8314-39cdbaf5d512",
   "metadata": {},
   "outputs": [],
   "source": [
    "# # Sort the AnnData object based on pseudotime\n",
    "# adata_lineage_meso = adata_lineage_meso[adata_lineage_meso.obs['Pseudotime_Lineage_Meso'].argsort()]\n",
    "# adata_lineage_meso.obs\n",
    "\n",
    "# # filter out the last one, which has \"inf\" for the pseudotime value\n",
    "# adata_lineage_meso = adata_lineage_meso[:-1,:]\n",
    "\n",
    "list_reg_TFs = ['etv4','hmga1a','nr2f5','tbx16','meis1a',\n",
    "                'meis1b','sox6','hoxb3a','sox5','foxc1a',\n",
    "                'uncx','foxp4','en2b','rarga','nr2f1b',\n",
    "                'alx4a','elk3','pax6b','vsx1','dlx3b']"
   ]
  },
  {
   "cell_type": "code",
   "execution_count": 11,
   "id": "ecc37283-667e-46b0-8dae-3258fe98850d",
   "metadata": {},
   "outputs": [
    {
     "data": {
      "text/plain": [
       "<3359x3000 sparse matrix of type '<class 'numpy.float64'>'\n",
       "\twith 585369 stored elements in Compressed Sparse Row format>"
      ]
     },
     "execution_count": 11,
     "metadata": {},
     "output_type": "execute_result"
    }
   ],
   "source": [
    "adata_lineage_meso.layers[\"normalized_count\"]"
   ]
  },
  {
   "cell_type": "code",
   "execution_count": 12,
   "id": "48a1ac22-5c3e-46b4-852f-a74d47bf79bb",
   "metadata": {},
   "outputs": [
    {
     "data": {
      "text/html": [
       "<div>\n",
       "<style scoped>\n",
       "    .dataframe tbody tr th:only-of-type {\n",
       "        vertical-align: middle;\n",
       "    }\n",
       "\n",
       "    .dataframe tbody tr th {\n",
       "        vertical-align: top;\n",
       "    }\n",
       "\n",
       "    .dataframe thead th {\n",
       "        text-align: right;\n",
       "    }\n",
       "</style>\n",
       "<table border=\"1\" class=\"dataframe\">\n",
       "  <thead>\n",
       "    <tr style=\"text-align: right;\">\n",
       "      <th></th>\n",
       "      <th>msgn1</th>\n",
       "      <th>BX649468.1</th>\n",
       "      <th>ripply2</th>\n",
       "      <th>chrm2a</th>\n",
       "      <th>FAR2</th>\n",
       "      <th>phlda1</th>\n",
       "      <th>pde3a</th>\n",
       "      <th>CU928073.1</th>\n",
       "      <th>cd9b</th>\n",
       "      <th>ntf3</th>\n",
       "      <th>...</th>\n",
       "      <th>fibina</th>\n",
       "      <th>rbl2</th>\n",
       "      <th>irx5b</th>\n",
       "      <th>irx3b</th>\n",
       "      <th>urahb</th>\n",
       "      <th>igl4v10</th>\n",
       "      <th>NC-002333.17</th>\n",
       "      <th>mt-co2</th>\n",
       "      <th>mt-atp6</th>\n",
       "      <th>mt-co3</th>\n",
       "    </tr>\n",
       "  </thead>\n",
       "  <tbody>\n",
       "    <tr>\n",
       "      <th>AAACAGCCAGGGAGGA-1</th>\n",
       "      <td>0.000000</td>\n",
       "      <td>0.0</td>\n",
       "      <td>0.000000</td>\n",
       "      <td>0.0</td>\n",
       "      <td>0.0</td>\n",
       "      <td>0.0</td>\n",
       "      <td>0.0</td>\n",
       "      <td>0.0</td>\n",
       "      <td>0.0</td>\n",
       "      <td>0.0</td>\n",
       "      <td>...</td>\n",
       "      <td>0.000000</td>\n",
       "      <td>0.0</td>\n",
       "      <td>0.0</td>\n",
       "      <td>0.0</td>\n",
       "      <td>0.0</td>\n",
       "      <td>0.0</td>\n",
       "      <td>3.367296</td>\n",
       "      <td>3.332205</td>\n",
       "      <td>2.708050</td>\n",
       "      <td>3.465736</td>\n",
       "    </tr>\n",
       "    <tr>\n",
       "      <th>AAACAGCCATAGACCC-1</th>\n",
       "      <td>3.135494</td>\n",
       "      <td>0.0</td>\n",
       "      <td>0.000000</td>\n",
       "      <td>0.0</td>\n",
       "      <td>0.0</td>\n",
       "      <td>0.0</td>\n",
       "      <td>0.0</td>\n",
       "      <td>0.0</td>\n",
       "      <td>0.0</td>\n",
       "      <td>0.0</td>\n",
       "      <td>...</td>\n",
       "      <td>0.693147</td>\n",
       "      <td>0.0</td>\n",
       "      <td>0.0</td>\n",
       "      <td>0.0</td>\n",
       "      <td>0.0</td>\n",
       "      <td>0.0</td>\n",
       "      <td>4.564348</td>\n",
       "      <td>4.605170</td>\n",
       "      <td>4.276666</td>\n",
       "      <td>4.356709</td>\n",
       "    </tr>\n",
       "    <tr>\n",
       "      <th>AAACATGCAGGACCTT-1</th>\n",
       "      <td>3.295837</td>\n",
       "      <td>0.0</td>\n",
       "      <td>0.693147</td>\n",
       "      <td>0.0</td>\n",
       "      <td>0.0</td>\n",
       "      <td>0.0</td>\n",
       "      <td>0.0</td>\n",
       "      <td>0.0</td>\n",
       "      <td>0.0</td>\n",
       "      <td>0.0</td>\n",
       "      <td>...</td>\n",
       "      <td>0.000000</td>\n",
       "      <td>0.0</td>\n",
       "      <td>0.0</td>\n",
       "      <td>0.0</td>\n",
       "      <td>0.0</td>\n",
       "      <td>0.0</td>\n",
       "      <td>4.634729</td>\n",
       "      <td>4.442651</td>\n",
       "      <td>4.077537</td>\n",
       "      <td>4.219508</td>\n",
       "    </tr>\n",
       "    <tr>\n",
       "      <th>AAACATGCATAGGCGA-1</th>\n",
       "      <td>0.000000</td>\n",
       "      <td>0.0</td>\n",
       "      <td>0.000000</td>\n",
       "      <td>0.0</td>\n",
       "      <td>0.0</td>\n",
       "      <td>0.0</td>\n",
       "      <td>0.0</td>\n",
       "      <td>0.0</td>\n",
       "      <td>0.0</td>\n",
       "      <td>0.0</td>\n",
       "      <td>...</td>\n",
       "      <td>0.000000</td>\n",
       "      <td>0.0</td>\n",
       "      <td>0.0</td>\n",
       "      <td>0.0</td>\n",
       "      <td>0.0</td>\n",
       "      <td>0.0</td>\n",
       "      <td>3.367296</td>\n",
       "      <td>3.178054</td>\n",
       "      <td>2.772589</td>\n",
       "      <td>2.639057</td>\n",
       "    </tr>\n",
       "    <tr>\n",
       "      <th>AAACCGAAGATAAAGC-1</th>\n",
       "      <td>0.000000</td>\n",
       "      <td>0.0</td>\n",
       "      <td>0.000000</td>\n",
       "      <td>0.0</td>\n",
       "      <td>0.0</td>\n",
       "      <td>0.0</td>\n",
       "      <td>0.0</td>\n",
       "      <td>0.0</td>\n",
       "      <td>0.0</td>\n",
       "      <td>0.0</td>\n",
       "      <td>...</td>\n",
       "      <td>0.000000</td>\n",
       "      <td>0.0</td>\n",
       "      <td>0.0</td>\n",
       "      <td>0.0</td>\n",
       "      <td>0.0</td>\n",
       "      <td>0.0</td>\n",
       "      <td>3.496508</td>\n",
       "      <td>3.526361</td>\n",
       "      <td>2.639057</td>\n",
       "      <td>2.833213</td>\n",
       "    </tr>\n",
       "    <tr>\n",
       "      <th>...</th>\n",
       "      <td>...</td>\n",
       "      <td>...</td>\n",
       "      <td>...</td>\n",
       "      <td>...</td>\n",
       "      <td>...</td>\n",
       "      <td>...</td>\n",
       "      <td>...</td>\n",
       "      <td>...</td>\n",
       "      <td>...</td>\n",
       "      <td>...</td>\n",
       "      <td>...</td>\n",
       "      <td>...</td>\n",
       "      <td>...</td>\n",
       "      <td>...</td>\n",
       "      <td>...</td>\n",
       "      <td>...</td>\n",
       "      <td>...</td>\n",
       "      <td>...</td>\n",
       "      <td>...</td>\n",
       "      <td>...</td>\n",
       "      <td>...</td>\n",
       "    </tr>\n",
       "    <tr>\n",
       "      <th>TTTGTGAAGGGTTAGA-1</th>\n",
       "      <td>0.693147</td>\n",
       "      <td>0.0</td>\n",
       "      <td>0.000000</td>\n",
       "      <td>0.0</td>\n",
       "      <td>0.0</td>\n",
       "      <td>0.0</td>\n",
       "      <td>0.0</td>\n",
       "      <td>0.0</td>\n",
       "      <td>0.0</td>\n",
       "      <td>0.0</td>\n",
       "      <td>...</td>\n",
       "      <td>0.000000</td>\n",
       "      <td>0.0</td>\n",
       "      <td>0.0</td>\n",
       "      <td>0.0</td>\n",
       "      <td>0.0</td>\n",
       "      <td>0.0</td>\n",
       "      <td>4.276666</td>\n",
       "      <td>4.077537</td>\n",
       "      <td>3.663562</td>\n",
       "      <td>4.007333</td>\n",
       "    </tr>\n",
       "    <tr>\n",
       "      <th>TTTGTGGCATGTCAAT-1</th>\n",
       "      <td>0.000000</td>\n",
       "      <td>0.0</td>\n",
       "      <td>0.000000</td>\n",
       "      <td>0.0</td>\n",
       "      <td>0.0</td>\n",
       "      <td>0.0</td>\n",
       "      <td>0.0</td>\n",
       "      <td>0.0</td>\n",
       "      <td>0.0</td>\n",
       "      <td>0.0</td>\n",
       "      <td>...</td>\n",
       "      <td>0.000000</td>\n",
       "      <td>0.0</td>\n",
       "      <td>0.0</td>\n",
       "      <td>0.0</td>\n",
       "      <td>0.0</td>\n",
       "      <td>0.0</td>\n",
       "      <td>4.343805</td>\n",
       "      <td>3.806662</td>\n",
       "      <td>3.258097</td>\n",
       "      <td>3.871201</td>\n",
       "    </tr>\n",
       "    <tr>\n",
       "      <th>TTTGTGTTCGCTAAGT-1</th>\n",
       "      <td>0.000000</td>\n",
       "      <td>0.0</td>\n",
       "      <td>0.000000</td>\n",
       "      <td>0.0</td>\n",
       "      <td>0.0</td>\n",
       "      <td>0.0</td>\n",
       "      <td>0.0</td>\n",
       "      <td>0.0</td>\n",
       "      <td>0.0</td>\n",
       "      <td>0.0</td>\n",
       "      <td>...</td>\n",
       "      <td>0.000000</td>\n",
       "      <td>0.0</td>\n",
       "      <td>0.0</td>\n",
       "      <td>0.0</td>\n",
       "      <td>0.0</td>\n",
       "      <td>0.0</td>\n",
       "      <td>4.718499</td>\n",
       "      <td>4.007333</td>\n",
       "      <td>3.367296</td>\n",
       "      <td>3.850148</td>\n",
       "    </tr>\n",
       "    <tr>\n",
       "      <th>TTTGTTGGTAGGTGTC-1</th>\n",
       "      <td>0.000000</td>\n",
       "      <td>0.0</td>\n",
       "      <td>0.000000</td>\n",
       "      <td>0.0</td>\n",
       "      <td>0.0</td>\n",
       "      <td>0.0</td>\n",
       "      <td>0.0</td>\n",
       "      <td>0.0</td>\n",
       "      <td>0.0</td>\n",
       "      <td>0.0</td>\n",
       "      <td>...</td>\n",
       "      <td>0.000000</td>\n",
       "      <td>0.0</td>\n",
       "      <td>0.0</td>\n",
       "      <td>0.0</td>\n",
       "      <td>0.0</td>\n",
       "      <td>0.0</td>\n",
       "      <td>3.496508</td>\n",
       "      <td>3.044522</td>\n",
       "      <td>2.397895</td>\n",
       "      <td>3.044522</td>\n",
       "    </tr>\n",
       "    <tr>\n",
       "      <th>TTTGTTGGTTTGTGGA-1</th>\n",
       "      <td>0.000000</td>\n",
       "      <td>0.0</td>\n",
       "      <td>0.000000</td>\n",
       "      <td>0.0</td>\n",
       "      <td>0.0</td>\n",
       "      <td>0.0</td>\n",
       "      <td>0.0</td>\n",
       "      <td>0.0</td>\n",
       "      <td>0.0</td>\n",
       "      <td>0.0</td>\n",
       "      <td>...</td>\n",
       "      <td>0.000000</td>\n",
       "      <td>0.0</td>\n",
       "      <td>0.0</td>\n",
       "      <td>0.0</td>\n",
       "      <td>0.0</td>\n",
       "      <td>0.0</td>\n",
       "      <td>4.189655</td>\n",
       "      <td>3.496508</td>\n",
       "      <td>2.944439</td>\n",
       "      <td>3.044522</td>\n",
       "    </tr>\n",
       "  </tbody>\n",
       "</table>\n",
       "<p>3359 rows × 3000 columns</p>\n",
       "</div>"
      ],
      "text/plain": [
       "                       msgn1  BX649468.1   ripply2  chrm2a  FAR2  phlda1  \\\n",
       "AAACAGCCAGGGAGGA-1  0.000000         0.0  0.000000     0.0   0.0     0.0   \n",
       "AAACAGCCATAGACCC-1  3.135494         0.0  0.000000     0.0   0.0     0.0   \n",
       "AAACATGCAGGACCTT-1  3.295837         0.0  0.693147     0.0   0.0     0.0   \n",
       "AAACATGCATAGGCGA-1  0.000000         0.0  0.000000     0.0   0.0     0.0   \n",
       "AAACCGAAGATAAAGC-1  0.000000         0.0  0.000000     0.0   0.0     0.0   \n",
       "...                      ...         ...       ...     ...   ...     ...   \n",
       "TTTGTGAAGGGTTAGA-1  0.693147         0.0  0.000000     0.0   0.0     0.0   \n",
       "TTTGTGGCATGTCAAT-1  0.000000         0.0  0.000000     0.0   0.0     0.0   \n",
       "TTTGTGTTCGCTAAGT-1  0.000000         0.0  0.000000     0.0   0.0     0.0   \n",
       "TTTGTTGGTAGGTGTC-1  0.000000         0.0  0.000000     0.0   0.0     0.0   \n",
       "TTTGTTGGTTTGTGGA-1  0.000000         0.0  0.000000     0.0   0.0     0.0   \n",
       "\n",
       "                    pde3a  CU928073.1  cd9b  ntf3  ...    fibina  rbl2  irx5b  \\\n",
       "AAACAGCCAGGGAGGA-1    0.0         0.0   0.0   0.0  ...  0.000000   0.0    0.0   \n",
       "AAACAGCCATAGACCC-1    0.0         0.0   0.0   0.0  ...  0.693147   0.0    0.0   \n",
       "AAACATGCAGGACCTT-1    0.0         0.0   0.0   0.0  ...  0.000000   0.0    0.0   \n",
       "AAACATGCATAGGCGA-1    0.0         0.0   0.0   0.0  ...  0.000000   0.0    0.0   \n",
       "AAACCGAAGATAAAGC-1    0.0         0.0   0.0   0.0  ...  0.000000   0.0    0.0   \n",
       "...                   ...         ...   ...   ...  ...       ...   ...    ...   \n",
       "TTTGTGAAGGGTTAGA-1    0.0         0.0   0.0   0.0  ...  0.000000   0.0    0.0   \n",
       "TTTGTGGCATGTCAAT-1    0.0         0.0   0.0   0.0  ...  0.000000   0.0    0.0   \n",
       "TTTGTGTTCGCTAAGT-1    0.0         0.0   0.0   0.0  ...  0.000000   0.0    0.0   \n",
       "TTTGTTGGTAGGTGTC-1    0.0         0.0   0.0   0.0  ...  0.000000   0.0    0.0   \n",
       "TTTGTTGGTTTGTGGA-1    0.0         0.0   0.0   0.0  ...  0.000000   0.0    0.0   \n",
       "\n",
       "                    irx3b  urahb  igl4v10  NC-002333.17    mt-co2   mt-atp6  \\\n",
       "AAACAGCCAGGGAGGA-1    0.0    0.0      0.0      3.367296  3.332205  2.708050   \n",
       "AAACAGCCATAGACCC-1    0.0    0.0      0.0      4.564348  4.605170  4.276666   \n",
       "AAACATGCAGGACCTT-1    0.0    0.0      0.0      4.634729  4.442651  4.077537   \n",
       "AAACATGCATAGGCGA-1    0.0    0.0      0.0      3.367296  3.178054  2.772589   \n",
       "AAACCGAAGATAAAGC-1    0.0    0.0      0.0      3.496508  3.526361  2.639057   \n",
       "...                   ...    ...      ...           ...       ...       ...   \n",
       "TTTGTGAAGGGTTAGA-1    0.0    0.0      0.0      4.276666  4.077537  3.663562   \n",
       "TTTGTGGCATGTCAAT-1    0.0    0.0      0.0      4.343805  3.806662  3.258097   \n",
       "TTTGTGTTCGCTAAGT-1    0.0    0.0      0.0      4.718499  4.007333  3.367296   \n",
       "TTTGTTGGTAGGTGTC-1    0.0    0.0      0.0      3.496508  3.044522  2.397895   \n",
       "TTTGTTGGTTTGTGGA-1    0.0    0.0      0.0      4.189655  3.496508  2.944439   \n",
       "\n",
       "                      mt-co3  \n",
       "AAACAGCCAGGGAGGA-1  3.465736  \n",
       "AAACAGCCATAGACCC-1  4.356709  \n",
       "AAACATGCAGGACCTT-1  4.219508  \n",
       "AAACATGCATAGGCGA-1  2.639057  \n",
       "AAACCGAAGATAAAGC-1  2.833213  \n",
       "...                      ...  \n",
       "TTTGTGAAGGGTTAGA-1  4.007333  \n",
       "TTTGTGGCATGTCAAT-1  3.871201  \n",
       "TTTGTGTTCGCTAAGT-1  3.850148  \n",
       "TTTGTTGGTAGGTGTC-1  3.044522  \n",
       "TTTGTTGGTTTGTGGA-1  3.044522  \n",
       "\n",
       "[3359 rows x 3000 columns]"
      ]
     },
     "execution_count": 12,
     "metadata": {},
     "output_type": "execute_result"
    }
   ],
   "source": [
    "count_matrice = pd.DataFrame(data=adata_lineage_meso.layers[\"normalized_count\"].todense(),\n",
    "                             index=adata_lineage_meso.obs_names,\n",
    "                             columns=adata_lineage_meso.var_names)\n",
    "count_matrice"
   ]
  },
  {
   "cell_type": "code",
   "execution_count": 14,
   "id": "db5d2a4a-9a7c-4ace-8841-8094ea067de0",
   "metadata": {},
   "outputs": [],
   "source": [
    "# plt.scatter(adata_lineage_meso.obs['Pseudotime_Lineage_Meso'].to_list(), \n",
    "#                 count_matrice[gene].to_list())\n",
    "# plt.show()"
   ]
  },
  {
   "cell_type": "code",
   "execution_count": 15,
   "id": "776ed8c8-cb27-4d9a-876b-cba020868091",
   "metadata": {},
   "outputs": [],
   "source": [
    "%matplotlib inline\n",
    "from scipy.interpolate import make_interp_spline"
   ]
  },
  {
   "cell_type": "code",
   "execution_count": null,
   "id": "36cc948b-5127-4a91-b2d0-ba10ac46bc8b",
   "metadata": {},
   "outputs": [],
   "source": [
    "gene = \"foxp4\"\n",
    "\n",
    "x_sorted = adata_lineage_meso.obs['Pseudotime_Lineage_Meso'].to_list()\n",
    "y_sorted = count_matrice[gene].to_list()\n"
   ]
  },
  {
   "cell_type": "code",
   "execution_count": null,
   "id": "43356ec0-27fe-487b-833f-72889848aff6",
   "metadata": {},
   "outputs": [],
   "source": [
    "adata_lineage_meso.obs.sort_index()"
   ]
  },
  {
   "cell_type": "code",
   "execution_count": 20,
   "id": "c385af06-4308-4562-be99-e39809b8e909",
   "metadata": {},
   "outputs": [
    {
     "ename": "ValueError",
     "evalue": "Array must not contain infs or nans.",
     "output_type": "error",
     "traceback": [
      "\u001b[0;31m---------------------------------------------------------------------------\u001b[0m",
      "\u001b[0;31mValueError\u001b[0m                                Traceback (most recent call last)",
      "Cell \u001b[0;32mIn[20], line 12\u001b[0m\n\u001b[1;32m      9\u001b[0m y_sorted \u001b[38;5;241m=\u001b[39m count_matrice[gene]\u001b[38;5;241m.\u001b[39mto_list()\n\u001b[1;32m     11\u001b[0m \u001b[38;5;66;03m# Interpolate to get a smooth curve\u001b[39;00m\n\u001b[0;32m---> 12\u001b[0m spline \u001b[38;5;241m=\u001b[39m \u001b[43mmake_interp_spline\u001b[49m\u001b[43m(\u001b[49m\u001b[43mx_sorted\u001b[49m\u001b[43m,\u001b[49m\u001b[43m \u001b[49m\u001b[43my_sorted\u001b[49m\u001b[43m,\u001b[49m\u001b[43m \u001b[49m\u001b[43mk\u001b[49m\u001b[38;5;241;43m=\u001b[39;49m\u001b[38;5;241;43m3\u001b[39;49m\u001b[43m)\u001b[49m  \u001b[38;5;66;03m# k is the degree of the spline\u001b[39;00m\n\u001b[1;32m     13\u001b[0m x_smooth \u001b[38;5;241m=\u001b[39m np\u001b[38;5;241m.\u001b[39mlinspace(x_sorted\u001b[38;5;241m.\u001b[39mmin(), x_sorted\u001b[38;5;241m.\u001b[39mmax(), \u001b[38;5;241m100\u001b[39m)\n\u001b[1;32m     14\u001b[0m y_smooth \u001b[38;5;241m=\u001b[39m spline(x_smooth)\n",
      "File \u001b[0;32m~/.conda/envs/celloracle_env/lib/python3.8/site-packages/scipy/interpolate/_bsplines.py:1280\u001b[0m, in \u001b[0;36mmake_interp_spline\u001b[0;34m(x, y, k, t, bc_type, axis, check_finite)\u001b[0m\n\u001b[1;32m   1276\u001b[0m y \u001b[38;5;241m=\u001b[39m np\u001b[38;5;241m.\u001b[39masarray(y)\n\u001b[1;32m   1278\u001b[0m axis \u001b[38;5;241m=\u001b[39m normalize_axis_index(axis, y\u001b[38;5;241m.\u001b[39mndim)\n\u001b[0;32m-> 1280\u001b[0m x \u001b[38;5;241m=\u001b[39m \u001b[43m_as_float_array\u001b[49m\u001b[43m(\u001b[49m\u001b[43mx\u001b[49m\u001b[43m,\u001b[49m\u001b[43m \u001b[49m\u001b[43mcheck_finite\u001b[49m\u001b[43m)\u001b[49m\n\u001b[1;32m   1281\u001b[0m y \u001b[38;5;241m=\u001b[39m _as_float_array(y, check_finite)\n\u001b[1;32m   1283\u001b[0m y \u001b[38;5;241m=\u001b[39m np\u001b[38;5;241m.\u001b[39mmoveaxis(y, axis, \u001b[38;5;241m0\u001b[39m)    \u001b[38;5;66;03m# now internally interp axis is zero\u001b[39;00m\n",
      "File \u001b[0;32m~/.conda/envs/celloracle_env/lib/python3.8/site-packages/scipy/interpolate/_bsplines.py:37\u001b[0m, in \u001b[0;36m_as_float_array\u001b[0;34m(x, check_finite)\u001b[0m\n\u001b[1;32m     35\u001b[0m x \u001b[38;5;241m=\u001b[39m x\u001b[38;5;241m.\u001b[39mastype(dtyp, copy\u001b[38;5;241m=\u001b[39m\u001b[38;5;28;01mFalse\u001b[39;00m)\n\u001b[1;32m     36\u001b[0m \u001b[38;5;28;01mif\u001b[39;00m check_finite \u001b[38;5;129;01mand\u001b[39;00m \u001b[38;5;129;01mnot\u001b[39;00m np\u001b[38;5;241m.\u001b[39misfinite(x)\u001b[38;5;241m.\u001b[39mall():\n\u001b[0;32m---> 37\u001b[0m     \u001b[38;5;28;01mraise\u001b[39;00m \u001b[38;5;167;01mValueError\u001b[39;00m(\u001b[38;5;124m\"\u001b[39m\u001b[38;5;124mArray must not contain infs or nans.\u001b[39m\u001b[38;5;124m\"\u001b[39m)\n\u001b[1;32m     38\u001b[0m \u001b[38;5;28;01mreturn\u001b[39;00m x\n",
      "\u001b[0;31mValueError\u001b[0m: Array must not contain infs or nans."
     ]
    },
    {
     "data": {
      "image/png": "[encoded data removed]",
      "text/plain": [
       "<Figure size 1000x500 with 1 Axes>"
      ]
     },
     "metadata": {},
     "output_type": "display_data"
    }
   ],
   "source": [
    "# Create a figure and axis for the plot\n",
    "fig, ax = plt.subplots(figsize=(10, 5))\n",
    "\n",
    "# Loop through the list of genes and plot their expression values\n",
    "for gene in list_reg_TFs[0:10]:\n",
    "    if gene in adata_lineage_meso.var_names:\n",
    "        \n",
    "        x_sorted = adata_lineage_meso.obs['Pseudotime_Lineage_Meso'].to_list()\n",
    "        y_sorted = count_matrice[gene].to_list()\n",
    "        \n",
    "        # Interpolate to get a smooth curve\n",
    "        spline = make_interp_spline(x_sorted, y_sorted, k=3)  # k is the degree of the spline\n",
    "        x_smooth = np.linspace(x_sorted.min(), x_sorted.max(), 100)\n",
    "        y_smooth = spline(x_smooth)\n",
    "        \n",
    "        plt.plot(x_smooth, y_smooth)\n",
    "        # plt.plot(x_sorted, y_sorted)\n",
    "#         plt.plot(adata_lineage_meso.obs['Pseudotime_Lineage_Meso'].to_list(), \n",
    "#                       count_matrice[gene].to_list())\n",
    "    else:\n",
    "        print(f\"Gene {gene} is not in the dataset\")\n",
    "\n",
    "# Adding labels and title\n",
    "ax.set_xlabel('pseudotime (DPT)')\n",
    "ax.set_ylabel('gene expression (RNA)')\n",
    "ax.set_title('Gene Expression along Pseudotime')\n",
    "ax.legend()\n",
    "\n",
    "# Show the plot\n",
    "plt.show()"
   ]
  },
  {
   "cell_type": "code",
   "execution_count": 19,
   "id": "d72ac06b-3c77-4457-a07d-90c84cd08cc4",
   "metadata": {},
   "outputs": [
    {
     "data": {
      "text/plain": [
       "[<matplotlib.lines.Line2D at 0x153479d963a0>]"
      ]
     },
     "execution_count": 19,
     "metadata": {},
     "output_type": "execute_result"
    },
    {
     "data": {
      "image/png": "[encoded data removed]",
      "text/plain": [
       "<Figure size 640x480 with 1 Axes>"
      ]
     },
     "metadata": {},
     "output_type": "display_data"
    }
   ],
   "source": [
    "# gene_name\n",
    "gene = \"myf5\"\n",
    "x_sorted = adata_lineage_meso.obs['Pseudotime_Lineage_Meso'].to_list()\n",
    "y_sorted = count_matrice[gene].to_list()\n",
    "\n",
    "plt.plot(x_sorted, y_sorted)"
   ]
  },
  {
   "cell_type": "code",
   "execution_count": null,
   "id": "b89d7cd1-39e3-4b84-bf5b-e232a302066e",
   "metadata": {},
   "outputs": [],
   "source": []
  },
  {
   "cell_type": "code",
   "execution_count": null,
   "id": "aed685d8-d5a7-4574-adfa-78123ddbc28c",
   "metadata": {},
   "outputs": [],
   "source": [
    "# pt = Pseudotime_calculator(oracle_object=oracle_TDR118)\n",
    "# pt"
   ]
  },
  {
   "cell_type": "code",
   "execution_count": null,
   "id": "899a8ada-6ded-4f45-b18b-3cdb6eb129da",
   "metadata": {},
   "outputs": [],
   "source": [
    "oracle_TDR118_simulated = co.load_hdf5(\"/hpc/projects/data.science/yangjoon.kim/zebrahub_multiome/data/processed_data/TDR118_cicero_output/13_TDR118_pseudotime_KOsimulated.celloracle.oracle\")\n",
    "oracle_TDR118_simulated"
   ]
  },
  {
   "cell_type": "code",
   "execution_count": null,
   "id": "a86ae108-bb16-4f0b-b880-f4d2a50ed288",
   "metadata": {},
   "outputs": [],
   "source": [
    "oracle_TDR118_simulated.get_mcmc_cell_transition_table()"
   ]
  },
  {
   "cell_type": "code",
   "execution_count": null,
   "id": "9f71f6e4-4ea1-4d5c-b91b-3af411bae085",
   "metadata": {},
   "outputs": [],
   "source": []
  },
  {
   "cell_type": "code",
   "execution_count": null,
   "id": "99f64926-a3f0-4a02-8d2f-ed4e85ed8ae5",
   "metadata": {},
   "outputs": [],
   "source": []
  },
  {
   "cell_type": "code",
   "execution_count": null,
   "id": "c045a839-f0ad-495f-aec1-192cc0dbf53c",
   "metadata": {},
   "outputs": [],
   "source": []
  }
 ],
 "metadata": {
  "kernelspec": {
   "display_name": "Python [conda env:.conda-celloracle_env]",
   "language": "python",
   "name": "conda-env-.conda-celloracle_env-py"
  },
  "language_info": {
   "codemirror_mode": {
    "name": "ipython",
    "version": 3
   },
   "file_extension": ".py",
   "mimetype": "text/x-python",
   "name": "python",
   "nbconvert_exporter": "python",
   "pygments_lexer": "ipython3",
   "version": "3.8.17"
  }
 },
 "nbformat": 4,
 "nbformat_minor": 5
}
