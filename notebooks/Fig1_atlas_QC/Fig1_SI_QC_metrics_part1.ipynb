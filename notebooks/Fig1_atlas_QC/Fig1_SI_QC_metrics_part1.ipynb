{
 "cells": [
  {
   "cell_type": "markdown",
   "id": "3629f2c1-db0b-49c8-845c-31fb70e3d3fd",
   "metadata": {},
   "source": [
    "## Figure_QC_metrics: \n",
    "\n",
    "This notebook is to generate plots/figures for the QC metrics from the multiome sequencing.\n",
    "Some example metrics are:\n",
    "- number of UMIs/cell\n",
    "- number of genes/cell\n",
    "- % mitochondrial reads/cell\n",
    "- grouped.by datasets (or timepoints)"
   ]
  },
  {
   "cell_type": "code",
   "execution_count": 1,
   "id": "361bbdf9-7bd4-4d95-994b-5c6ee2282e0d",
   "metadata": {},
   "outputs": [],
   "source": [
    "import scanpy as sc\n",
    "import pandas as pd\n",
    "import numpy as np\n",
    "import matplotlib.pyplot as plt\n",
    "import seaborn as sns\n",
    "\n",
    "import os\n",
    "import re"
   ]
  },
  {
   "cell_type": "code",
   "execution_count": 2,
   "id": "92f7b2e4-0dcc-42e1-be57-d8df2bea6a37",
   "metadata": {},
   "outputs": [],
   "source": [
    "import matplotlib as mpl\n",
    "mpl.rcParams.update(mpl.rcParamsDefault) #Reset rcParams to default\n",
    "\n",
    "# Editable text and proper LaTeX fonts in illustrator\n",
    "# matplotlib.rcParams['ps.useafm'] = True\n",
    "# Editable fonts. 42 is the magic number\n",
    "mpl.rcParams['pdf.fonttype'] = 42\n",
    "sns.set(style='whitegrid', context='paper')\n",
    "\n",
    "# Plotting style function (run this before plotting the final figure)\n",
    "def set_plotting_style():\n",
    "    plt.style.use('seaborn-paper')\n",
    "    plt.rc('axes', labelsize=12)\n",
    "    plt.rc('axes', titlesize=12)\n",
    "    plt.rc('xtick', labelsize=10)\n",
    "    plt.rc('ytick', labelsize=10)\n",
    "    plt.rc('legend', fontsize=10)\n",
    "    plt.rc('text.latex', preamble=r'\\usepackage{sfmath}')\n",
    "    plt.rc('xtick.major', pad=2)\n",
    "    plt.rc('ytick.major', pad=2)\n",
    "    plt.rc('mathtext', fontset='stixsans', sf='sansserif')\n",
    "    plt.rc('figure', figsize=[10,9])\n",
    "    plt.rc('svg', fonttype='none')"
   ]
  },
  {
   "cell_type": "code",
   "execution_count": 3,
   "id": "f3e57008-c965-4bcd-9279-e164cd7d4c38",
   "metadata": {},
   "outputs": [],
   "source": [
    "figpath = \"/hpc/projects/data.science/yangjoon.kim/zebrahub_multiome/zebrahub-multiome-analysis/figures/QC_metrics/\"\n",
    "os.makedirs(figpath, exist_ok=True)\n",
    "sc.settings.figdir = figpath"
   ]
  },
  {
   "cell_type": "code",
   "execution_count": 4,
   "id": "1a22f833-a010-4977-8857-e654e16a6c89",
   "metadata": {},
   "outputs": [
    {
     "data": {
      "text/plain": [
       "AnnData object with n_obs × n_vars = 95196 × 32057\n",
       "    obs: 'orig_ident', 'nCount_RNA', 'nFeature_RNA', 'nCount_ATAC', 'nFeature_ATAC', 'nucleosome_signal', 'nucleosome_percentile', 'TSS_enrichment', 'TSS_percentile', 'nCount_SCT', 'nFeature_SCT', 'global_annotation', 'nCount_peaks_bulk', 'nFeature_peaks_bulk', 'nCount_peaks_celltype', 'nFeature_peaks_celltype', 'nCount_peaks_merged', 'nFeature_peaks_merged', 'SCT_weight', 'peaks_merged_weight', 'nCount_Gene_Activity', 'nFeature_Gene_Activity', 'nCount_peaks_integrated', 'nFeature_peaks_integrated', 'dataset', 'integrated_weight', 'peaks_integrated_weight', 'wsnn_res_0_8', 'seurat_clusters', 'data_source', 'annotation_ML', 'scANVI_zscape'\n",
       "    var: 'features'\n",
       "    uns: 'annotation_ML_colors', 'dataset_colors', 'global_annotation_colors', 'log1p', 'scANVI_zscape_colors'\n",
       "    obsm: 'X_umap', 'X_umap.atac', 'X_umap.rna', 'X_wnn.umap'\n",
       "    layers: 'counts'"
      ]
     },
     "execution_count": 4,
     "metadata": {},
     "output_type": "execute_result"
    }
   ],
   "source": [
    "adata = sc.read_h5ad(\"/hpc/projects/data.science/yangjoon.kim/zebrahub_multiome/data/processed_data/01_Signac_processed/integrated_RNA_ATAC_counts_RNA_formatted_excxg_zscape_labels.h5ad\")\n",
    "adata"
   ]
  },
  {
   "cell_type": "markdown",
   "id": "e013cb94-f302-4f2e-9ef6-4c37b9407267",
   "metadata": {},
   "source": [
    "## step 0. compute the RNA QC metrics"
   ]
  },
  {
   "cell_type": "code",
   "execution_count": 54,
   "id": "f7fe5177-556d-47b1-97b7-151ce572d5f6",
   "metadata": {
    "tags": []
   },
   "outputs": [
    {
     "data": {
      "text/plain": [
       "Index(['ptpn12', 'phtf2', 'phtf2.1', 'CU856344.1', 'si:zfos-932h1.3', 'mansc1',\n",
       "       'lrp6', 'dusp16', 'crebl2', 'gpr19',\n",
       "       ...\n",
       "       'mt-nd4', 'NC-002333.16', 'NC-002333.15', 'NC-002333.8', 'mt-nd5',\n",
       "       'mt-nd6', 'NC-002333.21', 'mt-cyb', 'NC-002333.22', 'NC-002333.11'],\n",
       "      dtype='object', length=32057)"
      ]
     },
     "execution_count": 54,
     "metadata": {},
     "output_type": "execute_result"
    }
   ],
   "source": [
    "adata.var_names"
   ]
  },
  {
   "cell_type": "code",
   "execution_count": 55,
   "id": "fd99f691-196c-4bf5-ac84-879eabf8a7f7",
   "metadata": {},
   "outputs": [
    {
     "data": {
      "text/plain": [
       "Index(['rps16', 'rps13', 'rps4x', 'rps17', 'rps20', 'rps6ka3a', 'rps6ka4',\n",
       "       'rps2', 'rps15a', 'rps11', 'rps19bp1', 'rps27a', 'rpsa', 'rps26l',\n",
       "       'rps10', 'rps28', 'rps8a', 'rps3a', 'rps6', 'rps27.2', 'rps19', 'rps9',\n",
       "       'rps6kc1', 'rps7', 'rps29', 'rps8b', 'rps6ka1', 'rps6ka5', 'rps6kl1',\n",
       "       'rps6kal', 'rps6ka2', 'rps24', 'rps3', 'rps27.1', 'rps18', 'rps6kb1b',\n",
       "       'rps5', 'rps21', 'rps26', 'rps12', 'rps14', 'rps15', 'rps23',\n",
       "       'rps6kb1a', 'rps25', 'rps6ka3b', 'rps27l'],\n",
       "      dtype='object')"
      ]
     },
     "execution_count": 55,
     "metadata": {},
     "output_type": "execute_result"
    }
   ],
   "source": [
    "adata.var_names[adata.var_names.str.startswith(\"rps\")]"
   ]
  },
  {
   "cell_type": "code",
   "execution_count": 56,
   "id": "edce05a2-5761-41fa-9108-65edca589fc1",
   "metadata": {},
   "outputs": [],
   "source": [
    "# compute the QC metrics (scanpy)\n",
    "adata.X = adata.layers[\"counts\"].copy()\n",
    "\n",
    "# annotate the group of mitochondrial genes as \"mt\"\n",
    "adata.var[\"mt\"] = adata.var_names.str.startswith(\"mt\")\n",
    "adata.var[\"nc\"] = adata.var_names.str.startswith(\"nc\")\n",
    "adata.var[\"ribo\"] = adata.var_names.str.startswith(\"rps\")\n",
    "\n",
    "sc.pp.calculate_qc_metrics(adata, qc_vars=[\"mt\",\"nc\",\"ribo\"], \n",
    "                           percent_top=None, log1p=False, inplace=True)"
   ]
  },
  {
   "cell_type": "markdown",
   "id": "f5b65ba7-771e-4870-9542-aaa77e60ba8f",
   "metadata": {},
   "source": [
    "### import the annotation"
   ]
  },
  {
   "cell_type": "code",
   "execution_count": 5,
   "id": "75f19a15-b822-4fc5-b4aa-8c96551639c7",
   "metadata": {},
   "outputs": [
    {
     "data": {
      "text/html": [
       "<div>\n",
       "<style scoped>\n",
       "    .dataframe tbody tr th:only-of-type {\n",
       "        vertical-align: middle;\n",
       "    }\n",
       "\n",
       "    .dataframe tbody tr th {\n",
       "        vertical-align: top;\n",
       "    }\n",
       "\n",
       "    .dataframe thead th {\n",
       "        text-align: right;\n",
       "    }\n",
       "</style>\n",
       "<table border=\"1\" class=\"dataframe\">\n",
       "  <thead>\n",
       "    <tr style=\"text-align: right;\">\n",
       "      <th></th>\n",
       "      <th>annotation_ML_v4</th>\n",
       "    </tr>\n",
       "  </thead>\n",
       "  <tbody>\n",
       "    <tr>\n",
       "      <th>AAACAGCCACCTAAGC-1_1</th>\n",
       "      <td>epidermis</td>\n",
       "    </tr>\n",
       "    <tr>\n",
       "      <th>AAACAGCCAGGGAGGA-1_1</th>\n",
       "      <td>pronephros</td>\n",
       "    </tr>\n",
       "    <tr>\n",
       "      <th>AAACAGCCATAGACCC-1_1</th>\n",
       "      <td>hindbrain</td>\n",
       "    </tr>\n",
       "    <tr>\n",
       "      <th>AAACATGCAAACTCAT-1_1</th>\n",
       "      <td>spinal_cord</td>\n",
       "    </tr>\n",
       "    <tr>\n",
       "      <th>AAACATGCAAGGACCA-1_1</th>\n",
       "      <td>neural_optic2</td>\n",
       "    </tr>\n",
       "    <tr>\n",
       "      <th>...</th>\n",
       "      <td>...</td>\n",
       "    </tr>\n",
       "    <tr>\n",
       "      <th>TTTGTGTTCCCTCAGT-1_7</th>\n",
       "      <td>tail_bud</td>\n",
       "    </tr>\n",
       "    <tr>\n",
       "      <th>TTTGTTGGTACCTTAC-1_7</th>\n",
       "      <td>lateral_plate_mesoderm</td>\n",
       "    </tr>\n",
       "    <tr>\n",
       "      <th>TTTGTTGGTATTGAGT-1_7</th>\n",
       "      <td>neural_posterior</td>\n",
       "    </tr>\n",
       "    <tr>\n",
       "      <th>TTTGTTGGTGCGCGTA-1_7</th>\n",
       "      <td>endocrine_pancreas</td>\n",
       "    </tr>\n",
       "    <tr>\n",
       "      <th>TTTGTTGGTTAAGGCC-1_7</th>\n",
       "      <td>somites</td>\n",
       "    </tr>\n",
       "  </tbody>\n",
       "</table>\n",
       "<p>95196 rows × 1 columns</p>\n",
       "</div>"
      ],
      "text/plain": [
       "                            annotation_ML_v4\n",
       "AAACAGCCACCTAAGC-1_1               epidermis\n",
       "AAACAGCCAGGGAGGA-1_1              pronephros\n",
       "AAACAGCCATAGACCC-1_1               hindbrain\n",
       "AAACATGCAAACTCAT-1_1             spinal_cord\n",
       "AAACATGCAAGGACCA-1_1           neural_optic2\n",
       "...                                      ...\n",
       "TTTGTGTTCCCTCAGT-1_7                tail_bud\n",
       "TTTGTTGGTACCTTAC-1_7  lateral_plate_mesoderm\n",
       "TTTGTTGGTATTGAGT-1_7        neural_posterior\n",
       "TTTGTTGGTGCGCGTA-1_7      endocrine_pancreas\n",
       "TTTGTTGGTTAAGGCC-1_7                 somites\n",
       "\n",
       "[95196 rows x 1 columns]"
      ]
     },
     "execution_count": 5,
     "metadata": {},
     "output_type": "execute_result"
    }
   ],
   "source": [
    "annotation = pd.read_csv(\"/hpc/projects/data.science/yangjoon.kim/zebrahub_multiome/data/processed_data/01_Signac_processed/annotations/annotation_ML_06052024.txt\", index_col=0, sep=\"\\t\")\n",
    "annotation"
   ]
  },
  {
   "cell_type": "code",
   "execution_count": 6,
   "id": "d2006dbe-1ef9-4df9-b8aa-bacd047dfa1b",
   "metadata": {},
   "outputs": [
    {
     "data": {
      "text/plain": [
       "AAACAGCCACCTAAGC-1_1                 epidermis\n",
       "AAACAGCCAGGGAGGA-1_1                pronephros\n",
       "AAACAGCCATAGACCC-1_1                 hindbrain\n",
       "AAACATGCAAACTCAT-1_1               spinal_cord\n",
       "AAACATGCAAGGACCA-1_1             neural_optic2\n",
       "                                 ...          \n",
       "TTTGTGTTCCCTCAGT-1_7                  tail_bud\n",
       "TTTGTTGGTACCTTAC-1_7    lateral_plate_mesoderm\n",
       "TTTGTTGGTATTGAGT-1_7          neural_posterior\n",
       "TTTGTTGGTGCGCGTA-1_7        endocrine_pancreas\n",
       "TTTGTTGGTTAAGGCC-1_7                   somites\n",
       "Name: annotation_ML, Length: 95196, dtype: object"
      ]
     },
     "execution_count": 6,
     "metadata": {},
     "output_type": "execute_result"
    }
   ],
   "source": [
    "adata.obs[\"annotation_ML\"] = annotation[\"annotation_ML_v4\"]\n",
    "adata.obs[\"annotation_ML\"]"
   ]
  },
  {
   "cell_type": "code",
   "execution_count": 7,
   "id": "793e60a6-c4cb-496e-b311-f64895dc69b5",
   "metadata": {},
   "outputs": [
    {
     "data": {
      "text/plain": [
       "array(['epidermis', 'pronephros', 'hindbrain', 'spinal_cord',\n",
       "       'neural_optic2', 'neural_floor_plate', 'neural_crest2', 'PSM',\n",
       "       'optic_cup', 'lateral_plate_mesoderm',\n",
       "       'midbrain_hindbrain_boundary2', 'neural_telencephalon',\n",
       "       'differentiating_neurons', 'muscle', 'fast_muscle',\n",
       "       'low_quality_cells', 'heart_myocardium', 'somites', 'NMPs',\n",
       "       'epidermis2', 'pharyngeal_arches', 'floor_plate2',\n",
       "       'hemangioblasts', 'neural_posterior', 'floor_plate', 'tail_bud',\n",
       "       'endoderm', 'midbrain_hindbrain_boundary', 'neural_crest',\n",
       "       'neural_optic', 'hematopoietic_vasculature', 'endocrine_pancreas',\n",
       "       'hatching_gland', 'neurons', 'notochord', 'pronephros2',\n",
       "       'enteric_neurons', 'epidermis3', 'epidermis4', 'neural',\n",
       "       'primordial_germ_cells'], dtype=object)"
      ]
     },
     "execution_count": 7,
     "metadata": {},
     "output_type": "execute_result"
    }
   ],
   "source": [
    "adata.obs.annotation_ML.unique()"
   ]
  },
  {
   "cell_type": "code",
   "execution_count": 57,
   "id": "c4ea01a2-b2be-4ce4-a227-caf5a635409e",
   "metadata": {},
   "outputs": [
    {
     "data": {
      "text/plain": [
       "View of AnnData object with n_obs × n_vars = 94562 × 32057\n",
       "    obs: 'orig_ident', 'nCount_RNA', 'nFeature_RNA', 'nCount_ATAC', 'nFeature_ATAC', 'nucleosome_signal', 'nucleosome_percentile', 'TSS_enrichment', 'TSS_percentile', 'nCount_SCT', 'nFeature_SCT', 'global_annotation', 'nCount_peaks_bulk', 'nFeature_peaks_bulk', 'nCount_peaks_celltype', 'nFeature_peaks_celltype', 'nCount_peaks_merged', 'nFeature_peaks_merged', 'SCT_weight', 'peaks_merged_weight', 'nCount_Gene_Activity', 'nFeature_Gene_Activity', 'nCount_peaks_integrated', 'nFeature_peaks_integrated', 'dataset', 'integrated_weight', 'peaks_integrated_weight', 'wsnn_res_0_8', 'seurat_clusters', 'data_source', 'annotation_ML', 'scANVI_zscape', 'annotation_ML_coarse', 'n_genes_by_counts', 'total_counts', 'total_counts_mt', 'pct_counts_mt', 'total_counts_nc', 'pct_counts_nc', 'total_counts_ribo', 'pct_counts_ribo'\n",
       "    var: 'features', 'mt', 'nc', 'ribo', 'n_cells_by_counts', 'mean_counts', 'pct_dropout_by_counts', 'total_counts'\n",
       "    uns: 'annotation_ML_colors', 'dataset_colors', 'global_annotation_colors', 'log1p', 'scANVI_zscape_colors'\n",
       "    obsm: 'X_umap', 'X_umap.atac', 'X_umap.rna', 'X_wnn.umap'\n",
       "    layers: 'counts'"
      ]
     },
     "execution_count": 57,
     "metadata": {},
     "output_type": "execute_result"
    }
   ],
   "source": [
    "# filter out the low quality cells (annotated as either \"nan\" or \"low_quality_cells\")\n",
    "multiome = adata[adata.obs.annotation_ML!=\"low_quality_cells\"]\n",
    "multiome"
   ]
  },
  {
   "cell_type": "markdown",
   "id": "5e0d0a46-3db3-4e7b-9f21-85ec8fd9280a",
   "metadata": {},
   "source": [
    "## Step 1. generate RNA QC plots (grouped by timepoints/datasets)"
   ]
  },
  {
   "cell_type": "code",
   "execution_count": 66,
   "id": "3b6682e5-4ed0-4178-85ea-5ef8f0e43773",
   "metadata": {},
   "outputs": [],
   "source": [
    "df = multiome.obs\n",
    "\n",
    "# Custom order for the x-axis\n",
    "custom_order = ['TDR126', 'TDR127', 'TDR128', 'TDR118', 'TDR119', 'TDR125', 'TDR124']\n"
   ]
  },
  {
   "cell_type": "code",
   "execution_count": 49,
   "id": "c45d657f-31d7-4af8-8920-ab022037e9aa",
   "metadata": {},
   "outputs": [
    {
     "data": {
      "text/plain": [
       "Index(['orig_ident', 'nCount_RNA', 'nFeature_RNA', 'nCount_ATAC',\n",
       "       'nFeature_ATAC', 'nucleosome_signal', 'nucleosome_percentile',\n",
       "       'TSS_enrichment', 'TSS_percentile', 'nCount_SCT', 'nFeature_SCT',\n",
       "       'global_annotation', 'nCount_peaks_bulk', 'nFeature_peaks_bulk',\n",
       "       'nCount_peaks_celltype', 'nFeature_peaks_celltype',\n",
       "       'nCount_peaks_merged', 'nFeature_peaks_merged', 'SCT_weight',\n",
       "       'peaks_merged_weight', 'nCount_Gene_Activity', 'nFeature_Gene_Activity',\n",
       "       'nCount_peaks_integrated', 'nFeature_peaks_integrated', 'dataset',\n",
       "       'integrated_weight', 'peaks_integrated_weight', 'wsnn_res_0_8',\n",
       "       'seurat_clusters', 'data_source', 'annotation_ML', 'scANVI_zscape',\n",
       "       'annotation_ML_coarse'],\n",
       "      dtype='object')"
      ]
     },
     "execution_count": 49,
     "metadata": {},
     "output_type": "execute_result"
    }
   ],
   "source": [
    "df.columns"
   ]
  },
  {
   "cell_type": "code",
   "execution_count": 68,
   "id": "ec4e057d-ad77-45d7-8365-be965010a065",
   "metadata": {
    "tags": []
   },
   "outputs": [
    {
     "name": "stderr",
     "output_type": "stream",
     "text": [
      "/tmp/ipykernel_1788964/3413688409.py:5: MatplotlibDeprecationWarning: The get_cmap function was deprecated in Matplotlib 3.7 and will be removed two minor releases later. Use ``matplotlib.colormaps[name]`` or ``matplotlib.colormaps.get_cmap(obj)`` instead.\n",
      "  viridis = plt.cm.get_cmap('viridis', 6)  # Get 6 colors from the viridis colormap\n",
      "/hpc/user_apps/data.science/conda_envs/single-cell-base/lib/python3.10/site-packages/seaborn/categorical.py:641: FutureWarning: The default of observed=False is deprecated and will be changed to True in a future version of pandas. Pass observed=False to retain current behavior or observed=True to adopt the future default and silence this warning.\n",
      "  bootstrap=bootstrap))\n"
     ]
    },
    {
     "data": {
      "text/plain": [
       "(array([0, 1, 2, 3, 4, 5, 6]),\n",
       " [Text(0, 0, 'TDR126'),\n",
       "  Text(1, 0, 'TDR127'),\n",
       "  Text(2, 0, 'TDR128'),\n",
       "  Text(3, 0, 'TDR118'),\n",
       "  Text(4, 0, 'TDR119'),\n",
       "  Text(5, 0, 'TDR125'),\n",
       "  Text(6, 0, 'TDR124')])"
      ]
     },
     "execution_count": 68,
     "metadata": {},
     "output_type": "execute_result"
    },
    {
     "data": {
      "image/png": "[encoded data removed]",
      "text/plain": [
       "<Figure size 400x500 with 1 Axes>"
      ]
     },
     "metadata": {},
     "output_type": "display_data"
    }
   ],
   "source": [
    "# Custom order for the x-axis\n",
    "custom_order = ['TDR126', 'TDR127', 'TDR128', 'TDR118', 'TDR119', 'TDR125', 'TDR124']\n",
    "\n",
    "# Generate colors using the viridis colormap\n",
    "viridis = plt.cm.get_cmap('viridis', 6)  # Get 6 colors from the viridis colormap\n",
    "\n",
    "# Assign colors to the datasets, with TDR118 and TDR119 sharing the same color\n",
    "custom_colors = [viridis(0), viridis(1), viridis(2), viridis(3), viridis(3), viridis(4), viridis(5)]\n",
    "\n",
    "# Set up the plot\n",
    "plt.figure(figsize=(4, 5))\n",
    "\n",
    "ax = sns.boxplot(data=df, x=\"dataset\", y=\"nCount_RNA\", palette=custom_colors, order=custom_order, showfliers=False)\n",
    "ax.grid(False)\n",
    "plt.xticks(rotation=90)\n"
   ]
  },
  {
   "cell_type": "code",
   "execution_count": 90,
   "id": "b6a9d3ad-fef9-4841-bb2a-6d6cdc0da2c0",
   "metadata": {},
   "outputs": [
    {
     "name": "stderr",
     "output_type": "stream",
     "text": [
      "/hpc/user_apps/data.science/conda_envs/single-cell-base/lib/python3.10/site-packages/seaborn/categorical.py:641: FutureWarning: The default of observed=False is deprecated and will be changed to True in a future version of pandas. Pass observed=False to retain current behavior or observed=True to adopt the future default and silence this warning.\n",
      "  bootstrap=bootstrap))\n",
      "/hpc/user_apps/data.science/conda_envs/single-cell-base/lib/python3.10/site-packages/seaborn/categorical.py:641: FutureWarning: The default of observed=False is deprecated and will be changed to True in a future version of pandas. Pass observed=False to retain current behavior or observed=True to adopt the future default and silence this warning.\n",
      "  bootstrap=bootstrap))\n",
      "/hpc/user_apps/data.science/conda_envs/single-cell-base/lib/python3.10/site-packages/seaborn/categorical.py:641: FutureWarning: The default of observed=False is deprecated and will be changed to True in a future version of pandas. Pass observed=False to retain current behavior or observed=True to adopt the future default and silence this warning.\n",
      "  bootstrap=bootstrap))\n",
      "/hpc/user_apps/data.science/conda_envs/single-cell-base/lib/python3.10/site-packages/seaborn/categorical.py:641: FutureWarning: The default of observed=False is deprecated and will be changed to True in a future version of pandas. Pass observed=False to retain current behavior or observed=True to adopt the future default and silence this warning.\n",
      "  bootstrap=bootstrap))\n",
      "/hpc/user_apps/data.science/conda_envs/single-cell-base/lib/python3.10/site-packages/seaborn/categorical.py:641: FutureWarning: The default of observed=False is deprecated and will be changed to True in a future version of pandas. Pass observed=False to retain current behavior or observed=True to adopt the future default and silence this warning.\n",
      "  bootstrap=bootstrap))\n",
      "/hpc/user_apps/data.science/conda_envs/single-cell-base/lib/python3.10/site-packages/seaborn/categorical.py:641: FutureWarning: The default of observed=False is deprecated and will be changed to True in a future version of pandas. Pass observed=False to retain current behavior or observed=True to adopt the future default and silence this warning.\n",
      "  bootstrap=bootstrap))\n"
     ]
    },
    {
     "data": {
      "image/png": "[encoded data removed]",
      "text/plain": [
       "<Figure size 700x500 with 6 Axes>"
      ]
     },
     "metadata": {},
     "output_type": "display_data"
    }
   ],
   "source": [
    "# Set up the subplots\n",
    "fig, axes = plt.subplots(2, 3, figsize=(7, 5), sharey=False)\n",
    "\n",
    "# List of columns to plot\n",
    "columns_to_plot = [\"total_counts\",\"n_genes_by_counts\",\n",
    "                   \"pct_counts_mt\",#\"pct_counts_ribo\",\n",
    "                   \"TSS_enrichment\",\"nCount_peaks_integrated\", \"nFeature_peaks_integrated\"]\n",
    "\n",
    "# Titles for the subplots\n",
    "#titles = [\"Number of Features (RNA)\", \"Number of Peaks Integrated\", \"Number of Features Peaks Integrated\"]\n",
    "\n",
    "# Y-axis limits for each subplot\n",
    "y_limits = [(0, 13000), (0, 12000), (0, 20), \n",
    "            (2.5, 7.5), (0, 60000), (0, 60000)]  # Adjust these limits based on your data\n",
    "\n",
    "# Flatten the axes array for easy iteration\n",
    "axes = axes.flatten()\n",
    "\n",
    "# Loop through the columns and create a boxplot for each\n",
    "for ax, column, y_lim in zip(axes, columns_to_plot, y_limits):\n",
    "    sns.boxplot(data=df, x=\"dataset\", y=column, palette=custom_colors, order=custom_order, showfliers=False, ax=ax)\n",
    "    # ax.set_title(title)\n",
    "    ax.set_xlabel('Dataset')\n",
    "    ax.set_ylabel(column)\n",
    "    ax.set_ylim(y_lim)  # Set y-axis limits\n",
    "    ax.grid(False)\n",
    "    # ax.axhline(y=500, color='r', linestyle='--')  # Add a horizontal line at y=500\n",
    "\n",
    "# Rotate x-axis labels\n",
    "for ax in axes:\n",
    "    plt.sca(ax)\n",
    "    plt.xticks(rotation=90)\n",
    "\n",
    "# Adjust layout\n",
    "plt.tight_layout()\n",
    "\n",
    "plt.savefig(\"/hpc/projects/data.science/yangjoon.kim/zebrahub_multiome/zebrahub-multiome-analysis/figures/QC_metrics/QC_metrics_RNA_ATAC.pdf\")\n",
    "plt.savefig(\"/hpc/projects/data.science/yangjoon.kim/zebrahub_multiome/zebrahub-multiome-analysis/figures/QC_metrics/QC_metrics_RNA_ATAC.png\")\n",
    "\n",
    "\n",
    "# Show the plot\n",
    "plt.show()"
   ]
  },
  {
   "cell_type": "code",
   "execution_count": null,
   "id": "9e014705-94ff-4e1d-a6b2-5f19cc79445c",
   "metadata": {},
   "outputs": [],
   "source": []
  }
 ],
 "metadata": {
  "kernelspec": {
   "display_name": "Global single-cell-base",
   "language": "python",
   "name": "global-single-cell-base"
  },
  "language_info": {
   "codemirror_mode": {
    "name": "ipython",
    "version": 3
   },
   "file_extension": ".py",
   "mimetype": "text/x-python",
   "name": "python",
   "nbconvert_exporter": "python",
   "pygments_lexer": "ipython3",
   "version": "3.10.13"
  }
 },
 "nbformat": 4,
 "nbformat_minor": 5
}
