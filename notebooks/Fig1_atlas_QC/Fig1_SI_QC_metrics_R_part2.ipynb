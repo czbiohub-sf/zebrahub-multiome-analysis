{
 "cells": [
  {
   "cell_type": "markdown",
   "id": "055f6477-ce4f-4614-8558-84d561e4abbc",
   "metadata": {},
   "source": [
    "# Notebook for QC metrics from single-cell Multiome datasets\n",
    "\n",
    "- last updated: 06/13/2024\n",
    "\n",
    "We want to generate plots for different QC metrics from sc-Multiome datasets. The QC metrics that we'll focus on are as follows:\n",
    "\n",
    "### RNA -> moved to a python notebook\n",
    "- number of genes/cell\n",
    "- number of counts/cell\n",
    "- % mitochondrial counts/cell\n",
    "\n",
    "### ATAC -> moved a python notebook, except some Signac/R specific analyses\n",
    "- number of fragments/cell\n",
    "- TSS enrichment/cell\n",
    "- TSS enrichment vs distance from TSS\n",
    "- fragment size distribution\n",
    "\n"
   ]
  },
  {
   "cell_type": "code",
   "execution_count": 1,
   "id": "32a34673-5ccb-4ee7-a747-0395c3edf152",
   "metadata": {},
   "outputs": [
    {
     "name": "stderr",
     "output_type": "stream",
     "text": [
      "Attaching SeuratObject\n",
      "\n"
     ]
    }
   ],
   "source": [
    "library(Seurat)\n",
    "library(Signac)\n",
    "library(patchwork)\n",
    "library(ggplot2)\n",
    "\n",
    "# require(cowplot); require(stringr); require(data.table); set.seed(123)\n",
    "# require(glmnet); theme_set(theme_cowplot()); require(gganimate)\n",
    "# require(RColorBrewer); require(patchwork)"
   ]
  },
  {
   "cell_type": "code",
   "execution_count": 4,
   "id": "578c7d30-14f1-4554-8943-c3c8d1564ad5",
   "metadata": {},
   "outputs": [],
   "source": [
    "# Load the plotting module\n",
    "source(\"/hpc/projects/data.science/yangjoon.kim/zebrahub_multiome/zebrahub-multiome-analysis/scripts/utils/module_coverage_plot_viz.R\")"
   ]
  },
  {
   "cell_type": "code",
   "execution_count": 2,
   "id": "9dfb98d3-b722-4503-a967-53748c84fdf8",
   "metadata": {},
   "outputs": [
    {
     "data": {
      "text/html": [
       "'/hpc/projects/data.science/yangjoon.kim/zebrahub_multiome/zebrahub-multiome-analysis/figures/QC_metrics/'"
      ],
      "text/latex": [
       "'/hpc/projects/data.science/yangjoon.kim/zebrahub\\_multiome/zebrahub-multiome-analysis/figures/QC\\_metrics/'"
      ],
      "text/markdown": [
       "'/hpc/projects/data.science/yangjoon.kim/zebrahub_multiome/zebrahub-multiome-analysis/figures/QC_metrics/'"
      ],
      "text/plain": [
       "[1] \"/hpc/projects/data.science/yangjoon.kim/zebrahub_multiome/zebrahub-multiome-analysis/figures/QC_metrics/\""
      ]
     },
     "metadata": {},
     "output_type": "display_data"
    }
   ],
   "source": [
    "figpath = \"/hpc/projects/data.science/yangjoon.kim/zebrahub_multiome/zebrahub-multiome-analysis/figures/QC_metrics/\"\n",
    "figpath"
   ]
  },
  {
   "cell_type": "code",
   "execution_count": 3,
   "id": "03852359-b16c-45fb-8d77-137442b644c4",
   "metadata": {},
   "outputs": [
    {
     "data": {
      "text/plain": [
       "An object of class Seurat \n",
       "726063 features across 95196 samples within 5 assays \n",
       "Active assay: peaks_integrated (640834 features, 0 variable features)\n",
       " 4 other assays present: RNA, SCT, integrated, Gene.Activity\n",
       " 9 dimensional reductions calculated: integrated_lsi, umap, integrated_pca, umap.rna, umap.atac, wnn.umap, umap.rna.3D, umap.atac.3D, wnn.umap.3D"
      ]
     },
     "metadata": {},
     "output_type": "display_data"
    }
   ],
   "source": [
    "# import the Seurat object\n",
    "multiome <- readRDS(\"/hpc/projects/data.science/yangjoon.kim/zebrahub_multiome/data/processed_data/01_Signac_processed/integrated_RNA_ATAC_wnn_gene_activity_3d_umaps.rds\")\n",
    "multiome"
   ]
  },
  {
   "cell_type": "code",
   "execution_count": null,
   "id": "16050287-712f-406d-9dd7-8aefd5830ad8",
   "metadata": {},
   "outputs": [],
   "source": [
    "# List of assays to keep\n",
    "assaysToKeep <- c(\"peaks_integrated\", \"integrated\",\"RNA\",\"SCT\",\"Gene.Activity\")\n",
    "\n",
    "# Function to remove other assays from a Seurat object\n",
    "remove_unwanted_assays <- function(seuratObject, assaysToKeep) {\n",
    "  allAssays <- names(seuratObject@assays)\n",
    "  assaysToRemove <- setdiff(allAssays, assaysToKeep)\n",
    "  \n",
    "  for (assay in assaysToRemove) {\n",
    "    seuratObject[[assay]] <- NULL\n",
    "  }\n",
    "  \n",
    "  return(seuratObject)\n",
    "}\n",
    "\n",
    "# Apply the function to each of your Seurat objects\n",
    "multiome <- remove_unwanted_assays(multiome, assaysToKeep)"
   ]
  },
  {
   "cell_type": "code",
   "execution_count": 72,
   "id": "1d7b8790-4d04-4002-82d9-03514407c9ed",
   "metadata": {},
   "outputs": [
    {
     "data": {
      "text/plain": [
       "\n",
       "TDR118 TDR119 TDR124 TDR125 TDR126 TDR127 TDR128 \n",
       " 13614  12487   6610  17273  15036  19138  11038 "
      ]
     },
     "metadata": {},
     "output_type": "display_data"
    }
   ],
   "source": [
    "table(multiome$dataset)\n",
    "table(multiome$timepoint)"
   ]
  },
  {
   "cell_type": "code",
   "execution_count": 11,
   "id": "e9165e17-01a1-47e2-8ea1-5bc7eb1aedad",
   "metadata": {},
   "outputs": [],
   "source": [
    "# filter out \"low_quality_cells\"\n",
    "multiome <- subset(multiome, subset = annotation_ML_coarse != \"low_quality_cells\")\n"
   ]
  },
  {
   "cell_type": "code",
   "execution_count": 64,
   "id": "29eaea71-e5b7-43f1-a1c3-503be0169dca",
   "metadata": {},
   "outputs": [
    {
     "data": {
      "text/plain": [
       "[[1]]\n",
       "A Fragment object for 13568 cells\n",
       "\n",
       "[[2]]\n",
       "A Fragment object for 12413 cells\n",
       "\n",
       "[[3]]\n",
       "A Fragment object for 6528 cells\n",
       "\n",
       "[[4]]\n",
       "A Fragment object for 17130 cells\n",
       "\n",
       "[[5]]\n",
       "A Fragment object for 14970 cells\n",
       "\n",
       "[[6]]\n",
       "A Fragment object for 18963 cells\n",
       "\n",
       "[[7]]\n",
       "A Fragment object for 10990 cells\n"
      ]
     },
     "metadata": {},
     "output_type": "display_data"
    }
   ],
   "source": [
    "# Function to check if a fragment object is non-empty\n",
    "is_non_empty_fragment <- function(frag) {\n",
    "  return(!is.null(frag) && length(frag@cells) > 0)\n",
    "}\n",
    "\n",
    "# Identify non-empty Fragment objects\n",
    "non_empty_fragments <- lapply(fragments_list, function(frag) {\n",
    "  if (is_non_empty_fragment(frag)) {\n",
    "    return(frag)\n",
    "  } else {\n",
    "    return(NULL)\n",
    "  }\n",
    "})\n",
    "# non_empty_fragments\n",
    "\n",
    "# Filter out the NULLs\n",
    "non_empty_fragments <- Filter(Negate(is.null), non_empty_fragments)\n",
    "\n",
    "non_empty_fragments"
   ]
  },
  {
   "cell_type": "code",
   "execution_count": 87,
   "id": "fe16ab74-c11f-44ca-929c-d28a588b8f3a",
   "metadata": {},
   "outputs": [
    {
     "name": "stderr",
     "output_type": "stream",
     "text": [
      "Warning message:\n",
      "“Keys should be one or more alphanumeric characters followed by an underscore, setting key from peaks_integrated_ to peaksintegrated_”\n"
     ]
    }
   ],
   "source": [
    "Fragments(multiome) <-NULL\n",
    "Fragments(multiome) <- non_empty_fragments"
   ]
  },
  {
   "cell_type": "markdown",
   "id": "4b7fda84-e25c-46f2-aba0-b9b7092f46ee",
   "metadata": {},
   "source": [
    "## Step 1. TSS enrichment vs distance from TSS (bp)"
   ]
  },
  {
   "cell_type": "code",
   "execution_count": 103,
   "id": "73f62aca-ff12-4688-8874-8321aac72e7f",
   "metadata": {},
   "outputs": [],
   "source": [
    "# NOTE that our gRanges object has the format of \"1-start-end\", not \"chr1-start-end\", so, we'd have to change the region argument\n",
    "plot1 <- FragmentHistogram(multiome, group.by = \"dataset\", region = \"1-1-20000000\")\n",
    "\n",
    "# Extract the ggplot object and modify it to remove fill color\n",
    "plot1_modified <- plot1 +\n",
    "  geom_density(aes(fill = NULL), position = \"identity\", alpha = 0.7, stat = \"density\") +\n",
    "  theme_minimal() +\n",
    "  labs(\n",
    "    title = \"Fragment Size Distribution\",\n",
    "    x = \"Fragment length (bp)\",\n",
    "    y = \"Count\"\n",
    "  ) +\n",
    "  theme(legend.title = element_blank())\n",
    "\n",
    "plot1_modified\n",
    "\n",
    "ggsave(paste0(figpath, \"hist_fragment_lengths_datasets_test.pdf\"), plot = plot1_modified, width = 8, height = 12)\n"
   ]
  },
  {
   "cell_type": "code",
   "execution_count": null,
   "id": "78605459-1de5-4a8d-b672-9374bdf30947",
   "metadata": {},
   "outputs": [],
   "source": [
    "# Modify the ggplot object to show density\n",
    "plot1_modified <- plot1 +\n",
    "  geom_density(aes(y = ..density.., color = dataset), size = 1, fill = NA) +  # Modify the plot to show density lines\n",
    "  theme_minimal() +\n",
    "  labs(\n",
    "    title = \"Fragment Size Distribution\",\n",
    "    x = \"Fragment length (bp)\",\n",
    "    y = \"Density\"\n",
    "  ) +\n",
    "  theme(\n",
    "    legend.title = element_blank(),\n",
    "    legend.position = \"bottom\"\n",
    "  )\n",
    "\n",
    "# Display the modified plot\n",
    "print(plot1_modified)"
   ]
  },
  {
   "cell_type": "code",
   "execution_count": 108,
   "id": "fa6167a3-e07d-488d-ab39-0412db3b0c07",
   "metadata": {},
   "outputs": [
    {
     "name": "stderr",
     "output_type": "stream",
     "text": [
      "Warning message:\n",
      "“\u001b[1m\u001b[22mRemoved 100000 rows containing non-finite values (`stat_bin()`).”\n",
      "Warning message:\n",
      "“\u001b[1m\u001b[22mRemoved 100000 rows containing non-finite values (`stat_density()`).”\n",
      "Warning message:\n",
      "“\u001b[1m\u001b[22mRemoved 14 rows containing missing values (`geom_bar()`).”\n"
     ]
    }
   ],
   "source": [
    "# Extract the ggplot object and modify it to remove fill color\n",
    "plot1_modified <- plot1 +\n",
    "  geom_density(aes(y = ..count.., fill = NULL), position = \"identity\", alpha = 0.7) +\n",
    "  theme_minimal() +\n",
    "  labs(\n",
    "    title = \"Fragment Size Distribution\",\n",
    "    x = \"Fragment length (bp)\",\n",
    "    y = \"Count\"\n",
    "  ) +\n",
    "  theme(legend.title = element_blank())\n",
    "\n",
    "ggsave(paste0(figpath, \"hist_fragment_lengths_datasets_density.pdf\"), plot = plot1_modified, width = 8, height = 6)\n"
   ]
  },
  {
   "cell_type": "code",
   "execution_count": null,
   "id": "d580a006-9e6d-4880-ab0a-4f45bfd94243",
   "metadata": {},
   "outputs": [],
   "source": [
    "plot1_modified"
   ]
  },
  {
   "cell_type": "code",
   "execution_count": null,
   "id": "7415100f-6648-4108-98ac-426c406117f8",
   "metadata": {},
   "outputs": [],
   "source": [
    "# Modify the ggplot object to show only contours\n",
    "plot1_modified <- plot1 +\n",
    "  geom_density(aes(y = ..count.., color = dataset), fill = NA, size = 0.8) +  # fill = NA removes the fill color\n",
    "  theme_minimal() +\n",
    "  labs(\n",
    "    title = \"Fragment Size Distribution\",\n",
    "    x = \"Fragment length (bp)\",\n",
    "    y = \"Count\"\n",
    "  ) +\n",
    "  theme(legend.title = element_blank())"
   ]
  },
  {
   "cell_type": "code",
   "execution_count": null,
   "id": "c3599324-dc84-43e1-8b6e-4de52b31425e",
   "metadata": {},
   "outputs": [
    {
     "name": "stderr",
     "output_type": "stream",
     "text": [
      "Warning message:\n",
      "“\u001b[1m\u001b[22mRemoved 100000 rows containing non-finite values (`stat_bin()`).”\n",
      "Warning message:\n",
      "“\u001b[1m\u001b[22mRemoved 14 rows containing missing values (`geom_bar()`).”\n"
     ]
    },
    {
     "data": {
      "image/png": "[encoded data removed]",
      "text/plain": [
       "plot without title"
      ]
     },
     "metadata": {
      "image/png": {
       "height": 420,
       "width": 420
      }
     },
     "output_type": "display_data"
    }
   ],
   "source": [
    "plot1"
   ]
  },
  {
   "cell_type": "code",
   "execution_count": 105,
   "id": "2d814a58-d505-49c0-bb0e-ccb8da40cfb5",
   "metadata": {},
   "outputs": [
    {
     "name": "stderr",
     "output_type": "stream",
     "text": [
      "Warning message:\n",
      "“\u001b[1m\u001b[22mRemoved 100000 rows containing non-finite values (`stat_bin()`).”\n",
      "Warning message:\n",
      "“\u001b[1m\u001b[22mRemoved 100000 rows containing non-finite values (`stat_density()`).”\n",
      "Warning message:\n",
      "“\u001b[1m\u001b[22mRemoved 14 rows containing missing values (`geom_bar()`).”\n"
     ]
    },
    {
     "data": {
      "image/png": "[encoded data removed]",
      "text/plain": [
       "plot without title"
      ]
     },
     "metadata": {
      "image/png": {
       "height": 420,
       "width": 420
      }
     },
     "output_type": "display_data"
    }
   ],
   "source": [
    "# Extract the ggplot object and modify it to remove fill color\n",
    "plot1_modified <- plot1 +\n",
    "  geom_density(aes(fill = NULL, group=\"dataset\"), position = \"identity\", alpha = 0.7, stat = \"density\") +\n",
    "  theme_minimal() +\n",
    "  labs(\n",
    "    title = \"Fragment Size Distribution\",\n",
    "    x = \"Fragment length (bp)\",\n",
    "    y = \"Count\"\n",
    "  ) +\n",
    "  theme(legend.title = element_blank())\n",
    "\n",
    "plot1_modified"
   ]
  },
  {
   "cell_type": "markdown",
   "id": "eaf9abb5-688a-4e4d-bb56-d139524aceb9",
   "metadata": {},
   "source": [
    "## [HOLD] An attempt to hack the Signac::FragmentHistogram function"
   ]
  },
  {
   "cell_type": "code",
   "execution_count": 124,
   "id": "e90df8b4-3d14-433b-a0de-3a468b4d2a56",
   "metadata": {},
   "outputs": [],
   "source": [
    "FragmentHistogram_modified <- function(\n",
    "  object,\n",
    "  assay = NULL,\n",
    "  region = \"chr1-1-2000000\",\n",
    "  group.by = NULL,\n",
    "  cells = NULL,\n",
    "  log.scale = FALSE,\n",
    "  ...\n",
    ") {\n",
    "  cells <- SetIfNull(x = cells, y = colnames(x = object))\n",
    "  assay <- SetIfNull(x = assay, y = DefaultAssay(object = object))\n",
    "  if (!inherits(x = object[[assay]], what = \"ChromatinAssay\")) {\n",
    "    stop(\"The requested assay is not a ChromatinAssay.\")\n",
    "  }\n",
    "  reads <- MultiGetReadsInRegion(\n",
    "    object = object,\n",
    "    assay = assay,\n",
    "    region = region,\n",
    "    cells = cells,\n",
    "    verbose = FALSE,\n",
    "    ...\n",
    "  )\n",
    "  # add group information\n",
    "  if (is.null(x = group.by)) {\n",
    "    groups <- Idents(object = object)\n",
    "  } else {\n",
    "    md <- object[[]]\n",
    "    groups <- object[[group.by]]\n",
    "    groups <- groups[, 1]\n",
    "    names(x = groups) <- rownames(x = md)\n",
    "  }\n",
    "  reads$group <- groups[reads$cell]\n",
    "  if (length(x = unique(x = reads$group)) == 1) {\n",
    "    p <- ggplot(data = reads, aes(length)) +\n",
    "      geom_histogram(bins = 200)\n",
    "  } else {\n",
    "    p <- ggplot(data = reads, mapping = aes(x = length, fill = NULL, line=group, stat = \"density\")) +\n",
    "      geom_histogram(bins = 200) +\n",
    "      facet_wrap(~group, scales = \"free_y\")\n",
    "  }\n",
    "  p <- p + xlim(c(0, 800)) +\n",
    "    theme_classic() +\n",
    "    theme(\n",
    "      legend.position = \"none\",\n",
    "      strip.background = element_blank()\n",
    "    ) +\n",
    "    xlab(\"Fragment length (bp)\") +\n",
    "    ylab(\"Count\")\n",
    "  if (log.scale) {\n",
    "    p <- p + scale_y_log10()\n",
    "  }\n",
    "  # return(p)\n",
    "    return(reads)\n",
    "}"
   ]
  },
  {
   "cell_type": "code",
   "execution_count": 114,
   "id": "d5df8d04-a7df-4c73-a3f3-580f5774bffb",
   "metadata": {},
   "outputs": [],
   "source": [
    "SetIfNull <- function(x, y) {\n",
    "  if (is.null(x)) {\n",
    "    return(y)\n",
    "  } else {\n",
    "    return(x)\n",
    "  }\n",
    "}"
   ]
  },
  {
   "cell_type": "code",
   "execution_count": 122,
   "id": "3d2ad77a-41ae-47d2-b4f4-b1006033c9f6",
   "metadata": {},
   "outputs": [],
   "source": [
    "GetReadsInRegion <- function(cellmap, region, tabix.file, ...) {\n",
    "  # Mock function to return a placeholder data.frame\n",
    "  data.frame(\n",
    "    length = runif(1000, min = 50, max = 800),\n",
    "    cell = sample(cellmap, 1000, replace = TRUE)\n",
    "  )\n",
    "}\n",
    "\n",
    "MultiGetReadsInRegion <- function(object, assay, region, cells, verbose, ...) {\n",
    "  # Mock function to call GetReadsInRegion for each cell\n",
    "  cellmap <- cells\n",
    "  tabix.file <- \"path/to/tabix/file\"  # Replace with actual tabix file path if needed\n",
    "  reads_list <- lapply(cells, function(cell) {\n",
    "    GetReadsInRegion(cellmap = cellmap, region = region, tabix.file = tabix.file, ...)\n",
    "  })\n",
    "  do.call(rbind, reads_list)\n",
    "}\n",
    "\n",
    "\n",
    "# # Run GetReadsInRegion for a list of Fragment objects\n",
    "# # concatenate the output dataframes and return\n",
    "# # @param object A Seurat or ChromatinAssay object\n",
    "# # @param region Genomic region to extract fragments for\n",
    "# # @param fragment.list A list of Fragment objects. If NULL, pull them from the\n",
    "# # object\n",
    "# # @param assay Name of assay to use if supplying a Seurat object\n",
    "# #' @importFrom SeuratObject DefaultAssay\n",
    "# #' @importFrom Rsamtools TabixFile\n",
    "# #' @importFrom GenomeInfoDb keepSeqlevels\n",
    "# MultiGetReadsInRegion <- function(\n",
    "#   object,\n",
    "#   region,\n",
    "#   fragment.list = NULL,\n",
    "#   assay = NULL,\n",
    "#   ...\n",
    "# ) {\n",
    "#   if (inherits(x = object, what = \"Seurat\")) {\n",
    "#     # pull the assay\n",
    "#     assay <- SetIfNull(x = assay, y = DefaultAssay(object = object))\n",
    "#     object <- object[[assay]]\n",
    "#   }\n",
    "#   fragment.list <- SetIfNull(\n",
    "#     x = fragment.list,\n",
    "#     y = Fragments(object = object)\n",
    "#   )\n",
    "#   if (length(x = fragment.list) == 0) {\n",
    "#     # no fragments set\n",
    "#     stop(\"No fragment files found\")\n",
    "#   }\n",
    "#   res <- data.frame()\n",
    "#   for (i in seq_along(along.with = fragment.list)) {\n",
    "#     tbx.path <- GetFragmentData(object = fragment.list[[i]], slot = \"path\")\n",
    "#     cellmap <- GetFragmentData(object = fragment.list[[i]], slot = \"cells\")\n",
    "#     tabix.file <- TabixFile(\n",
    "#       file = tbx.path,\n",
    "#       index = GetIndexFile(fragment = tbx.path, verbose = FALSE)\n",
    "#     )\n",
    "#     open(con = tabix.file)\n",
    "#     reads <- GetReadsInRegion(\n",
    "#       cellmap = cellmap,\n",
    "#       region = region,\n",
    "#       tabix.file = tabix.file,\n",
    "#       ...\n",
    "#     )\n",
    "#     res <- rbind(res, reads)\n",
    "#     close(con = tabix.file)\n",
    "#   }\n",
    "#   return(res)\n",
    "# }"
   ]
  },
  {
   "cell_type": "code",
   "execution_count": 118,
   "id": "0f61ad25-32b0-4a03-b38e-bd7e37b9e18b",
   "metadata": {},
   "outputs": [
    {
     "name": "stderr",
     "output_type": "stream",
     "text": [
      "Loading required package: GenomeInfoDb\n",
      "\n",
      "Loading required package: BiocGenerics\n",
      "\n",
      "\n",
      "Attaching package: ‘BiocGenerics’\n",
      "\n",
      "\n",
      "The following objects are masked from ‘package:stats’:\n",
      "\n",
      "    IQR, mad, sd, var, xtabs\n",
      "\n",
      "\n",
      "The following objects are masked from ‘package:base’:\n",
      "\n",
      "    anyDuplicated, aperm, append, as.data.frame, basename, cbind,\n",
      "    colnames, dirname, do.call, duplicated, eval, evalq, Filter, Find,\n",
      "    get, grep, grepl, intersect, is.unsorted, lapply, Map, mapply,\n",
      "    match, mget, order, paste, pmax, pmax.int, pmin, pmin.int,\n",
      "    Position, rank, rbind, Reduce, rownames, sapply, setdiff, sort,\n",
      "    table, tapply, union, unique, unsplit, which.max, which.min\n",
      "\n",
      "\n",
      "Loading required package: S4Vectors\n",
      "\n",
      "Loading required package: stats4\n",
      "\n",
      "\n",
      "Attaching package: ‘S4Vectors’\n",
      "\n",
      "\n",
      "The following object is masked from ‘package:utils’:\n",
      "\n",
      "    findMatches\n",
      "\n",
      "\n",
      "The following objects are masked from ‘package:base’:\n",
      "\n",
      "    expand.grid, I, unname\n",
      "\n",
      "\n",
      "Loading required package: IRanges\n",
      "\n",
      "Loading required package: GenomicRanges\n",
      "\n",
      "Loading required package: Biostrings\n",
      "\n",
      "Loading required package: XVector\n",
      "\n",
      "\n",
      "Attaching package: ‘Biostrings’\n",
      "\n",
      "\n",
      "The following object is masked from ‘package:base’:\n",
      "\n",
      "    strsplit\n",
      "\n",
      "\n"
     ]
    }
   ],
   "source": [
    "# Load Rsamtools\n",
    "library(Rsamtools)"
   ]
  },
  {
   "cell_type": "code",
   "execution_count": 120,
   "id": "140ee197-433f-4427-ad09-bc368c0aec75",
   "metadata": {},
   "outputs": [],
   "source": [
    "GetIndexFile <- function(fragment, verbose = FALSE) {\n",
    "  # Mock function to handle the indexing\n",
    "  # Assuming the index file has the same name as the fragment file with a .tbi extension\n",
    "  return(paste0(fragment, \".tbi\"))\n",
    "}"
   ]
  },
  {
   "cell_type": "code",
   "execution_count": null,
   "id": "c7bcdca9-f54b-47f8-baa2-7f7231750ea0",
   "metadata": {},
   "outputs": [],
   "source": [
    "reads <- FragmentHistogram_modified(multiome, group.by = \"dataset\", region = \"1-1-20000000\")\n",
    "reads"
   ]
  },
  {
   "cell_type": "code",
   "execution_count": null,
   "id": "614855f2-c530-425d-a23e-1e4403715ddb",
   "metadata": {},
   "outputs": [],
   "source": []
  },
  {
   "cell_type": "code",
   "execution_count": null,
   "id": "e7b523a3-3a05-43c7-be42-b19d6825988f",
   "metadata": {},
   "outputs": [],
   "source": [
    "# Extract the ggplot object and modify it to remove fill color\n",
    "plot1_modified <- plot1 +\n",
    "  geom_density(aes(fill = NULL), position = \"identity\", alpha = 0.7, stat = \"density\") +\n",
    "  theme_minimal() +\n",
    "  labs(\n",
    "    title = \"Fragment Size Distribution\",\n",
    "    x = \"Fragment length (bp)\",\n",
    "    y = \"Count\"\n",
    "  ) +\n",
    "  theme(legend.title = element_blank())"
   ]
  },
  {
   "cell_type": "code",
   "execution_count": null,
   "id": "29a5a8a6-f58e-47a6-af04-feee73651707",
   "metadata": {},
   "outputs": [],
   "source": []
  },
  {
   "cell_type": "markdown",
   "id": "12b6d5f2-8b39-47b2-9934-2ae73c959066",
   "metadata": {
    "tags": []
   },
   "source": [
    "## Step 1. TSS enrichment vs distance from TSS (individual object)\n",
    "\n",
    "- it's easier to troubleshoot at the individual object level (as it's smaller in terms of the data size)\n"
   ]
  },
  {
   "cell_type": "code",
   "execution_count": 4,
   "id": "999cd30e-d2da-4fb9-8659-e219873f4d99",
   "metadata": {},
   "outputs": [
    {
     "name": "stderr",
     "output_type": "stream",
     "text": [
      "Warning message:\n",
      "“\u001b[1m\u001b[22mRemoved 17546 rows containing non-finite values (`stat_bin()`).”\n",
      "Warning message:\n",
      "“\u001b[1m\u001b[22mRemoved 2 rows containing missing values (`geom_bar()`).”\n"
     ]
    },
    {
     "data": {
      "image/png": "[encoded data removed]",
      "text/plain": [
       "plot without title"
      ]
     },
     "metadata": {
      "image/png": {
       "height": 420,
       "width": 420
      }
     },
     "output_type": "display_data"
    }
   ],
   "source": [
    "# define the filepath\n",
    "dataset = \"TDR126\"\n",
    "base_path <- \"/hpc/projects/data.science/yangjoon.kim/zebrahub_multiome/data/processed_data/01_Signac_processed/\"\n",
    "\n",
    "dataset_processed <- gsub(\"reseq\", \"\", dataset)\n",
    "seurat_obj_path <- paste0(base_path, dataset, \"/\", dataset_processed, \"_processed.RDS\")\n",
    "\n",
    "# Load the Seurat object\n",
    "object <- readRDS(seurat_obj_path)\n",
    "\n",
    "Idents(object) <- \"orig.ident\"\n",
    "\n",
    "# NOTE that our gRanges object has the format of \"1-start-end\", not \"chr1-start-end\", so, we'd have to change the region argument\n",
    "plot1 <- FragmentHistogram(object, region = \"1-1-20000000\")\n",
    "\n",
    "print(plot1)"
   ]
  },
  {
   "cell_type": "code",
   "execution_count": 5,
   "id": "955a0ce9-2fce-44d7-9506-52545ea64dd0",
   "metadata": {},
   "outputs": [
    {
     "name": "stderr",
     "output_type": "stream",
     "text": [
      "Warning message:\n",
      "“\u001b[1m\u001b[22mRemoved 17546 rows containing non-finite values (`stat_bin()`).”\n",
      "Warning message:\n",
      "“\u001b[1m\u001b[22mRemoved 17546 rows containing non-finite values (`stat_density()`).”\n",
      "Warning message:\n",
      "“\u001b[1m\u001b[22mRemoved 2 rows containing missing values (`geom_bar()`).”\n"
     ]
    },
    {
     "data": {
      "image/png": "[encoded data removed]",
      "text/plain": [
       "plot without title"
      ]
     },
     "metadata": {
      "image/png": {
       "height": 420,
       "width": 420
      }
     },
     "output_type": "display_data"
    }
   ],
   "source": [
    "# Extract the ggplot object and modify it to remove fill color\n",
    "plot1_modified <- plot1 +\n",
    "  geom_density(aes(fill = NULL), position = \"identity\", alpha = 0.7, stat = \"density\") +\n",
    "  theme_minimal() +\n",
    "  labs(\n",
    "    title = \"Fragment Size Distribution\",\n",
    "    x = \"Fragment length (bp)\",\n",
    "    y = \"Count\"\n",
    "  ) +\n",
    "  theme(legend.title = element_blank())\n",
    "\n",
    "print(plot1_modified)\n",
    "\n",
    "# ggsave(paste0(figpath, \"hist_fragment_lengths_datasets_test.pdf\"), plot = plot1_modified, width = 8, height = 12)\n"
   ]
  },
  {
   "cell_type": "code",
   "execution_count": 9,
   "id": "a9e0cfef-3220-458c-919a-2faf27ed4616",
   "metadata": {},
   "outputs": [],
   "source": [
    "FragmentHistogram <- function(\n",
    "  object,\n",
    "  assay = NULL,\n",
    "  region = \"chr1-1-2000000\",\n",
    "  group.by = NULL,\n",
    "  cells = NULL,\n",
    "  log.scale = FALSE,\n",
    "  ...\n",
    ") {\n",
    "  cells <- SetIfNull(x = cells, y = colnames(x = object))\n",
    "  assay <- SetIfNull(x = assay, y = DefaultAssay(object = object))\n",
    "  if (!inherits(x = object[[assay]], what = \"ChromatinAssay\")) {\n",
    "    stop(\"The requested assay is not a ChromatinAssay.\")\n",
    "  }\n",
    "  reads <- MultiGetReadsInRegion(\n",
    "    object = object,\n",
    "    assay = assay,\n",
    "    region = region,\n",
    "    cells = cells,\n",
    "    verbose = FALSE,\n",
    "    ...\n",
    "  )\n",
    "  # add group information\n",
    "  if (is.null(x = group.by)) {\n",
    "    groups <- Idents(object = object)\n",
    "  } else {\n",
    "    md <- object[[]]\n",
    "    groups <- object[[group.by]]\n",
    "    groups <- groups[, 1]\n",
    "    names(x = groups) <- rownames(x = md)\n",
    "  }\n",
    "  reads$group <- groups[reads$cell]\n",
    "  if (length(x = unique(x = reads$group)) == 1) {\n",
    "    p <- ggplot(data = reads, aes(length)) +\n",
    "      geom_density(aes(y = after_stat(density)), color = \"black\", fill = NA, linewidth = 1)  # Use geom_density instead of geom_histogram\n",
    "  } else {\n",
    "    p <- ggplot(data = reads, mapping = aes(x = length, color = group)) +\n",
    "      geom_density(aes(y = after_stat(density)), fill = NA, linewidth = 1) +  # Use geom_density instead of geom_histogram\n",
    "      facet_wrap(~group, scales = \"free_y\")\n",
    "  }\n",
    "  p <- p + xlim(c(0, 800)) +\n",
    "    theme_classic() +\n",
    "    theme(\n",
    "      legend.position = \"none\",\n",
    "      strip.background = element_blank()\n",
    "    ) +\n",
    "    xlab(\"Fragment length (bp)\") +\n",
    "    ylab(\"Density\")  # Change y-axis label to \"Density\"\n",
    "  if (log.scale) {\n",
    "    p <- p + scale_y_log10()\n",
    "  }\n",
    "  return(p)\n",
    "}"
   ]
  },
  {
   "cell_type": "code",
   "execution_count": 13,
   "id": "70308c03-b19f-4b0c-91cf-53c8404fd921",
   "metadata": {},
   "outputs": [],
   "source": [
    "SetIfNull <- function(x, y) {\n",
    "  if (is.null(x)) {\n",
    "    return(y)\n",
    "  } else {\n",
    "    return(x)\n",
    "  }\n",
    "}"
   ]
  },
  {
   "cell_type": "code",
   "execution_count": 14,
   "id": "4a232c42-5daf-4e22-bd4e-3da5f179d90c",
   "metadata": {},
   "outputs": [],
   "source": [
    "GetReadsInRegion <- function(cellmap, region, tabix.file, ...) {\n",
    "  # Mock function to return a placeholder data.frame\n",
    "  data.frame(\n",
    "    length = runif(1000, min = 50, max = 800),\n",
    "    cell = sample(cellmap, 1000, replace = TRUE)\n",
    "  )\n",
    "}\n",
    "\n",
    "MultiGetReadsInRegion <- function(object, assay, region, cells, verbose, ...) {\n",
    "  # Mock function to call GetReadsInRegion for each cell\n",
    "  cellmap <- cells\n",
    "  tabix.file <- \"path/to/tabix/file\"  # Replace with actual tabix file path if needed\n",
    "  reads_list <- lapply(cells, function(cell) {\n",
    "    GetReadsInRegion(cellmap = cellmap, region = region, tabix.file = tabix.file, ...)\n",
    "  })\n",
    "  do.call(rbind, reads_list)\n",
    "}"
   ]
  },
  {
   "cell_type": "code",
   "execution_count": 11,
   "id": "7251d30a-eafe-4d59-8a7f-e29b5b75b90a",
   "metadata": {},
   "outputs": [
    {
     "name": "stderr",
     "output_type": "stream",
     "text": [
      "Loading required package: GenomeInfoDb\n",
      "\n",
      "Loading required package: BiocGenerics\n",
      "\n",
      "\n",
      "Attaching package: ‘BiocGenerics’\n",
      "\n",
      "\n",
      "The following objects are masked from ‘package:stats’:\n",
      "\n",
      "    IQR, mad, sd, var, xtabs\n",
      "\n",
      "\n",
      "The following objects are masked from ‘package:base’:\n",
      "\n",
      "    anyDuplicated, aperm, append, as.data.frame, basename, cbind,\n",
      "    colnames, dirname, do.call, duplicated, eval, evalq, Filter, Find,\n",
      "    get, grep, grepl, intersect, is.unsorted, lapply, Map, mapply,\n",
      "    match, mget, order, paste, pmax, pmax.int, pmin, pmin.int,\n",
      "    Position, rank, rbind, Reduce, rownames, sapply, setdiff, sort,\n",
      "    table, tapply, union, unique, unsplit, which.max, which.min\n",
      "\n",
      "\n",
      "Loading required package: S4Vectors\n",
      "\n",
      "Loading required package: stats4\n",
      "\n",
      "\n",
      "Attaching package: ‘S4Vectors’\n",
      "\n",
      "\n",
      "The following object is masked from ‘package:utils’:\n",
      "\n",
      "    findMatches\n",
      "\n",
      "\n",
      "The following objects are masked from ‘package:base’:\n",
      "\n",
      "    expand.grid, I, unname\n",
      "\n",
      "\n",
      "Loading required package: IRanges\n",
      "\n",
      "Loading required package: GenomicRanges\n",
      "\n",
      "Loading required package: Biostrings\n",
      "\n",
      "Loading required package: XVector\n",
      "\n",
      "\n",
      "Attaching package: ‘Biostrings’\n",
      "\n",
      "\n",
      "The following object is masked from ‘package:base’:\n",
      "\n",
      "    strsplit\n",
      "\n",
      "\n"
     ]
    }
   ],
   "source": [
    "# Load Rsamtools\n",
    "library(Rsamtools)"
   ]
  },
  {
   "cell_type": "code",
   "execution_count": 12,
   "id": "f1ae1eb4-4b45-4e8e-ad74-56b2c220e7ea",
   "metadata": {},
   "outputs": [],
   "source": [
    "GetIndexFile <- function(fragment, verbose = FALSE) {\n",
    "  # Mock function to handle the indexing\n",
    "  # Assuming the index file has the same name as the fragment file with a .tbi extension\n",
    "  return(paste0(fragment, \".tbi\"))\n",
    "}"
   ]
  },
  {
   "cell_type": "code",
   "execution_count": null,
   "id": "9780c6a8-00dc-4e8e-ac5c-bf842591412a",
   "metadata": {},
   "outputs": [],
   "source": []
  },
  {
   "cell_type": "markdown",
   "id": "aee3c264-d7ac-4107-9422-69453549b4d3",
   "metadata": {},
   "source": [
    "## Run FragmentHistogram (modified)"
   ]
  },
  {
   "cell_type": "code",
   "execution_count": null,
   "id": "6039d43f-da99-402c-8862-62dedda3ff45",
   "metadata": {},
   "outputs": [],
   "source": [
    "# NOTE that our gRanges object has the format of \"1-start-end\", not \"chr1-start-end\", so, we'd have to change the region argument\n",
    "plot1 <- FragmentHistogram(object, region = \"1-1-20000000\")\n",
    "\n",
    "print(plot1)"
   ]
  },
  {
   "cell_type": "code",
   "execution_count": 8,
   "id": "ff6dfb1e-5616-45d8-b9d3-610df0869eb9",
   "metadata": {},
   "outputs": [
    {
     "name": "stderr",
     "output_type": "stream",
     "text": [
      "Warning message:\n",
      "“\u001b[1m\u001b[22mRemoved 17546 rows containing non-finite values (`stat_bin()`).”\n",
      "Warning message:\n",
      "“\u001b[1m\u001b[22mRemoved 17546 rows containing non-finite values (`stat_density()`).”\n",
      "Warning message:\n",
      "“\u001b[1m\u001b[22mRemoved 2 rows containing missing values (`geom_bar()`).”\n"
     ]
    },
    {
     "data": {
      "image/png": "[encoded data removed]",
      "text/plain": [
       "plot without title"
      ]
     },
     "metadata": {
      "image/png": {
       "height": 420,
       "width": 420
      }
     },
     "output_type": "display_data"
    }
   ],
   "source": [
    "# Remove the existing histogram layer and add the density plot with no fill color\n",
    "plot1_modified <- plot1 +\n",
    "  geom_density(aes(x = length, y = after_stat(density)), color = \"black\", fill = NA, linewidth = 1) +\n",
    "  theme_minimal() +\n",
    "  labs(\n",
    "    x = \"Fragment length (bp)\",\n",
    "    y = \"Density\",\n",
    "    title = \"Fragment Size Distribution\"\n",
    "  ) +\n",
    "  theme(\n",
    "    legend.position = \"none\"\n",
    "  )\n",
    "\n",
    "# Remove existing histogram layers if they are present\n",
    "plot1_modified <- plot1_modified + \n",
    "  theme(panel.grid.major = element_blank(), panel.grid.minor = element_blank())\n",
    "\n",
    "# Display the modified plot\n",
    "print(plot1_modified)"
   ]
  },
  {
   "cell_type": "code",
   "execution_count": null,
   "id": "68e4487c-3608-41cf-99fe-9d1b337d0fb5",
   "metadata": {},
   "outputs": [],
   "source": []
  },
  {
   "cell_type": "code",
   "execution_count": null,
   "id": "a5eb1361-ae8b-4b09-87ba-af61bb2c75a8",
   "metadata": {},
   "outputs": [],
   "source": [
    "# # Define the list of dataset names and their corresponding paths\n",
    "# dataset_names <- c(\"TDR126\",\"TDR127\",\"TDR128\",\"TDR118reseq\",\"TDR119reseq\",\"TDR125reseq\",\"TDR124reseq\")\n",
    "# base_path <- \"/hpc/projects/data.science/yangjoon.kim/zebrahub_multiome/data/processed_data/01_Signac_processed/\"\n",
    "# # figpath <- \"/path/to/your/figures/\"  # Adjust the path as needed\n",
    "\n",
    "# # Create a loop to process each dataset\n",
    "# for (dataset in dataset_names) {\n",
    "#     # Construct the full path to the Seurat object\n",
    "#     # Remove \"reseq\" from the dataset name\n",
    "#     dataset_processed <- gsub(\"reseq\", \"\", dataset)\n",
    "#     seurat_obj_path <- paste0(base_path, dataset, \"/\", dataset_processed, \"_processed.RDS\")\n",
    "\n",
    "#     # Load the Seurat object\n",
    "#     seurat_obj <- readRDS(seurat_obj_path)\n",
    "\n",
    "#     # Run TSSEnrichment\n",
    "#     seurat_obj <- TSSEnrichment(object = seurat_obj, fast = FALSE)\n",
    "\n",
    "#     # Generate the TSS plot\n",
    "#     tss.plot <- TSSPlot(seurat_obj)\n",
    "\n",
    "#     # Print the TSS plot\n",
    "#     print(tss.plot)\n",
    "\n",
    "#     # Save the TSS plot\n",
    "#     ggsave(paste0(figpath, \"TSS_enrichment_\", dataset_processed, \".pdf\"), plot = tss.plot, width = 8, height = 6)\n",
    "\n",
    "#     # Optionally, save the updated Seurat object if you want to keep the TSSEnrichment results\n",
    "#     saveRDS(seurat_obj, paste0(base_path, dataset, \"/\", dataset_processed, \"_processed_with_TSS.RDS\"))\n",
    "# }"
   ]
  },
  {
   "cell_type": "code",
   "execution_count": null,
   "id": "27f1caa9-bc20-4e60-be40-93dec1666e3d",
   "metadata": {},
   "outputs": [],
   "source": []
  },
  {
   "cell_type": "code",
   "execution_count": null,
   "id": "70170b84-bec4-47b0-9768-07bf0348537e",
   "metadata": {},
   "outputs": [],
   "source": []
  },
  {
   "cell_type": "markdown",
   "id": "3caa3f7b-249e-49f0-b026-ca14a943b496",
   "metadata": {},
   "source": [
    "## TSS enrichment vs distance from TSS"
   ]
  },
  {
   "cell_type": "code",
   "execution_count": null,
   "id": "7bb88d27-05e0-4a97-8da3-90d667f1840d",
   "metadata": {},
   "outputs": [],
   "source": []
  },
  {
   "cell_type": "code",
   "execution_count": 99,
   "id": "522f5c03-7426-471b-84a5-b8283753142f",
   "metadata": {},
   "outputs": [
    {
     "name": "stderr",
     "output_type": "stream",
     "text": [
      "Extracting TSS positions\n",
      "\n",
      "Finding + strand cut sites\n",
      "\n"
     ]
    }
   ],
   "source": [
    "# compute TSS enrichment score per cell (need to re-run this as we merged the seurat objects from individual timepoints)\n",
    "multiome <- TSSEnrichment(object = multiome, fast = FALSE)"
   ]
  },
  {
   "cell_type": "code",
   "execution_count": null,
   "id": "64746750-65b0-4596-ac12-0b98aec9ff7f",
   "metadata": {},
   "outputs": [],
   "source": [
    "multiome"
   ]
  },
  {
   "cell_type": "code",
   "execution_count": 98,
   "id": "ef05054f-afc7-4b2b-bb0a-e6e6890f57bc",
   "metadata": {},
   "outputs": [
    {
     "ename": "ERROR",
     "evalue": "Error in TSSPlot(multiome, group.by = \"dataset\"): Position enrichment matrix not present in assay\n",
     "output_type": "error",
     "traceback": [
      "Error in TSSPlot(multiome, group.by = \"dataset\"): Position enrichment matrix not present in assay\nTraceback:\n",
      "1. TSSPlot(multiome, group.by = \"dataset\")",
      "2. stop(\"Position enrichment matrix not present in assay\")"
     ]
    }
   ],
   "source": [
    "TSSPlot(multiome, group.by = \"dataset\")"
   ]
  },
  {
   "cell_type": "code",
   "execution_count": 6,
   "id": "bb7d095d-0685-4d8f-a600-dd080d6ab3f3",
   "metadata": {},
   "outputs": [],
   "source": [
    "# TSSEnrichment takes 5-6 hours on HPC to compute, so let's just use individual datasets\n",
    "seurat_obj <- readRDS(\"/hpc/projects/data.science/yangjoon.kim/zebrahub_multiome/data/processed_data/01_Signac_processed/TDR126/TDR126_processed_with_TSS.RDS\")\n",
    "\n",
    "seurat_obj <- TSSEnrichment(object=seurat_obj, fast = FALSE)\n",
    "tss.plot <- TSSPlot(seurat_obj)\n",
    "\n",
    "print(tss.plot)\n",
    "\n",
    "ggsave(paste0(figpath, \"TSS_enrichment_TDR118.pdf\"), plot = tss.plot, width = 8, height = 6)"
   ]
  },
  {
   "cell_type": "code",
   "execution_count": 7,
   "id": "797a54ea-b05d-40b4-b92f-2b09d17469e7",
   "metadata": {},
   "outputs": [
    {
     "data": {
      "text/plain": [
       "An object of class Seurat \n",
       "1573599 features across 13614 samples within 7 assays \n",
       "Active assay: peaks_merged (485357 features, 485357 variable features)\n",
       " 6 other assays present: RNA, ATAC, SCT, peaks_bulk, peaks_celltype, Gene.Activity\n",
       " 5 dimensional reductions calculated: pca, umap.rna, lsi, umap.atac, umap.joint"
      ]
     },
     "metadata": {},
     "output_type": "display_data"
    }
   ],
   "source": [
    "seurat_obj"
   ]
  },
  {
   "cell_type": "code",
   "execution_count": 13,
   "id": "e5885f02-0df9-4455-87be-32628e840dfe",
   "metadata": {},
   "outputs": [
    {
     "ename": "ERROR",
     "evalue": "Error in readRDS(\"/hpc/projects/data.science/yangjoon.kim/zebrahub_multiome/data/processed_data/01_Signac_processed/TDR126/TDR126_processed_with_TSS.RDS\"): error reading from connection\n",
     "output_type": "error",
     "traceback": [
      "Error in readRDS(\"/hpc/projects/data.science/yangjoon.kim/zebrahub_multiome/data/processed_data/01_Signac_processed/TDR126/TDR126_processed_with_TSS.RDS\"): error reading from connection\nTraceback:\n",
      "1. readRDS(\"/hpc/projects/data.science/yangjoon.kim/zebrahub_multiome/data/processed_data/01_Signac_processed/TDR126/TDR126_processed_with_TSS.RDS\")"
     ]
    }
   ],
   "source": [
    "seurat_obj <- readRDS(\"/hpc/projects/data.science/yangjoon.kim/zebrahub_multiome/data/processed_data/01_Signac_processed/TDR126/TDR126_processed_with_TSS.RDS\")\n",
    "\n",
    "Idents(seurat_obj) <- \"orig.ident\"\n",
    "\n",
    "tss.plot <- TSSPlot(seurat_obj)\n",
    "print(tss.plot)\n",
    "\n",
    "ggsave(paste0(figpath, \"TSS_enrichment_TDR126.pdf\"), plot = tss.plot, width = 8, height = 6)"
   ]
  },
  {
   "cell_type": "code",
   "execution_count": 8,
   "id": "b9c10c7a-fde2-48b8-9592-591f52acbe36",
   "metadata": {},
   "outputs": [],
   "source": [
    "DefaultAssay(seurat_obj) <- \"ATAC\""
   ]
  },
  {
   "cell_type": "code",
   "execution_count": 9,
   "id": "ae6c2046-9eac-4855-9572-757c05919c2e",
   "metadata": {},
   "outputs": [
    {
     "ename": "ERROR",
     "evalue": "Error in TSSPlot(seurat_obj): Position enrichment matrix not present in assay\n",
     "output_type": "error",
     "traceback": [
      "Error in TSSPlot(seurat_obj): Position enrichment matrix not present in assay\nTraceback:\n",
      "1. TSSPlot(seurat_obj)",
      "2. stop(\"Position enrichment matrix not present in assay\")"
     ]
    }
   ],
   "source": [
    "tss.plot <- TSSPlot(seurat_obj)\n",
    "tss.plot"
   ]
  },
  {
   "cell_type": "code",
   "execution_count": null,
   "id": "2fb4594e-e6f7-4e19-9861-d0f62a60f85a",
   "metadata": {},
   "outputs": [],
   "source": [
    "# Define the list of dataset names and their corresponding paths\n",
    "dataset_names <- c(\"TDR126\",\"TDR127\",\"TDR128\",\"TDR118reseq\",\"TDR119reseq\",\"TDR125reseq\",\"TDR124reseq\")\n",
    "base_path <- \"/hpc/projects/data.science/yangjoon.kim/zebrahub_multiome/data/processed_data/01_Signac_processed/\"\n",
    "# figpath <- \"/path/to/your/figures/\"  # Adjust the path as needed\n",
    "\n",
    "# Create a loop to process each dataset\n",
    "for (dataset in dataset_names) {\n",
    "    # Construct the full path to the Seurat object\n",
    "    # Remove \"reseq\" from the dataset name\n",
    "    dataset_processed <- gsub(\"reseq\", \"\", dataset)\n",
    "    seurat_obj_path <- paste0(base_path, dataset, \"/\", dataset_processed, \"_processed.RDS\")\n",
    "\n",
    "    # Load the Seurat object\n",
    "    seurat_obj <- readRDS(seurat_obj_path)\n",
    "\n",
    "    # Run TSSEnrichment\n",
    "    seurat_obj <- TSSEnrichment(object = seurat_obj, fast = FALSE)\n",
    "\n",
    "    # Generate the TSS plot\n",
    "    tss.plot <- TSSPlot(seurat_obj)\n",
    "\n",
    "    # Print the TSS plot\n",
    "    print(tss.plot)\n",
    "\n",
    "    # Save the TSS plot\n",
    "    ggsave(paste0(figpath, \"TSS_enrichment_\", dataset_processed, \".pdf\"), plot = tss.plot, width = 8, height = 6)\n",
    "\n",
    "    # Optionally, save the updated Seurat object if you want to keep the TSSEnrichment results\n",
    "    saveRDS(seurat_obj, paste0(base_path, dataset, \"/\", dataset_processed, \"_processed_with_TSS.RDS\"))\n",
    "}"
   ]
  },
  {
   "cell_type": "code",
   "execution_count": 10,
   "id": "ee9c3e20-73fa-4fb3-a532-07f234b29da9",
   "metadata": {},
   "outputs": [],
   "source": [
    "# Define the list of dataset names and their corresponding paths\n",
    "dataset_names <- c(\"TDR126\")#,\"TDR127\",\"TDR128\",\"TDR118reseq\",\"TDR119reseq\",\"TDR125reseq\",\"TDR124reseq\")\n",
    "base_path <- \"/hpc/projects/data.science/yangjoon.kim/zebrahub_multiome/data/processed_data/01_Signac_processed/\"\n",
    "# figpath <- \"/path/to/your/figures/\"  # Adjust the path as needed\n",
    "\n",
    "# Create a loop to process each dataset\n",
    "for (dataset in dataset_names) {\n",
    "    # Construct the full path to the Seurat object\n",
    "    # Remove \"reseq\" from the dataset name\n",
    "    dataset_processed <- gsub(\"reseq\", \"\", dataset)\n",
    "    seurat_obj_path <- paste0(base_path, dataset, \"/\", dataset_processed, \"_processed.RDS\")\n",
    "\n",
    "    # Load the Seurat object\n",
    "    seurat_obj <- readRDS(seurat_obj_path)\n",
    "\n",
    "    # Run TSSEnrichment\n",
    "    seurat_obj <- TSSEnrichment(object = seurat_obj, fast = FALSE)\n",
    "\n",
    "    # Generate the TSS plot\n",
    "    tss.plot <- TSSPlot(seurat_obj)\n",
    "\n",
    "    # Print the TSS plot\n",
    "    print(tss.plot)\n",
    "\n",
    "    # Save the TSS plot\n",
    "    ggsave(paste0(figpath, \"TSS_enrichment_\", dataset_processed, \".pdf\"), plot = tss.plot, width = 8, height = 6)\n",
    "\n",
    "    # Optionally, save the updated Seurat object if you want to keep the TSSEnrichment results\n",
    "    saveRDS(seurat_obj, paste0(base_path, dataset, \"/\", dataset_processed, \"_processed_with_TSS.RDS\"))\n",
    "}"
   ]
  },
  {
   "cell_type": "code",
   "execution_count": null,
   "id": "0cc2321a-1abf-4c29-869c-54abfcce73c2",
   "metadata": {},
   "outputs": [],
   "source": []
  },
  {
   "cell_type": "code",
   "execution_count": null,
   "id": "aede0919-a3e6-48d6-8ce6-e80f49d331ba",
   "metadata": {},
   "outputs": [],
   "source": []
  },
  {
   "cell_type": "code",
   "execution_count": null,
   "id": "bd942c94-99c5-4860-a4d9-ffb64762e27a",
   "metadata": {},
   "outputs": [],
   "source": []
  },
  {
   "cell_type": "markdown",
   "id": "307e3961-87b9-433b-a553-5904c12e84a5",
   "metadata": {},
   "source": []
  },
  {
   "cell_type": "code",
   "execution_count": null,
   "id": "7f251129-ff2a-4979-a82f-2a363906ebbb",
   "metadata": {},
   "outputs": [],
   "source": [
    "multiome@meta.data$dataset"
   ]
  },
  {
   "cell_type": "code",
   "execution_count": null,
   "id": "0b6ce7ec-1c1e-4ca2-9e52-6bed3c7935b3",
   "metadata": {},
   "outputs": [],
   "source": []
  },
  {
   "cell_type": "code",
   "execution_count": null,
   "id": "999a32ba-65b5-46b3-84dc-ee551a5ff617",
   "metadata": {},
   "outputs": [],
   "source": [
    "# List of genes to plot\n",
    "some_genes <- c('tbxta', 'sox2', 'myf5', 'pax6a', 'meox1')\n",
    "\n",
    "# Extract relevant data from the Seurat object\n",
    "df <- multiome@meta.data %>%\n",
    "  select(cell = rownames(multiome@meta.data), time = dev_stage) %>%\n",
    "  cbind(t(seurat_obj@assays[['RNA']][some_genes,])) %>%\n",
    "  mutate(time2 = factor(time,\n",
    "                        levels = sort(unique(time)),\n",
    "                        labels = c(\"0-2\", \"1-3\", \"2-4\", \"3-7\", \"4-8\", \n",
    "                                   \"6-10\", \"8-12\", \"10-14\", \"12-16\", \"14-18\", \n",
    "                                   \"16-20\")))\n",
    "\n",
    "# Reshape data for plotting\n",
    "df1 <- df %>%\n",
    "  select(-cell, -time) %>%\n",
    "  pivot_longer(cols = all_of(some_genes), names_to = \"gene\", values_to = \"expression\")\n",
    "\n",
    "# Compute mean expression\n",
    "df2 <- df1 %>%\n",
    "  group_by(time2, gene) %>%\n",
    "  summarize(count = sum(expression), n = n(), .groups = 'drop') %>%\n",
    "  mutate(mean_expression = count / n)\n",
    "\n",
    "# Create the plot\n",
    "p <- df1 %>%\n",
    "  ggplot(aes(x = time2, y = expression, color = time2, group = time2)) +\n",
    "  geom_boxplot(outlier.shape = NA) +\n",
    "  geom_line(aes(x = time2, y = mean_expression, color = time2, group = gene), data = df2) + \n",
    "  xlab('Time (hours)') + \n",
    "  ylab('Expression') +\n",
    "  scale_color_manual(\"Time (hrs)\", values = some_colors) +\n",
    "  guides(color = 'none') +\n",
    "  facet_wrap(~ gene, ncol = 1, strip.position = \"right\", scales = 'free_y') +\n",
    "  theme(strip.background = element_blank(), strip.text = element_text(size = 14),\n",
    "        axis.text = element_text(size = 8))\n",
    "\n",
    "# Save the plot\n",
    "ggsave('figures/time_expression_boxplot.pdf', p, height = 6, width = 5.5)\n"
   ]
  },
  {
   "cell_type": "code",
   "execution_count": null,
   "id": "780787d9-b6cb-473c-adf3-aea20b9fdb4f",
   "metadata": {},
   "outputs": [],
   "source": []
  },
  {
   "cell_type": "code",
   "execution_count": null,
   "id": "940bd9f6-df60-49d2-983a-2de329333e3d",
   "metadata": {},
   "outputs": [],
   "source": []
  },
  {
   "cell_type": "code",
   "execution_count": null,
   "id": "0faf66ef-307a-402d-a79c-85be980ecec4",
   "metadata": {},
   "outputs": [],
   "source": []
  }
 ],
 "metadata": {
  "kernelspec": {
   "display_name": "R 4.3",
   "language": "R",
   "name": "ir43"
  },
  "language_info": {
   "codemirror_mode": "r",
   "file_extension": ".r",
   "mimetype": "text/x-r-source",
   "name": "R",
   "pygments_lexer": "r",
   "version": "4.3.2"
  }
 },
 "nbformat": 4,
 "nbformat_minor": 5
}
