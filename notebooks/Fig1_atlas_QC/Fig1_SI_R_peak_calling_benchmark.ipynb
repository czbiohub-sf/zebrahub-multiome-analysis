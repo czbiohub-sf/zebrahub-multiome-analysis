{
 "cells": [
  {
   "cell_type": "markdown",
   "id": "adc42cb9-c4c2-42a6-bd54-1a561298ba68",
   "metadata": {
    "tags": []
   },
   "source": [
    "# benchmark peak-calling methods\n",
    "\n",
    "- Last updated: 6/10/2023\n",
    "- Author: Yang-Joon Kim\n",
    "\n",
    "**DESCRIPTION**\n",
    "\n",
    "- We used MACS2 (implemented in Signac) to call peaks at different group.by resolutions\n",
    "- First, we have Cellranger-arc called peaks (\"ATAC\" assay)\n",
    "- Second, we call peaks for the bulk dataset using MACS2 (\"peaks_bulk\" assay)\n",
    "- Third, we call peaks for each cell-type (coarse-grained, and predicted cell-type labels based on RNA - \"peaks_celltype\" assay)\n",
    "- Lastly, we used the \"iterative overlap peak-merging\" approach inspired by ArchR tutorial (https://www.archrproject.com/bookdown/the-iterative-overlap-peak-merging-procedure.html). Briefly, we take the cell-type specific peaks as the most important peaks, then iteratively add overlapping peaks from MACS2-bulk peaks, and then CRG-arc peaks.\n",
    "\n",
    "\n",
    "## Goals\n",
    "- [peaks_1 vs peaks_2] for a Seurat object, generate descriptive plots for how much different peak profiles overlap, etc.\n",
    "- [biological replicates] for two Seurat objects, show how much overlap is present between the two objects (between replicates and non-replicates)."
   ]
  },
  {
   "cell_type": "code",
   "execution_count": 2,
   "id": "3e263164-afc6-4ef9-a0cf-d2d42361fb76",
   "metadata": {},
   "outputs": [
    {
     "name": "stderr",
     "output_type": "stream",
     "text": [
      "\n",
      "Attaching package: ‘dplyr’\n",
      "\n",
      "\n",
      "The following object is masked from ‘package:GenomeInfoDb’:\n",
      "\n",
      "    intersect\n",
      "\n",
      "\n",
      "The following objects are masked from ‘package:IRanges’:\n",
      "\n",
      "    collapse, desc, intersect, setdiff, slice, union\n",
      "\n",
      "\n",
      "The following objects are masked from ‘package:S4Vectors’:\n",
      "\n",
      "    first, intersect, rename, setdiff, setequal, union\n",
      "\n",
      "\n",
      "The following objects are masked from ‘package:BiocGenerics’:\n",
      "\n",
      "    combine, intersect, setdiff, union\n",
      "\n",
      "\n",
      "The following objects are masked from ‘package:stats’:\n",
      "\n",
      "    filter, lag\n",
      "\n",
      "\n",
      "The following objects are masked from ‘package:base’:\n",
      "\n",
      "    intersect, setdiff, setequal, union\n",
      "\n",
      "\n",
      "Loading required package: BSgenome\n",
      "\n",
      "Loading required package: Biostrings\n",
      "\n",
      "Loading required package: XVector\n",
      "\n",
      "\n",
      "Attaching package: ‘Biostrings’\n",
      "\n",
      "\n",
      "The following object is masked from ‘package:base’:\n",
      "\n",
      "    strsplit\n",
      "\n",
      "\n",
      "Loading required package: rtracklayer\n",
      "\n"
     ]
    }
   ],
   "source": [
    "suppressMessages(library(Signac))\n",
    "suppressMessages(library(Seurat))\n",
    "suppressMessages(library(GenomeInfoDb))\n",
    "\n",
    "library(ggplot2)\n",
    "library(dplyr)\n",
    "library(RColorBrewer)\n",
    "library(patchwork)\n",
    "library(stringr)\n",
    "library(VennDiagram)\n",
    "library(GenomicRanges)\n",
    "\n",
    "# zebrafish genome\n",
    "library(BSgenome.Drerio.UCSC.danRer11)"
   ]
  },
  {
   "cell_type": "markdown",
   "id": "6eaebe73-5c75-4d5a-900c-3e0119e6fadb",
   "metadata": {},
   "source": [
    "## Import the datasets\n",
    "\n",
    "### replicates\n",
    "- TDR118 (15-somites)\n",
    "- TDR119 (15-somites, biological replicate)\n",
    "\n",
    "### non-replicates\n",
    "- TDR126 (0-somite, budstage)\n",
    "- TDR124 (30-somites)"
   ]
  },
  {
   "cell_type": "code",
   "execution_count": 3,
   "id": "201d8fbe-abdf-40a2-a3d6-8047e9f4c0c8",
   "metadata": {},
   "outputs": [
    {
     "data": {
      "text/plain": [
       "An object of class Seurat \n",
       "1478015 features across 6610 samples within 7 assays \n",
       "Active assay: peaks_merged (494511 features, 492495 variable features)\n",
       " 6 other assays present: RNA, ATAC, SCT, peaks_bulk, peaks_celltype, Gene.Activity\n",
       " 5 dimensional reductions calculated: pca, umap.rna, lsi, umap.atac, umap.joint"
      ]
     },
     "metadata": {},
     "output_type": "display_data"
    }
   ],
   "source": [
    "# data path\n",
    "data_path = \"/hpc/projects/data.science/yangjoon.kim/zebrahub_multiome/data/processed_data/01_Signac_processed/\"\n",
    "\n",
    "# TDR118 (15-somites)\n",
    "TDR118 <- readRDS(paste0(data_path, \"TDR118reseq/TDR118_processed.RDS\"))\n",
    "\n",
    "# TDR119 (15-somites)\n",
    "TDR119 <- readRDS(paste0(data_path, \"TDR119reseq/TDR119_processed.RDS\"))\n",
    "\n",
    "# TDR126 (0 budstage)\n",
    "TDR126 <- readRDS(paste0(data_path, \"TDR126/TDR126_processed.RDS\"))\n",
    "\n",
    "# TDR124 (30-somites)\n",
    "TDR124 <- readRDS(paste0(data_path, \"TDR124reseq/TDR124_processed.RDS\"))\n",
    "TDR124"
   ]
  },
  {
   "cell_type": "code",
   "execution_count": 4,
   "id": "89e65ce3-9b51-4ab8-9d94-f6da3817f151",
   "metadata": {},
   "outputs": [],
   "source": [
    "# List of assays to keep\n",
    "assaysToKeep <- c(\"peaks_merged\", \"RNA\", \"SCT\")\n",
    "\n",
    "# Function to remove other assays from a Seurat object\n",
    "remove_unwanted_assays <- function(seuratObject, assaysToKeep) {\n",
    "  allAssays <- names(seuratObject@assays)\n",
    "  assaysToRemove <- setdiff(allAssays, assaysToKeep)\n",
    "  \n",
    "  for (assay in assaysToRemove) {\n",
    "    seuratObject[[assay]] <- NULL\n",
    "  }\n",
    "  \n",
    "  return(seuratObject)\n",
    "}\n",
    "\n",
    "# Apply the function to each of your Seurat objects\n",
    "# TDR118 <- remove_unwanted_assays(TDR118, assaysToKeep)\n",
    "TDR119 <- remove_unwanted_assays(TDR119, assaysToKeep)\n",
    "TDR124 <- remove_unwanted_assays(TDR124, assaysToKeep)\n",
    "TDR126 <- remove_unwanted_assays(TDR126, assaysToKeep)"
   ]
  },
  {
   "cell_type": "code",
   "execution_count": 5,
   "id": "f5667f70-7478-411f-849b-0ac29eb94c60",
   "metadata": {},
   "outputs": [],
   "source": [
    "# define the path to save the plots\n",
    "figpath = \"/hpc/projects/data.science/yangjoon.kim/zebrahub_multiome/zebrahub-multiome-analysis/figures/peak_calling_benchmark/\"\n"
   ]
  },
  {
   "cell_type": "markdown",
   "id": "422d2c54-e287-412e-8833-536991c6ca88",
   "metadata": {},
   "source": [
    "## Step 1. Check the peak profiles called by different methods\n",
    "\n",
    "- 1) check the number of peaks for each method\n",
    "- 2) check the coverage of peak profiles for each method (% genome?)\n",
    "- 3) [HOLD] check the \"reduce\" method for joining peaks, and compare the joint peak profiles with the other methods by using \"CoveragePlot\" for some marker genes.\n"
   ]
  },
  {
   "cell_type": "code",
   "execution_count": 4,
   "id": "aa9cb32f-e9a2-4682-813e-2731fafcb1c8",
   "metadata": {},
   "outputs": [
    {
     "data": {
      "text/plain": [
       "GRanges object with 248320 ranges and 0 metadata columns:\n",
       "           seqnames            ranges strand\n",
       "              <Rle>         <IRanges>  <Rle>\n",
       "       [1]        1         2372-3057      *\n",
       "       [2]        1         6507-7253      *\n",
       "       [3]        1       11485-12198      *\n",
       "       [4]        1       14475-15248      *\n",
       "       [5]        1       16516-17393      *\n",
       "       ...      ...               ...    ...\n",
       "  [248316]        9 56433462-56434391      *\n",
       "  [248317]        9 56437053-56437849      *\n",
       "  [248318]        9 56450898-56451686      *\n",
       "  [248319]        9 56452315-56452858      *\n",
       "  [248320]        9 56459068-56459827      *\n",
       "  -------\n",
       "  seqinfo: 25 sequences from an unspecified genome; no seqlengths"
      ]
     },
     "metadata": {},
     "output_type": "display_data"
    }
   ],
   "source": [
    "# 1) check the number of peaks for each method\n",
    "TDR118@assays$ATAC@ranges"
   ]
  },
  {
   "cell_type": "code",
   "execution_count": 5,
   "id": "f90838e2-7433-4f67-b1cc-2530cfddb1fa",
   "metadata": {},
   "outputs": [
    {
     "data": {
      "text/plain": [
       "GRanges object with 435704 ranges and 0 metadata columns:\n",
       "           seqnames            ranges strand\n",
       "              <Rle>         <IRanges>  <Rle>\n",
       "       [1]        1         3596-4069      *\n",
       "       [2]        1         4478-6981      *\n",
       "       [3]        1       11049-12897      *\n",
       "       [4]        1       14695-15041      *\n",
       "       [5]        1       18522-19033      *\n",
       "       ...      ...               ...    ...\n",
       "  [435700]        9 56455828-56456125      *\n",
       "  [435701]        9 56457205-56457539      *\n",
       "  [435702]        9 56459130-56459697      *\n",
       "  [435703]       MT           29-3505      *\n",
       "  [435704]       MT       13232-16545      *\n",
       "  -------\n",
       "  seqinfo: 26 sequences from an unspecified genome; no seqlengths"
      ]
     },
     "metadata": {},
     "output_type": "display_data"
    }
   ],
   "source": [
    "# check the number of peaks for each method\n",
    "TDR118@assays$peaks_bulk@ranges"
   ]
  },
  {
   "cell_type": "code",
   "execution_count": 6,
   "id": "dc17ab92-cb4b-4ba7-8e88-5cec6f22da72",
   "metadata": {},
   "outputs": [
    {
     "data": {
      "text/html": [
       "<table class=\"dataframe\">\n",
       "<caption>A data.frame: 6 × 5</caption>\n",
       "<thead>\n",
       "\t<tr><th></th><th scope=col>seqnames</th><th scope=col>start</th><th scope=col>end</th><th scope=col>width</th><th scope=col>strand</th></tr>\n",
       "\t<tr><th></th><th scope=col>&lt;fct&gt;</th><th scope=col>&lt;int&gt;</th><th scope=col>&lt;int&gt;</th><th scope=col>&lt;int&gt;</th><th scope=col>&lt;fct&gt;</th></tr>\n",
       "</thead>\n",
       "<tbody>\n",
       "\t<tr><th scope=row>1</th><td>1</td><td> 2372</td><td> 3057</td><td>686</td><td>*</td></tr>\n",
       "\t<tr><th scope=row>2</th><td>1</td><td> 6507</td><td> 7253</td><td>747</td><td>*</td></tr>\n",
       "\t<tr><th scope=row>3</th><td>1</td><td>11485</td><td>12198</td><td>714</td><td>*</td></tr>\n",
       "\t<tr><th scope=row>4</th><td>1</td><td>14475</td><td>15248</td><td>774</td><td>*</td></tr>\n",
       "\t<tr><th scope=row>5</th><td>1</td><td>16516</td><td>17393</td><td>878</td><td>*</td></tr>\n",
       "\t<tr><th scope=row>6</th><td>1</td><td>17575</td><td>18198</td><td>624</td><td>*</td></tr>\n",
       "</tbody>\n",
       "</table>\n"
      ],
      "text/latex": [
       "A data.frame: 6 × 5\n",
       "\\begin{tabular}{r|lllll}\n",
       "  & seqnames & start & end & width & strand\\\\\n",
       "  & <fct> & <int> & <int> & <int> & <fct>\\\\\n",
       "\\hline\n",
       "\t1 & 1 &  2372 &  3057 & 686 & *\\\\\n",
       "\t2 & 1 &  6507 &  7253 & 747 & *\\\\\n",
       "\t3 & 1 & 11485 & 12198 & 714 & *\\\\\n",
       "\t4 & 1 & 14475 & 15248 & 774 & *\\\\\n",
       "\t5 & 1 & 16516 & 17393 & 878 & *\\\\\n",
       "\t6 & 1 & 17575 & 18198 & 624 & *\\\\\n",
       "\\end{tabular}\n"
      ],
      "text/markdown": [
       "\n",
       "A data.frame: 6 × 5\n",
       "\n",
       "| <!--/--> | seqnames &lt;fct&gt; | start &lt;int&gt; | end &lt;int&gt; | width &lt;int&gt; | strand &lt;fct&gt; |\n",
       "|---|---|---|---|---|---|\n",
       "| 1 | 1 |  2372 |  3057 | 686 | * |\n",
       "| 2 | 1 |  6507 |  7253 | 747 | * |\n",
       "| 3 | 1 | 11485 | 12198 | 714 | * |\n",
       "| 4 | 1 | 14475 | 15248 | 774 | * |\n",
       "| 5 | 1 | 16516 | 17393 | 878 | * |\n",
       "| 6 | 1 | 17575 | 18198 | 624 | * |\n",
       "\n"
      ],
      "text/plain": [
       "  seqnames start end   width strand\n",
       "1 1         2372  3057 686   *     \n",
       "2 1         6507  7253 747   *     \n",
       "3 1        11485 12198 714   *     \n",
       "4 1        14475 15248 774   *     \n",
       "5 1        16516 17393 878   *     \n",
       "6 1        17575 18198 624   *     "
      ]
     },
     "metadata": {},
     "output_type": "display_data"
    },
    {
     "data": {
      "text/html": [
       "<table class=\"dataframe\">\n",
       "<caption>A data.frame: 6 × 5</caption>\n",
       "<thead>\n",
       "\t<tr><th></th><th scope=col>seqnames</th><th scope=col>start</th><th scope=col>end</th><th scope=col>width</th><th scope=col>strand</th></tr>\n",
       "\t<tr><th></th><th scope=col>&lt;fct&gt;</th><th scope=col>&lt;int&gt;</th><th scope=col>&lt;int&gt;</th><th scope=col>&lt;int&gt;</th><th scope=col>&lt;fct&gt;</th></tr>\n",
       "</thead>\n",
       "<tbody>\n",
       "\t<tr><th scope=row>1</th><td>1</td><td> 3596</td><td> 4069</td><td> 474</td><td>*</td></tr>\n",
       "\t<tr><th scope=row>2</th><td>1</td><td> 4478</td><td> 6981</td><td>2504</td><td>*</td></tr>\n",
       "\t<tr><th scope=row>3</th><td>1</td><td>11049</td><td>12897</td><td>1849</td><td>*</td></tr>\n",
       "\t<tr><th scope=row>4</th><td>1</td><td>14695</td><td>15041</td><td> 347</td><td>*</td></tr>\n",
       "\t<tr><th scope=row>5</th><td>1</td><td>18522</td><td>19033</td><td> 512</td><td>*</td></tr>\n",
       "\t<tr><th scope=row>6</th><td>1</td><td>19253</td><td>19614</td><td> 362</td><td>*</td></tr>\n",
       "</tbody>\n",
       "</table>\n"
      ],
      "text/latex": [
       "A data.frame: 6 × 5\n",
       "\\begin{tabular}{r|lllll}\n",
       "  & seqnames & start & end & width & strand\\\\\n",
       "  & <fct> & <int> & <int> & <int> & <fct>\\\\\n",
       "\\hline\n",
       "\t1 & 1 &  3596 &  4069 &  474 & *\\\\\n",
       "\t2 & 1 &  4478 &  6981 & 2504 & *\\\\\n",
       "\t3 & 1 & 11049 & 12897 & 1849 & *\\\\\n",
       "\t4 & 1 & 14695 & 15041 &  347 & *\\\\\n",
       "\t5 & 1 & 18522 & 19033 &  512 & *\\\\\n",
       "\t6 & 1 & 19253 & 19614 &  362 & *\\\\\n",
       "\\end{tabular}\n"
      ],
      "text/markdown": [
       "\n",
       "A data.frame: 6 × 5\n",
       "\n",
       "| <!--/--> | seqnames &lt;fct&gt; | start &lt;int&gt; | end &lt;int&gt; | width &lt;int&gt; | strand &lt;fct&gt; |\n",
       "|---|---|---|---|---|---|\n",
       "| 1 | 1 |  3596 |  4069 |  474 | * |\n",
       "| 2 | 1 |  4478 |  6981 | 2504 | * |\n",
       "| 3 | 1 | 11049 | 12897 | 1849 | * |\n",
       "| 4 | 1 | 14695 | 15041 |  347 | * |\n",
       "| 5 | 1 | 18522 | 19033 |  512 | * |\n",
       "| 6 | 1 | 19253 | 19614 |  362 | * |\n",
       "\n"
      ],
      "text/plain": [
       "  seqnames start end   width strand\n",
       "1 1         3596  4069  474  *     \n",
       "2 1         4478  6981 2504  *     \n",
       "3 1        11049 12897 1849  *     \n",
       "4 1        14695 15041  347  *     \n",
       "5 1        18522 19033  512  *     \n",
       "6 1        19253 19614  362  *     "
      ]
     },
     "metadata": {},
     "output_type": "display_data"
    },
    {
     "data": {
      "text/html": [
       "<table class=\"dataframe\">\n",
       "<caption>A data.frame: 6 × 5</caption>\n",
       "<thead>\n",
       "\t<tr><th></th><th scope=col>seqnames</th><th scope=col>start</th><th scope=col>end</th><th scope=col>width</th><th scope=col>strand</th></tr>\n",
       "\t<tr><th></th><th scope=col>&lt;fct&gt;</th><th scope=col>&lt;int&gt;</th><th scope=col>&lt;int&gt;</th><th scope=col>&lt;int&gt;</th><th scope=col>&lt;fct&gt;</th></tr>\n",
       "</thead>\n",
       "<tbody>\n",
       "\t<tr><th scope=row>1</th><td>1</td><td> 3427</td><td> 4032</td><td> 606</td><td>*</td></tr>\n",
       "\t<tr><th scope=row>2</th><td>1</td><td> 4473</td><td> 6136</td><td>1664</td><td>*</td></tr>\n",
       "\t<tr><th scope=row>3</th><td>1</td><td>11020</td><td>12944</td><td>1925</td><td>*</td></tr>\n",
       "\t<tr><th scope=row>4</th><td>1</td><td>13368</td><td>13575</td><td> 208</td><td>*</td></tr>\n",
       "\t<tr><th scope=row>5</th><td>1</td><td>14640</td><td>15050</td><td> 411</td><td>*</td></tr>\n",
       "\t<tr><th scope=row>6</th><td>1</td><td>16769</td><td>17193</td><td> 425</td><td>*</td></tr>\n",
       "</tbody>\n",
       "</table>\n"
      ],
      "text/latex": [
       "A data.frame: 6 × 5\n",
       "\\begin{tabular}{r|lllll}\n",
       "  & seqnames & start & end & width & strand\\\\\n",
       "  & <fct> & <int> & <int> & <int> & <fct>\\\\\n",
       "\\hline\n",
       "\t1 & 1 &  3427 &  4032 &  606 & *\\\\\n",
       "\t2 & 1 &  4473 &  6136 & 1664 & *\\\\\n",
       "\t3 & 1 & 11020 & 12944 & 1925 & *\\\\\n",
       "\t4 & 1 & 13368 & 13575 &  208 & *\\\\\n",
       "\t5 & 1 & 14640 & 15050 &  411 & *\\\\\n",
       "\t6 & 1 & 16769 & 17193 &  425 & *\\\\\n",
       "\\end{tabular}\n"
      ],
      "text/markdown": [
       "\n",
       "A data.frame: 6 × 5\n",
       "\n",
       "| <!--/--> | seqnames &lt;fct&gt; | start &lt;int&gt; | end &lt;int&gt; | width &lt;int&gt; | strand &lt;fct&gt; |\n",
       "|---|---|---|---|---|---|\n",
       "| 1 | 1 |  3427 |  4032 |  606 | * |\n",
       "| 2 | 1 |  4473 |  6136 | 1664 | * |\n",
       "| 3 | 1 | 11020 | 12944 | 1925 | * |\n",
       "| 4 | 1 | 13368 | 13575 |  208 | * |\n",
       "| 5 | 1 | 14640 | 15050 |  411 | * |\n",
       "| 6 | 1 | 16769 | 17193 |  425 | * |\n",
       "\n"
      ],
      "text/plain": [
       "  seqnames start end   width strand\n",
       "1 1         3427  4032  606  *     \n",
       "2 1         4473  6136 1664  *     \n",
       "3 1        11020 12944 1925  *     \n",
       "4 1        13368 13575  208  *     \n",
       "5 1        14640 15050  411  *     \n",
       "6 1        16769 17193  425  *     "
      ]
     },
     "metadata": {},
     "output_type": "display_data"
    }
   ],
   "source": [
    "# generate dataframes for each peak profiles (CRG-arc, MACS2-bulk, and MACS2-celltype)\n",
    "df_CRG_peaks = as.data.frame(TDR118@assays$ATAC@ranges)\n",
    "head(df_CRG_peaks)\n",
    "\n",
    "df_MACS2_bulk_peaks = as.data.frame(TDR118@assays$peaks_bulk@ranges)\n",
    "head(df_MACS2_bulk_peaks)\n",
    "\n",
    "df_MACS2_celltype_peaks = as.data.frame(TDR118@assays$peaks_celltype@ranges)\n",
    "head(df_MACS2_celltype_peaks)"
   ]
  },
  {
   "cell_type": "code",
   "execution_count": 21,
   "id": "8973121a-e8ce-4aa5-8ae5-6490b7262228",
   "metadata": {},
   "outputs": [],
   "source": [
    "# filter out the peaks from the \"MT\" chromosome as Cellranger-arc did not call the peaks from the \"MT\" chromosomes,\n",
    "# so it'd be a fair comparison if we exlude the peaks from the \"MT\" chromosome for the MACS2-called peaks.\n",
    "\n",
    "# # Filter out rows where seqnames is \"MT\"\n",
    "# df_MACS2_bulk_peaks <- df_MACS2_bulk_peaks %>% filter(seqnames != \"MT\")\n",
    "# df_MACS2_celltype_peaks <- df_MACS2_celltype_peaks %>% filter(seqnames != \"MT\")"
   ]
  },
  {
   "cell_type": "code",
   "execution_count": 20,
   "id": "37e1b1b2-5391-4aa2-be3c-3612dc5bf7bb",
   "metadata": {},
   "outputs": [
    {
     "data": {
      "image/png": "[encoded data removed]",
      "text/plain": [
       "plot without title"
      ]
     },
     "metadata": {
      "image/png": {
       "height": 420,
       "width": 420
      }
     },
     "output_type": "display_data"
    }
   ],
   "source": [
    "display.brewer.pal(n = 8, name = 'Set2')\n",
    "\n",
    "# Get the colors from Set3 paletteb\n",
    "colors <- brewer.pal(n = 8, name = \"Set2\")"
   ]
  },
  {
   "cell_type": "code",
   "execution_count": 22,
   "id": "7356ea3e-c13b-4de1-a3f6-72bb51c0aa77",
   "metadata": {},
   "outputs": [
    {
     "name": "stderr",
     "output_type": "stream",
     "text": [
      "Warning message:\n",
      "“\u001b[1m\u001b[22mUsing `size` aesthetic for lines was deprecated in ggplot2 3.4.0.\n",
      "\u001b[36mℹ\u001b[39m Please use `linewidth` instead.”\n",
      "Warning message:\n",
      "“\u001b[1m\u001b[22mThe `size` argument of `element_rect()` is deprecated as of ggplot2 3.4.0.\n",
      "\u001b[36mℹ\u001b[39m Please use the `linewidth` argument instead.”\n",
      "Warning message:\n",
      "“\u001b[1m\u001b[22mThe dot-dot notation (`..density..`) was deprecated in ggplot2 3.4.0.\n",
      "\u001b[36mℹ\u001b[39m Please use `after_stat(density)` instead.”\n",
      "Warning message:\n",
      "“\u001b[1m\u001b[22mRemoved 11930 rows containing non-finite values (`stat_bin()`).”\n",
      "Warning message:\n",
      "“\u001b[1m\u001b[22mRemoved 11930 rows containing non-finite values (`stat_density()`).”\n",
      "Warning message:\n",
      "“\u001b[1m\u001b[22mRemoved 6 rows containing missing values (`geom_bar()`).”\n",
      "\u001b[1m\u001b[22mSaving 6.67 x 6.67 in image\n",
      "Warning message:\n",
      "“\u001b[1m\u001b[22mRemoved 11930 rows containing non-finite values (`stat_bin()`).”\n",
      "Warning message:\n",
      "“\u001b[1m\u001b[22mRemoved 11930 rows containing non-finite values (`stat_density()`).”\n",
      "Warning message:\n",
      "“\u001b[1m\u001b[22mRemoved 6 rows containing missing values (`geom_bar()`).”\n",
      "\u001b[1m\u001b[22mSaving 6.67 x 6.67 in image\n",
      "Warning message:\n",
      "“\u001b[1m\u001b[22mRemoved 11930 rows containing non-finite values (`stat_bin()`).”\n",
      "Warning message:\n",
      "“\u001b[1m\u001b[22mRemoved 11930 rows containing non-finite values (`stat_density()`).”\n",
      "Warning message:\n",
      "“\u001b[1m\u001b[22mRemoved 6 rows containing missing values (`geom_bar()`).”\n"
     ]
    },
    {
     "data": {
      "image/png": "[encoded data removed]",
      "text/plain": [
       "plot without title"
      ]
     },
     "metadata": {
      "image/png": {
       "height": 420,
       "width": 420
      }
     },
     "output_type": "display_data"
    }
   ],
   "source": [
    "# Combine dataframes\n",
    "df_CRG_peaks$source <- 'CRG-arc'\n",
    "df_MACS2_bulk_peaks$source <- 'MACS2_bulk'\n",
    "df_MACS2_celltype_peaks$source <- 'MACS2_celltype'\n",
    "\n",
    "combined_df <- bind_rows(df_CRG_peaks %>% select(width, source),\n",
    "                         df_MACS2_bulk_peaks %>% select(width, source),\n",
    "                         df_MACS2_celltype_peaks %>% select(width, source)) %>%\n",
    "  filter(is.finite(width) & !is.na(width))\n",
    "\n",
    "# Use colors from Set3 palette\n",
    "colors <- brewer.pal(n = 8, name = \"Set2\")\n",
    "selected_colors <- c(colors[3], colors[2], colors[1])\n",
    "\n",
    "# # Function to normalize counts\n",
    "# normalize_counts <- function(df) {\n",
    "#   df %>%\n",
    "#     group_by(source) %>%\n",
    "#     mutate(norm_density = ..count.. / sum(..count..)) %>%\n",
    "#     ungroup()\n",
    "# }\n",
    "\n",
    "# # Plot the combined normalized density histogram\n",
    "# plot <- ggplot(combined_df, aes(x = width, fill = source)) +\n",
    "#   # geom_histogram(aes(y = ..count../sum(..count..)), position = \"identity\", alpha = 0.5, binwidth = 50) +\n",
    "#         geom_histogram(aes(y = ..density..), stat = \"density\", position = \"identity\", alpha = 0.5, binwidth = 50) +\n",
    "#         labs(title = \"\",\n",
    "#         x = \"peak width\",\n",
    "#         y = \"frequency\") +\n",
    "#         theme_minimal(base_size = 14) +\n",
    "#         scale_fill_manual(values = selected_colors) + # Adjust the indices to select desired colors\n",
    "#         theme(\n",
    "#         panel.grid.major = element_blank(), \n",
    "#         panel.grid.minor = element_blank(),\n",
    "#         text = element_text(size = 14)\n",
    "#         ) +\n",
    "#       xlim(0, 1500)\n",
    "# Plot the combined density histogram with KDE lines\n",
    "plot <- ggplot(combined_df, aes(x = width, fill = source)) +\n",
    "  geom_histogram(aes(y = ..density..), position = \"identity\", alpha = 0.5, binwidth = 50) +\n",
    "  geom_density(aes(color = source), size = 1, fill=NA) +\n",
    "  labs(title = \"\",\n",
    "       x = \"peak width\",\n",
    "       y = \"density\") +\n",
    "  theme_minimal(base_size = 14) +\n",
    "  scale_fill_manual(values = selected_colors) + # Adjust the indices to select desired colors\n",
    "  scale_color_manual(values = selected_colors) + # Use the same colors for the KDE lines\n",
    "  theme(\n",
    "    panel.grid.major = element_blank(), \n",
    "    panel.grid.minor = element_blank(),\n",
    "    text = element_text(size = 14),\n",
    "    aspect.ratio = 1/1.5, # Adjust the aspect ratio to squeeze the y-axis\n",
    "    panel.border = element_rect(color = \"black\", fill = NA, size = 1), # Add a black border around the plot\n",
    "    plot.margin = margin(t = 5, r = 5, b = 5, l = 5, unit = \"pt\") \n",
    "  ) + coord_cartesian(clip = \"off\") +  # Ensure the plot area extends to the edges\n",
    "  xlim(0, 1500) + ylim(0, 0.008)\n",
    "\n",
    "plot\n",
    "\n",
    "# define the figure path\n",
    "path_name <- paste0(figpath, \"hist_peak_widths_TDR118.svg\")\n",
    "ggsave(path_name, plot, device = \"svg\")\n",
    "\n",
    "path_name <- paste0(figpath, \"hist_peak_widths_TDR118.pdf\")\n",
    "ggsave(path_name, plot, device = \"pdf\")"
   ]
  },
  {
   "cell_type": "code",
   "execution_count": 16,
   "id": "4b7bc8f2-bd98-46f5-99f3-b41128255c01",
   "metadata": {},
   "outputs": [],
   "source": [
    "# # export these dataframes to \"csv\" files for pandas data wrangling using python.\n",
    "# write.csv(df_CRG_peaks, file=\"/hpc/projects/data.science/yangjoon.kim/zebrahub_multiome/data/processed_data/TDR118_cicero_output/df_CRG_peaks.csv\")\n",
    "# write.csv(df_MACS2_bulk_peaks, file=\"/hpc/projects/data.science/yangjoon.kim/zebrahub_multiome/data/processed_data/TDR118_cicero_output/df_MACS2_bulk_peaks.csv\")\n",
    "# write.csv(df_MACS2_celltype_peaks, file=\"/hpc/projects/data.science/yangjoon.kim/zebrahub_multiome/data/processed_data/TDR118_cicero_output/df_MACS2_celltype_peaks.csv\")\n"
   ]
  },
  {
   "cell_type": "markdown",
   "id": "59763a81-ea0b-4c14-8949-c14186688f98",
   "metadata": {},
   "source": [
    "### Compute the overlap between peak profiles"
   ]
  },
  {
   "cell_type": "code",
   "execution_count": 23,
   "id": "f2ed9702-385d-44cf-b5a1-06598a2a5fa7",
   "metadata": {},
   "outputs": [],
   "source": [
    "# create gRanges objects from the dataframes (or we can just grab the gRanges objects from the Seurat objects)\n",
    "gr_celltype <- GRanges(seqnames = df_MACS2_celltype_peaks$seqnames,\n",
    "                       ranges = IRanges(start = df_MACS2_celltype_peaks$start, \n",
    "                                        end = df_MACS2_celltype_peaks$end))\n",
    "\n",
    "gr_bulk <- GRanges(seqnames = df_MACS2_bulk_peaks$seqnames,\n",
    "                   ranges = IRanges(start = df_MACS2_bulk_peaks$start, \n",
    "                                    end = df_MACS2_bulk_peaks$end))\n",
    "\n",
    "gr_CRG_arc <- GRanges(seqnames = df_CRG_peaks$seqnames,\n",
    "                      ranges = IRanges(start = df_CRG_peaks$start, \n",
    "                                       end = df_CRG_peaks$end))\n"
   ]
  },
  {
   "cell_type": "code",
   "execution_count": 32,
   "id": "64b78b1a-e3c1-4248-9f3d-ce8049713022",
   "metadata": {},
   "outputs": [
    {
     "data": {
      "text/plain": [
       "GRanges object with 321849 ranges and 0 metadata columns:\n",
       "           seqnames            ranges strand\n",
       "              <Rle>         <IRanges>  <Rle>\n",
       "       [1]        1         3427-4032      *\n",
       "       [2]        1         4473-6136      *\n",
       "       [3]        1       11020-12944      *\n",
       "       [4]        1       13368-13575      *\n",
       "       [5]        1       14640-15050      *\n",
       "       ...      ...               ...    ...\n",
       "  [321845]       25 37488393-37488764      *\n",
       "  [321846]       25 37488899-37489203      *\n",
       "  [321847]       25 37489634-37490735      *\n",
       "  [321848]       25 37498173-37500021      *\n",
       "  [321849]       25 37501104-37501804      *\n",
       "  -------\n",
       "  seqinfo: 26 sequences from an unspecified genome; no seqlengths"
      ]
     },
     "metadata": {},
     "output_type": "display_data"
    },
    {
     "data": {
      "text/plain": [
       "GRanges object with 435702 ranges and 0 metadata columns:\n",
       "           seqnames            ranges strand\n",
       "              <Rle>         <IRanges>  <Rle>\n",
       "       [1]        1         3596-4069      *\n",
       "       [2]        1         4478-6981      *\n",
       "       [3]        1       11049-12897      *\n",
       "       [4]        1       14695-15041      *\n",
       "       [5]        1       18522-19033      *\n",
       "       ...      ...               ...    ...\n",
       "  [435698]        9 56453745-56454385      *\n",
       "  [435699]        9 56455070-56455369      *\n",
       "  [435700]        9 56455828-56456125      *\n",
       "  [435701]        9 56457205-56457539      *\n",
       "  [435702]        9 56459130-56459697      *\n",
       "  -------\n",
       "  seqinfo: 26 sequences from an unspecified genome; no seqlengths"
      ]
     },
     "metadata": {},
     "output_type": "display_data"
    },
    {
     "data": {
      "text/plain": [
       "GRanges object with 248320 ranges and 0 metadata columns:\n",
       "           seqnames            ranges strand\n",
       "              <Rle>         <IRanges>  <Rle>\n",
       "       [1]        1         2372-3057      *\n",
       "       [2]        1         6507-7253      *\n",
       "       [3]        1       11485-12198      *\n",
       "       [4]        1       14475-15248      *\n",
       "       [5]        1       16516-17393      *\n",
       "       ...      ...               ...    ...\n",
       "  [248316]        9 56433462-56434391      *\n",
       "  [248317]        9 56437053-56437849      *\n",
       "  [248318]        9 56450898-56451686      *\n",
       "  [248319]        9 56452315-56452858      *\n",
       "  [248320]        9 56459068-56459827      *\n",
       "  -------\n",
       "  seqinfo: 25 sequences from an unspecified genome; no seqlengths"
      ]
     },
     "metadata": {},
     "output_type": "display_data"
    }
   ],
   "source": [
    "gr_celltype\n",
    "\n",
    "gr_bulk\n",
    "\n",
    "gr_CRG_arc"
   ]
  },
  {
   "cell_type": "code",
   "execution_count": 33,
   "id": "70f74ebb-00d7-4d11-ae8b-c5e8b381c28f",
   "metadata": {},
   "outputs": [],
   "source": [
    "# Finding overlaps\n",
    "overlap_celltype_bulk <- findOverlaps(gr_celltype, gr_bulk)\n",
    "overlap_celltype_CRG_arc <- findOverlaps(gr_celltype, gr_CRG_arc)\n",
    "overlap_bulk_CRG_arc <- findOverlaps(gr_bulk, gr_CRG_arc)\n",
    "\n",
    "# You can also intersect the ranges\n",
    "intersect_celltype_bulk <- intersect(gr_celltype, gr_bulk)\n"
   ]
  },
  {
   "cell_type": "code",
   "execution_count": 34,
   "id": "5b2e96e8-06fb-46a9-82d7-7c7e14e4bc7c",
   "metadata": {},
   "outputs": [
    {
     "data": {
      "text/plain": [
       "Hits object with 299754 hits and 0 metadata columns:\n",
       "           queryHits subjectHits\n",
       "           <integer>   <integer>\n",
       "       [1]         1           1\n",
       "       [2]         2           2\n",
       "       [3]         3           3\n",
       "       [4]         5           4\n",
       "       [5]         8           5\n",
       "       ...       ...         ...\n",
       "  [299750]    321847      297122\n",
       "  [299751]    321847      297123\n",
       "  [299752]    321848      297127\n",
       "  [299753]    321848      297128\n",
       "  [299754]    321849      297130\n",
       "  -------\n",
       "  queryLength: 321849 / subjectLength: 435702"
      ]
     },
     "metadata": {},
     "output_type": "display_data"
    }
   ],
   "source": [
    "overlap_celltype_bulk"
   ]
  },
  {
   "cell_type": "code",
   "execution_count": 35,
   "id": "58ae2217-31ff-40f2-bf43-1994c456fab6",
   "metadata": {},
   "outputs": [
    {
     "data": {
      "text/plain": [
       "GRangesList object of length 321849:\n",
       "[[1]]\n",
       "GRanges object with 1 range and 0 metadata columns:\n",
       "      seqnames    ranges strand\n",
       "         <Rle> <IRanges>  <Rle>\n",
       "  [1]        1 3427-3595      *\n",
       "  -------\n",
       "  seqinfo: 26 sequences from an unspecified genome; no seqlengths\n",
       "\n",
       "[[2]]\n",
       "GRanges object with 1 range and 0 metadata columns:\n",
       "      seqnames    ranges strand\n",
       "         <Rle> <IRanges>  <Rle>\n",
       "  [1]        1 4473-4477      *\n",
       "  -------\n",
       "  seqinfo: 26 sequences from an unspecified genome; no seqlengths\n",
       "\n",
       "[[3]]\n",
       "GRanges object with 2 ranges and 0 metadata columns:\n",
       "      seqnames      ranges strand\n",
       "         <Rle>   <IRanges>  <Rle>\n",
       "  [1]        1 11020-11048      *\n",
       "  [2]        1 12898-12944      *\n",
       "  -------\n",
       "  seqinfo: 26 sequences from an unspecified genome; no seqlengths\n",
       "\n",
       "...\n",
       "<321846 more elements>"
      ]
     },
     "metadata": {},
     "output_type": "display_data"
    }
   ],
   "source": [
    "overlap_celltype_bulk <- findOverlaps(gr_celltype, gr_bulk)\n",
    "grl <- extractList(gr_bulk, as(overlap_celltype_bulk, \"List\"))\n",
    "psetdiff(gr_celltype, grl)"
   ]
  },
  {
   "cell_type": "markdown",
   "id": "4b6085c4-2c3a-4035-b458-7451c7b51bab",
   "metadata": {
    "tags": []
   },
   "source": [
    "## Step 1-2. comparison of the peak profiles from different peak-calling methods\n",
    "\n",
    "- How much overlapping/unique peaks are from peaks_celltype > peaks_bulk > peaks_CRG-arc"
   ]
  },
  {
   "cell_type": "code",
   "execution_count": 45,
   "id": "6a8f8718-02e7-4d08-932e-09de0b78f8ef",
   "metadata": {},
   "outputs": [],
   "source": [
    "# create gRanges objects from the dataframes (or we can just grab the gRanges objects from the Seurat objects)\n",
    "peaks_celltype <- TDR118@assays$peaks_celltype@ranges\n",
    "peaks_bulk <- TDR118@assays$peaks_bulk@ranges\n",
    "peaks_CRG <- TDR118@assays$ATAC@ranges\n",
    "\n",
    "# # check the peaks (gRanges object) - also, filter out the \"MT\" peaks\n",
    "# peaks_celltype <- subset(peaks_celltype, seqnames!=\"MT\")\n",
    "# peaks_celltype\n",
    "# peaks_bulk <- subset(peaks_bulk, seqnames!=\"MT\")\n",
    "# peaks_bulk\n",
    "# peaks_CRG"
   ]
  },
  {
   "cell_type": "code",
   "execution_count": 46,
   "id": "c81940ed-0ac8-4796-9069-91d7127e2d64",
   "metadata": {},
   "outputs": [
    {
     "data": {
      "text/plain": [
       "Hits object with 299756 hits and 0 metadata columns:\n",
       "           queryHits subjectHits\n",
       "           <integer>   <integer>\n",
       "       [1]         1           1\n",
       "       [2]         2           2\n",
       "       [3]         3           3\n",
       "       [4]         4           5\n",
       "       [5]         5           8\n",
       "       ...       ...         ...\n",
       "  [299752]    435698      130706\n",
       "  [299753]    435699      130707\n",
       "  [299754]    435702      130708\n",
       "  [299755]    435703      321850\n",
       "  [299756]    435704      321851\n",
       "  -------\n",
       "  queryLength: 435704 / subjectLength: 321851"
      ]
     },
     "metadata": {},
     "output_type": "display_data"
    },
    {
     "data": {
      "text/html": [
       "299756"
      ],
      "text/latex": [
       "299756"
      ],
      "text/markdown": [
       "299756"
      ],
      "text/plain": [
       "[1] 299756"
      ]
     },
     "metadata": {},
     "output_type": "display_data"
    }
   ],
   "source": [
    "overlaps <- findOverlaps(peaks_bulk, peaks_celltype)\n",
    "overlaps\n",
    "\n",
    "# Number of overlapping intervals (peaks_bulk that overlaps with peaks_celltype)\n",
    "length(overlaps)  "
   ]
  },
  {
   "cell_type": "code",
   "execution_count": 47,
   "id": "3122d530-6422-4063-a88e-d14665201fa9",
   "metadata": {},
   "outputs": [
    {
     "data": {
      "text/html": [
       "147994"
      ],
      "text/latex": [
       "147994"
      ],
      "text/markdown": [
       "147994"
      ],
      "text/plain": [
       "[1] 147994"
      ]
     },
     "metadata": {},
     "output_type": "display_data"
    }
   ],
   "source": [
    "unique_overlaps = unique(queryHits(overlaps))\n",
    "\n",
    "all_indices = seq_along(peaks_bulk)\n",
    "\n",
    "unique_indices = setdiff(all_indices, unique_overlaps)\n",
    "length(unique_indices)"
   ]
  },
  {
   "cell_type": "code",
   "execution_count": 48,
   "id": "9f8bd277-6fba-4ec2-9a23-4570dc03550d",
   "metadata": {},
   "outputs": [
    {
     "data": {
      "text/plain": [
       "GRanges object with 147994 ranges and 0 metadata columns:\n",
       "           seqnames            ranges strand\n",
       "              <Rle>         <IRanges>  <Rle>\n",
       "       [1]        1       22275-22524      *\n",
       "       [2]        1       28707-28996      *\n",
       "       [3]        1       32406-32684      *\n",
       "       [4]        1       33035-33404      *\n",
       "       [5]        1       76043-76763      *\n",
       "       ...      ...               ...    ...\n",
       "  [147990]        9 56441238-56441499      *\n",
       "  [147991]        9 56442704-56442953      *\n",
       "  [147992]        9 56451190-56451509      *\n",
       "  [147993]        9 56455828-56456125      *\n",
       "  [147994]        9 56457205-56457539      *\n",
       "  -------\n",
       "  seqinfo: 26 sequences from an unspecified genome; no seqlengths"
      ]
     },
     "metadata": {},
     "output_type": "display_data"
    }
   ],
   "source": [
    "# make a function to compute the overlap between two granges objects\n",
    "extractNonOverlappingPeaks <- function(granges1, granges2) {\n",
    "  # Find overlaps\n",
    "  overlaps <- findOverlaps(granges1, granges2)\n",
    "\n",
    "  # Get unique indices(peaks) of granges1 that overlap with granges2 peaks\n",
    "  unique_overlaps <- unique(queryHits(overlaps))\n",
    "\n",
    "  # Get all indices in granges1\n",
    "  all_indices_granges1 <- seq_along(granges1)\n",
    "\n",
    "  # Find indices in granges1 that are not in unique overlaps\n",
    "  unique_indices_granges1 <- setdiff(all_indices_granges1, unique_overlaps)\n",
    "\n",
    "  # Extract non-overlapping peaks from granges1\n",
    "  non_overlapping_peaks <- granges1[unique_indices_granges1]\n",
    "\n",
    "  return(non_overlapping_peaks)\n",
    "}\n",
    "\n",
    "# Extract non-overlapping (unique) peaks in peaks_bulk that are not in peaks_celltype\n",
    "non_overlapping_peaks <- extractNonOverlappingPeaks(peaks_bulk, peaks_celltype)\n",
    "non_overlapping_peaks"
   ]
  },
  {
   "cell_type": "code",
   "execution_count": 49,
   "id": "0b37647d-1dfe-4805-87cb-7065d4625ed8",
   "metadata": {},
   "outputs": [],
   "source": [
    "non_overlapping_peaks_bulk_to_celltype <-  non_overlapping_peaks"
   ]
  },
  {
   "cell_type": "code",
   "execution_count": 50,
   "id": "0a868e7c-71b3-4cd2-b718-a0ad286811e3",
   "metadata": {},
   "outputs": [
    {
     "data": {
      "text/plain": [
       "GRanges object with 469845 ranges and 0 metadata columns:\n",
       "           seqnames            ranges strand\n",
       "              <Rle>         <IRanges>  <Rle>\n",
       "       [1]        1         3427-4032      *\n",
       "       [2]        1         4473-6136      *\n",
       "       [3]        1       11020-12944      *\n",
       "       [4]        1       13368-13575      *\n",
       "       [5]        1       14640-15050      *\n",
       "       ...      ...               ...    ...\n",
       "  [469841]        9 56441238-56441499      *\n",
       "  [469842]        9 56442704-56442953      *\n",
       "  [469843]        9 56451190-56451509      *\n",
       "  [469844]        9 56455828-56456125      *\n",
       "  [469845]        9 56457205-56457539      *\n",
       "  -------\n",
       "  seqinfo: 26 sequences from an unspecified genome; no seqlengths"
      ]
     },
     "metadata": {},
     "output_type": "display_data"
    }
   ],
   "source": [
    "# Merge the non-overlapping peaks with the celltype peaks\n",
    "peaks_merged <- c(peaks_celltype, non_overlapping_peaks)\n",
    "peaks_merged"
   ]
  },
  {
   "cell_type": "code",
   "execution_count": 51,
   "id": "9d4cc84f-d75b-4a49-bdf2-8272347aca2b",
   "metadata": {},
   "outputs": [
    {
     "data": {
      "text/plain": [
       "GRanges object with 15512 ranges and 0 metadata columns:\n",
       "          seqnames            ranges strand\n",
       "             <Rle>         <IRanges>  <Rle>\n",
       "      [1]        1         2372-3057      *\n",
       "      [2]        1         6507-7253      *\n",
       "      [3]        1     100551-101384      *\n",
       "      [4]        1     112230-112871      *\n",
       "      [5]        1     131777-132528      *\n",
       "      ...      ...               ...    ...\n",
       "  [15508]        9 56298513-56299501      *\n",
       "  [15509]        9 56396807-56397687      *\n",
       "  [15510]        9 56400365-56401096      *\n",
       "  [15511]        9 56411957-56412701      *\n",
       "  [15512]        9 56433462-56434391      *\n",
       "  -------\n",
       "  seqinfo: 25 sequences from an unspecified genome; no seqlengths"
      ]
     },
     "metadata": {},
     "output_type": "display_data"
    },
    {
     "data": {
      "text/plain": [
       "GRanges object with 485357 ranges and 0 metadata columns:\n",
       "           seqnames            ranges strand\n",
       "              <Rle>         <IRanges>  <Rle>\n",
       "       [1]        1         3427-4032      *\n",
       "       [2]        1         4473-6136      *\n",
       "       [3]        1       11020-12944      *\n",
       "       [4]        1       13368-13575      *\n",
       "       [5]        1       14640-15050      *\n",
       "       ...      ...               ...    ...\n",
       "  [485353]        9 56298513-56299501      *\n",
       "  [485354]        9 56396807-56397687      *\n",
       "  [485355]        9 56400365-56401096      *\n",
       "  [485356]        9 56411957-56412701      *\n",
       "  [485357]        9 56433462-56434391      *\n",
       "  -------\n",
       "  seqinfo: 26 sequences from an unspecified genome; no seqlengths"
      ]
     },
     "metadata": {},
     "output_type": "display_data"
    }
   ],
   "source": [
    "# Extract non-overlapping (unique) peaks in peaknon_overlapping_peakspping_peaks_celltype\n",
    "non_overlapping_peaks_CRG <- extractNonOverlappingPeaks(peaks_CRG, peaks_merged)\n",
    "non_overlapping_peaks_CRG\n",
    "\n",
    "peaks_merged_all <- c(peaks_merged, non_overlapping_peaks_CRG)\n",
    "peaks_merged_all"
   ]
  },
  {
   "cell_type": "code",
   "execution_count": 55,
   "id": "96bb70e9-0293-40fd-be32-d2a7083b6626",
   "metadata": {},
   "outputs": [
    {
     "data": {
      "text/html": [
       "321851"
      ],
      "text/latex": [
       "321851"
      ],
      "text/markdown": [
       "321851"
      ],
      "text/plain": [
       "[1] 321851"
      ]
     },
     "metadata": {},
     "output_type": "display_data"
    }
   ],
   "source": [
    "length(peaks_celltype)"
   ]
  },
  {
   "cell_type": "code",
   "execution_count": 60,
   "id": "7781e311-6498-4e2c-b636-b3cf76fbeeaf",
   "metadata": {},
   "outputs": [
    {
     "name": "stderr",
     "output_type": "stream",
     "text": [
      "\u001b[1m\u001b[22mSaving 6.67 x 6.67 in image\n"
     ]
    },
    {
     "data": {
      "image/png": "[encoded data removed]",
      "text/plain": [
       "plot without title"
      ]
     },
     "metadata": {
      "image/png": {
       "height": 420,
       "width": 420
      }
     },
     "output_type": "display_data"
    }
   ],
   "source": [
    "# Stacked bar plot for the number of peaks added at each iteration (iterative overlap merging)\n",
    "data <- data.frame(\n",
    "  # category = c(\"peaks_celltype\", \"peaks_bulk\", \"peaks_CRG-arc\"),\n",
    "  category = \"A\",\n",
    "  type = c(\"y3\", \"y2\", \"y1\"),\n",
    "  value = c(length(peaks_celltype), length(non_overlapping_peaks_bulk_to_celltype), length(non_overlapping_peaks_CRG))\n",
    ")\n",
    "\n",
    "# Plot the stacked bar chart\n",
    "plot <- ggplot(data, aes(x = category, y = value, fill = type)) +\n",
    "          geom_bar(stat = \"identity\") +\n",
    "          labs(title = \"Stacked Bar Plot\",\n",
    "               x = \"Category\",\n",
    "               y = \"Value\") +\n",
    "          theme_minimal()\n",
    "plot\n",
    "\n",
    "path_name <- paste0(figpath, \"stacked_bar_num_peaks_overlap.pdf\")\n",
    "ggsave(path_name, plot, device = \"pdf\")"
   ]
  },
  {
   "cell_type": "code",
   "execution_count": null,
   "id": "571e51a7-d243-4b51-81b9-a6a6d99a3166",
   "metadata": {},
   "outputs": [],
   "source": []
  },
  {
   "cell_type": "markdown",
   "id": "5f54f285-c409-4b22-b9b8-d6a72461a6f0",
   "metadata": {},
   "source": [
    "## Step 2. biological replicates\n",
    "\n",
    "- we'll assess how much overlap is present in peak_profiles between two biological replicates (compared to non-replicates)\n",
    "\n"
   ]
  },
  {
   "cell_type": "code",
   "execution_count": null,
   "id": "a4429986-513e-4d1f-9304-9c4e84f82752",
   "metadata": {},
   "outputs": [],
   "source": [
    "extractNonOverlappingPeaks <- function(granges1, granges2) {\n",
    "  # Find overlaps\n",
    "  overlaps <- findOverlaps(granges1, granges2)\n",
    "\n",
    "  # Get unique indices(peaks) of granges1 that overlap with granges2 peaks\n",
    "  unique_overlaps <- unique(queryHits(overlaps))\n",
    "\n",
    "  # Get all indices in granges1\n",
    "  all_indices_granges1 <- seq_along(granges1)\n",
    "\n",
    "  # Find indices in granges1 that are not in unique overlaps\n",
    "  unique_indices_granges1 <- setdiff(all_indices_granges1, unique_overlaps)\n",
    "\n",
    "  # Extract non-overlapping peaks from granges1\n",
    "  non_overlapping_peaks <- granges1[unique_indices_granges1]\n",
    "\n",
    "  return(non_overlapping_peaks)\n",
    "}\n",
    "\n",
    "# Extract non-overlapping (unique) peaks in peaks_bulk that are not in peaks_celltype\n",
    "non_overlapping_peaks <- extractNonOverlappingPeaks(peaks_bulk, peaks_celltype)\n",
    "non_overlapping_peaks"
   ]
  },
  {
   "cell_type": "code",
   "execution_count": 61,
   "id": "09baa111-b4f7-4a25-bfe5-a39a11936779",
   "metadata": {},
   "outputs": [],
   "source": [
    "# extract the peak profiles (\"peaks_merged\" assay)\n",
    "peaks_TDR118 <- TDR118@assays$peaks_merged@ranges\n",
    "peaks_TDR119 <- TDR119@assays$peaks_merged@ranges\n",
    "peaks_TDR124 <- TDR124@assays$peaks_merged@ranges\n",
    "peaks_TDR126 <- TDR126@assays$peaks_merged@ranges"
   ]
  },
  {
   "cell_type": "code",
   "execution_count": 75,
   "id": "16688d9d-6c5a-4095-8d46-655b7358f83e",
   "metadata": {},
   "outputs": [],
   "source": [
    "# Extract non-overlapping (unique) peaks in peaks1 that are not present in peaks2\n",
    "\n",
    "# TDR118 vs TDR119 (15-somites, biological replicates)\n",
    "unique_peaks_TDR118_TDR119 <- extractNonOverlappingPeaks(peaks_TDR118, peaks_TDR119)\n",
    "unique_peaks_TDR119_TDR118 <- extractNonOverlappingPeaks(peaks_TDR119, peaks_TDR118)\n",
    "\n",
    "# TDR118 vs TDR124 (15-somites vs 30-somites)\n",
    "unique_peaks_TDR118_TDR124 <- extractNonOverlappingPeaks(peaks_TDR118, peaks_TDR124)\n",
    "unique_peaks_TDR124_TDR118 <- extractNonOverlappingPeaks(peaks_TDR124, peaks_TDR118)\n",
    "\n",
    "# TDR118 vs TDR126 (15-somites vs 0-somites)\n",
    "unique_peaks_TDR118_TDR126 <- extractNonOverlappingPeaks(peaks_TDR118, peaks_TDR126)\n",
    "unique_peaks_TDR126_TDR118 <- extractNonOverlappingPeaks(peaks_TDR126, peaks_TDR118)\n",
    "\n",
    "# TDR124 vs TDR126 (30-somites vs 0-somites)\n",
    "unique_peaks_TDR124_TDR126 <- extractNonOverlappingPeaks(peaks_TDR124, peaks_TDR126)\n",
    "unique_peaks_TDR126_TDR124 <- extractNonOverlappingPeaks(peaks_TDR126, peaks_TDR124)"
   ]
  },
  {
   "cell_type": "code",
   "execution_count": 69,
   "id": "2913e9c7-c5f2-45c8-855f-0ca09f79d392",
   "metadata": {},
   "outputs": [
    {
     "name": "stdout",
     "output_type": "stream",
     "text": [
      "[1] 67460\n"
     ]
    }
   ],
   "source": [
    "print(length(unique_peaks_TDR119_TDR118))"
   ]
  },
  {
   "cell_type": "code",
   "execution_count": 76,
   "id": "800f4657-2d45-45ab-90a3-97b727f26c22",
   "metadata": {},
   "outputs": [
    {
     "name": "stdout",
     "output_type": "stream",
     "text": [
      "[1] 96326\n"
     ]
    }
   ],
   "source": [
    "print(length(unique_peaks_TDR124_TDR126))"
   ]
  },
  {
   "cell_type": "code",
   "execution_count": 77,
   "id": "b88b9b91-da98-4228-bda8-3562bbf62a1d",
   "metadata": {},
   "outputs": [
    {
     "name": "stderr",
     "output_type": "stream",
     "text": [
      "Loading required package: grid\n",
      "\n",
      "\n",
      "Attaching package: ‘grid’\n",
      "\n",
      "\n",
      "The following object is masked from ‘package:Biostrings’:\n",
      "\n",
      "    pattern\n",
      "\n",
      "\n",
      "Loading required package: futile.logger\n",
      "\n"
     ]
    }
   ],
   "source": [
    "# import a library for Venn Diagram \n",
    "library(VennDiagram)"
   ]
  },
  {
   "cell_type": "code",
   "execution_count": null,
   "id": "3de695e6-be3d-4473-957f-55964dfc98ba",
   "metadata": {},
   "outputs": [],
   "source": []
  },
  {
   "cell_type": "code",
   "execution_count": null,
   "id": "d3d12e94-cbac-46f6-85aa-7df751b5ef03",
   "metadata": {},
   "outputs": [],
   "source": []
  },
  {
   "cell_type": "markdown",
   "id": "0a3dc5e6-a1f7-4913-a4b4-b6bb01e49075",
   "metadata": {},
   "source": [
    "# Deprecated - now implemented into R scripts for data preprocessing"
   ]
  },
  {
   "cell_type": "code",
   "execution_count": 49,
   "id": "f70e1381-aac0-42bd-b2cb-9888802c61a2",
   "metadata": {},
   "outputs": [
    {
     "name": "stderr",
     "output_type": "stream",
     "text": [
      "Extracting reads overlapping genomic regions\n",
      "\n",
      "Computing hash\n",
      "\n"
     ]
    },
    {
     "data": {
      "text/plain": [
       "An object of class Seurat \n",
       "1565386 features across 13022 samples within 7 assays \n",
       "Active assay: ATAC (248320 features, 0 variable features)\n",
       " 2 layers present: counts, data\n",
       " 6 other assays present: RNA, SCT, peaks_bulk, peaks_celltype, Gene.Activity, peaks_merged\n",
       " 5 dimensional reductions calculated: pca, umap.rna, lsi, umap.atac, umap.joint"
      ]
     },
     "metadata": {},
     "output_type": "display_data"
    }
   ],
   "source": [
    "# computing the count matrices for the \"peaks_merged\"\n",
    "\n",
    "multiome <- TDR118\n",
    "\n",
    "# Change the default assay to \"ATAC\" for calling peaks\n",
    "DefaultAssay(multiome) <- \"ATAC\"\n",
    "\n",
    "# genome annotation (we need this to create a ChromatinAssay object)\n",
    "genome_annotation <- Annotation(multiome)\n",
    "# fragment path (path to the Fragment file)\n",
    "fragpath <- Fragments(multiome)[[1]]@path\n",
    "\n",
    "\n",
    "# # call peaks for the bulk population\n",
    "# peaks_bulk <- CallPeaks(\n",
    "#     object = multiome,\n",
    "# )\n",
    "# remove peaks on nonstandard chromosomes and in genomic blacklist regions\n",
    "peaks_merged_all <- keepStandardChromosomes(peaks_merged_all, pruning.mode = \"coarse\")\n",
    "# peaks <- subsetByOverlaps(x = peaks, ranges = blacklist_hg38_unified, invert = TRUE)\n",
    "\n",
    "# quantify counts in each peak\n",
    "macs2_counts_merged <- FeatureMatrix(\n",
    "    fragments = Fragments(multiome),\n",
    "    features = peaks_merged_all,\n",
    "    cells = colnames(multiome),\n",
    "    process_n=200000,\n",
    ")\n",
    "\n",
    "# create a new assay using the MACS2 peak set and add it to the Seurat object\n",
    "multiome[[\"peaks_merged\"]] <- CreateChromatinAssay(\n",
    "    counts = macs2_counts_merged,\n",
    "    sep = c(\":\", \"-\"),\n",
    "    fragments = fragpath,\n",
    "    annotation = genome_annotation,\n",
    "    genome = 'GRCz11', # we will manually add the genome version\n",
    ")\n",
    "\n",
    "multiome\n"
   ]
  },
  {
   "cell_type": "code",
   "execution_count": 8,
   "id": "c955d40b-abb5-46de-97cd-8dc7979fde31",
   "metadata": {},
   "outputs": [
    {
     "data": {
      "text/plain": [
       "R version 4.3.2 (2023-10-31)\n",
       "Platform: x86_64-pc-linux-gnu (64-bit)\n",
       "Running under: Rocky Linux 8.8 (Green Obsidian)\n",
       "\n",
       "Matrix products: default\n",
       "BLAS/LAPACK: /usr/lib64/libopenblas-r0.3.15.so;  LAPACK version 3.9.0\n",
       "\n",
       "locale:\n",
       " [1] LC_CTYPE=en_US.UTF-8       LC_NUMERIC=C              \n",
       " [3] LC_TIME=en_US.UTF-8        LC_COLLATE=en_US.UTF-8    \n",
       " [5] LC_MONETARY=en_US.UTF-8    LC_MESSAGES=en_US.UTF-8   \n",
       " [7] LC_PAPER=en_US.UTF-8       LC_NAME=C                 \n",
       " [9] LC_ADDRESS=C               LC_TELEPHONE=C            \n",
       "[11] LC_MEASUREMENT=en_US.UTF-8 LC_IDENTIFICATION=C       \n",
       "\n",
       "time zone: America/Los_Angeles\n",
       "tzcode source: system (glibc)\n",
       "\n",
       "attached base packages:\n",
       "[1] stats4    stats     graphics  grDevices utils     datasets  methods  \n",
       "[8] base     \n",
       "\n",
       "other attached packages:\n",
       " [1] Matrix_1.6-3                        BSgenome.Drerio.UCSC.danRer11_1.4.2\n",
       " [3] BSgenome_1.68.0                     rtracklayer_1.60.1                 \n",
       " [5] Biostrings_2.68.1                   XVector_0.42.0                     \n",
       " [7] GenomicRanges_1.52.1                stringr_1.5.1                      \n",
       " [9] anndata_0.7.5.6                     patchwork_1.1.3                    \n",
       "[11] ggplot2_3.4.4                       GenomeInfoDb_1.36.4                \n",
       "[13] IRanges_2.36.0                      S4Vectors_0.38.2                   \n",
       "[15] BiocGenerics_0.48.0                 Seurat_5.0.1                       \n",
       "[17] SeuratObject_5.0.1                  sp_2.1-0                           \n",
       "[19] Signac_1.12.0                      \n",
       "\n",
       "loaded via a namespace (and not attached):\n",
       "  [1] RColorBrewer_1.1-3          jsonlite_1.8.7             \n",
       "  [3] magrittr_2.0.3              spatstat.utils_3.0-4       \n",
       "  [5] BiocIO_1.10.0               zlibbioc_1.48.0            \n",
       "  [7] vctrs_0.6.4                 ROCR_1.0-11                \n",
       "  [9] spatstat.explore_3.2-5      Rsamtools_2.16.0           \n",
       " [11] RCurl_1.98-1.13             base64enc_0.1-3            \n",
       " [13] RcppRoll_0.3.0              S4Arrays_1.0.6             \n",
       " [15] htmltools_0.5.6.1           sctransform_0.4.1          \n",
       " [17] parallelly_1.36.0           KernSmooth_2.23-22         \n",
       " [19] htmlwidgets_1.6.2           ica_1.0-3                  \n",
       " [21] plyr_1.8.9                  plotly_4.10.3              \n",
       " [23] zoo_1.8-12                  uuid_1.1-1                 \n",
       " [25] GenomicAlignments_1.36.0    igraph_1.5.1               \n",
       " [27] mime_0.12                   lifecycle_1.0.4            \n",
       " [29] pkgconfig_2.0.3             R6_2.5.1                   \n",
       " [31] fastmap_1.1.1               MatrixGenerics_1.14.0      \n",
       " [33] GenomeInfoDbData_1.2.11     fitdistrplus_1.1-11        \n",
       " [35] future_1.33.0               shiny_1.7.5.1              \n",
       " [37] digest_0.6.33               colorspace_2.1-0           \n",
       " [39] tensor_1.5                  RSpectra_0.16-1            \n",
       " [41] irlba_2.3.5.1               progressr_0.14.0           \n",
       " [43] fansi_1.0.5                 spatstat.sparse_3.0-3      \n",
       " [45] polyclip_1.10-6             abind_1.4-5                \n",
       " [47] httr_1.4.7                  compiler_4.3.2             \n",
       " [49] withr_2.5.1                 BiocParallel_1.36.0        \n",
       " [51] fastDummies_1.7.3           MASS_7.3-60                \n",
       " [53] DelayedArray_0.26.7         rjson_0.2.21               \n",
       " [55] tools_4.3.2                 lmtest_0.9-40              \n",
       " [57] httpuv_1.6.12               future.apply_1.11.0        \n",
       " [59] goftest_1.2-3               glue_1.6.2                 \n",
       " [61] restfulr_0.0.15             nlme_3.1-163               \n",
       " [63] promises_1.2.1              grid_4.3.2                 \n",
       " [65] pbdZMQ_0.3-10               Rtsne_0.16                 \n",
       " [67] getPass_0.2-2               cluster_2.1.4              \n",
       " [69] reshape2_1.4.4              generics_0.1.3             \n",
       " [71] gtable_0.3.4                spatstat.data_3.0-3        \n",
       " [73] tidyr_1.3.0                 data.table_1.14.8          \n",
       " [75] utf8_1.2.4                  spatstat.geom_3.2-7        \n",
       " [77] RcppAnnoy_0.0.21            ggrepel_0.9.4              \n",
       " [79] RANN_2.6.1                  pillar_1.9.0               \n",
       " [81] spam_2.10-0                 IRdisplay_1.1              \n",
       " [83] RcppHNSW_0.5.0              later_1.3.1                \n",
       " [85] splines_4.3.2               dplyr_1.1.3                \n",
       " [87] lattice_0.22-5              deldir_1.0-9               \n",
       " [89] survival_3.5-7              tidyselect_1.2.0           \n",
       " [91] miniUI_0.1.1.1              pbapply_1.7-2              \n",
       " [93] gridExtra_2.3               SummarizedExperiment_1.30.2\n",
       " [95] scattermore_1.2             Biobase_2.62.0             \n",
       " [97] matrixStats_1.1.0           stringi_1.8.1              \n",
       " [99] yaml_2.3.7                  lazyeval_0.2.2             \n",
       "[101] evaluate_0.22               codetools_0.2-19           \n",
       "[103] tibble_3.2.1                cli_3.6.1                  \n",
       "[105] uwot_0.1.16                 IRkernel_1.3.2             \n",
       "[107] xtable_1.8-4                reticulate_1.34.0          \n",
       "[109] repr_1.1.6                  munsell_0.5.0              \n",
       "[111] Rcpp_1.0.11                 spatstat.random_3.2-1      \n",
       "[113] globals_0.16.2              png_0.1-8                  \n",
       "[115] XML_3.99-0.15               parallel_4.3.2             \n",
       "[117] ellipsis_0.3.2              assertthat_0.2.1           \n",
       "[119] dotCall64_1.1-0             bitops_1.0-7               \n",
       "[121] listenv_0.9.0               viridisLite_0.4.2          \n",
       "[123] scales_1.2.1                ggridges_0.5.4             \n",
       "[125] leiden_0.4.3.1              purrr_1.0.2                \n",
       "[127] crayon_1.5.2                rlang_1.1.2                \n",
       "[129] cowplot_1.1.1               fastmatch_1.1-4            "
      ]
     },
     "metadata": {},
     "output_type": "display_data"
    }
   ],
   "source": [
    "sessionInfo()"
   ]
  }
 ],
 "metadata": {
  "kernelspec": {
   "display_name": "R 4.3",
   "language": "R",
   "name": "ir43"
  },
  "language_info": {
   "codemirror_mode": "r",
   "file_extension": ".r",
   "mimetype": "text/x-r-source",
   "name": "R",
   "pygments_lexer": "r",
   "version": "4.3.2"
  }
 },
 "nbformat": 4,
 "nbformat_minor": 5
}
