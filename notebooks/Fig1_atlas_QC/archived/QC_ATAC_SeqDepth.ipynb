{
 "cells": [
  {
   "cell_type": "markdown",
   "id": "7ab454b0-e86b-4aca-9d42-f3787186d868",
   "metadata": {},
   "source": [
    "# Notebook for ATAC data quality check\n",
    "\n",
    "- Last updated: 1/17/2023\n",
    "- Author: Yang-Joon Kim\n",
    "- Goals: \n",
    "     - We want to assess the data quality of ATAC between biological/technical replicates.\n",
    "     - We will use basic QC metrics for ATAC (from scanpy/Theis lab tutorials): \n",
    "     \n",
    "     \n",
    "Reference: https://www.sc-best-practices.org/chromatin_accessibility/quality_control.html#:~:text=Here%20is%20an%20overview%20of,counts%20in%20scRNA%2Dseq%20data."
   ]
  },
  {
   "cell_type": "code",
   "execution_count": null,
   "id": "78657e0a-40be-41b2-8b00-d63d743203b5",
   "metadata": {},
   "outputs": [],
   "source": [
    "# Single-cell packages\n",
    "import scanpy as sc\n",
    "import muon as mu\n",
    "from muon import atac as ac  # the module containing function for scATAC data processing\n",
    "\n",
    "# General helpful packages for data analysis and visualization\n",
    "import os\n",
    "import pandas as pd\n",
    "import numpy as np\n",
    "import matplotlib.pyplot as plt\n",
    "import seaborn as sns\n",
    "\n",
    "# Packages enabling to run R code\n",
    "import rpy2.rinterface_lib.callbacks\n",
    "import logging\n",
    "from rpy2.robjects import pandas2ri\n",
    "import anndata2ri\n",
    "\n",
    "pandas2ri.activate()  # Automatically convert rpy2 outputs to pandas DataFrames\n",
    "anndata2ri.activate()\n",
    "%load_ext rpy2.ipython\n",
    "\n",
    "\n",
    "# Setting figure parameters\n",
    "sc.settings.verbosity = 0\n",
    "sns.set(rc={\"figure.figsize\": (4, 3.5), \"figure.dpi\": 100})\n",
    "sns.set_style(\"whitegrid\")"
   ]
  },
  {
   "cell_type": "code",
   "execution_count": null,
   "id": "ed37f184-5328-418f-b2e7-9b7d740d1fbc",
   "metadata": {},
   "outputs": [],
   "source": []
  },
  {
   "cell_type": "code",
   "execution_count": null,
   "id": "13f19385-1f8d-4916-9a8a-2ac0b3eecb4f",
   "metadata": {},
   "outputs": [],
   "source": []
  },
  {
   "cell_type": "code",
   "execution_count": null,
   "id": "cd8184bd-efcb-4b12-92da-cead3a95a7a9",
   "metadata": {},
   "outputs": [],
   "source": []
  },
  {
   "cell_type": "code",
   "execution_count": null,
   "id": "c9dbc64d-f617-434c-862f-0bbea48701af",
   "metadata": {},
   "outputs": [],
   "source": []
  },
  {
   "cell_type": "code",
   "execution_count": null,
   "id": "5a84c2a4-95fc-4234-9826-b799c363386a",
   "metadata": {},
   "outputs": [],
   "source": []
  },
  {
   "cell_type": "code",
   "execution_count": null,
   "id": "8b194d3d-679c-458f-aa65-1bcf1df49a9a",
   "metadata": {},
   "outputs": [],
   "source": []
  },
  {
   "cell_type": "code",
   "execution_count": null,
   "id": "a49e4993-37c9-46a6-b87d-7b35ea2a7898",
   "metadata": {},
   "outputs": [],
   "source": []
  },
  {
   "cell_type": "code",
   "execution_count": null,
   "id": "be984a64-24eb-4ff9-b1f7-702111d40d8a",
   "metadata": {},
   "outputs": [],
   "source": []
  }
 ],
 "metadata": {
  "kernelspec": {
   "display_name": "Python [conda env:single-cell-basics]",
   "language": "python",
   "name": "conda-env-single-cell-basics-py"
  },
  "language_info": {
   "codemirror_mode": {
    "name": "ipython",
    "version": 3
   },
   "file_extension": ".py",
   "mimetype": "text/x-python",
   "name": "python",
   "nbconvert_exporter": "python",
   "pygments_lexer": "ipython3",
   "version": "3.8.16"
  }
 },
 "nbformat": 4,
 "nbformat_minor": 5
}
