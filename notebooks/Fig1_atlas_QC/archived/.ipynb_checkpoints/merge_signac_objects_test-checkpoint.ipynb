{
 "cells": [
  {
   "cell_type": "markdown",
   "id": "265ccf61-1be8-48f7-a374-1dc958ae857d",
   "metadata": {},
   "source": [
    "## test notebook to merge signac objects\n",
    "\n",
    "- 3/14/2024\n",
    "- Yang-Joon Kim\n",
    "\n",
    "We're having some bugs in merging multiple signac objects.\n",
    "For troubleshooting, we will test the merge for two objects (to simplify the problem).\n",
    "\n",
    "- reference: https://stuartlab.org/signac/articles/merging"
   ]
  },
  {
   "cell_type": "code",
   "execution_count": 1,
   "id": "7bea2882-63d4-4fe6-970a-b3fc7dbbc57e",
   "metadata": {},
   "outputs": [
    {
     "name": "stderr",
     "output_type": "stream",
     "text": [
      "Registered S3 method overwritten by 'SeuratDisk':\n",
      "  method            from  \n",
      "  as.sparse.H5Group Seurat\n",
      "\n",
      "Loading required package: BiocGenerics\n",
      "\n",
      "\n",
      "Attaching package: ‘BiocGenerics’\n",
      "\n",
      "\n",
      "The following objects are masked from ‘package:stats’:\n",
      "\n",
      "    IQR, mad, sd, var, xtabs\n",
      "\n",
      "\n",
      "The following objects are masked from ‘package:base’:\n",
      "\n",
      "    anyDuplicated, aperm, append, as.data.frame, basename, cbind,\n",
      "    colnames, dirname, do.call, duplicated, eval, evalq, Filter, Find,\n",
      "    get, grep, grepl, intersect, is.unsorted, lapply, Map, mapply,\n",
      "    match, mget, order, paste, pmax, pmax.int, pmin, pmin.int,\n",
      "    Position, rank, rbind, Reduce, rownames, sapply, setdiff, sort,\n",
      "    table, tapply, union, unique, unsplit, which.max, which.min\n",
      "\n",
      "\n",
      "Loading required package: S4Vectors\n",
      "\n",
      "Loading required package: stats4\n",
      "\n",
      "\n",
      "Attaching package: ‘S4Vectors’\n",
      "\n",
      "\n",
      "The following objects are masked from ‘package:Matrix’:\n",
      "\n",
      "    expand, unname\n",
      "\n",
      "\n",
      "The following object is masked from ‘package:utils’:\n",
      "\n",
      "    findMatches\n",
      "\n",
      "\n",
      "The following objects are masked from ‘package:base’:\n",
      "\n",
      "    expand.grid, I, unname\n",
      "\n",
      "\n",
      "Loading required package: IRanges\n",
      "\n",
      "Loading required package: BSgenome\n",
      "\n",
      "Loading required package: Biostrings\n",
      "\n",
      "Loading required package: XVector\n",
      "\n",
      "\n",
      "Attaching package: ‘Biostrings’\n",
      "\n",
      "\n",
      "The following object is masked from ‘package:base’:\n",
      "\n",
      "    strsplit\n",
      "\n",
      "\n",
      "Loading required package: rtracklayer\n",
      "\n"
     ]
    }
   ],
   "source": [
    "# load the libraries\n",
    "suppressMessages(library(Seurat))\n",
    "suppressMessages(library(Signac))\n",
    "library(SeuratData)\n",
    "library(SeuratDisk)\n",
    "library(Matrix)\n",
    "\n",
    "# genome info\n",
    "library(GenomeInfoDb)\n",
    "library(GenomicRanges)\n",
    "library(ggplot2)\n",
    "library(patchwork)\n",
    "library(stringr)\n",
    "library(BSgenome.Drerio.UCSC.danRer11)\n",
    "\n",
    "plan(\"multicore\", workers = 4)\n",
    "options(future.globals.maxSize = 100000 * 1024^2) # for 100 Gb RAM"
   ]
  },
  {
   "cell_type": "code",
   "execution_count": null,
   "id": "008fdb84-a00a-484f-a4e0-4bc9f4e9efb8",
   "metadata": {},
   "outputs": [],
   "source": [
    "# library(Signac)\n",
    "# library(Seurat)\n",
    "# library(GenomicRanges)\n",
    "# library(future)\n",
    "\n",
    "# library(BSgenome.Drerio.UCSC.danRer11)\n",
    "\n",
    "# plan(\"multicore\", workers = 4)\n",
    "# options(future.globals.maxSize = 50000 * 1024^2) # for 50 Gb RAM"
   ]
  },
  {
   "cell_type": "code",
   "execution_count": 2,
   "id": "f4761fbf-b4ad-4a97-af8e-c10ff84dbfdc",
   "metadata": {},
   "outputs": [
    {
     "name": "stdout",
     "output_type": "stream",
     "text": [
      "               _                           \n",
      "platform       x86_64-pc-linux-gnu         \n",
      "arch           x86_64                      \n",
      "os             linux-gnu                   \n",
      "system         x86_64, linux-gnu           \n",
      "status                                     \n",
      "major          4                           \n",
      "minor          3.2                         \n",
      "year           2023                        \n",
      "month          10                          \n",
      "day            31                          \n",
      "svn rev        85441                       \n",
      "language       R                           \n",
      "version.string R version 4.3.2 (2023-10-31)\n",
      "nickname       Eye Holes                   \n",
      "[1] ‘4.4.0’\n"
     ]
    }
   ],
   "source": [
    "print(R.version)\n",
    "print(packageVersion(\"Seurat\"))"
   ]
  },
  {
   "cell_type": "code",
   "execution_count": 3,
   "id": "103f6f28-a51e-4df0-9579-36febbc34293",
   "metadata": {},
   "outputs": [],
   "source": [
    "TDR118 <- readRDS(\"/hpc/projects/data.science/yangjoon.kim/zebrahub_multiome/data/processed_data/01_Signac_processed/TDR118reseq/TDR118_processed.RDS\")\n",
    "TDR119 <- readRDS(\"/hpc/projects/data.science/yangjoon.kim/zebrahub_multiome/data/processed_data/01_Signac_processed/TDR119reseq/TDR119_processed.RDS\")\n"
   ]
  },
  {
   "cell_type": "code",
   "execution_count": 4,
   "id": "6b2e68e8-d3bb-487a-8560-1dcfc76bdfbf",
   "metadata": {},
   "outputs": [
    {
     "data": {
      "text/plain": [
       "An object of class Seurat \n",
       "1573599 features across 13614 samples within 7 assays \n",
       "Active assay: peaks_merged (485357 features, 485357 variable features)\n",
       " 6 other assays present: RNA, ATAC, SCT, peaks_bulk, peaks_celltype, Gene.Activity\n",
       " 5 dimensional reductions calculated: pca, umap.rna, lsi, umap.atac, umap.joint"
      ]
     },
     "metadata": {},
     "output_type": "display_data"
    }
   ],
   "source": [
    "TDR118"
   ]
  },
  {
   "cell_type": "code",
   "execution_count": 5,
   "id": "0658f70d-6fe0-498a-80bd-82b4d27fe708",
   "metadata": {},
   "outputs": [],
   "source": [
    "# set the Default Assay to \"ATAC\" (this is for simplicity, as there are fewer peaks in \"ATAC\" than \"peaks_merged\", as it's from Cellranger-arc peaks)\n",
    "DefaultAssay(TDR118) <- \"ATAC\"\n",
    "DefaultAssay(TDR119) <- \"ATAC\"\n",
    "\n",
    "# List of assays to keep\n",
    "assaysToKeep <- c(\"ATAC\", \"RNA\", \"SCT\")\n",
    "\n",
    "# Function to remove other assays from a Seurat object\n",
    "remove_unwanted_assays <- function(seuratObject, assaysToKeep) {\n",
    "  allAssays <- names(seuratObject@assays)\n",
    "  assaysToRemove <- setdiff(allAssays, assaysToKeep)\n",
    "  \n",
    "  for (assay in assaysToRemove) {\n",
    "    seuratObject[[assay]] <- NULL\n",
    "  }\n",
    "  \n",
    "  return(seuratObject)\n",
    "}\n",
    "\n",
    "# Apply the function to each of your Seurat objects\n",
    "TDR118 <- remove_unwanted_assays(TDR118, assaysToKeep)\n",
    "TDR119 <- remove_unwanted_assays(TDR119, assaysToKeep)"
   ]
  },
  {
   "cell_type": "code",
   "execution_count": 6,
   "id": "fa50d6fc-f5d5-4fc3-93af-ec694df97c47",
   "metadata": {},
   "outputs": [
    {
     "data": {
      "text/plain": [
       "An object of class Seurat \n",
       "305655 features across 13614 samples within 3 assays \n",
       "Active assay: ATAC (248320 features, 0 variable features)\n",
       " 2 other assays present: RNA, SCT\n",
       " 4 dimensional reductions calculated: pca, umap.rna, umap.atac, umap.joint"
      ]
     },
     "metadata": {},
     "output_type": "display_data"
    }
   ],
   "source": [
    "TDR118"
   ]
  },
  {
   "cell_type": "code",
   "execution_count": 8,
   "id": "bbb52e01-6967-4349-9536-3134348d89b1",
   "metadata": {},
   "outputs": [],
   "source": [
    "# Step 2-1. creating a common peak set\n",
    "# extract the genomic ranges of the peaks from each dataset\n",
    "gr.TDR118 <- granges(TDR118)\n",
    "gr.TDR119 <- granges(TDR119)"
   ]
  },
  {
   "cell_type": "code",
   "execution_count": 12,
   "id": "7083ad4b-adce-43c4-9ec6-75345b46ba15",
   "metadata": {},
   "outputs": [
    {
     "data": {
      "text/plain": [
       "GRanges object with 280193 ranges and 0 metadata columns:\n",
       "           seqnames            ranges strand\n",
       "              <Rle>         <IRanges>  <Rle>\n",
       "       [1]        1         2372-3057      *\n",
       "       [2]        1         5066-5643      *\n",
       "       [3]        1         6507-7253      *\n",
       "       [4]        1       11485-12230      *\n",
       "       [5]        1       14475-15248      *\n",
       "       ...      ...               ...    ...\n",
       "  [280189]       25 37487692-37488606      *\n",
       "  [280190]       25 37489621-37490462      *\n",
       "  [280191]       25 37492451-37493433      *\n",
       "  [280192]       25 37496383-37497083      *\n",
       "  [280193]       25 37498192-37499132      *\n",
       "  -------\n",
       "  seqinfo: 25 sequences from an unspecified genome; no seqlengths"
      ]
     },
     "metadata": {},
     "output_type": "display_data"
    }
   ],
   "source": [
    "# Create a unified set of peaks to quantify in each dataset\n",
    "combined.peaks <- reduce(x = c(gr.TDR118, gr.TDR119))\n",
    "combined.peaks"
   ]
  },
  {
   "cell_type": "code",
   "execution_count": 13,
   "id": "c9ba5fb3-ab2d-4e77-92e2-0fa46c69d4ec",
   "metadata": {},
   "outputs": [
    {
     "name": "stderr",
     "output_type": "stream",
     "text": [
      "Computing hash\n",
      "\n",
      "Computing hash\n",
      "\n"
     ]
    }
   ],
   "source": [
    "# Step 2-2. Compute the fragments object (this is to reformat the fragment files)\n",
    "# create fragment objects\n",
    "frags.TDR118 <- CreateFragmentObject(\n",
    "  path = \"/hpc/projects/data.science/yangjoon.kim/zebrahub_multiome/data/processed_data/TDR118reseq/outs/atac_fragments.tsv.gz\",\n",
    "  cells = colnames(TDR118)\n",
    ")\n",
    "frags.TDR119 <- CreateFragmentObject(\n",
    "  path = \"/hpc/projects/data.science/yangjoon.kim/zebrahub_multiome/data/processed_data/TDR119reseq/outs/atac_fragments.tsv.gz\",\n",
    "  cells = colnames(TDR119)\n",
    ")"
   ]
  },
  {
   "cell_type": "code",
   "execution_count": null,
   "id": "49943d7c-14ee-490b-a973-380aca567bff",
   "metadata": {},
   "outputs": [],
   "source": [
    "# Step 2-3. quantify peaks in each dataset (re-process the count matrices)\n",
    "# define a function to quantify the peaks\n",
    "recompute_count_matrices <- function(seurat_obj, combined.peaks, fragments, data_id){\n",
    "    new.counts <- FeatureMatrix(\n",
    "      fragments = Fragments(seurat_obj),\n",
    "      features = combined.peaks,\n",
    "      sep = c(\":\", \"-\"),\n",
    "      cells = colnames(seurat_obj)\n",
    "    )\n",
    "    #signac_obj <- CreateChromatinAssay(counts = new.counts)\n",
    "    signac_obj <- CreateChromatinAssay(counts = new.counts, \n",
    "                                        annotation=Annotation(seurat_obj)) # seurat_obj[[\"peaks_merged\"]]@counts\n",
    "    # add the fragment object to the seurat object\n",
    "    Fragments(signac_obj) <- fragments\n",
    "\n",
    "    # add the signac object to the seurat object (\"peaks_integrated\" assay)\n",
    "    seurat_obj[[\"peaks_integrated\"]] <- signac_obj\n",
    "    # add the data_id to the object\n",
    "    seurat_obj$dataset <- data_id\n",
    "    return(seurat_obj)\n",
    "}"
   ]
  },
  {
   "cell_type": "code",
   "execution_count": 17,
   "id": "0a1ddd61-d6f4-4f96-900c-502e515fa963",
   "metadata": {},
   "outputs": [
    {
     "ename": "ERROR",
     "evalue": "Error in eval(expr, envir, enclos): object 'fragments' not found\n",
     "output_type": "error",
     "traceback": [
      "Error in eval(expr, envir, enclos): object 'fragments' not found\nTraceback:\n"
     ]
    }
   ],
   "source": [
    "Fragments()"
   ]
  },
  {
   "cell_type": "code",
   "execution_count": 14,
   "id": "56d612ef-6bdb-45c7-aa2a-fa77fed2051f",
   "metadata": {},
   "outputs": [
    {
     "name": "stderr",
     "output_type": "stream",
     "text": [
      "Extracting reads overlapping genomic regions\n",
      "\n"
     ]
    }
   ],
   "source": [
    "TDR118.counts <- FeatureMatrix(\n",
    "    fragments = TDR118.counts,\n",
    "    features = combined.peaks,\n",
    "    cells=colnames(TDR118))"
   ]
  },
  {
   "cell_type": "code",
   "execution_count": 19,
   "id": "6a1505b6-5dd1-4194-9485-1b56f79eb106",
   "metadata": {},
   "outputs": [
    {
     "data": {
      "text/html": [
       "<style>\n",
       ".list-inline {list-style: none; margin:0; padding: 0}\n",
       ".list-inline>li {display: inline-block}\n",
       ".list-inline>li:not(:last-child)::after {content: \"\\00b7\"; padding: 0 .5ex}\n",
       "</style>\n",
       "<ol class=list-inline><li>'1-2372-3057'</li><li>'1-6507-7253'</li><li>'1-11485-12198'</li><li>'1-14475-15248'</li><li>'1-16516-17393'</li><li>'1-17575-18198'</li></ol>\n"
      ],
      "text/latex": [
       "\\begin{enumerate*}\n",
       "\\item '1-2372-3057'\n",
       "\\item '1-6507-7253'\n",
       "\\item '1-11485-12198'\n",
       "\\item '1-14475-15248'\n",
       "\\item '1-16516-17393'\n",
       "\\item '1-17575-18198'\n",
       "\\end{enumerate*}\n"
      ],
      "text/markdown": [
       "1. '1-2372-3057'\n",
       "2. '1-6507-7253'\n",
       "3. '1-11485-12198'\n",
       "4. '1-14475-15248'\n",
       "5. '1-16516-17393'\n",
       "6. '1-17575-18198'\n",
       "\n",
       "\n"
      ],
      "text/plain": [
       "[1] \"1-2372-3057\"   \"1-6507-7253\"   \"1-11485-12198\" \"1-14475-15248\"\n",
       "[5] \"1-16516-17393\" \"1-17575-18198\""
      ]
     },
     "metadata": {},
     "output_type": "display_data"
    }
   ],
   "source": [
    "rownames(TDR118) %>% head()"
   ]
  },
  {
   "cell_type": "code",
   "execution_count": 23,
   "id": "e48fba88-0671-4e70-be61-fc9363562719",
   "metadata": {},
   "outputs": [
    {
     "name": "stderr",
     "output_type": "stream",
     "text": [
      "Warning message:\n",
      "“Keys should be one or more alphanumeric characters followed by an underscore, setting key from peaks_merged_test_ to peaksmergedtest_”\n"
     ]
    },
    {
     "data": {
      "text/plain": [
       "An object of class Seurat \n",
       "585848 features across 13614 samples within 4 assays \n",
       "Active assay: ATAC (248320 features, 0 variable features)\n",
       " 3 other assays present: RNA, SCT, peaks_merged_test\n",
       " 4 dimensional reductions calculated: pca, umap.rna, umap.atac, umap.joint"
      ]
     },
     "metadata": {},
     "output_type": "display_data"
    }
   ],
   "source": [
    "TDR118_assay <- CreateChromatinAssay(TDR118.counts, \n",
    "                                     fragments = frags.TDR118, \n",
    "                                     annotation = Annotation(TDR118))\n",
    "\n",
    "# add the new ChromatinAssay object into the main Seurat object\n",
    "TDR118[[\"peaks_merged_test\"]] <- TDR118_assay\n",
    "# TDR118 <- CreateSeuratObject(TDR118_assay, assay = \"peaks_merged_test\", meta.data=TDR118@meta.data)\n",
    "TDR118"
   ]
  },
  {
   "cell_type": "code",
   "execution_count": 24,
   "id": "b7e5263b-18e6-4669-9e3e-f7eab9a21ef2",
   "metadata": {},
   "outputs": [
    {
     "data": {
      "text/plain": [
       "An object of class Seurat \n",
       "585848 features across 13614 samples within 4 assays \n",
       "Active assay: peaks_merged_test (280193 features, 0 variable features)\n",
       " 3 other assays present: RNA, ATAC, SCT\n",
       " 4 dimensional reductions calculated: pca, umap.rna, umap.atac, umap.joint"
      ]
     },
     "metadata": {},
     "output_type": "display_data"
    }
   ],
   "source": [
    "DefaultAssay(TDR118) <- \"peaks_merged_test\"\n",
    "TDR118"
   ]
  },
  {
   "cell_type": "code",
   "execution_count": 25,
   "id": "f18461a8-946f-4721-bd06-e8b40e64400a",
   "metadata": {},
   "outputs": [
    {
     "data": {
      "text/plain": [
       "ChromatinAssay data with 280193 features for 13614 cells\n",
       "Variable features: 0 \n",
       "Genome: \n",
       "Annotation present: TRUE \n",
       "Motifs present: FALSE \n",
       "Fragment files: 1 "
      ]
     },
     "metadata": {},
     "output_type": "display_data"
    }
   ],
   "source": [
    "TDR118[[\"peaks_merged_test\"]]"
   ]
  },
  {
   "cell_type": "code",
   "execution_count": 26,
   "id": "6660535d-09ad-4bc6-975c-59ad28eb1579",
   "metadata": {},
   "outputs": [
    {
     "name": "stderr",
     "output_type": "stream",
     "text": [
      "Extracting reads overlapping genomic regions\n",
      "\n"
     ]
    }
   ],
   "source": [
    "TDR119.counts <- FeatureMatrix(\n",
    "    fragments = frags.TDR119,\n",
    "    features = combined.peaks,\n",
    "    cells=colnames(TDR119))"
   ]
  },
  {
   "cell_type": "code",
   "execution_count": 27,
   "id": "6c8c3f3a-efbc-4bae-adb6-fa76345ca34e",
   "metadata": {},
   "outputs": [
    {
     "name": "stderr",
     "output_type": "stream",
     "text": [
      "Warning message:\n",
      "“Keys should be one or more alphanumeric characters followed by an underscore, setting key from peaks_merged_test_ to peaksmergedtest_”\n"
     ]
    },
    {
     "data": {
      "text/plain": [
       "An object of class Seurat \n",
       "578152 features across 12487 samples within 4 assays \n",
       "Active assay: ATAC (241092 features, 0 variable features)\n",
       " 3 other assays present: RNA, SCT, peaks_merged_test\n",
       " 4 dimensional reductions calculated: pca, umap.rna, umap.atac, umap.joint"
      ]
     },
     "metadata": {},
     "output_type": "display_data"
    }
   ],
   "source": [
    "TDR119_assay <- CreateChromatinAssay(TDR119.counts, \n",
    "                                     fragments = frags.TDR119, \n",
    "                                     annotation = Annotation(TDR119))\n",
    "\n",
    "# add the new ChromatinAssay object into the main Seurat object\n",
    "TDR119[[\"peaks_merged_test\"]] <- TDR119_assay\n",
    "TDR119"
   ]
  },
  {
   "cell_type": "code",
   "execution_count": 28,
   "id": "38e2dc30-d1e1-4261-a513-cd4f9fa1c4f0",
   "metadata": {},
   "outputs": [
    {
     "data": {
      "text/plain": [
       "An object of class Seurat \n",
       "578152 features across 12487 samples within 4 assays \n",
       "Active assay: peaks_merged_test (280193 features, 0 variable features)\n",
       " 3 other assays present: RNA, ATAC, SCT\n",
       " 4 dimensional reductions calculated: pca, umap.rna, umap.atac, umap.joint"
      ]
     },
     "metadata": {},
     "output_type": "display_data"
    }
   ],
   "source": [
    "DefaultAssay(TDR119) <- \"peaks_merged_test\"\n",
    "TDR119"
   ]
  },
  {
   "cell_type": "code",
   "execution_count": 30,
   "id": "c80c1e5d-a22d-410e-8f93-833002a9d99a",
   "metadata": {},
   "outputs": [
    {
     "data": {
      "text/plain": [
       "An object of class Seurat \n",
       "585848 features across 13614 samples within 4 assays \n",
       "Active assay: peaks_merged_test (280193 features, 0 variable features)\n",
       " 3 other assays present: RNA, ATAC, SCT\n",
       " 4 dimensional reductions calculated: pca, umap.rna, umap.atac, umap.joint"
      ]
     },
     "metadata": {},
     "output_type": "display_data"
    }
   ],
   "source": [
    "TDR118@"
   ]
  },
  {
   "cell_type": "code",
   "execution_count": 31,
   "id": "0e260900-aabf-4d56-8c29-d14d6d08ab95",
   "metadata": {},
   "outputs": [],
   "source": [
    "# add the data_id to the metadata\n",
    "TDR118$dataset <- \"TDR118\"\n",
    "TDR119$dataset <- \"TDR119\""
   ]
  },
  {
   "cell_type": "code",
   "execution_count": 32,
   "id": "991cbaeb-5994-4526-bdb9-950baa0301d2",
   "metadata": {},
   "outputs": [
    {
     "name": "stderr",
     "output_type": "stream",
     "text": [
      "Warning message in CheckDuplicateCellNames(object.list = objects):\n",
      "“Some cell names are duplicated across objects provided. Renaming to enforce unique cell names.”\n",
      "Warning message:\n",
      "“Keys should be one or more alphanumeric characters followed by an underscore, setting key from umap.atac_ to umapatac_”\n",
      "Warning message:\n",
      "“Keys should be one or more alphanumeric characters followed by an underscore, setting key from umap.atac_ to umapatac_”\n",
      "\n",
      "Binding matrix rows\n",
      "\n",
      "\n",
      "Binding matrix rows\n",
      "\n",
      "\n",
      "Binding matrix rows\n",
      "\n",
      "\n",
      "Binding matrix rows\n",
      "\n"
     ]
    },
    {
     "data": {
      "text/plain": [
       "An object of class Seurat \n",
       "618253 features across 26101 samples within 4 assays \n",
       "Active assay: peaks_merged_test (280193 features, 0 variable features)\n",
       " 3 other assays present: RNA, ATAC, SCT"
      ]
     },
     "metadata": {},
     "output_type": "display_data"
    }
   ],
   "source": [
    "combined <- merge(x=TDR118, y=list(TDR119))\n",
    "combined"
   ]
  },
  {
   "cell_type": "code",
   "execution_count": 35,
   "id": "046446f5-e65a-4340-8751-c309aa876909",
   "metadata": {},
   "outputs": [
    {
     "data": {
      "text/plain": [
       "An object of class Seurat \n",
       "618253 features across 26101 samples within 4 assays \n",
       "Active assay: peaks_merged_test (280193 features, 0 variable features)\n",
       " 3 other assays present: RNA, ATAC, SCT"
      ]
     },
     "metadata": {},
     "output_type": "display_data"
    }
   ],
   "source": [
    "combined"
   ]
  },
  {
   "cell_type": "code",
   "execution_count": 36,
   "id": "4e0c7d0a-a807-4a28-a8c9-ab08ea5c790a",
   "metadata": {},
   "outputs": [
    {
     "data": {
      "text/plain": [
       "Assay data with 32057 features for 26101 cells\n",
       "First 10 features:\n",
       " ptpn12, phtf2, phtf2.1, CU856344.1, si:zfos-932h1.3, mansc1, lrp6,\n",
       "dusp16, crebl2, gpr19 "
      ]
     },
     "metadata": {},
     "output_type": "display_data"
    }
   ],
   "source": [
    "combined[[\"RNA\"]]"
   ]
  },
  {
   "cell_type": "code",
   "execution_count": 38,
   "id": "d9859c3c-3b2a-4712-8bbc-085a242ea40d",
   "metadata": {},
   "outputs": [
    {
     "data": {
      "text/html": [
       "<style>\n",
       ".list-inline {list-style: none; margin:0; padding: 0}\n",
       ".list-inline>li {display: inline-block}\n",
       ".list-inline>li:not(:last-child)::after {content: \"\\00b7\"; padding: 0 .5ex}\n",
       "</style>\n",
       "<ol class=list-inline><li>'TTTGTTGGTCCTAGTT-1_2'</li><li>'TTTGTTGGTGCATTAG-1_2'</li><li>'TTTGTTGGTTAAGCGC-1_2'</li><li>'TTTGTTGGTTAGCATG-1_2'</li><li>'TTTGTTGGTTCGCGCT-1_2'</li><li>'TTTGTTGGTTTCGCGC-1_2'</li></ol>\n"
      ],
      "text/latex": [
       "\\begin{enumerate*}\n",
       "\\item 'TTTGTTGGTCCTAGTT-1\\_2'\n",
       "\\item 'TTTGTTGGTGCATTAG-1\\_2'\n",
       "\\item 'TTTGTTGGTTAAGCGC-1\\_2'\n",
       "\\item 'TTTGTTGGTTAGCATG-1\\_2'\n",
       "\\item 'TTTGTTGGTTCGCGCT-1\\_2'\n",
       "\\item 'TTTGTTGGTTTCGCGC-1\\_2'\n",
       "\\end{enumerate*}\n"
      ],
      "text/markdown": [
       "1. 'TTTGTTGGTCCTAGTT-1_2'\n",
       "2. 'TTTGTTGGTGCATTAG-1_2'\n",
       "3. 'TTTGTTGGTTAAGCGC-1_2'\n",
       "4. 'TTTGTTGGTTAGCATG-1_2'\n",
       "5. 'TTTGTTGGTTCGCGCT-1_2'\n",
       "6. 'TTTGTTGGTTTCGCGC-1_2'\n",
       "\n",
       "\n"
      ],
      "text/plain": [
       "[1] \"TTTGTTGGTCCTAGTT-1_2\" \"TTTGTTGGTGCATTAG-1_2\" \"TTTGTTGGTTAAGCGC-1_2\"\n",
       "[4] \"TTTGTTGGTTAGCATG-1_2\" \"TTTGTTGGTTCGCGCT-1_2\" \"TTTGTTGGTTTCGCGC-1_2\""
      ]
     },
     "metadata": {},
     "output_type": "display_data"
    }
   ],
   "source": [
    "colnames(combined) %>% tail()"
   ]
  },
  {
   "cell_type": "code",
   "execution_count": 41,
   "id": "78659e0a-40eb-4961-9d2c-2682fe17ec63",
   "metadata": {},
   "outputs": [
    {
     "name": "stderr",
     "output_type": "stream",
     "text": [
      "Warning message:\n",
      "“\u001b[1m\u001b[22mRemoved 1 rows containing missing values (`geom_segment()`).”\n"
     ]
    },
    {
     "data": {
      "image/png": "[encoded data removed]",
      "text/plain": [
       "plot without title"
      ]
     },
     "metadata": {
      "image/png": {
       "height": 420,
       "width": 420
      }
     },
     "output_type": "display_data"
    }
   ],
   "source": [
    "# check the combined object by making CoveragePlot\n",
    "CoveragePlot(combined, region=\"tbxta\")"
   ]
  },
  {
   "cell_type": "code",
   "execution_count": 43,
   "id": "b8a0980a-a453-469f-8f42-ed70dae2207c",
   "metadata": {},
   "outputs": [
    {
     "data": {
      "text/html": [
       "<style>\n",
       ".dl-inline {width: auto; margin:0; padding: 0}\n",
       ".dl-inline>dt, .dl-inline>dd {float: none; width: auto; display: inline-block}\n",
       ".dl-inline>dt::after {content: \":\\0020\"; padding-right: .5ex}\n",
       ".dl-inline>dt:not(:first-of-type) {padding-left: .5ex}\n",
       "</style><dl class=dl-inline><dt>AAACAGCCACCTAAGC-1_1</dt><dd>Epidermal</dd><dt>AAACAGCCAGGGAGGA-1_1</dt><dd>Lateral_Mesoderm</dd><dt>AAACAGCCATAGACCC-1_1</dt><dd>PSM</dd><dt>AAACATGCAAACTCAT-1_1</dt><dd>Neural_Posterior</dd><dt>AAACATGCAAGGACCA-1_1</dt><dd>Neural_Anterior</dd><dt>AAACATGCAAGGATTA-1_1</dt><dd>Neural_Anterior</dd></dl>\n",
       "\n",
       "<details>\n",
       "\t<summary style=display:list-item;cursor:pointer>\n",
       "\t\t<strong>Levels</strong>:\n",
       "\t</summary>\n",
       "\t<style>\n",
       "\t.list-inline {list-style: none; margin:0; padding: 0}\n",
       "\t.list-inline>li {display: inline-block}\n",
       "\t.list-inline>li:not(:last-child)::after {content: \"\\00b7\"; padding: 0 .5ex}\n",
       "\t</style>\n",
       "\t<ol class=list-inline><li>'Adaxial_Cells'</li><li>'Differentiating_Neurons'</li><li>'Endoderm'</li><li>'Epidermal'</li><li>'Lateral_Mesoderm'</li><li>'Muscle'</li><li>'Neural_Anterior'</li><li>'Neural_Crest'</li><li>'Neural_Posterior'</li><li>'NMPs'</li><li>'Notochord'</li><li>'PSM'</li><li>'Somites'</li><li>'unassigned'</li></ol>\n",
       "</details>"
      ],
      "text/latex": [
       "\\begin{description*}\n",
       "\\item[AAACAGCCACCTAAGC-1\\textbackslash{}\\_1] Epidermal\n",
       "\\item[AAACAGCCAGGGAGGA-1\\textbackslash{}\\_1] Lateral\\_Mesoderm\n",
       "\\item[AAACAGCCATAGACCC-1\\textbackslash{}\\_1] PSM\n",
       "\\item[AAACATGCAAACTCAT-1\\textbackslash{}\\_1] Neural\\_Posterior\n",
       "\\item[AAACATGCAAGGACCA-1\\textbackslash{}\\_1] Neural\\_Anterior\n",
       "\\item[AAACATGCAAGGATTA-1\\textbackslash{}\\_1] Neural\\_Anterior\n",
       "\\end{description*}\n",
       "\n",
       "\\emph{Levels}: \\begin{enumerate*}\n",
       "\\item 'Adaxial\\_Cells'\n",
       "\\item 'Differentiating\\_Neurons'\n",
       "\\item 'Endoderm'\n",
       "\\item 'Epidermal'\n",
       "\\item 'Lateral\\_Mesoderm'\n",
       "\\item 'Muscle'\n",
       "\\item 'Neural\\_Anterior'\n",
       "\\item 'Neural\\_Crest'\n",
       "\\item 'Neural\\_Posterior'\n",
       "\\item 'NMPs'\n",
       "\\item 'Notochord'\n",
       "\\item 'PSM'\n",
       "\\item 'Somites'\n",
       "\\item 'unassigned'\n",
       "\\end{enumerate*}\n"
      ],
      "text/markdown": [
       "AAACAGCCACCTAAGC-1_1\n",
       ":   EpidermalAAACAGCCAGGGAGGA-1_1\n",
       ":   Lateral_MesodermAAACAGCCATAGACCC-1_1\n",
       ":   PSMAAACATGCAAACTCAT-1_1\n",
       ":   Neural_PosteriorAAACATGCAAGGACCA-1_1\n",
       ":   Neural_AnteriorAAACATGCAAGGATTA-1_1\n",
       ":   Neural_Anterior\n",
       "\n",
       "\n",
       "**Levels**: 1. 'Adaxial_Cells'\n",
       "2. 'Differentiating_Neurons'\n",
       "3. 'Endoderm'\n",
       "4. 'Epidermal'\n",
       "5. 'Lateral_Mesoderm'\n",
       "6. 'Muscle'\n",
       "7. 'Neural_Anterior'\n",
       "8. 'Neural_Crest'\n",
       "9. 'Neural_Posterior'\n",
       "10. 'NMPs'\n",
       "11. 'Notochord'\n",
       "12. 'PSM'\n",
       "13. 'Somites'\n",
       "14. 'unassigned'\n",
       "\n",
       "\n"
      ],
      "text/plain": [
       "AAACAGCCACCTAAGC-1_1 AAACAGCCAGGGAGGA-1_1 AAACAGCCATAGACCC-1_1 \n",
       "           Epidermal     Lateral_Mesoderm                  PSM \n",
       "AAACATGCAAACTCAT-1_1 AAACATGCAAGGACCA-1_1 AAACATGCAAGGATTA-1_1 \n",
       "    Neural_Posterior      Neural_Anterior      Neural_Anterior \n",
       "14 Levels: Adaxial_Cells Differentiating_Neurons Endoderm ... unassigned"
      ]
     },
     "metadata": {},
     "output_type": "display_data"
    }
   ],
   "source": [
    "Idents(combined) %>% head"
   ]
  },
  {
   "cell_type": "code",
   "execution_count": null,
   "id": "5383318a-714e-4174-aa92-a1f03cb78622",
   "metadata": {},
   "outputs": [],
   "source": [
    "combined$"
   ]
  },
  {
   "cell_type": "code",
   "execution_count": 44,
   "id": "ed85b0ce-5f43-4c4b-9fed-74e440ea524a",
   "metadata": {},
   "outputs": [
    {
     "data": {
      "text/html": [
       "<style>\n",
       ".dl-inline {width: auto; margin:0; padding: 0}\n",
       ".dl-inline>dt, .dl-inline>dd {float: none; width: auto; display: inline-block}\n",
       ".dl-inline>dt::after {content: \":\\0020\"; padding-right: .5ex}\n",
       ".dl-inline>dt:not(:first-of-type) {padding-left: .5ex}\n",
       "</style><dl class=dl-inline><dt>AAACAGCCACCTAAGC-1_1</dt><dd>TDR118</dd><dt>AAACAGCCAGGGAGGA-1_1</dt><dd>TDR118</dd><dt>AAACAGCCATAGACCC-1_1</dt><dd>TDR118</dd><dt>AAACATGCAAACTCAT-1_1</dt><dd>TDR118</dd><dt>AAACATGCAAGGACCA-1_1</dt><dd>TDR118</dd><dt>AAACATGCAAGGATTA-1_1</dt><dd>TDR118</dd></dl>\n",
       "\n",
       "<details>\n",
       "\t<summary style=display:list-item;cursor:pointer>\n",
       "\t\t<strong>Levels</strong>:\n",
       "\t</summary>\n",
       "\t<style>\n",
       "\t.list-inline {list-style: none; margin:0; padding: 0}\n",
       "\t.list-inline>li {display: inline-block}\n",
       "\t.list-inline>li:not(:last-child)::after {content: \"\\00b7\"; padding: 0 .5ex}\n",
       "\t</style>\n",
       "\t<ol class=list-inline><li>'TDR118'</li><li>'TDR119'</li></ol>\n",
       "</details>"
      ],
      "text/latex": [
       "\\begin{description*}\n",
       "\\item[AAACAGCCACCTAAGC-1\\textbackslash{}\\_1] TDR118\n",
       "\\item[AAACAGCCAGGGAGGA-1\\textbackslash{}\\_1] TDR118\n",
       "\\item[AAACAGCCATAGACCC-1\\textbackslash{}\\_1] TDR118\n",
       "\\item[AAACATGCAAACTCAT-1\\textbackslash{}\\_1] TDR118\n",
       "\\item[AAACATGCAAGGACCA-1\\textbackslash{}\\_1] TDR118\n",
       "\\item[AAACATGCAAGGATTA-1\\textbackslash{}\\_1] TDR118\n",
       "\\end{description*}\n",
       "\n",
       "\\emph{Levels}: \\begin{enumerate*}\n",
       "\\item 'TDR118'\n",
       "\\item 'TDR119'\n",
       "\\end{enumerate*}\n"
      ],
      "text/markdown": [
       "AAACAGCCACCTAAGC-1_1\n",
       ":   TDR118AAACAGCCAGGGAGGA-1_1\n",
       ":   TDR118AAACAGCCATAGACCC-1_1\n",
       ":   TDR118AAACATGCAAACTCAT-1_1\n",
       ":   TDR118AAACATGCAAGGACCA-1_1\n",
       ":   TDR118AAACATGCAAGGATTA-1_1\n",
       ":   TDR118\n",
       "\n",
       "\n",
       "**Levels**: 1. 'TDR118'\n",
       "2. 'TDR119'\n",
       "\n",
       "\n"
      ],
      "text/plain": [
       "AAACAGCCACCTAAGC-1_1 AAACAGCCAGGGAGGA-1_1 AAACAGCCATAGACCC-1_1 \n",
       "              TDR118               TDR118               TDR118 \n",
       "AAACATGCAAACTCAT-1_1 AAACATGCAAGGACCA-1_1 AAACATGCAAGGATTA-1_1 \n",
       "              TDR118               TDR118               TDR118 \n",
       "Levels: TDR118 TDR119"
      ]
     },
     "metadata": {},
     "output_type": "display_data"
    }
   ],
   "source": [
    "Idents(combined) <- \"dataset\"\n",
    "Idents(combined) %>% head"
   ]
  },
  {
   "cell_type": "code",
   "execution_count": 45,
   "id": "b2b57d67-5d1f-4d47-bebf-1236725f2acf",
   "metadata": {},
   "outputs": [
    {
     "name": "stderr",
     "output_type": "stream",
     "text": [
      "Warning message:\n",
      "“\u001b[1m\u001b[22mRemoved 1 rows containing missing values (`geom_segment()`).”\n"
     ]
    },
    {
     "data": {
      "image/png": "[encoded data removed]",
      "text/plain": [
       "plot without title"
      ]
     },
     "metadata": {
      "image/png": {
       "height": 420,
       "width": 420
      }
     },
     "output_type": "display_data"
    }
   ],
   "source": [
    "# check the combined object by making CoveragePlot\n",
    "CoveragePlot(combined, region=\"tbxta\")"
   ]
  }
 ],
 "metadata": {
  "kernelspec": {
   "display_name": "R 4.3",
   "language": "R",
   "name": "ir43"
  },
  "language_info": {
   "codemirror_mode": "r",
   "file_extension": ".r",
   "mimetype": "text/x-r-source",
   "name": "R",
   "pygments_lexer": "r",
   "version": "4.3.2"
  }
 },
 "nbformat": 4,
 "nbformat_minor": 5
}
