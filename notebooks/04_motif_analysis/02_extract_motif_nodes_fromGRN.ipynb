{
 "cells": [
  {
   "cell_type": "markdown",
   "id": "884307dd-83aa-49ad-81eb-121991b8f701",
   "metadata": {},
   "source": [
    "# Notebook to extract nodes corresponding to network motifs from a GRN (and mFinder results)\n",
    "\n",
    "- Last updated: 9/28/2023\n",
    "- Author: Yang-Joon Kim\n",
    "\n",
    "- inputs: a GRN (CellOracle Links object), and a mFinder result (network motifs, a txt file)\n",
    "- outputs(TBD): a dataframe of nodes, edges for corresponding motifs\n",
    "\n",
    "- Tentative df-  columns: index_triplet, source_node, target_node, edge width, motif_name\n"
   ]
  },
  {
   "cell_type": "code",
   "execution_count": 1,
   "id": "ce676aff-d43f-40c0-b0f7-ba921cd9885c",
   "metadata": {},
   "outputs": [
    {
     "name": "stderr",
     "output_type": "stream",
     "text": [
      "/home/yang-joon.kim/.conda/envs/celloracle_env/lib/python3.8/site-packages/loompy/bus_file.py:68: NumbaDeprecationWarning: \u001b[1mThe 'nopython' keyword argument was not supplied to the 'numba.jit' decorator. The implicit default value for this argument is currently False, but it will be changed to True in Numba 0.59.0. See https://numba.readthedocs.io/en/stable/reference/deprecation.html#deprecation-of-object-mode-fall-back-behaviour-when-using-jit for details.\u001b[0m\n",
      "  def twobit_to_dna(twobit: int, size: int) -> str:\n",
      "/home/yang-joon.kim/.conda/envs/celloracle_env/lib/python3.8/site-packages/loompy/bus_file.py:85: NumbaDeprecationWarning: \u001b[1mThe 'nopython' keyword argument was not supplied to the 'numba.jit' decorator. The implicit default value for this argument is currently False, but it will be changed to True in Numba 0.59.0. See https://numba.readthedocs.io/en/stable/reference/deprecation.html#deprecation-of-object-mode-fall-back-behaviour-when-using-jit for details.\u001b[0m\n",
      "  def dna_to_twobit(dna: str) -> int:\n",
      "/home/yang-joon.kim/.conda/envs/celloracle_env/lib/python3.8/site-packages/loompy/bus_file.py:102: NumbaDeprecationWarning: \u001b[1mThe 'nopython' keyword argument was not supplied to the 'numba.jit' decorator. The implicit default value for this argument is currently False, but it will be changed to True in Numba 0.59.0. See https://numba.readthedocs.io/en/stable/reference/deprecation.html#deprecation-of-object-mode-fall-back-behaviour-when-using-jit for details.\u001b[0m\n",
      "  def twobit_1hamming(twobit: int, size: int) -> List[int]:\n",
      "INFO:matplotlib.font_manager:Failed to extract font properties from /usr/share/fonts/google-noto-emoji/NotoColorEmoji.ttf: In FT2Font: Can not load face (unknown file format; error code 0x2)\n"
     ]
    },
    {
     "data": {
      "text/plain": [
       "'0.14.0'"
      ]
     },
     "execution_count": 1,
     "metadata": {},
     "output_type": "execute_result"
    }
   ],
   "source": [
    "# Import libraries\n",
    "import os\n",
    "import sys\n",
    "\n",
    "import matplotlib.pyplot as plt\n",
    "import numpy as np\n",
    "import pandas as pd\n",
    "import scanpy as sc\n",
    "import seaborn as sns\n",
    "\n",
    "import celloracle as co\n",
    "co.__version__"
   ]
  },
  {
   "cell_type": "code",
   "execution_count": 4,
   "id": "57443f19-714c-4889-93c1-2cff543a45b3",
   "metadata": {},
   "outputs": [],
   "source": [
    "# plotting module\n",
    "import matplotlib as mpl\n",
    "mpl.rcParams.update(mpl.rcParamsDefault) #Reset rcParams to default\n",
    "\n",
    "# Editable text and proper LaTeX fonts in illustrator\n",
    "# matplotlib.rcParams['ps.useafm'] = True\n",
    "# Editable fonts. 42 is the magic number\n",
    "mpl.rcParams['pdf.fonttype'] = 42\n",
    "sns.set(style='whitegrid', context='paper')\n",
    "\n",
    "# Plotting style function (run this before plotting the final figure)\n",
    "def set_plotting_style():\n",
    "    plt.style.use('seaborn-paper')\n",
    "    plt.rc('axes', labelsize=12)\n",
    "    plt.rc('axes', titlesize=12)\n",
    "    plt.rc('xtick', labelsize=10)\n",
    "    plt.rc('ytick', labelsize=10)\n",
    "    plt.rc('legend', fontsize=10)\n",
    "    plt.rc('text.latex', preamble=r'\\usepackage{sfmath}')\n",
    "    plt.rc('xtick.major', pad=2)\n",
    "    plt.rc('ytick.major', pad=2)\n",
    "    plt.rc('mathtext', fontset='stixsans', sf='sansserif')\n",
    "    plt.rc('figure', figsize=[10,9])\n",
    "    plt.rc('svg', fonttype='none')\n",
    "\n",
    "set_plotting_style()"
   ]
  },
  {
   "cell_type": "code",
   "execution_count": 142,
   "id": "4a713c81-aaba-4d15-b892-a9f16238db86",
   "metadata": {},
   "outputs": [],
   "source": [
    "sys.path.append(\"/hpc/projects/data.science/yangjoon.kim/zebrahub_multiome/zebrahub-multiome-analysis/scripts/\")\n",
    "from extract_motifs_mFinder_output import extract_motifs_mFinder_output"
   ]
  },
  {
   "cell_type": "code",
   "execution_count": 143,
   "id": "4e1e6f8f-9099-43a0-9b45-6a77cdca8428",
   "metadata": {},
   "outputs": [
    {
     "name": "stdout",
     "output_type": "stream",
     "text": [
      "Help on function extract_motifs_mFinder_output in module extract_motifs_mFinder_output:\n",
      "\n",
      "extract_motifs_mFinder_output(mFinder_output)\n",
      "\n"
     ]
    }
   ],
   "source": [
    "help(extract_motifs_mFinder_output)"
   ]
  },
  {
   "cell_type": "code",
   "execution_count": 7,
   "id": "4bfaf01f-6a81-43f4-9e96-0ce1f873c600",
   "metadata": {},
   "outputs": [
    {
     "data": {
      "text/plain": [
       "['\\n',\n",
       " '   Summary motif results\\n',\n",
       " '   =====================\\n',\n",
       " 'mfinder Version 1.20\\n',\n",
       " '\\n',\n",
       " 'MOTIF FINDER RESULTS:\\n',\n",
       " '\\n',\n",
       " '\\tNetwork name: filtered_GRN_0budstage_Somites_mfinder_format.txt\\n',\n",
       " '\\tNetwork type: Directed\\n',\n",
       " '\\tNum of Nodes: 330 Num of Edges: 2000\\n',\n",
       " '\\tNum of Nodes with edges: 330\\n',\n",
       " '\\tMaximal out degree (out-hub) : 76\\n',\n",
       " '\\tMaximal in degree (in-hub) : 43\\n',\n",
       " '\\tRoots num: 116 Leaves num: 163\\n',\n",
       " '\\tSingle Edges num: 1910 Mutual Edges num: 44\\n',\n",
       " '\\n',\n",
       " '\\tMotif size searched  3\\n',\n",
       " '\\tTotal number of 3-node subgraphs : 49166\\n',\n",
       " '\\tNumber of random networks generated : 100\\n',\n",
       " '\\tRandom networks generation method: Switches\\n',\n",
       " '\\tNum of Switches range: 100.0-200.0, Success switches Ratio:0.556+-0.00\\n',\n",
       " '\\n',\n",
       " 'The following motifs were found:\\n',\n",
       " '\\n',\n",
       " 'Criteria taken : Nreal Zscore > 2.00\\n',\n",
       " '                 Pval ignored (due to small number of random networks)\\n',\n",
       " '                 Mfactor > 1.10\\n',\n",
       " '                 Uniqueness >= 4\\n',\n",
       " '\\n',\n",
       " '\\n',\n",
       " '\\n',\n",
       " '\\tFull list includes 3 motifs\\n',\n",
       " 'MOTIF\\tNREAL\\tNRAND\\t\\tNREAL\\tNREAL\\tUNIQ\\tCREAL\\n',\n",
       " 'ID\\t\\tSTATS\\t\\tZSCORE\\tPVAL\\tVAL\\t[MILI]\\t\\n',\n",
       " '\\n',\n",
       " '46\\t675\\t401.4+-19.6\\t13.99\\t0.000\\t9\\t13.73\\n',\n",
       " '\\n',\n",
       " '0 1 1 \\n',\n",
       " '1 0 1 \\n',\n",
       " '0 0 0 \\n',\n",
       " '\\n',\n",
       " '108\\t100\\t64.2+-8.6\\t4.15\\t0.000\\t8\\t2.03\\n',\n",
       " '\\n',\n",
       " '0 0 1 \\n',\n",
       " '1 0 1 \\n',\n",
       " '1 0 0 \\n',\n",
       " '\\n',\n",
       " '238\\t16\\t6.1+-2.3\\t4.30\\t0.000\\t4\\t0.33\\n',\n",
       " '\\n',\n",
       " '0 1 1 \\n',\n",
       " '1 0 1 \\n',\n",
       " '1 1 0 \\n',\n",
       " '\\n',\n",
       " '\\n',\n",
       " '\\n',\n",
       " '\\n',\n",
       " 'Full list of subgraphs size 3 ids:\\n',\n",
       " '\\n',\n",
       " '\\t( Total num of different subgraphs size 3 is : 13 )\\n',\n",
       " '\\n',\n",
       " 'MOTIF\\tNREAL\\tNRAND\\t\\tNREAL\\tNREAL\\tCREAL\\tUNIQ\\n',\n",
       " 'ID\\t\\tSTATS\\t\\tZSCORE\\tPVAL\\t[MILI]\\t\\n',\n",
       " '6\\t23933\\t24121.0+-74.2\\t-2.53\\t0.990\\t486.78\\t47\\n',\n",
       " '\\n',\n",
       " '12\\t7871\\t7970.5+-74.9\\t-1.33\\t0.930\\t160.09\\t29\\n',\n",
       " '\\n',\n",
       " '14\\t1678\\t2199.4+-40.2\\t-12.97\\t1.000\\t34.13\\t10\\n',\n",
       " '\\n',\n",
       " '36\\t12112\\t12557.8+-76.2\\t-5.85\\t1.000\\t246.35\\t43\\n',\n",
       " '\\n',\n",
       " '38\\t1981\\t1819.5+-71.2\\t2.27\\t0.020\\t40.29\\t23\\n',\n",
       " '\\n',\n",
       " '46\\t675\\t401.4+-19.6\\t13.99\\t0.000\\t13.73\\t9\\n',\n",
       " '\\n',\n",
       " '74\\t689\\t735.8+-19.6\\t-2.39\\t0.980\\t14.01\\t10\\n',\n",
       " '\\n',\n",
       " '78\\t41\\t75.7+-6.4\\t-5.43\\t1.000\\t0.83\\t6\\n',\n",
       " '\\n',\n",
       " '98\\t3\\t16.5+-5.8\\t-2.31\\t1.000\\t0.06\\t3\\n',\n",
       " '\\n',\n",
       " '102\\t18\\t49.0+-7.7\\t-4.01\\t1.000\\t0.37\\t4\\n',\n",
       " '\\n',\n",
       " '108\\t100\\t64.2+-8.6\\t4.15\\t0.000\\t2.03\\t8\\n',\n",
       " '\\n',\n",
       " '110\\t49\\t44.0+-6.0\\t0.84\\t0.210\\t1.00\\t6\\n',\n",
       " '\\n',\n",
       " '238\\t16\\t6.1+-2.3\\t4.30\\t0.000\\t0.33\\t4\\n',\n",
       " '\\n',\n",
       " '\\n',\n",
       " '\\n',\n",
       " ' (Application total runtime was:   37.0 seconds.)\\n',\n",
       " '\\n',\n",
       " ' (Real network processing runtime was:    1.0 seconds.)\\n',\n",
       " '\\n',\n",
       " ' (Single Random network processing runtime was:    0.4 seconds.)\\n']"
      ]
     },
     "execution_count": 7,
     "metadata": {},
     "output_type": "execute_result"
    }
   ],
   "source": [
    "df = extract_motifs_mFinder_output()"
   ]
  },
  {
   "cell_type": "code",
   "execution_count": 90,
   "id": "62d88f8a-2199-4c5d-b5c4-f0588961c66b",
   "metadata": {},
   "outputs": [
    {
     "name": "stdout",
     "output_type": "stream",
     "text": [
      "MOTIF\tNREAL\tNRAND\t\tNREAL\tNREAL\tUNIQ\tCREAL\n",
      "ID\t\tSTATS\t\tZSCORE\tPVAL\tVAL\t[MILI]\n",
      "\n",
      "46\t675\t401.4+-19.6\t13.99\t0.000\t9\t13.73\n",
      "\n",
      "0 1 1\n",
      "1 0 1\n",
      "0 0 0\n",
      "\n",
      "108\t100\t64.2+-8.6\t4.15\t0.000\t8\t2.03\n",
      "\n",
      "0 0 1\n",
      "1 0 1\n",
      "1 0 0\n",
      "\n",
      "238\t16\t6.1+-2.3\t4.30\t0.000\t4\t0.33\n",
      "\n",
      "0 1 1\n",
      "1 0 1\n",
      "1 1 0\n",
      "\n",
      "\n"
     ]
    }
   ],
   "source": [
    "# extract the significant motifs (Z_score > 2)\n",
    "\n",
    "# Initialize variables to store extracted lines\n",
    "extracted_lines = []\n",
    "# start_pattern - note that the start_pattern appears a couple of times (for insignificant motifs as well)\n",
    "start_pattern = 'MOTIF\\tNREAL\\tNRAND\\t\\tNREAL\\tNREAL\\tUNIQ\\tCREAL'\n",
    "\n",
    "# Flag to indicate when to start and stop extraction\n",
    "start_extraction = False\n",
    "end_pattern_count = 0\n",
    "\n",
    "# Append the start pattern to the extracted lines\n",
    "extracted_lines.append(start_pattern)\n",
    "\n",
    "# Iterate through the lines\n",
    "for line in lines:\n",
    "    if start_extraction:\n",
    "        extracted_lines.append(line.strip())  # Add the stripped line to the result\n",
    "        if not line.strip():\n",
    "            end_pattern_count += 1\n",
    "            if end_pattern_count == 2:\n",
    "                break  # Stop extraction when two consecutive empty lines are found\n",
    "        else:\n",
    "            end_pattern_count = 0  # Reset the count if a non-empty line is encountered\n",
    "    elif line.strip() == start_pattern:\n",
    "        start_extraction = True  # Start extraction when the start pattern is found\n",
    "\n",
    "# Print the extracted lines\n",
    "for extracted_line in extracted_lines:\n",
    "    print(extracted_line)"
   ]
  },
  {
   "cell_type": "code",
   "execution_count": 110,
   "id": "d712c489-0b95-4c61-90dd-2c41c0b9148b",
   "metadata": {},
   "outputs": [
    {
     "data": {
      "text/plain": [
       "[3, 9, 15]"
      ]
     },
     "execution_count": 110,
     "metadata": {},
     "output_type": "execute_result"
    }
   ],
   "source": [
    "motif_line_indices = [index for index,line in enumerate(extracted_lines) if len(line.split('\\t')) == 7]\n",
    "motif_line_indices"
   ]
  },
  {
   "cell_type": "code",
   "execution_count": 100,
   "id": "74cda653-1cf3-4732-983c-8a613769c61d",
   "metadata": {},
   "outputs": [
    {
     "data": {
      "text/plain": [
       "[[['46', '675', '401.4+-19.6', '13.99', '0.000', '9', '13.73']],\n",
       " [['108', '100', '64.2+-8.6', '4.15', '0.000', '8', '2.03']],\n",
       " [['238', '16', '6.1+-2.3', '4.30', '0.000', '4', '0.33']]]"
      ]
     },
     "execution_count": 100,
     "metadata": {},
     "output_type": "execute_result"
    }
   ],
   "source": [
    "motifs"
   ]
  },
  {
   "cell_type": "code",
   "execution_count": 120,
   "id": "01b9f034-cb1f-4fae-8d20-be7c235b168c",
   "metadata": {},
   "outputs": [
    {
     "data": {
      "text/plain": [
       "['0 1 1 \\n', '1 0 1 \\n', '0 0 0 \\n']"
      ]
     },
     "execution_count": 120,
     "metadata": {},
     "output_type": "execute_result"
    }
   ],
   "source": [
    "data = [\n",
    "    '0 1 1 \\n',\n",
    "    '1 0 1 \\n',\n",
    "    '0 0 0 \\n',\n",
    "]\n",
    "data"
   ]
  },
  {
   "cell_type": "code",
   "execution_count": 122,
   "id": "6d414255-ce4d-4417-ab43-2f911dc297a7",
   "metadata": {},
   "outputs": [
    {
     "data": {
      "text/plain": [
       "array([[0, 1, 1],\n",
       "       [1, 0, 1],\n",
       "       [0, 0, 0]])"
      ]
     },
     "execution_count": 122,
     "metadata": {},
     "output_type": "execute_result"
    }
   ],
   "source": [
    "motif"
   ]
  },
  {
   "cell_type": "code",
   "execution_count": 128,
   "id": "a38f84aa-4047-4f33-8088-8c612f5d63a6",
   "metadata": {},
   "outputs": [
    {
     "data": {
      "text/html": [
       "<div>\n",
       "<style scoped>\n",
       "    .dataframe tbody tr th:only-of-type {\n",
       "        vertical-align: middle;\n",
       "    }\n",
       "\n",
       "    .dataframe tbody tr th {\n",
       "        vertical-align: top;\n",
       "    }\n",
       "\n",
       "    .dataframe thead th {\n",
       "        text-align: right;\n",
       "    }\n",
       "</style>\n",
       "<table border=\"1\" class=\"dataframe\">\n",
       "  <thead>\n",
       "    <tr style=\"text-align: right;\">\n",
       "      <th></th>\n",
       "      <th>MOTIF_ID</th>\n",
       "      <th>NREAL</th>\n",
       "      <th>NRAND_STATS</th>\n",
       "      <th>NREAL_ZSCORE</th>\n",
       "      <th>NREAL_PVAL</th>\n",
       "      <th>UNIQ_VAL</th>\n",
       "      <th>CREAL_[MILI]</th>\n",
       "      <th>motifs</th>\n",
       "    </tr>\n",
       "  </thead>\n",
       "  <tbody>\n",
       "    <tr>\n",
       "      <th>0</th>\n",
       "      <td>46</td>\n",
       "      <td>675</td>\n",
       "      <td>401.4+-19.6</td>\n",
       "      <td>13.99</td>\n",
       "      <td>0.000</td>\n",
       "      <td>9</td>\n",
       "      <td>13.73</td>\n",
       "      <td>[[0, 1, 1], [1, 0, 1], [0, 0, 0]]</td>\n",
       "    </tr>\n",
       "    <tr>\n",
       "      <th>1</th>\n",
       "      <td>108</td>\n",
       "      <td>100</td>\n",
       "      <td>64.2+-8.6</td>\n",
       "      <td>4.15</td>\n",
       "      <td>0.000</td>\n",
       "      <td>8</td>\n",
       "      <td>2.03</td>\n",
       "      <td>[[0, 0, 1], [1, 0, 1], [1, 0, 0]]</td>\n",
       "    </tr>\n",
       "    <tr>\n",
       "      <th>2</th>\n",
       "      <td>238</td>\n",
       "      <td>16</td>\n",
       "      <td>6.1+-2.3</td>\n",
       "      <td>4.30</td>\n",
       "      <td>0.000</td>\n",
       "      <td>4</td>\n",
       "      <td>0.33</td>\n",
       "      <td>[[0, 1, 1], [1, 0, 1], [1, 1, 0]]</td>\n",
       "    </tr>\n",
       "  </tbody>\n",
       "</table>\n",
       "</div>"
      ],
      "text/plain": [
       "  MOTIF_ID NREAL  NRAND_STATS NREAL_ZSCORE NREAL_PVAL UNIQ_VAL CREAL_[MILI]  \\\n",
       "0       46   675  401.4+-19.6        13.99      0.000        9        13.73   \n",
       "1      108   100    64.2+-8.6         4.15      0.000        8         2.03   \n",
       "2      238    16     6.1+-2.3         4.30      0.000        4         0.33   \n",
       "\n",
       "                              motifs  \n",
       "0  [[0, 1, 1], [1, 0, 1], [0, 0, 0]]  \n",
       "1  [[0, 0, 1], [1, 0, 1], [1, 0, 0]]  \n",
       "2  [[0, 1, 1], [1, 0, 1], [1, 1, 0]]  "
      ]
     },
     "execution_count": 128,
     "metadata": {},
     "output_type": "execute_result"
    }
   ],
   "source": [
    "# str1 = 'MOTIF\\tNREAL\\tNRAND\\t\\tNREAL\\tNREAL\\tUNIQ\\tCREAL\\n'\n",
    "# str2 = 'ID\\t\\tSTATS\\t\\tZSCORE\\tPVAL\\tVAL\\t[MILI]\\t\\n'\n",
    "\n",
    "# # Remove extra whitespace and newline characters\n",
    "# str1 = str1.strip()\n",
    "# str2 = str2.strip()\n",
    "\n",
    "# the first two lines of the extracted text block are the column names\n",
    "str1 = extracted_lines[0]\n",
    "str2 = extracted_lines[1]\n",
    "\n",
    "# concatenate the first and the second strings to create the column names\n",
    "col_names = [em1 + (\"_\" + em2 if em2 else \"\") for em1, em2 in zip(str1.split(\"\\t\"), str2.split(\"\\t\"))]\n",
    "\n",
    "# filter out the element that is an empty string (mFinder's mistake in formatting)\n",
    "col_names = [element for element in col_names if element]\n",
    "col_names\n",
    "\n",
    "# create a dataframe to save the motif ID and scores\n",
    "df = pd.DataFrame(columns=col_names)\n",
    "\n",
    "# line indices for the motifs\n",
    "motif_line_indices = [index for index,line in enumerate(extracted_lines) if len(line.split('\\t')) == 7]\n",
    "\n",
    "motifs_list = []\n",
    "\n",
    "for index, line_index in enumerate(motif_line_indices):\n",
    "    line = extracted_lines[line_index]\n",
    "    df.loc[index] = line.split(\"\\t\")\n",
    "    \n",
    "    # extract the motif\n",
    "    motif_matrice = extracted_lines[line_index+2:line_index+5]\n",
    "    # Split into rows\n",
    "    rows = [list(map(int, row.split())) for row in motif_matrice]\n",
    "    # Convert values to a NumPy array\n",
    "    motif = np.array(rows)\n",
    "    \n",
    "    motifs_list.append(motif)\n",
    "    \n",
    "df[\"motifs\"] = motifs_list\n",
    "df\n",
    "\n"
   ]
  },
  {
   "cell_type": "code",
   "execution_count": 86,
   "id": "5ceacf86-023d-48cb-a156-2f1c80ccd349",
   "metadata": {},
   "outputs": [
    {
     "name": "stdout",
     "output_type": "stream",
     "text": [
      "ID\t\tSTATS\t\tZSCORE\tPVAL\tVAL\t[MILI]\n",
      "\n",
      "46\t675\t401.4+-19.6\t13.99\t0.000\t9\t13.73\n",
      "\n",
      "0 1 1\n",
      "1 0 1\n",
      "0 0 0\n",
      "\n",
      "108\t100\t64.2+-8.6\t4.15\t0.000\t8\t2.03\n",
      "\n",
      "0 0 1\n",
      "1 0 1\n",
      "1 0 0\n",
      "\n",
      "238\t16\t6.1+-2.3\t4.30\t0.000\t4\t0.33\n",
      "\n",
      "0 1 1\n",
      "1 0 1\n",
      "1 1 0\n",
      "\n",
      "\n"
     ]
    }
   ],
   "source": [
    "# # Initialize variables to store extracted lines\n",
    "# extracted_lines = []\n",
    "# start_pattern = 'MOTIF\\tNREAL\\tNRAND\\t\\tNREAL\\tNREAL\\tUNIQ\\tCREAL'\n",
    "\n",
    "# # Flag to indicate when to start and stop extraction\n",
    "# start_extraction = False\n",
    "# end_pattern_count = 0\n",
    "\n",
    "# # Iterate through the lines\n",
    "# for line in lines:\n",
    "#     if start_extraction:\n",
    "#         extracted_lines.append(line.strip())  # Add the stripped line to the result\n",
    "#         if not line.strip():\n",
    "#             end_pattern_count += 1\n",
    "#             if end_pattern_count == 2:\n",
    "#                 break  # Stop extraction when two consecutive empty lines are found\n",
    "#         else:\n",
    "#             end_pattern_count = 0  # Reset the count if a non-empty line is encountered\n",
    "#     elif line.strip() == start_pattern:\n",
    "#         start_extraction = True  # Start extraction when the start pattern is found\n",
    "\n",
    "# # Print the extracted lines\n",
    "# for extracted_line in extracted_lines:\n",
    "#     print(extracted_line)"
   ]
  },
  {
   "cell_type": "code",
   "execution_count": 68,
   "id": "03cd8d69-56fd-4efc-8c02-e4d5bd3275c0",
   "metadata": {},
   "outputs": [
    {
     "data": {
      "text/plain": [
       "array([[0, 1, 1],\n",
       "       [1, 0, 1],\n",
       "       [0, 0, 0]])"
      ]
     },
     "execution_count": 68,
     "metadata": {},
     "output_type": "execute_result"
    }
   ],
   "source": [
    "rows = [list(map(int, row.split())) for row in data]\n",
    "motif1 = np.array(rows)\n",
    "motif1"
   ]
  },
  {
   "cell_type": "code",
   "execution_count": 35,
   "id": "57b0e7c3-edc7-47ba-bae1-2b32fc8bf529",
   "metadata": {},
   "outputs": [
    {
     "name": "stdout",
     "output_type": "stream",
     "text": [
      "['MOTIF', 'NREAL', 'NRAND', '', 'NREAL', 'NREAL', 'UNIQ', 'CREAL']\n",
      "['ID', '', 'STATS', '', 'ZSCORE', 'PVAL', 'VAL', '[MILI]']\n"
     ]
    }
   ],
   "source": [
    "str1 = 'MOTIF\\tNREAL\\tNRAND\\t\\tNREAL\\tNREAL\\tUNIQ\\tCREAL\\n'\n",
    "str2 = 'ID\\t\\tSTATS\\t\\tZSCORE\\tPVAL\\tVAL\\t[MILI]\\t\\n'\n",
    "\n",
    "# Remove extra whitespace and newline characters\n",
    "str1 = str1.strip()\n",
    "str2 = str2.strip()\n",
    "\n",
    "print(str1.split(\"\\t\"))\n",
    "print(str2.split(\"\\t\"))"
   ]
  },
  {
   "cell_type": "code",
   "execution_count": 42,
   "id": "a9269239-1f81-4051-bf05-cf3fe85081f5",
   "metadata": {},
   "outputs": [
    {
     "data": {
      "text/plain": [
       "['MOTIF_ID',\n",
       " 'NREAL',\n",
       " 'NRAND_STATS',\n",
       " 'NREAL_ZSCORE',\n",
       " 'NREAL_PVAL',\n",
       " 'UNIQ_VAL',\n",
       " 'CREAL_[MILI]']"
      ]
     },
     "execution_count": 42,
     "metadata": {},
     "output_type": "execute_result"
    }
   ],
   "source": [
    "result = [em1 + (\"_\" + em2 if em2 else \"\") for em1, em2 in zip(str1.split(\"\\t\"), str2.split(\"\\t\"))]\n",
    "\n",
    "# filter out the element that is an empty string (mFinder's mistake in formatting)\n",
    "result = [element for element in result if element]\n",
    "result"
   ]
  },
  {
   "cell_type": "code",
   "execution_count": 41,
   "id": "395b1908-b8ad-4003-9e2a-ce089c6c6166",
   "metadata": {},
   "outputs": [
    {
     "name": "stdout",
     "output_type": "stream",
     "text": [
      "['6', '23933', '24121.0+-74.2', '-2.53', '0.990', '486.78', '47']\n"
     ]
    }
   ],
   "source": [
    "str3 = '6\\t23933\\t24121.0+-74.2\\t-2.53\\t0.990\\t486.78\\t47\\n'\n",
    "str3 = str3.strip()\n",
    "str3\n",
    "\n",
    "print(str3.split(\"\\t\"))"
   ]
  },
  {
   "cell_type": "code",
   "execution_count": 49,
   "id": "e11fee21-ffc6-4d3c-b87c-1d02208b3e50",
   "metadata": {},
   "outputs": [
    {
     "data": {
      "text/plain": [
       "['6', '23933', '24121.0+-74.2', '-2.53', '0.990', '486.78', '47']"
      ]
     },
     "execution_count": 49,
     "metadata": {},
     "output_type": "execute_result"
    }
   ],
   "source": [
    "data=str3.split(\"\\t\")\n",
    "data"
   ]
  },
  {
   "cell_type": "code",
   "execution_count": 57,
   "id": "d55ff5ca-940e-489d-9189-d689db009aab",
   "metadata": {},
   "outputs": [
    {
     "data": {
      "text/html": [
       "<div>\n",
       "<style scoped>\n",
       "    .dataframe tbody tr th:only-of-type {\n",
       "        vertical-align: middle;\n",
       "    }\n",
       "\n",
       "    .dataframe tbody tr th {\n",
       "        vertical-align: top;\n",
       "    }\n",
       "\n",
       "    .dataframe thead th {\n",
       "        text-align: right;\n",
       "    }\n",
       "</style>\n",
       "<table border=\"1\" class=\"dataframe\">\n",
       "  <thead>\n",
       "    <tr style=\"text-align: right;\">\n",
       "      <th></th>\n",
       "      <th>MOTIF_ID</th>\n",
       "      <th>NREAL</th>\n",
       "      <th>NRAND_STATS</th>\n",
       "      <th>NREAL_ZSCORE</th>\n",
       "      <th>NREAL_PVAL</th>\n",
       "      <th>UNIQ_VAL</th>\n",
       "      <th>CREAL_[MILI]</th>\n",
       "    </tr>\n",
       "  </thead>\n",
       "  <tbody>\n",
       "    <tr>\n",
       "      <th>0</th>\n",
       "      <td>6</td>\n",
       "      <td>23933</td>\n",
       "      <td>24121.0+-74.2</td>\n",
       "      <td>-2.53</td>\n",
       "      <td>0.990</td>\n",
       "      <td>486.78</td>\n",
       "      <td>47</td>\n",
       "    </tr>\n",
       "  </tbody>\n",
       "</table>\n",
       "</div>"
      ],
      "text/plain": [
       "  MOTIF_ID  NREAL    NRAND_STATS NREAL_ZSCORE NREAL_PVAL UNIQ_VAL CREAL_[MILI]\n",
       "0        6  23933  24121.0+-74.2        -2.53      0.990   486.78           47"
      ]
     },
     "execution_count": 57,
     "metadata": {},
     "output_type": "execute_result"
    }
   ],
   "source": [
    "# create a dataframe to save the motif ID and scores\n",
    "df = pd.DataFrame(columns=result)\n",
    "df.loc[0] = str3.split(\"\\t\")\n",
    "df"
   ]
  },
  {
   "cell_type": "code",
   "execution_count": 62,
   "id": "a5fd7b25-21a5-42f4-9ad9-b56bf825b9aa",
   "metadata": {},
   "outputs": [
    {
     "name": "stdout",
     "output_type": "stream",
     "text": [
      "[[0 1 1]\n",
      " [1 0 1]\n",
      " [0 0 0]]\n"
     ]
    },
    {
     "data": {
      "text/plain": [
       "array([[0, 1, 1],\n",
       "       [1, 0, 1],\n",
       "       [0, 0, 0]])"
      ]
     },
     "execution_count": 62,
     "metadata": {},
     "output_type": "execute_result"
    }
   ],
   "source": [
    "# define a numpy array for the motif (size=3)\n",
    "data = [\n",
    "    '0 1 1 \\n',\n",
    "    '1 0 1 \\n',\n",
    "    '0 0 0 \\n',\n",
    "]\n",
    "\n",
    "# Split into rows\n",
    "rows = [row.strip().split() for row in data]\n",
    "\n",
    "# Convert values to integers\n",
    "motif1 = np.array([[int(value) for value in row] for row in rows])\n",
    "\n",
    "# Print the resulting 3x3 NumPy array\n",
    "print(motif1)\n",
    "motif1\n",
    "\n",
    "df[\"motif\"] = [motif1]\n",
    "df"
   ]
  },
  {
   "cell_type": "code",
   "execution_count": null,
   "id": "bfd3327b-5a0a-4295-99bb-295593e99dae",
   "metadata": {},
   "outputs": [],
   "source": []
  },
  {
   "cell_type": "code",
   "execution_count": null,
   "id": "56bd1fbd-05b1-44a5-b537-2ec3a320c004",
   "metadata": {},
   "outputs": [],
   "source": []
  },
  {
   "cell_type": "code",
   "execution_count": null,
   "id": "64e7e3ad-7802-40fa-ae9e-3cf74a6e499b",
   "metadata": {},
   "outputs": [],
   "source": []
  },
  {
   "cell_type": "code",
   "execution_count": null,
   "id": "783e4611-e808-4322-a6a8-0f83bed5cb66",
   "metadata": {},
   "outputs": [],
   "source": []
  },
  {
   "cell_type": "code",
   "execution_count": null,
   "id": "0a2ab4e3-be0f-48dc-94fb-af7175ae0aeb",
   "metadata": {},
   "outputs": [],
   "source": []
  },
  {
   "cell_type": "code",
   "execution_count": null,
   "id": "4627461a-f79e-47ae-9d4d-28014755c405",
   "metadata": {},
   "outputs": [],
   "source": []
  },
  {
   "cell_type": "code",
   "execution_count": null,
   "id": "7e37e4cf-d6bf-4939-be01-0e27727fc9d4",
   "metadata": {},
   "outputs": [],
   "source": []
  },
  {
   "cell_type": "code",
   "execution_count": null,
   "id": "8774411f-8af6-4ef3-8871-ab54bc4fc6dd",
   "metadata": {},
   "outputs": [],
   "source": []
  },
  {
   "cell_type": "code",
   "execution_count": null,
   "id": "77c79fd0-69fc-4520-8f13-0832eaa4ad83",
   "metadata": {},
   "outputs": [],
   "source": []
  },
  {
   "cell_type": "code",
   "execution_count": null,
   "id": "a2b279c8-f021-4c71-9e43-36dbb9c171d6",
   "metadata": {},
   "outputs": [],
   "source": []
  }
 ],
 "metadata": {
  "kernelspec": {
   "display_name": "Python [conda env:.conda-celloracle_env]",
   "language": "python",
   "name": "conda-env-.conda-celloracle_env-py"
  },
  "language_info": {
   "codemirror_mode": {
    "name": "ipython",
    "version": 3
   },
   "file_extension": ".py",
   "mimetype": "text/x-python",
   "name": "python",
   "nbconvert_exporter": "python",
   "pygments_lexer": "ipython3",
   "version": "3.8.17"
  }
 },
 "nbformat": 4,
 "nbformat_minor": 5
}
