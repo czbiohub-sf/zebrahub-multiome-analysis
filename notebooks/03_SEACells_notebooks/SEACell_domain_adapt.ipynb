{
 "cells": [
  {
   "cell_type": "markdown",
   "metadata": {},
   "source": [
    "This notebook is a tutorial for performing integration between scATAC Metacells and scRNA Metacells when multiome data is not available. The integration is performed between Metacell gene expression and Metacell gene scores using linear transport"
   ]
  },
  {
   "cell_type": "markdown",
   "metadata": {},
   "source": [
    "# Imports"
   ]
  },
  {
   "cell_type": "code",
   "execution_count": 2,
   "metadata": {
    "ExecuteTime": {
     "end_time": "2022-03-31T05:55:16.409600Z",
     "start_time": "2022-03-31T05:55:14.111908Z"
    },
    "pycharm": {
     "name": "#%%\n"
    }
   },
   "outputs": [],
   "source": [
    "import numpy as np\n",
    "import pandas as pd\n",
    "import scanpy as sc\n"
   ]
  },
  {
   "cell_type": "code",
   "execution_count": 3,
   "metadata": {
    "ExecuteTime": {
     "end_time": "2022-03-31T05:55:16.502929Z",
     "start_time": "2022-03-31T05:55:16.411665Z"
    },
    "pycharm": {
     "name": "#%%\n"
    }
   },
   "outputs": [],
   "source": [
    "import matplotlib\n",
    "import matplotlib.pyplot as plt\n",
    "import seaborn as sns"
   ]
  },
  {
   "cell_type": "code",
   "execution_count": 4,
   "metadata": {
    "ExecuteTime": {
     "end_time": "2022-03-31T05:55:16.512049Z",
     "start_time": "2022-03-31T05:55:16.507094Z"
    },
    "pycharm": {
     "name": "#%%\n"
    }
   },
   "outputs": [],
   "source": [
    "# Some plotting aesthetics\n",
    "%matplotlib inline\n",
    "\n",
    "sns.set_style('ticks')\n",
    "matplotlib.rcParams['figure.figsize'] = [4, 4]\n",
    "matplotlib.rcParams['figure.dpi'] = 100"
   ]
  },
  {
   "cell_type": "code",
   "execution_count": 5,
   "metadata": {
    "ExecuteTime": {
     "end_time": "2022-03-31T05:55:17.076373Z",
     "start_time": "2022-03-31T05:55:17.072980Z"
    },
    "pycharm": {
     "name": "#%%\n"
    }
   },
   "outputs": [],
   "source": [
    "def log_transform(ad, ps=0.1):\n",
    "    ad.X.data = np.log2(ad.X.data + ps) - np.log2(ps)\n"
   ]
  },
  {
   "cell_type": "markdown",
   "metadata": {},
   "source": [
    "# Load Data\n",
    "\n",
    "We recommend the use of scanpy Anndata objects as the preferred mode of loading and filtering data.\n",
    "\n",
    "A sample datset is available for download with the instructions listed below. \n",
    "\n",
    "Uncomment the following lines to download the sample dataset in a Unix-based system. For non-UNIX systems, download the files using the URL\n",
    "\n",
    "The datasets below are Anndata objects for the CD34 multiome data generated for use in the SEACells manuscript\n",
    "\n"
   ]
  },
  {
   "cell_type": "markdown",
   "metadata": {},
   "source": [
    "## RNA"
   ]
  },
  {
   "cell_type": "code",
   "execution_count": 6,
   "metadata": {
    "ExecuteTime": {
     "end_time": "2022-03-31T05:55:17.476898Z",
     "start_time": "2022-03-31T05:55:17.474627Z"
    },
    "pycharm": {
     "name": "#%%\n"
    }
   },
   "outputs": [],
   "source": [
    "# !mkdir data/\n",
    "# !wget https://dp-lab-data-public.s3.amazonaws.com/SEACells/cd34_multiome_rna_with_labels.h5ad -O data/cd34_multiome_rna_with_labels.h5ad\n",
    "# !wget https://dp-lab-data-public.s3.amazonaws.com/SEACells/cd34_multiome_atac_with_labels.h5ad -O data/cd34_multiome_atac_with_labels.h5ad"
   ]
  },
  {
   "cell_type": "code",
   "execution_count": 12,
   "metadata": {
    "ExecuteTime": {
     "end_time": "2022-03-31T05:56:43.275003Z",
     "start_time": "2022-03-31T05:56:42.257939Z"
    },
    "pycharm": {
     "name": "#%%\n"
    }
   },
   "outputs": [
    {
     "data": {
      "application/vnd.jupyter.widget-view+json": {
       "model_id": "940d209143a5464095e4533a5531bb6a",
       "version_major": 2,
       "version_minor": 0
      },
      "text/plain": [
       "  0%|          | 0/64 [00:00<?, ?it/s]"
      ]
     },
     "metadata": {},
     "output_type": "display_data"
    },
    {
     "name": "stderr",
     "output_type": "stream",
     "text": [
      "/usr/local/anaconda3/envs/seacells/lib/python3.8/site-packages/SEACells/core.py:558: FutureWarning: X.dtype being converted to np.float32 from float64. In the next version of anndata (0.9) conversion will not be automatic. Pass dtype explicitly to avoid this warning. Pass `AnnData(X, dtype=X.dtype, ...)` to get the future behavour.\n",
      "  meta_ad = sc.AnnData(csr_matrix(summ_matrix))\n"
     ]
    }
   ],
   "source": [
    "# Load the data using scanpy\n",
    "\n",
    "# This object contains raw counts and the results of SEACells\n",
    "rna_ad = sc.read(f'data/cd34_multiome_rna_with_labels.h5ad')\n",
    "\n",
    "from SEACells.core import summarize_by_SEACell\n",
    "rna_meta_ad = summarize_by_SEACell(rna_ad, SEACells_label='SEACell')"
   ]
  },
  {
   "cell_type": "code",
   "execution_count": 13,
   "metadata": {
    "ExecuteTime": {
     "end_time": "2022-03-31T05:56:43.306257Z",
     "start_time": "2022-03-31T05:56:43.277608Z"
    }
   },
   "outputs": [],
   "source": [
    "rna_meta_ad.obs['celltype'] = rna_ad.obs.groupby('SEACell').apply(lambda x: pd.Series(x['celltype']).mode())#%%"
   ]
  },
  {
   "cell_type": "code",
   "execution_count": 18,
   "metadata": {
    "ExecuteTime": {
     "end_time": "2022-03-31T05:57:02.107671Z",
     "start_time": "2022-03-31T05:57:01.072566Z"
    },
    "pycharm": {
     "name": "#%%\n"
    }
   },
   "outputs": [],
   "source": [
    "# Normalize and log transform the data\n",
    "sc.pp.normalize_per_cell(rna_meta_ad, counts_per_cell_after=10000)\n",
    "log_transform(rna_meta_ad)\n",
    "\n",
    "# Select highly variable genes\n",
    "sc.pp.highly_variable_genes(rna_meta_ad)\n",
    "\n",
    "# Perform PCA and UMAPs\n",
    "sc.tl.pca(rna_meta_ad, n_comps=50, use_highly_variable=True)\n",
    "sc.pp.neighbors(rna_meta_ad, n_neighbors=5)\n",
    "sc.tl.umap(rna_meta_ad)"
   ]
  },
  {
   "cell_type": "code",
   "execution_count": 19,
   "metadata": {
    "ExecuteTime": {
     "end_time": "2022-03-31T05:57:02.229647Z",
     "start_time": "2022-03-31T05:57:02.109852Z"
    },
    "pycharm": {
     "name": "#%%\n"
    }
   },
   "outputs": [
    {
     "data": {
      "image/png": "[encoded data removed]",
      "text/plain": [
       "<Figure size 570.24x288 with 1 Axes>"
      ]
     },
     "metadata": {},
     "output_type": "display_data"
    }
   ],
   "source": [
    "%matplotlib inline\n",
    "# Plot cell-types for reference\n",
    "sc.pl.scatter(rna_meta_ad, basis='umap', color='celltype', frameon=False)"
   ]
  },
  {
   "cell_type": "markdown",
   "metadata": {
    "pycharm": {
     "name": "#%% md\n"
    }
   },
   "source": [
    "# ATAC-seq gene scores\n",
    "\n",
    "We use the gene scores derived from ArchR aggregated by SEACell."
   ]
  },
  {
   "cell_type": "code",
   "execution_count": 21,
   "metadata": {
    "ExecuteTime": {
     "end_time": "2022-03-31T05:57:19.102764Z",
     "start_time": "2022-03-31T05:57:17.535597Z"
    }
   },
   "outputs": [],
   "source": [
    "atac_ad = sc.read(f'data/cd34_multiome_atac_with_labels.h5ad')"
   ]
  },
  {
   "cell_type": "code",
   "execution_count": 22,
   "metadata": {
    "ExecuteTime": {
     "end_time": "2022-03-31T05:57:22.143447Z",
     "start_time": "2022-03-31T05:57:19.922453Z"
    }
   },
   "outputs": [],
   "source": [
    "# Aggregate gene scores\n",
    "genescores = pd.DataFrame(atac_ad.obsm['GeneScores'])\n",
    "genescores.columns = rna_meta_ad.var_names\n",
    "genescores.index = atac_ad.obs_names\n",
    "\n",
    "genescores = genescores.join(atac_ad.obs['SEACell']).groupby('SEACell').sum()"
   ]
  },
  {
   "cell_type": "code",
   "execution_count": null,
   "metadata": {
    "ExecuteTime": {
     "end_time": "2022-03-31T05:57:39.842039Z",
     "start_time": "2022-03-31T05:57:39.831333Z"
    }
   },
   "outputs": [],
   "source": [
    "# Create Anndata\n",
    "import anndata\n",
    "atac_meta_ad = anndata.AnnData(genescores)\n",
    "atac_meta_ad.obs = atac_ad.obs.loc[atac_meta_ad.obs_names]"
   ]
  },
  {
   "cell_type": "code",
   "execution_count": 24,
   "metadata": {
    "ExecuteTime": {
     "end_time": "2022-03-31T05:57:49.512155Z",
     "start_time": "2022-03-31T05:57:49.457242Z"
    }
   },
   "outputs": [],
   "source": [
    "from scipy.sparse import csr_matrix\n",
    "atac_meta_ad.X = csr_matrix(atac_meta_ad.X)"
   ]
  },
  {
   "cell_type": "code",
   "execution_count": 27,
   "metadata": {
    "ExecuteTime": {
     "end_time": "2022-03-31T05:59:47.081290Z",
     "start_time": "2022-03-31T05:59:47.006612Z"
    }
   },
   "outputs": [],
   "source": [
    "# Normalize the ATAC counts analogous to RNA counts\n",
    "sc.pp.normalize_per_cell(atac_meta_ad, counts_per_cell_after=10000)\n",
    "log_transform(atac_meta_ad)\n",
    "\n",
    "# Compute PCA using the highly variable genes from RNA \n",
    "hvg = atac_meta_ad.var_names.intersection(rna_meta_ad.var_names[rna_meta_ad.var['highly_variable']])\n",
    "atac_hvg = pd.Series(False, index=atac_meta_ad.var_names)\n",
    "atac_hvg[hvg] = True\n",
    "atac_meta_ad.var['highly_variable'] = atac_hvg\n",
    "sc.tl.pca(atac_meta_ad, n_comps=50)"
   ]
  },
  {
   "cell_type": "code",
   "execution_count": 28,
   "metadata": {
    "ExecuteTime": {
     "end_time": "2022-03-31T06:00:00.999779Z",
     "start_time": "2022-03-31T06:00:00.192913Z"
    }
   },
   "outputs": [
    {
     "data": {
      "image/png": "[encoded data removed]",
      "text/plain": [
       "<Figure size 570.24x288 with 1 Axes>"
      ]
     },
     "metadata": {},
     "output_type": "display_data"
    }
   ],
   "source": [
    "# ATAC gene scores umap\n",
    "sc.pp.neighbors(atac_meta_ad, use_rep='X_pca', n_neighbors=5)\n",
    "sc.tl.umap(atac_meta_ad)\n",
    "sc.pl.scatter(atac_meta_ad, basis='umap', color='celltype', frameon=False)"
   ]
  },
  {
   "cell_type": "code",
   "execution_count": 45,
   "metadata": {
    "ExecuteTime": {
     "end_time": "2022-03-31T06:05:00.191466Z",
     "start_time": "2022-03-31T06:05:00.152673Z"
    }
   },
   "outputs": [
    {
     "name": "stderr",
     "output_type": "stream",
     "text": [
      "/usr/local/anaconda3/envs/seacells/lib/python3.8/site-packages/anndata/_core/anndata.py:1785: FutureWarning: X.dtype being converted to np.float32 from float64. In the next version of anndata (0.9) conversion will not be automatic. Pass dtype explicitly to avoid this warning. Pass `AnnData(X, dtype=X.dtype, ...)` to get the future behavour.\n",
      "  [AnnData(sparse.csr_matrix(a.shape), obs=a.obs) for a in all_adatas],\n"
     ]
    }
   ],
   "source": [
    "# Annotate the Anndata objects based on their dataset\n",
    "atac_meta_ad.obs['Dataset'] = 'ATAC'\n",
    "rna_meta_ad.obs['Dataset'] = 'RNA'\n",
    "\n",
    "# Create a combined Anndata object only including hvg\n",
    "hvg = atac_meta_ad.var_names[atac_meta_ad.var['highly_variable']].intersection(rna_meta_ad.var_names)\n",
    "comb_ad = rna_meta_ad[:, hvg].concatenate(atac_meta_ad[:, hvg])"
   ]
  },
  {
   "cell_type": "code",
   "execution_count": 49,
   "metadata": {
    "ExecuteTime": {
     "end_time": "2022-03-31T06:05:14.756641Z",
     "start_time": "2022-03-31T06:05:14.724360Z"
    },
    "pycharm": {
     "name": "#%%\n"
    }
   },
   "outputs": [],
   "source": [
    "# PCA \n",
    "from sklearn.decomposition import TruncatedSVD\n",
    "svd = TruncatedSVD(n_components=30)\n",
    "comb_ad.obsm['X_pca'] = svd.fit_transform(comb_ad.X)"
   ]
  },
  {
   "cell_type": "markdown",
   "metadata": {},
   "source": [
    "# Integration using linear transport\n",
    "\n",
    "Inputs are\n",
    "\n",
    "- xs, Matrix of \"source\" RNA expression levels from scRNA-seq\n",
    "- xt, Matrix of \"target\" gene activities calcualated from ATAC-seq peak accessibility\n",
    "\n",
    "\n",
    "The number of metacells can be variable between the two modalities but the number of columns should remain the same. We will use the jointly computed PCs as input for integration\n",
    "\n",
    "Optional paramters\n",
    "\n",
    "- ws: Vector of weights representing the size of each cluster/metacell from RNA\n",
    "- wt: Same as above but for ATAC\n",
    "- rho: Float in range [0,1] representing whether the final transformation should be closer to RNA distribution (0) or ATAC distribution (1). Default value is 1.\n",
    "- reg: Small float to make sure covariance matrices are invertible"
   ]
  },
  {
   "cell_type": "code",
   "execution_count": 50,
   "metadata": {
    "ExecuteTime": {
     "end_time": "2022-03-31T06:05:15.671219Z",
     "start_time": "2022-03-31T06:05:15.657432Z"
    },
    "pycharm": {
     "name": "#%%\n"
    }
   },
   "outputs": [],
   "source": [
    "xs = comb_ad[comb_ad.obs['Dataset'] == 'RNA'].obsm['X_pca']\n",
    "xt = comb_ad[comb_ad.obs['Dataset'] == 'ATAC'].obsm['X_pca']"
   ]
  },
  {
   "cell_type": "code",
   "execution_count": 51,
   "metadata": {
    "ExecuteTime": {
     "end_time": "2022-03-31T06:05:16.826766Z",
     "start_time": "2022-03-31T06:05:16.820691Z"
    },
    "pycharm": {
     "name": "#%%\n"
    }
   },
   "outputs": [],
   "source": [
    "from SEACells.domainadapt import LinearOT\n",
    "\n",
    "model = LinearOT(rho=0)\n",
    "\n",
    "xs_transformed, xt_transformed = model.fit_transform(xs, xt)"
   ]
  },
  {
   "cell_type": "code",
   "execution_count": 52,
   "metadata": {
    "ExecuteTime": {
     "end_time": "2022-03-31T06:05:17.887782Z",
     "start_time": "2022-03-31T06:05:17.870603Z"
    },
    "pycharm": {
     "name": "#%%\n"
    }
   },
   "outputs": [
    {
     "name": "stderr",
     "output_type": "stream",
     "text": [
      "/var/folders/x3/p87l8d1n5qvcxb8hjggq4cg80000gq/T/ipykernel_84957/2157489645.py:1: FutureWarning: The frame.append method is deprecated and will be removed from pandas in a future version. Use pandas.concat instead.\n",
      "  comb_ad.obsm['X_pca_transformed'] = pd.DataFrame(xs_transformed).append(pd.DataFrame(xt_transformed)).values\n"
     ]
    }
   ],
   "source": [
    "comb_ad.obsm['X_pca_transformed'] = pd.DataFrame(xs_transformed).append(pd.DataFrame(xt_transformed)).values"
   ]
  },
  {
   "cell_type": "markdown",
   "metadata": {},
   "source": [
    "## Integration result"
   ]
  },
  {
   "cell_type": "code",
   "execution_count": 60,
   "metadata": {
    "ExecuteTime": {
     "end_time": "2022-03-31T06:06:01.550339Z",
     "start_time": "2022-03-31T06:06:01.540069Z"
    }
   },
   "outputs": [],
   "source": [
    "sc.pp.neighbors(comb_ad, use_rep='X_pca_transformed', n_neighbors=5)"
   ]
  },
  {
   "cell_type": "code",
   "execution_count": 61,
   "metadata": {
    "ExecuteTime": {
     "end_time": "2022-03-31T06:06:02.688436Z",
     "start_time": "2022-03-31T06:06:02.041533Z"
    }
   },
   "outputs": [],
   "source": [
    "sc.tl.umap(comb_ad)"
   ]
  },
  {
   "cell_type": "code",
   "execution_count": 63,
   "metadata": {
    "ExecuteTime": {
     "end_time": "2022-03-31T06:06:21.972362Z",
     "start_time": "2022-03-31T06:06:21.747901Z"
    }
   },
   "outputs": [
    {
     "data": {
      "image/png": "[encoded data removed]",
      "text/plain": [
       "<Figure size 1140.48x288 with 2 Axes>"
      ]
     },
     "metadata": {},
     "output_type": "display_data"
    }
   ],
   "source": [
    "sc.pl.scatter(comb_ad, basis='umap', color=['celltype', 'Dataset'], frameon=False)"
   ]
  },
  {
   "cell_type": "code",
   "execution_count": null,
   "metadata": {},
   "outputs": [],
   "source": []
  },
  {
   "cell_type": "markdown",
   "metadata": {},
   "source": [
    "# Mapping ATAC SEACells to RNA SEACellss"
   ]
  },
  {
   "cell_type": "code",
   "execution_count": 64,
   "metadata": {
    "ExecuteTime": {
     "end_time": "2022-03-31T06:06:29.524259Z",
     "start_time": "2022-03-31T06:06:29.520866Z"
    }
   },
   "outputs": [],
   "source": [
    "# Mapping ATAC SEACells to RNA SEACellss\n",
    "rna_PCs = pd.DataFrame(xs_transformed)\n",
    "atac_PCs = pd.DataFrame(xt_transformed)\n",
    "\n",
    "rna_PCs.index = rna_meta_ad.obs_names\n",
    "atac_PCs.index = atac_meta_ad.obs_names\n"
   ]
  },
  {
   "cell_type": "code",
   "execution_count": 65,
   "metadata": {
    "ExecuteTime": {
     "end_time": "2022-03-31T06:06:29.813784Z",
     "start_time": "2022-03-31T06:06:29.806409Z"
    }
   },
   "outputs": [],
   "source": [
    "def compute_distances(df1, df2):\n",
    "    result = pd.DataFrame(np.zeros((df1.shape[0],df2.shape[0]))).set_index(df1.index)\n",
    "    result.columns = df2.index\n",
    "\n",
    "    for mc1, row1 in df1.iterrows():\n",
    "        for mc2, row2 in df2.iterrows():\n",
    "            result.loc[mc1, mc2] = np.sqrt(((row1-row2)**2).sum())\n",
    "\n",
    "    return result\n",
    "\n",
    "def get_match_ranks(t,k=5):\n",
    "    \"\"\"\n",
    "    Compute mutually ranked metacell matches.\n",
    "    \"\"\"\n",
    "    arr = t.values.T\n",
    "    ind = np.argsort(arr, axis=0)[:k].T\n",
    "\n",
    "    df = pd.DataFrame(t.columns.values[ind])\n",
    "    df.index = t.index\n",
    "    \n",
    "    return df\n",
    "\n",
    "def MNN(rna_PCs, atac_PCs, k=3):\n",
    "    \"\"\"\n",
    "    Construct a mapping between RNA and ATAC SEACells, if an RNA SEACell and \n",
    "    ATAC SEACell are mutually in each others' k-nearest neighbors.\n",
    "    \n",
    "    Nearest neighbors are computed based on distance in transformed PC space,\n",
    "    following domain adaption by optimal transport.\n",
    "    \"\"\"\n",
    "    \n",
    "    # Compute distances between PCs in each data set\n",
    "    dists = compute_distances(rna_PCs, atac_PCs)\n",
    "    \n",
    "    # Find the top k nearest neighbors in each row of the distance matrix\n",
    "    r1 = get_match_ranks(dists, k)\n",
    "    r2 = get_match_ranks(dists.T, k)\n",
    "    # Add edges between samples if they appear in each others top-ranks \n",
    "\n",
    "    edges = []\n",
    "    for index, row in r1.iterrows():\n",
    "        for nbr in row.values:\n",
    "            if index in r2.loc[nbr].values:\n",
    "                edges.append((index, nbr))\n",
    "\n",
    "    edges = pd.DataFrame(edges)\n",
    "    edges.columns = ['RNA', 'ATAC']\n",
    "    return edges"
   ]
  },
  {
   "cell_type": "code",
   "execution_count": 66,
   "metadata": {
    "ExecuteTime": {
     "end_time": "2022-03-31T06:06:32.033750Z",
     "start_time": "2022-03-31T06:06:30.640781Z"
    }
   },
   "outputs": [
    {
     "data": {
      "text/html": [
       "<div>\n",
       "<style scoped>\n",
       "    .dataframe tbody tr th:only-of-type {\n",
       "        vertical-align: middle;\n",
       "    }\n",
       "\n",
       "    .dataframe tbody tr th {\n",
       "        vertical-align: top;\n",
       "    }\n",
       "\n",
       "    .dataframe thead th {\n",
       "        text-align: right;\n",
       "    }\n",
       "</style>\n",
       "<table border=\"1\" class=\"dataframe\">\n",
       "  <thead>\n",
       "    <tr style=\"text-align: right;\">\n",
       "      <th></th>\n",
       "      <th>RNA</th>\n",
       "      <th>ATAC</th>\n",
       "    </tr>\n",
       "  </thead>\n",
       "  <tbody>\n",
       "    <tr>\n",
       "      <th>0</th>\n",
       "      <td>cd34_multiome_rep2#CATTCCTCACCCACAG-1</td>\n",
       "      <td>cd34_multiome_rep1#GGCGGTAAGTAGCGGG-1</td>\n",
       "    </tr>\n",
       "    <tr>\n",
       "      <th>1</th>\n",
       "      <td>cd34_multiome_rep2#CATTCCTCACCCACAG-1</td>\n",
       "      <td>cd34_multiome_rep1#TACAGCTAGACCATAC-1</td>\n",
       "    </tr>\n",
       "    <tr>\n",
       "      <th>2</th>\n",
       "      <td>cd34_multiome_rep2#CAATCGCCACGTAAGG-1</td>\n",
       "      <td>cd34_multiome_rep2#TAACCTAAGGATTGAG-1</td>\n",
       "    </tr>\n",
       "    <tr>\n",
       "      <th>3</th>\n",
       "      <td>cd34_multiome_rep1#CCAAGTTAGGACCTCA-1</td>\n",
       "      <td>cd34_multiome_rep1#ATGGCTGTCAATGTCA-1</td>\n",
       "    </tr>\n",
       "    <tr>\n",
       "      <th>4</th>\n",
       "      <td>cd34_multiome_rep1#CCAAGTTAGGACCTCA-1</td>\n",
       "      <td>cd34_multiome_rep1#ATTGCACAGTCAATTG-1</td>\n",
       "    </tr>\n",
       "  </tbody>\n",
       "</table>\n",
       "</div>"
      ],
      "text/plain": [
       "                                     RNA  \\\n",
       "0  cd34_multiome_rep2#CATTCCTCACCCACAG-1   \n",
       "1  cd34_multiome_rep2#CATTCCTCACCCACAG-1   \n",
       "2  cd34_multiome_rep2#CAATCGCCACGTAAGG-1   \n",
       "3  cd34_multiome_rep1#CCAAGTTAGGACCTCA-1   \n",
       "4  cd34_multiome_rep1#CCAAGTTAGGACCTCA-1   \n",
       "\n",
       "                                    ATAC  \n",
       "0  cd34_multiome_rep1#GGCGGTAAGTAGCGGG-1  \n",
       "1  cd34_multiome_rep1#TACAGCTAGACCATAC-1  \n",
       "2  cd34_multiome_rep2#TAACCTAAGGATTGAG-1  \n",
       "3  cd34_multiome_rep1#ATGGCTGTCAATGTCA-1  \n",
       "4  cd34_multiome_rep1#ATTGCACAGTCAATTG-1  "
      ]
     },
     "execution_count": 66,
     "metadata": {},
     "output_type": "execute_result"
    }
   ],
   "source": [
    "mapping = MNN(rna_PCs, atac_PCs)\n",
    "mapping.head()"
   ]
  },
  {
   "cell_type": "code",
   "execution_count": null,
   "metadata": {},
   "outputs": [],
   "source": []
  }
 ],
 "metadata": {
  "hide_input": false,
  "kernelspec": {
   "display_name": "Python 3 (ipykernel)",
   "language": "python",
   "name": "python3"
  },
  "language_info": {
   "codemirror_mode": {
    "name": "ipython",
    "version": 3
   },
   "file_extension": ".py",
   "mimetype": "text/x-python",
   "name": "python",
   "nbconvert_exporter": "python",
   "pygments_lexer": "ipython3",
   "version": "3.8.13"
  },
  "toc": {
   "base_numbering": 1,
   "nav_menu": {},
   "number_sections": true,
   "sideBar": true,
   "skip_h1_title": false,
   "title_cell": "Table of Contents",
   "title_sidebar": "Contents",
   "toc_cell": false,
   "toc_position": {},
   "toc_section_display": true,
   "toc_window_display": false
  }
 },
 "nbformat": 4,
 "nbformat_minor": 1
}
