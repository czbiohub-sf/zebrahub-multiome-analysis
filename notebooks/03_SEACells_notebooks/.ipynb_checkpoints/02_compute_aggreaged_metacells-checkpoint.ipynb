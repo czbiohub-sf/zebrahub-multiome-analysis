{
 "cells": [
  {
   "cell_type": "markdown",
   "metadata": {},
   "source": [
    "This notebook is a tutorial for ATAC analysis using SEACells and includes computation of gene-peak associations, ATAC gene scores, gene accessibility scores and identification of highly regulated genes\n",
    "\n",
    "- NOTE: We will use our TDR118 pilot dataset (zebrafish, 15-somite) for this vignette."
   ]
  },
  {
   "cell_type": "markdown",
   "metadata": {},
   "source": [
    "# Imports"
   ]
  },
  {
   "cell_type": "code",
   "execution_count": 1,
   "metadata": {
    "ExecuteTime": {
     "end_time": "2022-01-19T06:15:58.699769Z",
     "start_time": "2022-01-19T06:15:54.087042Z"
    }
   },
   "outputs": [],
   "source": [
    "import numpy as np\n",
    "import pandas as pd\n",
    "import scanpy as sc"
   ]
  },
  {
   "cell_type": "code",
   "execution_count": 2,
   "metadata": {
    "ExecuteTime": {
     "end_time": "2022-01-19T06:15:59.824983Z",
     "start_time": "2022-01-19T06:15:58.701883Z"
    }
   },
   "outputs": [
    {
     "name": "stderr",
     "output_type": "stream",
     "text": [
      "findfont: Font family ['Raleway'] not found. Falling back to DejaVu Sans.\n"
     ]
    }
   ],
   "source": [
    "import SEACells"
   ]
  },
  {
   "cell_type": "code",
   "execution_count": 3,
   "metadata": {
    "ExecuteTime": {
     "end_time": "2022-01-19T06:15:59.851745Z",
     "start_time": "2022-01-19T06:15:59.826591Z"
    }
   },
   "outputs": [],
   "source": [
    "import matplotlib\n",
    "import matplotlib.pyplot as plt\n",
    "import seaborn as sns"
   ]
  },
  {
   "cell_type": "code",
   "execution_count": 4,
   "metadata": {
    "ExecuteTime": {
     "end_time": "2022-01-19T06:15:59.879104Z",
     "start_time": "2022-01-19T06:15:59.852975Z"
    }
   },
   "outputs": [],
   "source": [
    "# Some plotting aesthetics\n",
    "%matplotlib inline\n",
    "\n",
    "sns.set_style('ticks')\n",
    "matplotlib.rcParams['figure.figsize'] = [4, 4]\n",
    "matplotlib.rcParams['figure.dpi'] = 100\n"
   ]
  },
  {
   "cell_type": "markdown",
   "metadata": {},
   "source": [
    "# Load Data\n",
    "\n",
    "We recommend the use of scanpy Anndata objects as the preferred mode of loading and filtering data.\n",
    "\n",
    "A sample datset is available for download with the instructions listed below. This is a filtered, unnormalized counts of multiome dataset of CD34+ sorted bone marrow cells to profile human hematopoiesis [Dataset ref TBD]. \n",
    "\n",
    "Uncomment the following lines to download the sample dataset in a Unix-based system. For non-UNIX systems, download the files using the URL"
   ]
  },
  {
   "cell_type": "code",
   "execution_count": 6,
   "metadata": {
    "ExecuteTime": {
     "end_time": "2022-01-19T06:15:59.902776Z",
     "start_time": "2022-01-19T06:15:59.880349Z"
    }
   },
   "outputs": [],
   "source": [
    "# !mkdir data/\n",
    "# !wget https://dp-lab-data-public.s3.amazonaws.com/SEACells-multiome/cd34_multiome_rna.h5ad -O data/cd34_multiome_rna.h5ad # RNA data\n",
    "# !wget https://dp-lab-data-public.s3.amazonaws.com/SEACells-multiome/cd34_multiome_atac.h5ad -O data/cd34_multiome_atac.h5ad # ATAC data"
   ]
  },
  {
   "cell_type": "markdown",
   "metadata": {},
   "source": [
    "The dataset contains RNA and ATAC modalities as two different Anndata objects. The ATAC dataset contains precomputed SEACell metacells "
   ]
  },
  {
   "cell_type": "code",
   "execution_count": 5,
   "metadata": {
    "ExecuteTime": {
     "end_time": "2022-01-19T06:15:59.930818Z",
     "start_time": "2022-01-19T06:15:59.903970Z"
    }
   },
   "outputs": [
    {
     "data": {
      "text/plain": [
       "['TDR118_processed_peaks_merged.h5ad',\n",
       " 'TDR118_processed_peaks_merged.h5Seurat',\n",
       " 'TDR118_processed_RNA.h5Seurat',\n",
       " 'peaks_merged_raw_counts.csv',\n",
       " 'TDR118_processed.RDS',\n",
       " 'TDR118_processed_RNA.h5ad']"
      ]
     },
     "execution_count": 5,
     "metadata": {},
     "output_type": "execute_result"
    }
   ],
   "source": [
    "import os\n",
    "os.listdir('/hpc/projects/data.science/yangjoon.kim/zebrahub_multiome/data/processed_data/01_Signac_processed/TDR118reseq/')"
   ]
  },
  {
   "cell_type": "code",
   "execution_count": 6,
   "metadata": {
    "ExecuteTime": {
     "end_time": "2022-01-19T06:16:02.233299Z",
     "start_time": "2022-01-19T06:15:59.932049Z"
    }
   },
   "outputs": [],
   "source": [
    "# Load the data using scanpy (01/30/2024)\n",
    "filepath = '/hpc/projects/data.science/yangjoon.kim/zebrahub_multiome/data/processed_data/01_Signac_processed/TDR118reseq/'\n",
    "# replacing the RNA data with the re-sequenced/re-processed one\n",
    "rna_ad = sc.read(filepath + \"TDR118_processed_RNA.h5ad\")\n",
    "\n",
    "# use the ATAC data\n",
    "atac_ad = sc.read(filepath + 'TDR118_processed_peaks_merged.h5ad')"
   ]
  },
  {
   "cell_type": "code",
   "execution_count": 7,
   "metadata": {
    "ExecuteTime": {
     "end_time": "2022-01-19T06:16:02.260460Z",
     "start_time": "2022-01-19T06:16:02.234812Z"
    }
   },
   "outputs": [
    {
     "data": {
      "text/plain": [
       "AnnData object with n_obs × n_vars = 13614 × 32057\n",
       "    obs: 'orig.ident', 'nCount_RNA', 'nFeature_RNA', 'nCount_ATAC', 'nFeature_ATAC', 'nucleosome_signal', 'nucleosome_percentile', 'TSS.enrichment', 'TSS.percentile', 'nCount_SCT', 'nFeature_SCT', 'global_annotation', 'prediction.score.Lateral_Mesoderm', 'prediction.score.Neural_Crest', 'prediction.score.Somites', 'prediction.score.Epidermal', 'prediction.score.Neural_Anterior', 'prediction.score.Neural_Posterior', 'prediction.score.Endoderm', 'prediction.score.PSM', 'prediction.score.Differentiating_Neurons', 'prediction.score.Adaxial_Cells', 'prediction.score.NMPs', 'prediction.score.Notochord', 'prediction.score.Muscle', 'prediction.score.unassigned', 'prediction.score.max', 'nCount_peaks_bulk', 'nFeature_peaks_bulk', 'nCount_peaks_celltype', 'nFeature_peaks_celltype', 'nCount_peaks_merged', 'nFeature_peaks_merged', 'SCT.weight', 'peaks_merged.weight', 'nCount_Gene.Activity', 'nFeature_Gene.Activity'\n",
       "    var: 'features'\n",
       "    obsm: 'X_umap.atac', 'X_umap.joint', 'X_umap.rna'"
      ]
     },
     "execution_count": 7,
     "metadata": {},
     "output_type": "execute_result"
    }
   ],
   "source": [
    "rna_ad"
   ]
  },
  {
   "cell_type": "code",
   "execution_count": 8,
   "metadata": {},
   "outputs": [],
   "source": [
    "# List of columns to keep (those not starting with \"prediction\")\n",
    "columns_to_keep = [col for col in rna_ad.obs.columns if not col.startswith(\"prediction\")]\n",
    "\n",
    "# Subset the adata.obs with the columns to keep\n",
    "rna_ad.obs = rna_ad.obs[columns_to_keep]\n",
    "\n",
    "# List of columns to keep (those not starting with \"prediction\")\n",
    "columns_to_keep = [col for col in atac_ad.obs.columns if not col.startswith(\"prediction\")]\n",
    "\n",
    "# Subset the adata.obs with the columns to keep\n",
    "atac_ad.obs = atac_ad.obs[columns_to_keep]"
   ]
  },
  {
   "cell_type": "code",
   "execution_count": 10,
   "metadata": {},
   "outputs": [
    {
     "data": {
      "text/plain": [
       "AnnData object with n_obs × n_vars = 13614 × 485357\n",
       "    obs: 'orig.ident', 'nCount_RNA', 'nFeature_RNA', 'nCount_ATAC', 'nFeature_ATAC', 'nucleosome_signal', 'nucleosome_percentile', 'TSS.enrichment', 'TSS.percentile', 'nCount_SCT', 'nFeature_SCT', 'global_annotation', 'nCount_peaks_bulk', 'nFeature_peaks_bulk', 'nCount_peaks_celltype', 'nFeature_peaks_celltype', 'nCount_peaks_merged', 'nFeature_peaks_merged', 'SCT.weight', 'peaks_merged.weight', 'nCount_Gene.Activity', 'nFeature_Gene.Activity'\n",
       "    var: 'count', 'percentile'\n",
       "    obsm: 'X_lsi', 'X_umap.atac', 'X_umap.joint', 'X_umap.rna'\n",
       "    varm: 'LSI'"
      ]
     },
     "execution_count": 10,
     "metadata": {},
     "output_type": "execute_result"
    }
   ],
   "source": [
    "atac_ad"
   ]
  },
  {
   "cell_type": "code",
   "execution_count": 11,
   "metadata": {},
   "outputs": [],
   "source": [
    "atac_ad_seacells = sc.read_h5ad(\"/hpc/projects/data.science/yangjoon.kim/zebrahub_multiome/data/processed_data/05_SEACells_processed/TDR118reseq/TDR118_ATAC_SEACells.h5ad\")"
   ]
  },
  {
   "cell_type": "code",
   "execution_count": 13,
   "metadata": {},
   "outputs": [
    {
     "data": {
      "text/plain": [
       "AnnData object with n_obs × n_vars = 13614 × 485357\n",
       "    obs: 'orig.ident', 'nCount_RNA', 'nFeature_RNA', 'nCount_ATAC', 'nFeature_ATAC', 'nucleosome_signal', 'nucleosome_percentile', 'TSS.enrichment', 'TSS.percentile', 'nCount_SCT', 'nFeature_SCT', 'global_annotation', 'nCount_peaks_bulk', 'nFeature_peaks_bulk', 'nCount_peaks_celltype', 'nFeature_peaks_celltype', 'nCount_peaks_merged', 'nFeature_peaks_merged', 'SCT.weight', 'peaks_merged.weight', 'nCount_Gene.Activity', 'nFeature_Gene.Activity', 'SEACell'\n",
       "    var: 'count', 'percentile'\n",
       "    uns: 'global_annotation_colors', 'neighbors'\n",
       "    obsm: 'X_lsi', 'X_umap.atac', 'X_umap.joint', 'X_umap.rna'\n",
       "    varm: 'LSI'\n",
       "    obsp: 'connectivities', 'distances'"
      ]
     },
     "execution_count": 13,
     "metadata": {},
     "output_type": "execute_result"
    }
   ],
   "source": [
    "atac_ad_seacells"
   ]
  },
  {
   "cell_type": "code",
   "execution_count": 15,
   "metadata": {},
   "outputs": [],
   "source": [
    "# since SEACell aggregation requires \"X_svd\" embedding, we will add it (it's basically the same as X_lsi in our pipeline)\n",
    "atac_ad_seacells.obsm[\"X_svd\"] = atac_ad_seacells.obsm[\"X_lsi\"]"
   ]
  },
  {
   "cell_type": "code",
   "execution_count": 18,
   "metadata": {},
   "outputs": [
    {
     "data": {
      "text/html": [
       "<div>\n",
       "<style scoped>\n",
       "    .dataframe tbody tr th:only-of-type {\n",
       "        vertical-align: middle;\n",
       "    }\n",
       "\n",
       "    .dataframe tbody tr th {\n",
       "        vertical-align: top;\n",
       "    }\n",
       "\n",
       "    .dataframe thead th {\n",
       "        text-align: right;\n",
       "    }\n",
       "</style>\n",
       "<table border=\"1\" class=\"dataframe\">\n",
       "  <thead>\n",
       "    <tr style=\"text-align: right;\">\n",
       "      <th></th>\n",
       "      <th>count</th>\n",
       "      <th>percentile</th>\n",
       "    </tr>\n",
       "  </thead>\n",
       "  <tbody>\n",
       "    <tr>\n",
       "      <th>1-3427-4032</th>\n",
       "      <td>506.0</td>\n",
       "      <td>0.852820</td>\n",
       "    </tr>\n",
       "    <tr>\n",
       "      <th>1-4473-6136</th>\n",
       "      <td>2099.0</td>\n",
       "      <td>0.958727</td>\n",
       "    </tr>\n",
       "    <tr>\n",
       "      <th>1-11020-12944</th>\n",
       "      <td>7450.0</td>\n",
       "      <td>0.995138</td>\n",
       "    </tr>\n",
       "    <tr>\n",
       "      <th>1-13368-13575</th>\n",
       "      <td>437.0</td>\n",
       "      <td>0.834635</td>\n",
       "    </tr>\n",
       "    <tr>\n",
       "      <th>1-14640-15050</th>\n",
       "      <td>1941.0</td>\n",
       "      <td>0.955122</td>\n",
       "    </tr>\n",
       "    <tr>\n",
       "      <th>...</th>\n",
       "      <td>...</td>\n",
       "      <td>...</td>\n",
       "    </tr>\n",
       "    <tr>\n",
       "      <th>9-56298513-56299501</th>\n",
       "      <td>150.0</td>\n",
       "      <td>0.616019</td>\n",
       "    </tr>\n",
       "    <tr>\n",
       "      <th>9-56396807-56397687</th>\n",
       "      <td>133.0</td>\n",
       "      <td>0.577795</td>\n",
       "    </tr>\n",
       "    <tr>\n",
       "      <th>9-56400365-56401096</th>\n",
       "      <td>484.0</td>\n",
       "      <td>0.847424</td>\n",
       "    </tr>\n",
       "    <tr>\n",
       "      <th>9-56411957-56412701</th>\n",
       "      <td>385.0</td>\n",
       "      <td>0.817085</td>\n",
       "    </tr>\n",
       "    <tr>\n",
       "      <th>9-56433462-56434391</th>\n",
       "      <td>117.0</td>\n",
       "      <td>0.534244</td>\n",
       "    </tr>\n",
       "  </tbody>\n",
       "</table>\n",
       "<p>485357 rows × 2 columns</p>\n",
       "</div>"
      ],
      "text/plain": [
       "                      count  percentile\n",
       "1-3427-4032           506.0    0.852820\n",
       "1-4473-6136          2099.0    0.958727\n",
       "1-11020-12944        7450.0    0.995138\n",
       "1-13368-13575         437.0    0.834635\n",
       "1-14640-15050        1941.0    0.955122\n",
       "...                     ...         ...\n",
       "9-56298513-56299501   150.0    0.616019\n",
       "9-56396807-56397687   133.0    0.577795\n",
       "9-56400365-56401096   484.0    0.847424\n",
       "9-56411957-56412701   385.0    0.817085\n",
       "9-56433462-56434391   117.0    0.534244\n",
       "\n",
       "[485357 rows x 2 columns]"
      ]
     },
     "execution_count": 18,
     "metadata": {},
     "output_type": "execute_result"
    }
   ],
   "source": [
    "atac_ad_seacells.var"
   ]
  },
  {
   "cell_type": "code",
   "execution_count": 43,
   "metadata": {},
   "outputs": [],
   "source": [
    "# # Compute the GC content of peaks for SEACells\n",
    "# # SEACells.genescore.prepare_multiome_anndata()\n",
    "# # source: https://github.com/dpeerlab/SEACells/issues/12\n",
    "\n",
    "# import numpy as np\n",
    "# import anndata as ad\n",
    "\n",
    "# import genomepy\n",
    "# from Bio.SeqUtils import gc_fraction\n",
    "\n",
    "# # inputs:\n",
    "# # 1) adata_atac: anndata for the scATAC-seq (cells-by-peaks)\n",
    "# # output:\n",
    "# def compute_GC_contents_scATAC(adata_atac, genome_name, provider):\n",
    "\n",
    "#     # download genome from NCBI\n",
    "#     genome_name = \"GRCz11\"\n",
    "#     provider = \"Ensembl\"\n",
    "#     genomepy.install_genome(name=genome_name, provider=provider, genome_dir = \"../data\")\n",
    "#     genome = genomepy.Genome(name=genome_name, genome_dir=\"../data\")\n",
    "#     #genomepy.install_genome(name='GRCh38', provider='NCBI', genomes_dir = ''../data') # took about 9 min\n",
    "#     #genome = genomepy.Genome(name = 'GRCh38', genomes_dir = '../data')\n",
    "\n",
    "#     GC_content_list = []\n",
    "\n",
    "#     for i, region in enumerate(adata_atac.var_names):\n",
    "#         chromosome, start, end = region.split('-')\n",
    "#         chromosome = chromosome[3:]\n",
    "\n",
    "#         # get sequence\n",
    "#         sequence = str(genome.get_seq(name = chromosome, start = int(start), end = int(end)))\n",
    "\n",
    "#         # calculate GC content\n",
    "#         GC_content = gc_fraction(str(sequence))\n",
    "#         GC_content_list.append(GC_content)\n",
    "\n",
    "#     # GC content ranges from 0% - 100%, should be 0 to 1\n",
    "#     adata_atac.var['GC'] = GC_content_list\n",
    "#     adata_atac.var.GC = adata_atac.var.GC/100\n",
    "\n",
    "#     return adata_atac"
   ]
  },
  {
   "cell_type": "code",
   "execution_count": 42,
   "metadata": {},
   "outputs": [],
   "source": [
    "# # To find the right genome name and provider\n",
    "# for provided_genome in genomepy.search('GRCz11', provider=None):\n",
    "#    print(provided_genome)\n",
    "\n",
    "# # result:\n",
    "# # ['GRCz11', 'Ensembl', 'GCA_000002035.4', 7955, True, 'Danio rerio', '2017-08-Ensembl/2018-04']\n",
    "# # ['danRer11', 'UCSC', 'GCA_000002035.4', 7955, [True, True, True, False], 'Danio rerio', 'May 2017 (GRCz11/danRer11)']"
   ]
  },
  {
   "cell_type": "code",
   "execution_count": 52,
   "metadata": {},
   "outputs": [],
   "source": [
    "# atac_ad_seacells = compute_GC_contents_scATAC(atac_ad_seacells, \"GRCz11\", \"Ensembl\")\n"
   ]
  },
  {
   "cell_type": "code",
   "execution_count": 53,
   "metadata": {},
   "outputs": [
    {
     "data": {
      "text/plain": [
       "1-3427-4032            0.5\n",
       "1-4473-6136            0.5\n",
       "1-11020-12944          0.5\n",
       "1-13368-13575          0.5\n",
       "1-14640-15050          0.5\n",
       "                      ... \n",
       "9-56298513-56299501    0.5\n",
       "9-56396807-56397687    0.5\n",
       "9-56400365-56401096    0.5\n",
       "9-56411957-56412701    0.5\n",
       "9-56433462-56434391    0.5\n",
       "Name: GC, Length: 485357, dtype: float64"
      ]
     },
     "execution_count": 53,
     "metadata": {},
     "output_type": "execute_result"
    }
   ],
   "source": [
    "# add a non-true value of 0.5 for atac_ad_seacells.var[\"GC\"] field \n",
    "# this is for SEACElls operations\n",
    "atac_ad_seacells.var[\"GC\"] = 0.5\n",
    "atac_ad_seacells.var[\"GC\"]"
   ]
  },
  {
   "cell_type": "markdown",
   "metadata": {},
   "source": [
    "# Preparation step\n"
   ]
  },
  {
   "cell_type": "markdown",
   "metadata": {},
   "source": [
    "In the first step, we derive summarized ATAC and RNA SEACell metacells Anndata objects. Both the input single-cell RNA and ATAC anndata objects should contain raw, unnormalized data. SEACell results on ATAC data will be used for the summarization\n",
    "\n",
    "<b>Warning: </b> The ATAC and RNA single-cell Anndata objects should contain the same set of cells. Only the common cells will be used for downstream analyses."
   ]
  },
  {
   "cell_type": "code",
   "execution_count": 54,
   "metadata": {
    "ExecuteTime": {
     "end_time": "2022-01-19T06:16:13.330141Z",
     "start_time": "2022-01-19T06:16:02.906027Z"
    }
   },
   "outputs": [
    {
     "name": "stdout",
     "output_type": "stream",
     "text": [
      "Generating Metacell matrices...\n",
      " ATAC\n"
     ]
    },
    {
     "name": "stderr",
     "output_type": "stream",
     "text": [
      "100%|██████████| 180/180 [00:01<00:00, 113.71it/s]\n",
      "/home/yang-joon.kim/.conda/envs/seacells/lib/python3.8/site-packages/SEACells-0.3.3-py3.8.egg/SEACells/genescores.py:77: ImplicitModificationWarning: Trying to modify attribute `.var` of view, initializing view as actual.\n",
      "  atac_ad.var['log_n_counts'] = np.ravel(np.log10(atac_ad.X.sum(axis=0)))\n",
      "/home/yang-joon.kim/.conda/envs/seacells/lib/python3.8/site-packages/SEACells-0.3.3-py3.8.egg/SEACells/genescores.py:58: ImplicitModificationWarning: Trying to modify attribute `.obs` of view, initializing view as actual.\n",
      "  rna_mod_ad.obs['temp'] = atac_mod_ad.obs[SEACells_label]\n"
     ]
    },
    {
     "name": "stdout",
     "output_type": "stream",
     "text": [
      " RNA\n"
     ]
    },
    {
     "name": "stderr",
     "output_type": "stream",
     "text": [
      "100%|██████████| 180/180 [00:00<00:00, 266.37it/s]\n"
     ]
    }
   ],
   "source": [
    "atac_meta_ad, rna_meta_ad = SEACells.genescores.prepare_multiome_anndata(atac_ad_seacells, rna_ad, SEACells_label='SEACell')"
   ]
  },
  {
   "cell_type": "markdown",
   "metadata": {},
   "source": [
    "The preparation step will generate summarized anndata objects for RNA and ATAC"
   ]
  },
  {
   "cell_type": "code",
   "execution_count": 55,
   "metadata": {
    "ExecuteTime": {
     "end_time": "2022-01-19T06:16:13.360325Z",
     "start_time": "2022-01-19T06:16:13.331927Z"
    }
   },
   "outputs": [
    {
     "data": {
      "text/plain": [
       "AnnData object with n_obs × n_vars = 180 × 485357\n",
       "    obs: 'n_counts'\n",
       "    var: 'GC_bin', 'counts_bin', 'n_cells'\n",
       "    uns: 'log1p'\n",
       "    obsm: 'X_svd'\n",
       "    layers: 'raw'"
      ]
     },
     "execution_count": 55,
     "metadata": {},
     "output_type": "execute_result"
    }
   ],
   "source": [
    "atac_meta_ad"
   ]
  },
  {
   "cell_type": "code",
   "execution_count": 56,
   "metadata": {
    "ExecuteTime": {
     "end_time": "2022-01-19T06:16:13.386498Z",
     "start_time": "2022-01-19T06:16:13.361504Z"
    }
   },
   "outputs": [
    {
     "data": {
      "text/plain": [
       "AnnData object with n_obs × n_vars = 180 × 32057\n",
       "    obs: 'n_counts'\n",
       "    uns: 'log1p'\n",
       "    layers: 'raw'"
      ]
     },
     "execution_count": 56,
     "metadata": {},
     "output_type": "execute_result"
    }
   ],
   "source": [
    "rna_meta_ad"
   ]
  },
  {
   "cell_type": "code",
   "execution_count": 58,
   "metadata": {},
   "outputs": [],
   "source": [
    "# save the aggregated adata objects\n",
    "atac_meta_ad.write_h5ad(\"/hpc/projects/data.science/yangjoon.kim/zebrahub_multiome/data/processed_data/05_SEACells_processed/TDR118reseq/TDR118_ATAC_seacells_aggre.h5ad\")\n",
    "rna_meta_ad.write_h5ad(\"/hpc/projects/data.science/yangjoon.kim/zebrahub_multiome/data/processed_data/05_SEACells_processed/TDR118reseq/TDR118_RNA_seacells_aggre.h5ad\")"
   ]
  },
  {
   "cell_type": "markdown",
   "metadata": {},
   "source": [
    "### NOTE:\n",
    "- the raw counts are saved in adata.layers[\"raw\"]."
   ]
  },
  {
   "cell_type": "code",
   "execution_count": 66,
   "metadata": {},
   "outputs": [
    {
     "data": {
      "text/plain": [
       "matrix([[ 4.,  7., 35., ...,  5.,  2.,  0.],\n",
       "        [ 1.,  5., 15., ...,  1.,  0.,  0.],\n",
       "        [ 2., 14., 45., ...,  2.,  2.,  1.],\n",
       "        ...,\n",
       "        [ 2.,  3.,  8., ...,  0.,  1.,  0.],\n",
       "        [ 0.,  5., 28., ...,  0.,  1.,  0.],\n",
       "        [ 2.,  0., 11., ...,  0.,  0.,  0.]])"
      ]
     },
     "execution_count": 66,
     "metadata": {},
     "output_type": "execute_result"
    }
   ],
   "source": [
    "atac_meta_ad.raw.X.todense()"
   ]
  },
  {
   "cell_type": "code",
   "execution_count": 70,
   "metadata": {},
   "outputs": [
    {
     "data": {
      "text/plain": [
       "matrix([[0.000e+00, 0.000e+00, 1.000e+00, ..., 1.838e+03, 0.000e+00,\n",
       "         0.000e+00],\n",
       "        [1.000e+00, 1.000e+00, 0.000e+00, ..., 2.242e+03, 1.000e+00,\n",
       "         1.000e+00],\n",
       "        [0.000e+00, 0.000e+00, 1.000e+00, ..., 1.735e+03, 0.000e+00,\n",
       "         2.000e+00],\n",
       "        ...,\n",
       "        [0.000e+00, 0.000e+00, 0.000e+00, ..., 6.200e+02, 0.000e+00,\n",
       "         0.000e+00],\n",
       "        [0.000e+00, 1.000e+00, 1.000e+00, ..., 7.170e+02, 0.000e+00,\n",
       "         0.000e+00],\n",
       "        [0.000e+00, 1.000e+00, 0.000e+00, ..., 3.230e+02, 1.000e+00,\n",
       "         0.000e+00]])"
      ]
     },
     "execution_count": 70,
     "metadata": {},
     "output_type": "execute_result"
    }
   ],
   "source": [
    "rna_meta_ad.layers[\"raw\"].todense()"
   ]
  },
  {
   "cell_type": "code",
   "execution_count": null,
   "metadata": {},
   "outputs": [],
   "source": []
  },
  {
   "cell_type": "code",
   "execution_count": null,
   "metadata": {},
   "outputs": [],
   "source": []
  },
  {
   "cell_type": "code",
   "execution_count": null,
   "metadata": {},
   "outputs": [],
   "source": []
  },
  {
   "cell_type": "code",
   "execution_count": null,
   "metadata": {},
   "outputs": [],
   "source": []
  },
  {
   "cell_type": "code",
   "execution_count": null,
   "metadata": {},
   "outputs": [],
   "source": []
  },
  {
   "cell_type": "markdown",
   "metadata": {},
   "source": [
    "# Gene-peak correlations"
   ]
  },
  {
   "cell_type": "markdown",
   "metadata": {},
   "source": [
    "Using the paired multiome metacell data, the next step is to compute the correlation of gene expression and accessbility of peaks within the vicinity of the gene. \n",
    "\n",
    "Computation of gene peak correlations requires the following parameters :\n",
    "1. GTF file with gene annotations. <b> Note: </b> Chromosome names should be numbered 1, 2 and the \"chr\" prefix will be added by SEACells \n",
    "2. Genomic span around genes to test the correlations \n",
    "\n",
    "Human GTF file is available at [https://dp-lab-data-public.s3.amazonaws.com/SEACells-multiome/hg38.gtf](https://dp-lab-data-public.s3.amazonaws.com/SEACells-multiome/hg38.gtf) and can be downloaded using:"
   ]
  },
  {
   "cell_type": "code",
   "execution_count": 17,
   "metadata": {
    "ExecuteTime": {
     "end_time": "2022-01-19T06:16:13.409646Z",
     "start_time": "2022-01-19T06:16:13.387737Z"
    }
   },
   "outputs": [],
   "source": [
    "#! wget https://dp-lab-data-public.s3.amazonaws.com/SEACells-multiome/hg38.gtf -O data/hg38.gtf"
   ]
  },
  {
   "cell_type": "code",
   "execution_count": 18,
   "metadata": {
    "ExecuteTime": {
     "end_time": "2022-01-19T06:18:14.343699Z",
     "start_time": "2022-01-19T06:16:13.410837Z"
    }
   },
   "outputs": [
    {
     "name": "stdout",
     "output_type": "stream",
     "text": [
      "Loading transcripts per gene...\n",
      "Preparing matrices for gene-peak associations\n"
     ]
    },
    {
     "name": "stderr",
     "output_type": "stream",
     "text": [
      "  0%|                                                                                            | 0/10 [00:00<?, ?it/s]"
     ]
    },
    {
     "name": "stdout",
     "output_type": "stream",
     "text": [
      "Computing peak-gene correlations\n"
     ]
    },
    {
     "name": "stderr",
     "output_type": "stream",
     "text": [
      " 30%|█████████████████████████▏                                                          | 3/10 [00:01<00:03,  1.78it/s]/home/msetty/.conda/envs/squidpy/lib/python3.9/site-packages/scipy/stats/_distn_infrastructure.py:1919: RuntimeWarning: invalid value encountered in double_scalars\n",
      "  x = np.asarray((x - loc)/scale, dtype=dtyp)\n",
      " 40%|█████████████████████████████████▌                                                  | 4/10 [00:02<00:04,  1.34it/s]/home/msetty/.conda/envs/squidpy/lib/python3.9/site-packages/scipy/stats/_distn_infrastructure.py:1919: RuntimeWarning: invalid value encountered in double_scalars\n",
      "  x = np.asarray((x - loc)/scale, dtype=dtyp)\n",
      "100%|███████████████████████████████████████████████████████████████████████████████████| 10/10 [00:08<00:00,  1.13it/s]\n"
     ]
    }
   ],
   "source": [
    "# In this example, we compute gene peak correlations for the first ten genes since \n",
    "# this process is computationally intensive\n",
    "gene_set = rna_meta_ad.var_names[:10]\n",
    "gene_peak_cors = SEACells.genescores.get_gene_peak_correlations(atac_meta_ad, rna_meta_ad, \n",
    "                                           path_to_gtf='data/hg38.gtf', \n",
    "                                           span=100000, \n",
    "                                           n_jobs=1,\n",
    "                                           gene_set=gene_set)"
   ]
  },
  {
   "cell_type": "markdown",
   "metadata": {},
   "source": [
    "The result of this function is a `pandas.Series` object with one entry for each gene. Each entry is a `pandas.DataFrame` with the correlation of peak accessibility and gene expression and the p-value for significance of correlation using GC and accessiblity matched background sets"
   ]
  },
  {
   "cell_type": "code",
   "execution_count": 19,
   "metadata": {
    "ExecuteTime": {
     "end_time": "2022-01-19T06:18:15.145885Z",
     "start_time": "2022-01-19T06:18:14.345085Z"
    }
   },
   "outputs": [
    {
     "data": {
      "text/html": [
       "<div>\n",
       "<style scoped>\n",
       "    .dataframe tbody tr th:only-of-type {\n",
       "        vertical-align: middle;\n",
       "    }\n",
       "\n",
       "    .dataframe tbody tr th {\n",
       "        vertical-align: top;\n",
       "    }\n",
       "\n",
       "    .dataframe thead th {\n",
       "        text-align: right;\n",
       "    }\n",
       "</style>\n",
       "<table border=\"1\" class=\"dataframe\">\n",
       "  <thead>\n",
       "    <tr style=\"text-align: right;\">\n",
       "      <th></th>\n",
       "      <th>cor</th>\n",
       "      <th>pval</th>\n",
       "    </tr>\n",
       "  </thead>\n",
       "  <tbody>\n",
       "    <tr>\n",
       "      <th>chr1:816070-816570</th>\n",
       "      <td>0.045967</td>\n",
       "      <td>0.611819</td>\n",
       "    </tr>\n",
       "    <tr>\n",
       "      <th>chr1:817092-817592</th>\n",
       "      <td>0.137940</td>\n",
       "      <td>0.381903</td>\n",
       "    </tr>\n",
       "    <tr>\n",
       "      <th>chr1:827266-827766</th>\n",
       "      <td>-0.029674</td>\n",
       "      <td>0.791839</td>\n",
       "    </tr>\n",
       "    <tr>\n",
       "      <th>chr1:838271-838771</th>\n",
       "      <td>-0.032071</td>\n",
       "      <td>0.868509</td>\n",
       "    </tr>\n",
       "    <tr>\n",
       "      <th>chr1:842638-843138</th>\n",
       "      <td>-0.162115</td>\n",
       "      <td>0.951703</td>\n",
       "    </tr>\n",
       "  </tbody>\n",
       "</table>\n",
       "</div>"
      ],
      "text/plain": [
       "                         cor      pval\n",
       "chr1:816070-816570  0.045967  0.611819\n",
       "chr1:817092-817592  0.137940  0.381903\n",
       "chr1:827266-827766 -0.029674  0.791839\n",
       "chr1:838271-838771 -0.032071  0.868509\n",
       "chr1:842638-843138 -0.162115  0.951703"
      ]
     },
     "execution_count": 19,
     "metadata": {},
     "output_type": "execute_result"
    }
   ],
   "source": [
    "gene_peak_cors['FAM41C'].head()"
   ]
  },
  {
   "cell_type": "markdown",
   "metadata": {},
   "source": [
    "If no peaks are present in the specified span of the gene, the entry in the dictionary contains a zero"
   ]
  },
  {
   "cell_type": "code",
   "execution_count": 20,
   "metadata": {
    "ExecuteTime": {
     "end_time": "2022-01-19T06:18:15.173783Z",
     "start_time": "2022-01-19T06:18:15.147262Z"
    }
   },
   "outputs": [
    {
     "data": {
      "text/plain": [
       "0"
      ]
     },
     "execution_count": 20,
     "metadata": {},
     "output_type": "execute_result"
    }
   ],
   "source": [
    "gene_peak_cors['LINC01128']"
   ]
  },
  {
   "cell_type": "code",
   "execution_count": null,
   "metadata": {},
   "outputs": [],
   "source": []
  },
  {
   "cell_type": "markdown",
   "metadata": {},
   "source": [
    "## Highly regulated genes"
   ]
  },
  {
   "cell_type": "markdown",
   "metadata": {},
   "source": [
    "For downstream analyses, the full gene peak correlations results are available as a pickle file at [https://dp-lab-data-public.s3.amazonaws.com/SEACells-multiome/cd34_multiome_gene_peak_cors.p](https://dp-lab-data-public.s3.amazonaws.com/SEACells-multiome/cd34_multiome_gene_peak_cors.p) and can be downloaded using\n"
   ]
  },
  {
   "cell_type": "code",
   "execution_count": 21,
   "metadata": {
    "ExecuteTime": {
     "end_time": "2022-01-19T06:18:15.198516Z",
     "start_time": "2022-01-19T06:18:15.175018Z"
    }
   },
   "outputs": [],
   "source": [
    "#! wget https://dp-lab-data-public.s3.amazonaws.com/SEACells-multiome/cd34_multiome_gene_peak_cors.p -O data/cd34_multiome_gene_peak_cors.p"
   ]
  },
  {
   "cell_type": "code",
   "execution_count": 22,
   "metadata": {
    "ExecuteTime": {
     "end_time": "2022-01-19T06:18:18.179454Z",
     "start_time": "2022-01-19T06:18:15.199724Z"
    }
   },
   "outputs": [],
   "source": [
    "gene_peak_cors = pd.read_pickle('data/cd34_multiome_gene_peak_cors.p') "
   ]
  },
  {
   "cell_type": "code",
   "execution_count": 23,
   "metadata": {
    "ExecuteTime": {
     "end_time": "2022-01-19T06:18:18.206956Z",
     "start_time": "2022-01-19T06:18:18.182332Z"
    }
   },
   "outputs": [
    {
     "data": {
      "text/plain": [
       "12464"
      ]
     },
     "execution_count": 23,
     "metadata": {},
     "output_type": "execute_result"
    }
   ],
   "source": [
    "len(gene_peak_cors)"
   ]
  },
  {
   "cell_type": "markdown",
   "metadata": {},
   "source": [
    "Highly regulated genes i.e., genes that are correlated with multiple peaks can be identified using the `get_gene_peak_assocations` function. `get_gene_peak_assocations` returns the number of significantly peaks correlated with each gene"
   ]
  },
  {
   "cell_type": "code",
   "execution_count": 24,
   "metadata": {
    "ExecuteTime": {
     "end_time": "2022-01-19T06:18:23.934482Z",
     "start_time": "2022-01-19T06:18:18.208073Z"
    }
   },
   "outputs": [
    {
     "name": "stderr",
     "output_type": "stream",
     "text": [
      "100%|███████████████████████████████████████████████████████████████████████████| 12464/12464 [00:05<00:00, 2186.04it/s]\n"
     ]
    }
   ],
   "source": [
    "peak_counts = SEACells.genescores.get_gene_peak_assocations(gene_peak_cors, \n",
    "                                                           pval_cutoff=1e-1,\n",
    "                                                           cor_cutoff=0.1)"
   ]
  },
  {
   "cell_type": "code",
   "execution_count": 25,
   "metadata": {
    "ExecuteTime": {
     "end_time": "2022-01-19T06:18:23.963580Z",
     "start_time": "2022-01-19T06:18:23.935816Z"
    }
   },
   "outputs": [
    {
     "data": {
      "text/plain": [
       "LINC01128    0\n",
       "FAM41C       4\n",
       "NOC2L        4\n",
       "ISG15        6\n",
       "AGRN         5\n",
       "            ..\n",
       "BRCC3        1\n",
       "VBP1         2\n",
       "RAB39B       6\n",
       "CLIC2        1\n",
       "TMLHE        3\n",
       "Length: 12464, dtype: int64"
      ]
     },
     "execution_count": 25,
     "metadata": {},
     "output_type": "execute_result"
    }
   ],
   "source": [
    "peak_counts"
   ]
  },
  {
   "cell_type": "code",
   "execution_count": 26,
   "metadata": {
    "ExecuteTime": {
     "end_time": "2022-01-19T06:18:24.095877Z",
     "start_time": "2022-01-19T06:18:23.964571Z"
    }
   },
   "outputs": [
    {
     "data": {
      "text/plain": [
       "Text(0, 0.5, 'No. of correlated peaks')"
      ]
     },
     "execution_count": 26,
     "metadata": {},
     "output_type": "execute_result"
    },
    {
     "data": {
      "image/png": "[encoded data removed]",
      "text/plain": [
       "<Figure size 400x400 with 1 Axes>"
      ]
     },
     "metadata": {},
     "output_type": "display_data"
    }
   ],
   "source": [
    "# Plot the distribution to identify genes with higher degree of regulation\n",
    "plt.scatter(np.arange(len(peak_counts)), \n",
    "           np.sort(peak_counts), s=20)\n",
    "sns.despine()\n",
    "plt.xlabel('Gene rank')\n",
    "plt.ylabel('No. of correlated peaks')"
   ]
  },
  {
   "cell_type": "markdown",
   "metadata": {},
   "source": [
    "## Gene scores"
   ]
  },
  {
   "cell_type": "markdown",
   "metadata": {},
   "source": [
    "Gene scores are computed as the weighted sum of the accessiblity of correlated peaks and can be computed using `get_gene_scores`. "
   ]
  },
  {
   "cell_type": "code",
   "execution_count": 27,
   "metadata": {
    "ExecuteTime": {
     "end_time": "2022-01-19T06:22:27.760694Z",
     "start_time": "2022-01-19T06:18:24.097052Z"
    }
   },
   "outputs": [
    {
     "name": "stderr",
     "output_type": "stream",
     "text": [
      "100%|█████████████████████████████████████████████████████████████████████████████| 12464/12464 [04:03<00:00, 51.17it/s]\n"
     ]
    }
   ],
   "source": [
    "gene_scores = SEACells.genescores.get_gene_scores(atac_meta_ad, \n",
    "                                                  gene_peak_cors,\n",
    "                                                  pval_cutoff=1e-1,\n",
    "                                                  cor_cutoff=0.1)"
   ]
  },
  {
   "cell_type": "code",
   "execution_count": 28,
   "metadata": {
    "ExecuteTime": {
     "end_time": "2022-01-19T06:22:28.588408Z",
     "start_time": "2022-01-19T06:22:27.762374Z"
    }
   },
   "outputs": [
    {
     "data": {
      "text/html": [
       "<div>\n",
       "<style scoped>\n",
       "    .dataframe tbody tr th:only-of-type {\n",
       "        vertical-align: middle;\n",
       "    }\n",
       "\n",
       "    .dataframe tbody tr th {\n",
       "        vertical-align: top;\n",
       "    }\n",
       "\n",
       "    .dataframe thead th {\n",
       "        text-align: right;\n",
       "    }\n",
       "</style>\n",
       "<table border=\"1\" class=\"dataframe\">\n",
       "  <thead>\n",
       "    <tr style=\"text-align: right;\">\n",
       "      <th></th>\n",
       "      <th>LINC01128</th>\n",
       "      <th>FAM41C</th>\n",
       "      <th>NOC2L</th>\n",
       "      <th>ISG15</th>\n",
       "      <th>AGRN</th>\n",
       "      <th>C1orf159</th>\n",
       "      <th>SDF4</th>\n",
       "      <th>B3GALT6</th>\n",
       "      <th>UBE2J2</th>\n",
       "      <th>SCNN1D</th>\n",
       "      <th>...</th>\n",
       "      <th>MPP1</th>\n",
       "      <th>F8</th>\n",
       "      <th>FUNDC2</th>\n",
       "      <th>CMC4</th>\n",
       "      <th>MTCP1</th>\n",
       "      <th>BRCC3</th>\n",
       "      <th>VBP1</th>\n",
       "      <th>RAB39B</th>\n",
       "      <th>CLIC2</th>\n",
       "      <th>TMLHE</th>\n",
       "    </tr>\n",
       "  </thead>\n",
       "  <tbody>\n",
       "    <tr>\n",
       "      <th>cd34_multiome_rep1#TTGCAGCCAGGCGATA-1</th>\n",
       "      <td>0.0</td>\n",
       "      <td>0.005829</td>\n",
       "      <td>0.009785</td>\n",
       "      <td>0.018159</td>\n",
       "      <td>0.053374</td>\n",
       "      <td>0.042345</td>\n",
       "      <td>0.036484</td>\n",
       "      <td>0.014096</td>\n",
       "      <td>0.029941</td>\n",
       "      <td>0.003039</td>\n",
       "      <td>...</td>\n",
       "      <td>0.006971</td>\n",
       "      <td>0.002203</td>\n",
       "      <td>0.000000</td>\n",
       "      <td>0.001719</td>\n",
       "      <td>0.015165</td>\n",
       "      <td>0.004225</td>\n",
       "      <td>0.00000</td>\n",
       "      <td>0.035308</td>\n",
       "      <td>0.034425</td>\n",
       "      <td>0.005338</td>\n",
       "    </tr>\n",
       "    <tr>\n",
       "      <th>cd34_multiome_rep1#TACAGCTAGTAATCCA-1</th>\n",
       "      <td>0.0</td>\n",
       "      <td>0.017462</td>\n",
       "      <td>0.007034</td>\n",
       "      <td>0.021173</td>\n",
       "      <td>0.026875</td>\n",
       "      <td>0.018844</td>\n",
       "      <td>0.034083</td>\n",
       "      <td>0.020050</td>\n",
       "      <td>0.033753</td>\n",
       "      <td>0.012982</td>\n",
       "      <td>...</td>\n",
       "      <td>0.024762</td>\n",
       "      <td>0.007021</td>\n",
       "      <td>0.000000</td>\n",
       "      <td>0.001290</td>\n",
       "      <td>0.002502</td>\n",
       "      <td>0.007835</td>\n",
       "      <td>0.00000</td>\n",
       "      <td>0.051158</td>\n",
       "      <td>0.050683</td>\n",
       "      <td>0.004603</td>\n",
       "    </tr>\n",
       "    <tr>\n",
       "      <th>cd34_multiome_rep2#TAACCTAAGGATTGAG-1</th>\n",
       "      <td>0.0</td>\n",
       "      <td>0.026632</td>\n",
       "      <td>0.008566</td>\n",
       "      <td>0.027379</td>\n",
       "      <td>0.026118</td>\n",
       "      <td>0.020141</td>\n",
       "      <td>0.030814</td>\n",
       "      <td>0.012761</td>\n",
       "      <td>0.033828</td>\n",
       "      <td>0.013474</td>\n",
       "      <td>...</td>\n",
       "      <td>0.012807</td>\n",
       "      <td>0.000000</td>\n",
       "      <td>0.000000</td>\n",
       "      <td>0.000000</td>\n",
       "      <td>0.011502</td>\n",
       "      <td>0.001524</td>\n",
       "      <td>0.00000</td>\n",
       "      <td>0.045826</td>\n",
       "      <td>0.043820</td>\n",
       "      <td>0.003887</td>\n",
       "    </tr>\n",
       "    <tr>\n",
       "      <th>cd34_multiome_rep1#TAGCGGCTCATTATGG-1</th>\n",
       "      <td>0.0</td>\n",
       "      <td>0.003788</td>\n",
       "      <td>0.024816</td>\n",
       "      <td>0.008464</td>\n",
       "      <td>0.016567</td>\n",
       "      <td>0.020965</td>\n",
       "      <td>0.078593</td>\n",
       "      <td>0.065220</td>\n",
       "      <td>0.093520</td>\n",
       "      <td>0.049712</td>\n",
       "      <td>...</td>\n",
       "      <td>0.124604</td>\n",
       "      <td>0.036083</td>\n",
       "      <td>0.003839</td>\n",
       "      <td>0.016096</td>\n",
       "      <td>0.007937</td>\n",
       "      <td>0.003655</td>\n",
       "      <td>0.03626</td>\n",
       "      <td>0.057396</td>\n",
       "      <td>0.059264</td>\n",
       "      <td>0.007541</td>\n",
       "    </tr>\n",
       "    <tr>\n",
       "      <th>cd34_multiome_rep1#GCCCATAAGATGCCTG-1</th>\n",
       "      <td>0.0</td>\n",
       "      <td>0.021467</td>\n",
       "      <td>0.005354</td>\n",
       "      <td>0.019011</td>\n",
       "      <td>0.016332</td>\n",
       "      <td>0.017859</td>\n",
       "      <td>0.024918</td>\n",
       "      <td>0.019455</td>\n",
       "      <td>0.024968</td>\n",
       "      <td>0.008479</td>\n",
       "      <td>...</td>\n",
       "      <td>0.017892</td>\n",
       "      <td>0.004407</td>\n",
       "      <td>0.000000</td>\n",
       "      <td>0.002284</td>\n",
       "      <td>0.010087</td>\n",
       "      <td>0.003307</td>\n",
       "      <td>0.00000</td>\n",
       "      <td>0.055975</td>\n",
       "      <td>0.082281</td>\n",
       "      <td>0.006632</td>\n",
       "    </tr>\n",
       "  </tbody>\n",
       "</table>\n",
       "<p>5 rows × 12464 columns</p>\n",
       "</div>"
      ],
      "text/plain": [
       "                                       LINC01128    FAM41C     NOC2L  \\\n",
       "cd34_multiome_rep1#TTGCAGCCAGGCGATA-1        0.0  0.005829  0.009785   \n",
       "cd34_multiome_rep1#TACAGCTAGTAATCCA-1        0.0  0.017462  0.007034   \n",
       "cd34_multiome_rep2#TAACCTAAGGATTGAG-1        0.0  0.026632  0.008566   \n",
       "cd34_multiome_rep1#TAGCGGCTCATTATGG-1        0.0  0.003788  0.024816   \n",
       "cd34_multiome_rep1#GCCCATAAGATGCCTG-1        0.0  0.021467  0.005354   \n",
       "\n",
       "                                          ISG15      AGRN  C1orf159      SDF4  \\\n",
       "cd34_multiome_rep1#TTGCAGCCAGGCGATA-1  0.018159  0.053374  0.042345  0.036484   \n",
       "cd34_multiome_rep1#TACAGCTAGTAATCCA-1  0.021173  0.026875  0.018844  0.034083   \n",
       "cd34_multiome_rep2#TAACCTAAGGATTGAG-1  0.027379  0.026118  0.020141  0.030814   \n",
       "cd34_multiome_rep1#TAGCGGCTCATTATGG-1  0.008464  0.016567  0.020965  0.078593   \n",
       "cd34_multiome_rep1#GCCCATAAGATGCCTG-1  0.019011  0.016332  0.017859  0.024918   \n",
       "\n",
       "                                        B3GALT6    UBE2J2    SCNN1D  ...  \\\n",
       "cd34_multiome_rep1#TTGCAGCCAGGCGATA-1  0.014096  0.029941  0.003039  ...   \n",
       "cd34_multiome_rep1#TACAGCTAGTAATCCA-1  0.020050  0.033753  0.012982  ...   \n",
       "cd34_multiome_rep2#TAACCTAAGGATTGAG-1  0.012761  0.033828  0.013474  ...   \n",
       "cd34_multiome_rep1#TAGCGGCTCATTATGG-1  0.065220  0.093520  0.049712  ...   \n",
       "cd34_multiome_rep1#GCCCATAAGATGCCTG-1  0.019455  0.024968  0.008479  ...   \n",
       "\n",
       "                                           MPP1        F8    FUNDC2      CMC4  \\\n",
       "cd34_multiome_rep1#TTGCAGCCAGGCGATA-1  0.006971  0.002203  0.000000  0.001719   \n",
       "cd34_multiome_rep1#TACAGCTAGTAATCCA-1  0.024762  0.007021  0.000000  0.001290   \n",
       "cd34_multiome_rep2#TAACCTAAGGATTGAG-1  0.012807  0.000000  0.000000  0.000000   \n",
       "cd34_multiome_rep1#TAGCGGCTCATTATGG-1  0.124604  0.036083  0.003839  0.016096   \n",
       "cd34_multiome_rep1#GCCCATAAGATGCCTG-1  0.017892  0.004407  0.000000  0.002284   \n",
       "\n",
       "                                          MTCP1     BRCC3     VBP1    RAB39B  \\\n",
       "cd34_multiome_rep1#TTGCAGCCAGGCGATA-1  0.015165  0.004225  0.00000  0.035308   \n",
       "cd34_multiome_rep1#TACAGCTAGTAATCCA-1  0.002502  0.007835  0.00000  0.051158   \n",
       "cd34_multiome_rep2#TAACCTAAGGATTGAG-1  0.011502  0.001524  0.00000  0.045826   \n",
       "cd34_multiome_rep1#TAGCGGCTCATTATGG-1  0.007937  0.003655  0.03626  0.057396   \n",
       "cd34_multiome_rep1#GCCCATAAGATGCCTG-1  0.010087  0.003307  0.00000  0.055975   \n",
       "\n",
       "                                          CLIC2     TMLHE  \n",
       "cd34_multiome_rep1#TTGCAGCCAGGCGATA-1  0.034425  0.005338  \n",
       "cd34_multiome_rep1#TACAGCTAGTAATCCA-1  0.050683  0.004603  \n",
       "cd34_multiome_rep2#TAACCTAAGGATTGAG-1  0.043820  0.003887  \n",
       "cd34_multiome_rep1#TAGCGGCTCATTATGG-1  0.059264  0.007541  \n",
       "cd34_multiome_rep1#GCCCATAAGATGCCTG-1  0.082281  0.006632  \n",
       "\n",
       "[5 rows x 12464 columns]"
      ]
     },
     "execution_count": 28,
     "metadata": {},
     "output_type": "execute_result"
    }
   ],
   "source": [
    "gene_scores.head()"
   ]
  },
  {
   "cell_type": "code",
   "execution_count": 29,
   "metadata": {
    "ExecuteTime": {
     "end_time": "2022-01-19T06:22:28.615144Z",
     "start_time": "2022-01-19T06:22:28.589825Z"
    }
   },
   "outputs": [
    {
     "data": {
      "text/plain": [
       "(99, 12464)"
      ]
     },
     "execution_count": 29,
     "metadata": {},
     "output_type": "execute_result"
    }
   ],
   "source": [
    "gene_scores.shape"
   ]
  },
  {
   "cell_type": "markdown",
   "metadata": {},
   "source": [
    "`gene_scores` is a `pandas.DataFrame` with metacells as rows and genes as columns. This can be used for any downstream analysis such as clustering, visualization etc."
   ]
  },
  {
   "cell_type": "markdown",
   "metadata": {},
   "source": [
    "# Gene-accessibility"
   ]
  },
  {
   "cell_type": "markdown",
   "metadata": {},
   "source": [
    "This section describes how to compute gene accessiblity metrics using SEACell metacells."
   ]
  },
  {
   "cell_type": "markdown",
   "metadata": {},
   "source": [
    "## Open peaks in metacells"
   ]
  },
  {
   "cell_type": "markdown",
   "metadata": {},
   "source": [
    "The first step is to identify the subset of peaks that are open in each metacell. `determine_metacell_open_peaks` function can be used to determine this. \n",
    "\n",
    "By default, all peaks are tested to check if they are open or closed in every metacell. A subset of peaks can be specified using the `peak_set` parameter. \n",
    "\n",
    "This function also requires a low-dimensional embedding such as `X_svd`. We can summarize the SVD of single-cell ATAC for this analysis"
   ]
  },
  {
   "cell_type": "code",
   "execution_count": 32,
   "metadata": {
    "ExecuteTime": {
     "end_time": "2022-01-19T06:23:30.845960Z",
     "start_time": "2022-01-19T06:23:24.065068Z"
    }
   },
   "outputs": [
    {
     "data": {
      "application/vnd.jupyter.widget-view+json": {
       "model_id": "827d9d373e4b40cb8ef6fbc2c55ce1de",
       "version_major": 2,
       "version_minor": 0
      },
      "text/plain": [
       "  0%|          | 0/100 [00:00<?, ?it/s]"
      ]
     },
     "metadata": {},
     "output_type": "display_data"
    }
   ],
   "source": [
    "# Create a metacell anndata with raw counts\n",
    "atac_meta_ad = SEACells.core.summarize_by_SEACell(atac_ad, SEACells_label='SEACell')\n",
    "atac_meta_ad.obs['n_counts'] = np.ravel(atac_meta_ad.X.sum(axis=1))"
   ]
  },
  {
   "cell_type": "code",
   "execution_count": 33,
   "metadata": {
    "ExecuteTime": {
     "end_time": "2022-01-19T06:23:31.676354Z",
     "start_time": "2022-01-19T06:23:30.847544Z"
    }
   },
   "outputs": [],
   "source": [
    "# We will reuse the atac_meta_ad computed above\n",
    "\n",
    "# Add SVD summary to atac meta ad\n",
    "seacell_label = 'SEACell'\n",
    "sc_svd = pd.DataFrame(atac_ad.obsm['X_svd'], index=atac_ad.obs_names)\n",
    "atac_meta_ad.obsm['X_svd'] = sc_svd.groupby(atac_ad.obs[seacell_label]).mean().loc[atac_meta_ad.obs_names, :]"
   ]
  },
  {
   "cell_type": "code",
   "execution_count": 34,
   "metadata": {
    "ExecuteTime": {
     "end_time": "2022-01-19T06:23:39.306433Z",
     "start_time": "2022-01-19T06:23:31.677921Z"
    }
   },
   "outputs": [
    {
     "name": "stderr",
     "output_type": "stream",
     "text": [
      "100%|█████████████████████████████████████████████████████████████████████████████████| 100/100 [00:07<00:00, 13.24it/s]\n"
     ]
    }
   ],
   "source": [
    "# Determine open peaks in each metacell\n",
    "SEACells.accessibility.determine_metacell_open_peaks(atac_meta_ad, peak_set=None, low_dim_embedding='X_svd', pval_cutoff=1e-2,\n",
    "                                  read_len=147, n_neighbors=3, n_jobs=1)\n",
    "# This function will add 'OpenPeaks' to the Anndata layers and is a binary matrix \n",
    "# indicating whether the peak is open or closed in the metacell"
   ]
  },
  {
   "cell_type": "code",
   "execution_count": 35,
   "metadata": {
    "ExecuteTime": {
     "end_time": "2022-01-19T06:23:39.330829Z",
     "start_time": "2022-01-19T06:23:39.307725Z"
    }
   },
   "outputs": [
    {
     "data": {
      "text/plain": [
       "AnnData object with n_obs × n_vars = 100 × 246113\n",
       "    obs: 'n_counts'\n",
       "    obsm: 'X_svd'\n",
       "    layers: 'OpenPeaks'"
      ]
     },
     "execution_count": 35,
     "metadata": {},
     "output_type": "execute_result"
    }
   ],
   "source": [
    "atac_meta_ad"
   ]
  },
  {
   "cell_type": "markdown",
   "metadata": {},
   "source": [
    "## Gene accessibility metric"
   ]
  },
  {
   "cell_type": "markdown",
   "metadata": {},
   "source": [
    "Open peaks are used to compute gene accessiblity metric which represents the fraction of correlated open peaks. \n",
    "\n",
    "<b>Warning: </b> This metric is only reliable if there are sufficient number of open peaks associated with each gene. \n",
    "It is recommended to be used for only genes with high regulation"
   ]
  },
  {
   "cell_type": "code",
   "execution_count": 36,
   "metadata": {
    "ExecuteTime": {
     "end_time": "2022-01-19T06:23:39.474946Z",
     "start_time": "2022-01-19T06:23:39.331900Z"
    }
   },
   "outputs": [
    {
     "data": {
      "text/plain": [
       "Text(0, 0.5, 'No. of correlated peaks')"
      ]
     },
     "execution_count": 36,
     "metadata": {},
     "output_type": "execute_result"
    },
    {
     "data": {
      "image/png": "[encoded data removed]",
      "text/plain": [
       "<Figure size 400x400 with 1 Axes>"
      ]
     },
     "metadata": {},
     "output_type": "display_data"
    }
   ],
   "source": [
    "# Use the highly regulated genes as the gene set of interest \n",
    "# Plot the distribution to identify genes with higher degree of regulation\n",
    "plt.scatter(np.arange(len(peak_counts)), \n",
    "           np.sort(peak_counts), s=20)\n",
    "sns.despine()\n",
    "plt.xlabel('Gene rank')\n",
    "plt.ylabel('No. of correlated peaks')"
   ]
  },
  {
   "cell_type": "code",
   "execution_count": 37,
   "metadata": {
    "ExecuteTime": {
     "end_time": "2022-01-19T06:23:39.500571Z",
     "start_time": "2022-01-19T06:23:39.476144Z"
    }
   },
   "outputs": [],
   "source": [
    "# Select genes based on the elbow point\n",
    "high_reg_genes = peak_counts.index[peak_counts > 9]"
   ]
  },
  {
   "cell_type": "code",
   "execution_count": 38,
   "metadata": {
    "ExecuteTime": {
     "end_time": "2022-01-19T06:23:42.896849Z",
     "start_time": "2022-01-19T06:23:39.501599Z"
    }
   },
   "outputs": [
    {
     "name": "stderr",
     "output_type": "stream",
     "text": [
      "100%|██████████████████████████████████████████████████████████████████████████████| 2198/2198 [00:03<00:00, 652.58it/s]\n"
     ]
    }
   ],
   "source": [
    "# Compute gene accessibility\n",
    "SEACells.accessibility.get_gene_accessibility(atac_meta_ad, gene_peak_cors, \n",
    "                                              gene_set=high_reg_genes, pval_cutoff=1e-1, cor_cutoff=0.1)\n",
    "# p-value and corrrelation cutoffs are used for correlated peaks\n",
    "# This function will add 'GeneAccessibility' to the Anndata `.obsm` field"
   ]
  },
  {
   "cell_type": "code",
   "execution_count": 39,
   "metadata": {
    "ExecuteTime": {
     "end_time": "2022-01-19T06:23:42.947045Z",
     "start_time": "2022-01-19T06:23:42.898206Z"
    }
   },
   "outputs": [
    {
     "data": {
      "text/html": [
       "<div>\n",
       "<style scoped>\n",
       "    .dataframe tbody tr th:only-of-type {\n",
       "        vertical-align: middle;\n",
       "    }\n",
       "\n",
       "    .dataframe tbody tr th {\n",
       "        vertical-align: top;\n",
       "    }\n",
       "\n",
       "    .dataframe thead th {\n",
       "        text-align: right;\n",
       "    }\n",
       "</style>\n",
       "<table border=\"1\" class=\"dataframe\">\n",
       "  <thead>\n",
       "    <tr style=\"text-align: right;\">\n",
       "      <th></th>\n",
       "      <th>UBE2J2</th>\n",
       "      <th>ACAP3</th>\n",
       "      <th>AURKAIP1</th>\n",
       "      <th>CCNL2</th>\n",
       "      <th>ATAD3A</th>\n",
       "      <th>GNB1</th>\n",
       "      <th>PRKCZ</th>\n",
       "      <th>FAAP20</th>\n",
       "      <th>SKI</th>\n",
       "      <th>PANK4</th>\n",
       "      <th>...</th>\n",
       "      <th>PRICKLE3</th>\n",
       "      <th>CCDC22</th>\n",
       "      <th>NHSL2</th>\n",
       "      <th>TSC22D3</th>\n",
       "      <th>TMEM164</th>\n",
       "      <th>AMMECR1</th>\n",
       "      <th>DOCK11</th>\n",
       "      <th>IDS</th>\n",
       "      <th>HCFC1</th>\n",
       "      <th>EMD</th>\n",
       "    </tr>\n",
       "  </thead>\n",
       "  <tbody>\n",
       "    <tr>\n",
       "      <th>cd34_multiome_rep1#AAACAGCCACTCGCTC-1</th>\n",
       "      <td>0.636364</td>\n",
       "      <td>0.272727</td>\n",
       "      <td>0.533333</td>\n",
       "      <td>0.636364</td>\n",
       "      <td>0.7</td>\n",
       "      <td>0.692308</td>\n",
       "      <td>0.333333</td>\n",
       "      <td>0.6</td>\n",
       "      <td>0.354839</td>\n",
       "      <td>0.7</td>\n",
       "      <td>...</td>\n",
       "      <td>0.571429</td>\n",
       "      <td>0.692308</td>\n",
       "      <td>0.666667</td>\n",
       "      <td>0.6</td>\n",
       "      <td>0.538462</td>\n",
       "      <td>0.133333</td>\n",
       "      <td>0.363636</td>\n",
       "      <td>0.476190</td>\n",
       "      <td>0.7</td>\n",
       "      <td>0.363636</td>\n",
       "    </tr>\n",
       "    <tr>\n",
       "      <th>cd34_multiome_rep1#TTGCAGCCAGGCGATA-1</th>\n",
       "      <td>0.454545</td>\n",
       "      <td>0.454545</td>\n",
       "      <td>0.666667</td>\n",
       "      <td>0.636364</td>\n",
       "      <td>0.4</td>\n",
       "      <td>0.692308</td>\n",
       "      <td>0.333333</td>\n",
       "      <td>0.7</td>\n",
       "      <td>0.322581</td>\n",
       "      <td>0.4</td>\n",
       "      <td>...</td>\n",
       "      <td>0.357143</td>\n",
       "      <td>0.538462</td>\n",
       "      <td>0.500000</td>\n",
       "      <td>0.7</td>\n",
       "      <td>0.307692</td>\n",
       "      <td>0.000000</td>\n",
       "      <td>0.363636</td>\n",
       "      <td>0.285714</td>\n",
       "      <td>0.6</td>\n",
       "      <td>0.545455</td>\n",
       "    </tr>\n",
       "    <tr>\n",
       "      <th>cd34_multiome_rep1#TACAGCTAGTAATCCA-1</th>\n",
       "      <td>0.363636</td>\n",
       "      <td>0.545455</td>\n",
       "      <td>0.533333</td>\n",
       "      <td>0.818182</td>\n",
       "      <td>0.4</td>\n",
       "      <td>0.538462</td>\n",
       "      <td>0.428571</td>\n",
       "      <td>0.8</td>\n",
       "      <td>0.451613</td>\n",
       "      <td>0.7</td>\n",
       "      <td>...</td>\n",
       "      <td>0.428571</td>\n",
       "      <td>0.538462</td>\n",
       "      <td>0.583333</td>\n",
       "      <td>0.6</td>\n",
       "      <td>0.461538</td>\n",
       "      <td>0.000000</td>\n",
       "      <td>0.181818</td>\n",
       "      <td>0.428571</td>\n",
       "      <td>0.3</td>\n",
       "      <td>0.454545</td>\n",
       "    </tr>\n",
       "    <tr>\n",
       "      <th>cd34_multiome_rep2#TAACCTAAGGATTGAG-1</th>\n",
       "      <td>0.454545</td>\n",
       "      <td>0.454545</td>\n",
       "      <td>0.600000</td>\n",
       "      <td>0.727273</td>\n",
       "      <td>0.3</td>\n",
       "      <td>0.384615</td>\n",
       "      <td>0.523810</td>\n",
       "      <td>0.7</td>\n",
       "      <td>0.483871</td>\n",
       "      <td>0.4</td>\n",
       "      <td>...</td>\n",
       "      <td>0.500000</td>\n",
       "      <td>0.692308</td>\n",
       "      <td>0.666667</td>\n",
       "      <td>0.6</td>\n",
       "      <td>0.384615</td>\n",
       "      <td>0.066667</td>\n",
       "      <td>0.090909</td>\n",
       "      <td>0.523810</td>\n",
       "      <td>0.4</td>\n",
       "      <td>0.636364</td>\n",
       "    </tr>\n",
       "    <tr>\n",
       "      <th>cd34_multiome_rep1#TAGCGGCTCATTATGG-1</th>\n",
       "      <td>0.636364</td>\n",
       "      <td>0.454545</td>\n",
       "      <td>0.666667</td>\n",
       "      <td>0.727273</td>\n",
       "      <td>0.5</td>\n",
       "      <td>0.538462</td>\n",
       "      <td>0.428571</td>\n",
       "      <td>1.0</td>\n",
       "      <td>0.419355</td>\n",
       "      <td>0.7</td>\n",
       "      <td>...</td>\n",
       "      <td>0.857143</td>\n",
       "      <td>0.846154</td>\n",
       "      <td>0.416667</td>\n",
       "      <td>0.4</td>\n",
       "      <td>0.923077</td>\n",
       "      <td>0.866667</td>\n",
       "      <td>0.090909</td>\n",
       "      <td>0.142857</td>\n",
       "      <td>0.7</td>\n",
       "      <td>0.545455</td>\n",
       "    </tr>\n",
       "    <tr>\n",
       "      <th>...</th>\n",
       "      <td>...</td>\n",
       "      <td>...</td>\n",
       "      <td>...</td>\n",
       "      <td>...</td>\n",
       "      <td>...</td>\n",
       "      <td>...</td>\n",
       "      <td>...</td>\n",
       "      <td>...</td>\n",
       "      <td>...</td>\n",
       "      <td>...</td>\n",
       "      <td>...</td>\n",
       "      <td>...</td>\n",
       "      <td>...</td>\n",
       "      <td>...</td>\n",
       "      <td>...</td>\n",
       "      <td>...</td>\n",
       "      <td>...</td>\n",
       "      <td>...</td>\n",
       "      <td>...</td>\n",
       "      <td>...</td>\n",
       "      <td>...</td>\n",
       "    </tr>\n",
       "    <tr>\n",
       "      <th>cd34_multiome_rep2#ACTTGTCGTAAGCTTG-1</th>\n",
       "      <td>0.545455</td>\n",
       "      <td>0.454545</td>\n",
       "      <td>0.666667</td>\n",
       "      <td>0.727273</td>\n",
       "      <td>0.5</td>\n",
       "      <td>0.384615</td>\n",
       "      <td>0.333333</td>\n",
       "      <td>1.0</td>\n",
       "      <td>0.419355</td>\n",
       "      <td>1.0</td>\n",
       "      <td>...</td>\n",
       "      <td>0.785714</td>\n",
       "      <td>0.769231</td>\n",
       "      <td>0.250000</td>\n",
       "      <td>0.4</td>\n",
       "      <td>0.923077</td>\n",
       "      <td>0.933333</td>\n",
       "      <td>0.090909</td>\n",
       "      <td>0.238095</td>\n",
       "      <td>0.7</td>\n",
       "      <td>0.636364</td>\n",
       "    </tr>\n",
       "    <tr>\n",
       "      <th>cd34_multiome_rep2#GAATTTGTCCTTCGTA-1</th>\n",
       "      <td>0.818182</td>\n",
       "      <td>0.454545</td>\n",
       "      <td>0.666667</td>\n",
       "      <td>0.909091</td>\n",
       "      <td>0.6</td>\n",
       "      <td>0.615385</td>\n",
       "      <td>0.476190</td>\n",
       "      <td>0.7</td>\n",
       "      <td>0.580645</td>\n",
       "      <td>0.7</td>\n",
       "      <td>...</td>\n",
       "      <td>0.857143</td>\n",
       "      <td>0.769231</td>\n",
       "      <td>0.250000</td>\n",
       "      <td>0.6</td>\n",
       "      <td>0.692308</td>\n",
       "      <td>0.466667</td>\n",
       "      <td>0.272727</td>\n",
       "      <td>0.476190</td>\n",
       "      <td>0.7</td>\n",
       "      <td>0.545455</td>\n",
       "    </tr>\n",
       "    <tr>\n",
       "      <th>cd34_multiome_rep1#GGCAAGCCATTCCTCG-1</th>\n",
       "      <td>0.272727</td>\n",
       "      <td>0.454545</td>\n",
       "      <td>0.466667</td>\n",
       "      <td>0.454545</td>\n",
       "      <td>0.1</td>\n",
       "      <td>0.692308</td>\n",
       "      <td>0.285714</td>\n",
       "      <td>0.6</td>\n",
       "      <td>0.322581</td>\n",
       "      <td>0.5</td>\n",
       "      <td>...</td>\n",
       "      <td>0.285714</td>\n",
       "      <td>0.615385</td>\n",
       "      <td>0.500000</td>\n",
       "      <td>0.6</td>\n",
       "      <td>0.076923</td>\n",
       "      <td>0.066667</td>\n",
       "      <td>0.181818</td>\n",
       "      <td>0.380952</td>\n",
       "      <td>0.6</td>\n",
       "      <td>0.272727</td>\n",
       "    </tr>\n",
       "    <tr>\n",
       "      <th>cd34_multiome_rep2#GGTCAAGCAGCACGAA-1</th>\n",
       "      <td>0.181818</td>\n",
       "      <td>0.454545</td>\n",
       "      <td>0.400000</td>\n",
       "      <td>0.636364</td>\n",
       "      <td>0.5</td>\n",
       "      <td>0.692308</td>\n",
       "      <td>0.380952</td>\n",
       "      <td>0.6</td>\n",
       "      <td>0.483871</td>\n",
       "      <td>0.6</td>\n",
       "      <td>...</td>\n",
       "      <td>0.428571</td>\n",
       "      <td>0.615385</td>\n",
       "      <td>0.666667</td>\n",
       "      <td>0.5</td>\n",
       "      <td>0.384615</td>\n",
       "      <td>0.000000</td>\n",
       "      <td>0.363636</td>\n",
       "      <td>0.333333</td>\n",
       "      <td>0.5</td>\n",
       "      <td>0.272727</td>\n",
       "    </tr>\n",
       "    <tr>\n",
       "      <th>cd34_multiome_rep2#TCTCAAGCAACACCTA-1</th>\n",
       "      <td>0.272727</td>\n",
       "      <td>0.454545</td>\n",
       "      <td>0.466667</td>\n",
       "      <td>0.545455</td>\n",
       "      <td>0.2</td>\n",
       "      <td>0.769231</td>\n",
       "      <td>0.333333</td>\n",
       "      <td>0.6</td>\n",
       "      <td>0.322581</td>\n",
       "      <td>0.4</td>\n",
       "      <td>...</td>\n",
       "      <td>0.357143</td>\n",
       "      <td>0.692308</td>\n",
       "      <td>0.500000</td>\n",
       "      <td>0.5</td>\n",
       "      <td>0.153846</td>\n",
       "      <td>0.000000</td>\n",
       "      <td>0.090909</td>\n",
       "      <td>0.476190</td>\n",
       "      <td>0.5</td>\n",
       "      <td>0.363636</td>\n",
       "    </tr>\n",
       "  </tbody>\n",
       "</table>\n",
       "<p>100 rows × 2198 columns</p>\n",
       "</div>"
      ],
      "text/plain": [
       "                                         UBE2J2     ACAP3  AURKAIP1     CCNL2  \\\n",
       "cd34_multiome_rep1#AAACAGCCACTCGCTC-1  0.636364  0.272727  0.533333  0.636364   \n",
       "cd34_multiome_rep1#TTGCAGCCAGGCGATA-1  0.454545  0.454545  0.666667  0.636364   \n",
       "cd34_multiome_rep1#TACAGCTAGTAATCCA-1  0.363636  0.545455  0.533333  0.818182   \n",
       "cd34_multiome_rep2#TAACCTAAGGATTGAG-1  0.454545  0.454545  0.600000  0.727273   \n",
       "cd34_multiome_rep1#TAGCGGCTCATTATGG-1  0.636364  0.454545  0.666667  0.727273   \n",
       "...                                         ...       ...       ...       ...   \n",
       "cd34_multiome_rep2#ACTTGTCGTAAGCTTG-1  0.545455  0.454545  0.666667  0.727273   \n",
       "cd34_multiome_rep2#GAATTTGTCCTTCGTA-1  0.818182  0.454545  0.666667  0.909091   \n",
       "cd34_multiome_rep1#GGCAAGCCATTCCTCG-1  0.272727  0.454545  0.466667  0.454545   \n",
       "cd34_multiome_rep2#GGTCAAGCAGCACGAA-1  0.181818  0.454545  0.400000  0.636364   \n",
       "cd34_multiome_rep2#TCTCAAGCAACACCTA-1  0.272727  0.454545  0.466667  0.545455   \n",
       "\n",
       "                                       ATAD3A      GNB1     PRKCZ  FAAP20  \\\n",
       "cd34_multiome_rep1#AAACAGCCACTCGCTC-1     0.7  0.692308  0.333333     0.6   \n",
       "cd34_multiome_rep1#TTGCAGCCAGGCGATA-1     0.4  0.692308  0.333333     0.7   \n",
       "cd34_multiome_rep1#TACAGCTAGTAATCCA-1     0.4  0.538462  0.428571     0.8   \n",
       "cd34_multiome_rep2#TAACCTAAGGATTGAG-1     0.3  0.384615  0.523810     0.7   \n",
       "cd34_multiome_rep1#TAGCGGCTCATTATGG-1     0.5  0.538462  0.428571     1.0   \n",
       "...                                       ...       ...       ...     ...   \n",
       "cd34_multiome_rep2#ACTTGTCGTAAGCTTG-1     0.5  0.384615  0.333333     1.0   \n",
       "cd34_multiome_rep2#GAATTTGTCCTTCGTA-1     0.6  0.615385  0.476190     0.7   \n",
       "cd34_multiome_rep1#GGCAAGCCATTCCTCG-1     0.1  0.692308  0.285714     0.6   \n",
       "cd34_multiome_rep2#GGTCAAGCAGCACGAA-1     0.5  0.692308  0.380952     0.6   \n",
       "cd34_multiome_rep2#TCTCAAGCAACACCTA-1     0.2  0.769231  0.333333     0.6   \n",
       "\n",
       "                                            SKI  PANK4  ...  PRICKLE3  \\\n",
       "cd34_multiome_rep1#AAACAGCCACTCGCTC-1  0.354839    0.7  ...  0.571429   \n",
       "cd34_multiome_rep1#TTGCAGCCAGGCGATA-1  0.322581    0.4  ...  0.357143   \n",
       "cd34_multiome_rep1#TACAGCTAGTAATCCA-1  0.451613    0.7  ...  0.428571   \n",
       "cd34_multiome_rep2#TAACCTAAGGATTGAG-1  0.483871    0.4  ...  0.500000   \n",
       "cd34_multiome_rep1#TAGCGGCTCATTATGG-1  0.419355    0.7  ...  0.857143   \n",
       "...                                         ...    ...  ...       ...   \n",
       "cd34_multiome_rep2#ACTTGTCGTAAGCTTG-1  0.419355    1.0  ...  0.785714   \n",
       "cd34_multiome_rep2#GAATTTGTCCTTCGTA-1  0.580645    0.7  ...  0.857143   \n",
       "cd34_multiome_rep1#GGCAAGCCATTCCTCG-1  0.322581    0.5  ...  0.285714   \n",
       "cd34_multiome_rep2#GGTCAAGCAGCACGAA-1  0.483871    0.6  ...  0.428571   \n",
       "cd34_multiome_rep2#TCTCAAGCAACACCTA-1  0.322581    0.4  ...  0.357143   \n",
       "\n",
       "                                         CCDC22     NHSL2  TSC22D3   TMEM164  \\\n",
       "cd34_multiome_rep1#AAACAGCCACTCGCTC-1  0.692308  0.666667      0.6  0.538462   \n",
       "cd34_multiome_rep1#TTGCAGCCAGGCGATA-1  0.538462  0.500000      0.7  0.307692   \n",
       "cd34_multiome_rep1#TACAGCTAGTAATCCA-1  0.538462  0.583333      0.6  0.461538   \n",
       "cd34_multiome_rep2#TAACCTAAGGATTGAG-1  0.692308  0.666667      0.6  0.384615   \n",
       "cd34_multiome_rep1#TAGCGGCTCATTATGG-1  0.846154  0.416667      0.4  0.923077   \n",
       "...                                         ...       ...      ...       ...   \n",
       "cd34_multiome_rep2#ACTTGTCGTAAGCTTG-1  0.769231  0.250000      0.4  0.923077   \n",
       "cd34_multiome_rep2#GAATTTGTCCTTCGTA-1  0.769231  0.250000      0.6  0.692308   \n",
       "cd34_multiome_rep1#GGCAAGCCATTCCTCG-1  0.615385  0.500000      0.6  0.076923   \n",
       "cd34_multiome_rep2#GGTCAAGCAGCACGAA-1  0.615385  0.666667      0.5  0.384615   \n",
       "cd34_multiome_rep2#TCTCAAGCAACACCTA-1  0.692308  0.500000      0.5  0.153846   \n",
       "\n",
       "                                        AMMECR1    DOCK11       IDS  HCFC1  \\\n",
       "cd34_multiome_rep1#AAACAGCCACTCGCTC-1  0.133333  0.363636  0.476190    0.7   \n",
       "cd34_multiome_rep1#TTGCAGCCAGGCGATA-1  0.000000  0.363636  0.285714    0.6   \n",
       "cd34_multiome_rep1#TACAGCTAGTAATCCA-1  0.000000  0.181818  0.428571    0.3   \n",
       "cd34_multiome_rep2#TAACCTAAGGATTGAG-1  0.066667  0.090909  0.523810    0.4   \n",
       "cd34_multiome_rep1#TAGCGGCTCATTATGG-1  0.866667  0.090909  0.142857    0.7   \n",
       "...                                         ...       ...       ...    ...   \n",
       "cd34_multiome_rep2#ACTTGTCGTAAGCTTG-1  0.933333  0.090909  0.238095    0.7   \n",
       "cd34_multiome_rep2#GAATTTGTCCTTCGTA-1  0.466667  0.272727  0.476190    0.7   \n",
       "cd34_multiome_rep1#GGCAAGCCATTCCTCG-1  0.066667  0.181818  0.380952    0.6   \n",
       "cd34_multiome_rep2#GGTCAAGCAGCACGAA-1  0.000000  0.363636  0.333333    0.5   \n",
       "cd34_multiome_rep2#TCTCAAGCAACACCTA-1  0.000000  0.090909  0.476190    0.5   \n",
       "\n",
       "                                            EMD  \n",
       "cd34_multiome_rep1#AAACAGCCACTCGCTC-1  0.363636  \n",
       "cd34_multiome_rep1#TTGCAGCCAGGCGATA-1  0.545455  \n",
       "cd34_multiome_rep1#TACAGCTAGTAATCCA-1  0.454545  \n",
       "cd34_multiome_rep2#TAACCTAAGGATTGAG-1  0.636364  \n",
       "cd34_multiome_rep1#TAGCGGCTCATTATGG-1  0.545455  \n",
       "...                                         ...  \n",
       "cd34_multiome_rep2#ACTTGTCGTAAGCTTG-1  0.636364  \n",
       "cd34_multiome_rep2#GAATTTGTCCTTCGTA-1  0.545455  \n",
       "cd34_multiome_rep1#GGCAAGCCATTCCTCG-1  0.272727  \n",
       "cd34_multiome_rep2#GGTCAAGCAGCACGAA-1  0.272727  \n",
       "cd34_multiome_rep2#TCTCAAGCAACACCTA-1  0.363636  \n",
       "\n",
       "[100 rows x 2198 columns]"
      ]
     },
     "execution_count": 39,
     "metadata": {},
     "output_type": "execute_result"
    }
   ],
   "source": [
    "atac_meta_ad.obsm['GeneAccessibility']"
   ]
  },
  {
   "cell_type": "markdown",
   "metadata": {},
   "source": [
    "Gene accessiblity metrics can be used as inputs for downstream analyses."
   ]
  },
  {
   "cell_type": "markdown",
   "metadata": {},
   "source": [
    "### Visualization"
   ]
  },
  {
   "cell_type": "code",
   "execution_count": 40,
   "metadata": {
    "ExecuteTime": {
     "end_time": "2022-01-19T06:23:42.976827Z",
     "start_time": "2022-01-19T06:23:42.948293Z"
    }
   },
   "outputs": [],
   "source": [
    "# First generate a summarized umap to visualize gene accessilibility\n",
    "# We will use the RNA meta data to compare expression and accessibility \n",
    "rna_umap = pd.DataFrame(rna_ad.obsm['X_umap'], index=rna_ad.obs_names)\n",
    "rna_meta_ad.obsm['X_umap'] = rna_umap.groupby(atac_ad.obs[seacell_label]).mean().loc[rna_meta_ad.obs_names, :].values\n"
   ]
  },
  {
   "cell_type": "code",
   "execution_count": 41,
   "metadata": {
    "ExecuteTime": {
     "end_time": "2022-01-19T06:23:43.572664Z",
     "start_time": "2022-01-19T06:23:42.978553Z"
    }
   },
   "outputs": [
    {
     "data": {
      "image/png": "[encoded data removed]",
      "text/plain": [
       "<Figure size 1300.44x400 with 6 Axes>"
      ]
     },
     "metadata": {},
     "output_type": "display_data"
    },
    {
     "data": {
      "image/png": "[encoded data removed]",
      "text/plain": [
       "<Figure size 1300.44x400 with 6 Axes>"
      ]
     },
     "metadata": {},
     "output_type": "display_data"
    }
   ],
   "source": [
    "genes = ['KLF1', 'GATA1', 'SPI1']\n",
    "# Copy accessibility to RNA meta anndata\n",
    "temp = rna_meta_ad[:, genes]\n",
    "temp.layers['GeneAccessibility'] = atac_meta_ad[rna_meta_ad.obs_names].obsm['GeneAccessibility'][genes].values\n",
    "\n",
    "# Plot expression\n",
    "sc.pl.scatter(rna_meta_ad, basis='umap', color=genes)\n",
    "\n",
    "# Plot accessibility\n",
    "sc.pl.scatter(temp, basis='umap', color=genes, layers='GeneAccessibility')"
   ]
  },
  {
   "cell_type": "code",
   "execution_count": null,
   "metadata": {},
   "outputs": [],
   "source": []
  },
  {
   "cell_type": "code",
   "execution_count": null,
   "metadata": {},
   "outputs": [],
   "source": []
  }
 ],
 "metadata": {
  "hide_input": false,
  "kernelspec": {
   "display_name": "Python [conda env:.conda-seacells]",
   "language": "python",
   "name": "conda-env-.conda-seacells-py"
  },
  "language_info": {
   "codemirror_mode": {
    "name": "ipython",
    "version": 3
   },
   "file_extension": ".py",
   "mimetype": "text/x-python",
   "name": "python",
   "nbconvert_exporter": "python",
   "pygments_lexer": "ipython3",
   "version": "3.8.18"
  },
  "toc": {
   "base_numbering": 1,
   "nav_menu": {},
   "number_sections": true,
   "sideBar": true,
   "skip_h1_title": false,
   "title_cell": "Table of Contents",
   "title_sidebar": "Contents",
   "toc_cell": false,
   "toc_position": {
    "height": "calc(100% - 180px)",
    "left": "10px",
    "top": "150px",
    "width": "192px"
   },
   "toc_section_display": true,
   "toc_window_display": true
  }
 },
 "nbformat": 4,
 "nbformat_minor": 4
}
