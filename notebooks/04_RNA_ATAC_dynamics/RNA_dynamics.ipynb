{
 "cells": [
  {
   "cell_type": "markdown",
   "id": "f4e318f9-359b-474c-a827-f832a6eeca9b",
   "metadata": {},
   "source": [
    "# RNA dynamics along the real-time (developmental stages)\n",
    "\n",
    "- "
   ]
  },
  {
   "cell_type": "code",
   "execution_count": null,
   "id": "44a9c48a-bcc6-49da-bd36-c25ddf850686",
   "metadata": {},
   "outputs": [],
   "source": []
  },
  {
   "cell_type": "code",
   "execution_count": null,
   "id": "801114e5-6203-4e5c-bc21-736010dede77",
   "metadata": {},
   "outputs": [],
   "source": []
  },
  {
   "cell_type": "code",
   "execution_count": null,
   "id": "7259058c-976f-4995-a5ea-0f6c4b646335",
   "metadata": {},
   "outputs": [],
   "source": []
  },
  {
   "cell_type": "code",
   "execution_count": null,
   "id": "fbb13892-d98d-4e08-b972-8b87f87ade39",
   "metadata": {},
   "outputs": [],
   "source": []
  },
  {
   "cell_type": "code",
   "execution_count": null,
   "id": "c0809eec-c132-471e-822c-33bde64d43f3",
   "metadata": {},
   "outputs": [],
   "source": []
  },
  {
   "cell_type": "code",
   "execution_count": null,
   "id": "a296977b-4e0f-4e2f-bb29-cb69f19de90d",
   "metadata": {},
   "outputs": [],
   "source": []
  },
  {
   "cell_type": "code",
   "execution_count": null,
   "id": "4572d61f-9a47-4b62-96b6-f9483236dd42",
   "metadata": {},
   "outputs": [],
   "source": []
  },
  {
   "cell_type": "code",
   "execution_count": null,
   "id": "7057f8df-3f9a-44c0-8607-3aa72bfcbbc1",
   "metadata": {},
   "outputs": [],
   "source": []
  }
 ],
 "metadata": {
  "kernelspec": {
   "display_name": "Global single-cell-base",
   "language": "python",
   "name": "global-single-cell-base"
  },
  "language_info": {
   "codemirror_mode": {
    "name": "ipython",
    "version": 3
   },
   "file_extension": ".py",
   "mimetype": "text/x-python",
   "name": "python",
   "nbconvert_exporter": "python",
   "pygments_lexer": "ipython3",
   "version": "3.10.13"
  }
 },
 "nbformat": 4,
 "nbformat_minor": 5
}
