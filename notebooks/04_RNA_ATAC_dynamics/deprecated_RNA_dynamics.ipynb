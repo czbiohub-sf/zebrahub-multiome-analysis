{
 "cells": [
  {
   "cell_type": "markdown",
   "id": "f4e318f9-359b-474c-a827-f832a6eeca9b",
   "metadata": {
    "tags": []
   },
   "source": [
    "# RNA dynamics along the real-time/pseudotime\n",
    "\n",
    "- Last updated: 6/13/2024"
   ]
  },
  {
   "cell_type": "code",
   "execution_count": 8,
   "id": "e76df88e-90ad-42d3-b212-0c90e3e9178c",
   "metadata": {},
   "outputs": [],
   "source": [
    "import scanpy as sc\n",
    "import pandas as pd\n",
    "import numpy as np\n",
    "import matplotlib.pyplot as plt\n",
    "import seaborn as sns\n",
    "\n",
    "import os\n",
    "import re"
   ]
  },
  {
   "cell_type": "code",
   "execution_count": 2,
   "id": "1137776a-4779-488c-b37d-f2c90a5800f4",
   "metadata": {},
   "outputs": [],
   "source": [
    "import matplotlib as mpl\n",
    "mpl.rcParams.update(mpl.rcParamsDefault) #Reset rcParams to default\n",
    "\n",
    "# Editable text and proper LaTeX fonts in illustrator\n",
    "# matplotlib.rcParams['ps.useafm'] = True\n",
    "# Editable fonts. 42 is the magic number\n",
    "mpl.rcParams['pdf.fonttype'] = 42\n",
    "sns.set(style='whitegrid', context='paper')\n",
    "\n",
    "# Plotting style function (run this before plotting the final figure)\n",
    "def set_plotting_style():\n",
    "    plt.style.use('seaborn-paper')\n",
    "    plt.rc('axes', labelsize=12)\n",
    "    plt.rc('axes', titlesize=12)\n",
    "    plt.rc('xtick', labelsize=10)\n",
    "    plt.rc('ytick', labelsize=10)\n",
    "    plt.rc('legend', fontsize=10)\n",
    "    plt.rc('text.latex', preamble=r'\\usepackage{sfmath}')\n",
    "    plt.rc('xtick.major', pad=2)\n",
    "    plt.rc('ytick.major', pad=2)\n",
    "    plt.rc('mathtext', fontset='stixsans', sf='sansserif')\n",
    "    plt.rc('figure', figsize=[10,9])\n",
    "    plt.rc('svg', fonttype='none')"
   ]
  },
  {
   "cell_type": "code",
   "execution_count": 3,
   "id": "d4d2ece5-c9f8-468d-9704-2f7cced3ff85",
   "metadata": {},
   "outputs": [],
   "source": [
    "figpath = \"/hpc/projects/data.science/yangjoon.kim/zebrahub_multiome/zebrahub-multiome-analysis/figures/umaps/\"\n",
    "os.makedirs(figpath, exist_ok=True)\n",
    "sc.settings.figdir = figpath"
   ]
  },
  {
   "cell_type": "markdown",
   "id": "da0532b4-0049-4e9d-b806-94efed4152fd",
   "metadata": {
    "tags": []
   },
   "source": [
    "## Step 0. Import datasets \n",
    "\n",
    "- RNA\n",
    "- ATAC (Gene.Activity)"
   ]
  },
  {
   "cell_type": "code",
   "execution_count": 7,
   "id": "4ef955fe-87d4-4f97-835e-19aee9f68833",
   "metadata": {},
   "outputs": [
    {
     "data": {
      "text/plain": [
       "AnnData object with n_obs × n_vars = 95196 × 32057\n",
       "    obs: 'orig_ident', 'nCount_RNA', 'nFeature_RNA', 'nCount_ATAC', 'nFeature_ATAC', 'nucleosome_signal', 'nucleosome_percentile', 'TSS_enrichment', 'TSS_percentile', 'nCount_SCT', 'nFeature_SCT', 'global_annotation', 'nCount_peaks_bulk', 'nFeature_peaks_bulk', 'nCount_peaks_celltype', 'nFeature_peaks_celltype', 'nCount_peaks_merged', 'nFeature_peaks_merged', 'SCT_weight', 'peaks_merged_weight', 'nCount_Gene_Activity', 'nFeature_Gene_Activity', 'nCount_peaks_integrated', 'nFeature_peaks_integrated', 'dataset', 'integrated_weight', 'peaks_integrated_weight', 'wsnn_res_0_8', 'seurat_clusters', 'data_source', 'annotation_ML', 'scANVI_zscape'\n",
       "    var: 'features'\n",
       "    uns: 'annotation_ML_colors', 'dataset_colors', 'global_annotation_colors', 'log1p', 'scANVI_zscape_colors'\n",
       "    obsm: 'X_umap', 'X_umap.atac', 'X_umap.rna', 'X_wnn.umap'\n",
       "    layers: 'counts'"
      ]
     },
     "execution_count": 7,
     "metadata": {},
     "output_type": "execute_result"
    }
   ],
   "source": [
    "adata_RNA = sc.read_h5ad(\"/hpc/projects/data.science/yangjoon.kim/zebrahub_multiome/data/processed_data/01_Signac_processed/integrated_RNA_ATAC_counts_RNA_formatted_excxg_zscape_labels.h5ad\")\n",
    "adata_RNA"
   ]
  },
  {
   "cell_type": "code",
   "execution_count": 5,
   "id": "469e667d-1486-448d-8a7f-063402212b5f",
   "metadata": {},
   "outputs": [
    {
     "data": {
      "text/plain": [
       "AnnData object with n_obs × n_vars = 95196 × 25032\n",
       "    obs: 'orig.ident', 'nCount_RNA', 'nFeature_RNA', 'nCount_ATAC', 'nFeature_ATAC', 'nucleosome_signal', 'nucleosome_percentile', 'TSS.enrichment', 'TSS.percentile', 'nCount_SCT', 'nFeature_SCT', 'global_annotation', 'prediction.score.Lateral_Mesoderm', 'prediction.score.Neural_Crest', 'prediction.score.Somites', 'prediction.score.Epidermal', 'prediction.score.Neural_Anterior', 'prediction.score.Neural_Posterior', 'prediction.score.Endoderm', 'prediction.score.PSM', 'prediction.score.Differentiating_Neurons', 'prediction.score.Adaxial_Cells', 'prediction.score.NMPs', 'prediction.score.Notochord', 'prediction.score.Muscle', 'prediction.score.unassigned', 'prediction.score.max', 'nCount_peaks_bulk', 'nFeature_peaks_bulk', 'nCount_peaks_celltype', 'nFeature_peaks_celltype', 'nCount_peaks_merged', 'nFeature_peaks_merged', 'SCT.weight', 'peaks_merged.weight', 'nCount_Gene.Activity', 'nFeature_Gene.Activity', 'nCount_peaks_integrated', 'nFeature_peaks_integrated', 'dataset', 'prediction.score.Germline', 'integrated.weight', 'peaks_integrated.weight', 'wsnn_res.0.8', 'seurat_clusters'\n",
       "    var: 'features'\n",
       "    obsm: 'X_umap', 'X_umap.atac', 'X_umap.rna', 'X_wnn.umap'"
      ]
     },
     "execution_count": 5,
     "metadata": {},
     "output_type": "execute_result"
    }
   ],
   "source": [
    "adata_ATAC = sc.read_h5ad(\"/hpc/projects/data.science/yangjoon.kim/zebrahub_multiome/data/processed_data/01_Signac_processed/integrated_RNA_ATAC_counts_gene_activity.h5ad\")\n",
    "adata_ATAC"
   ]
  },
  {
   "cell_type": "code",
   "execution_count": null,
   "id": "5298e544-04df-45f8-abb5-b82ac1e77ffe",
   "metadata": {},
   "outputs": [],
   "source": []
  },
  {
   "cell_type": "code",
   "execution_count": null,
   "id": "462a8055-ca43-4578-aaa0-76fee3f123f8",
   "metadata": {},
   "outputs": [],
   "source": []
  },
  {
   "cell_type": "code",
   "execution_count": null,
   "id": "3d23f671-383a-45c7-b94c-e2a3f4134545",
   "metadata": {},
   "outputs": [],
   "source": []
  },
  {
   "cell_type": "code",
   "execution_count": null,
   "id": "3e88ccba-a1f1-4a3a-b6ad-9e43f4a653b4",
   "metadata": {},
   "outputs": [],
   "source": []
  },
  {
   "cell_type": "code",
   "execution_count": null,
   "id": "77be4248-e008-4d7a-8b7c-eb168a580261",
   "metadata": {},
   "outputs": [],
   "source": []
  },
  {
   "cell_type": "code",
   "execution_count": null,
   "id": "b317e4ac-8bf4-41d4-811e-5acf87b0e00f",
   "metadata": {},
   "outputs": [],
   "source": []
  },
  {
   "cell_type": "code",
   "execution_count": null,
   "id": "4f324202-01f0-41ba-9b26-06e1c576f93d",
   "metadata": {},
   "outputs": [],
   "source": []
  },
  {
   "cell_type": "code",
   "execution_count": null,
   "id": "a750c098-ab50-4474-b8f8-4b60c5319b65",
   "metadata": {},
   "outputs": [],
   "source": []
  },
  {
   "cell_type": "code",
   "execution_count": null,
   "id": "43497a5b-d657-43dd-8002-e992a967c5c1",
   "metadata": {},
   "outputs": [],
   "source": []
  },
  {
   "cell_type": "code",
   "execution_count": null,
   "id": "206c9b0c-78d5-41d2-97a0-cc95c1120387",
   "metadata": {},
   "outputs": [],
   "source": []
  },
  {
   "cell_type": "code",
   "execution_count": null,
   "id": "78e2c311-17e8-40da-91ee-30f82e0cb202",
   "metadata": {},
   "outputs": [],
   "source": []
  },
  {
   "cell_type": "code",
   "execution_count": null,
   "id": "ec2173ea-22d8-44ba-b3f3-937c6e035b62",
   "metadata": {},
   "outputs": [],
   "source": []
  },
  {
   "cell_type": "code",
   "execution_count": null,
   "id": "08ad253c-9f11-486d-8212-cfce4d64268b",
   "metadata": {},
   "outputs": [],
   "source": []
  },
  {
   "cell_type": "code",
   "execution_count": null,
   "id": "b58fd694-c005-460e-8c02-249ed582ecbc",
   "metadata": {},
   "outputs": [],
   "source": []
  },
  {
   "cell_type": "code",
   "execution_count": null,
   "id": "b9790c14-c2b3-4c85-be90-8318d7e07a26",
   "metadata": {},
   "outputs": [],
   "source": []
  },
  {
   "cell_type": "code",
   "execution_count": null,
   "id": "0d1276c5-1fd4-43ec-9c44-d63e50480dec",
   "metadata": {},
   "outputs": [],
   "source": []
  },
  {
   "cell_type": "code",
   "execution_count": null,
   "id": "6cb52325-63fe-4908-935e-48e17e7ca171",
   "metadata": {},
   "outputs": [],
   "source": []
  },
  {
   "cell_type": "code",
   "execution_count": null,
   "id": "7370a92d-57a3-49cb-9075-5136706bfa1e",
   "metadata": {},
   "outputs": [],
   "source": []
  },
  {
   "cell_type": "code",
   "execution_count": 17,
   "id": "1962e6df-24b4-44a7-b693-6a00b38c2337",
   "metadata": {},
   "outputs": [
    {
     "data": {
      "text/html": [
       "<div>\n",
       "<style scoped>\n",
       "    .dataframe tbody tr th:only-of-type {\n",
       "        vertical-align: middle;\n",
       "    }\n",
       "\n",
       "    .dataframe tbody tr th {\n",
       "        vertical-align: top;\n",
       "    }\n",
       "\n",
       "    .dataframe thead th {\n",
       "        text-align: right;\n",
       "    }\n",
       "</style>\n",
       "<table border=\"1\" class=\"dataframe\">\n",
       "  <thead>\n",
       "    <tr style=\"text-align: right;\">\n",
       "      <th></th>\n",
       "      <th>annotation_ML_v4</th>\n",
       "    </tr>\n",
       "  </thead>\n",
       "  <tbody>\n",
       "    <tr>\n",
       "      <th>AAACAGCCACCTAAGC-1_1</th>\n",
       "      <td>epidermis</td>\n",
       "    </tr>\n",
       "    <tr>\n",
       "      <th>AAACAGCCAGGGAGGA-1_1</th>\n",
       "      <td>pronephros</td>\n",
       "    </tr>\n",
       "    <tr>\n",
       "      <th>AAACAGCCATAGACCC-1_1</th>\n",
       "      <td>hindbrain</td>\n",
       "    </tr>\n",
       "    <tr>\n",
       "      <th>AAACATGCAAACTCAT-1_1</th>\n",
       "      <td>spinal_cord</td>\n",
       "    </tr>\n",
       "    <tr>\n",
       "      <th>AAACATGCAAGGACCA-1_1</th>\n",
       "      <td>neural_optic2</td>\n",
       "    </tr>\n",
       "    <tr>\n",
       "      <th>...</th>\n",
       "      <td>...</td>\n",
       "    </tr>\n",
       "    <tr>\n",
       "      <th>TTTGTGTTCCCTCAGT-1_7</th>\n",
       "      <td>tail_bud</td>\n",
       "    </tr>\n",
       "    <tr>\n",
       "      <th>TTTGTTGGTACCTTAC-1_7</th>\n",
       "      <td>lateral_plate_mesoderm</td>\n",
       "    </tr>\n",
       "    <tr>\n",
       "      <th>TTTGTTGGTATTGAGT-1_7</th>\n",
       "      <td>neural_posterior</td>\n",
       "    </tr>\n",
       "    <tr>\n",
       "      <th>TTTGTTGGTGCGCGTA-1_7</th>\n",
       "      <td>endocrine_pancreas</td>\n",
       "    </tr>\n",
       "    <tr>\n",
       "      <th>TTTGTTGGTTAAGGCC-1_7</th>\n",
       "      <td>somites</td>\n",
       "    </tr>\n",
       "  </tbody>\n",
       "</table>\n",
       "<p>95196 rows × 1 columns</p>\n",
       "</div>"
      ],
      "text/plain": [
       "                            annotation_ML_v4\n",
       "AAACAGCCACCTAAGC-1_1               epidermis\n",
       "AAACAGCCAGGGAGGA-1_1              pronephros\n",
       "AAACAGCCATAGACCC-1_1               hindbrain\n",
       "AAACATGCAAACTCAT-1_1             spinal_cord\n",
       "AAACATGCAAGGACCA-1_1           neural_optic2\n",
       "...                                      ...\n",
       "TTTGTGTTCCCTCAGT-1_7                tail_bud\n",
       "TTTGTTGGTACCTTAC-1_7  lateral_plate_mesoderm\n",
       "TTTGTTGGTATTGAGT-1_7        neural_posterior\n",
       "TTTGTTGGTGCGCGTA-1_7      endocrine_pancreas\n",
       "TTTGTTGGTTAAGGCC-1_7                 somites\n",
       "\n",
       "[95196 rows x 1 columns]"
      ]
     },
     "execution_count": 17,
     "metadata": {},
     "output_type": "execute_result"
    }
   ],
   "source": [
    "# import the latest annotation\n",
    "annotation = pd.read_csv(\"/hpc/projects/data.science/yangjoon.kim/zebrahub_multiome/data/processed_data/01_Signac_processed/annotations/annotation_ML_06052024.txt\", index_col=0, sep=\"\\t\")\n",
    "annotation"
   ]
  },
  {
   "cell_type": "code",
   "execution_count": 19,
   "id": "a93012ce-b447-46fb-9fa1-a1e1ccbb3baf",
   "metadata": {},
   "outputs": [
    {
     "data": {
      "text/plain": [
       "AAACAGCCACCTAAGC-1_1                 epidermis\n",
       "AAACAGCCAGGGAGGA-1_1                pronephros\n",
       "AAACAGCCATAGACCC-1_1                 hindbrain\n",
       "AAACATGCAAACTCAT-1_1               spinal_cord\n",
       "AAACATGCAAGGACCA-1_1             neural_optic2\n",
       "                                 ...          \n",
       "TTTGTGTTCCCTCAGT-1_7                  tail_bud\n",
       "TTTGTTGGTACCTTAC-1_7    lateral_plate_mesoderm\n",
       "TTTGTTGGTATTGAGT-1_7          neural_posterior\n",
       "TTTGTTGGTGCGCGTA-1_7        endocrine_pancreas\n",
       "TTTGTTGGTTAAGGCC-1_7                   somites\n",
       "Name: annotation_ML, Length: 95196, dtype: object"
      ]
     },
     "execution_count": 19,
     "metadata": {},
     "output_type": "execute_result"
    }
   ],
   "source": [
    "adata.obs[\"annotation_ML\"] = annotation[\"annotation_ML_v4\"]\n",
    "adata.obs[\"annotation_ML\"]"
   ]
  },
  {
   "cell_type": "code",
   "execution_count": 20,
   "id": "4fb50490-e3b2-4fcc-803f-e0e912af99ed",
   "metadata": {},
   "outputs": [
    {
     "data": {
      "text/plain": [
       "array(['epidermis', 'pronephros', 'hindbrain', 'spinal_cord',\n",
       "       'neural_optic2', 'neural_floor_plate', 'neural_crest2', 'PSM',\n",
       "       'optic_cup', 'lateral_plate_mesoderm',\n",
       "       'midbrain_hindbrain_boundary2', 'neural_telencephalon',\n",
       "       'differentiating_neurons', 'muscle', 'fast_muscle',\n",
       "       'low_quality_cells', 'heart_myocardium', 'somites', 'NMPs',\n",
       "       'epidermis2', 'pharyngeal_arches', 'floor_plate2',\n",
       "       'hemangioblasts', 'neural_posterior', 'floor_plate', 'tail_bud',\n",
       "       'endoderm', 'midbrain_hindbrain_boundary', 'neural_crest',\n",
       "       'neural_optic', 'hematopoietic_vasculature', 'endocrine_pancreas',\n",
       "       'hatching_gland', 'neurons', 'notochord', 'pronephros2',\n",
       "       'enteric_neurons', 'epidermis3', 'epidermis4', 'neural',\n",
       "       'primordial_germ_cells'], dtype=object)"
      ]
     },
     "execution_count": 20,
     "metadata": {},
     "output_type": "execute_result"
    }
   ],
   "source": [
    "adata.obs.annotation_ML.unique()"
   ]
  },
  {
   "cell_type": "code",
   "execution_count": 8,
   "id": "dc98ef7e-d090-428e-97fc-d9dde55b6e0f",
   "metadata": {},
   "outputs": [],
   "source": [
    "# # standardize the naming convention (typo fix)\n",
    "# # Define the mapping of old category names to new category names\n",
    "# category_mapping = {\n",
    "#     \"spinal_chord\": \"spinal_cord\",\n",
    "#     \"neural_unknown\": \"neural\"\n",
    "# }\n",
    "\n",
    "# # Apply the mapping to change the category names\n",
    "# adata.obs[\"annotation_ML\"].replace(category_mapping, inplace=True)"
   ]
  },
  {
   "cell_type": "code",
   "execution_count": 22,
   "id": "df79b09f-84fe-433e-84eb-0392b0e4177d",
   "metadata": {},
   "outputs": [
    {
     "data": {
      "text/plain": [
       "View of AnnData object with n_obs × n_vars = 94562 × 32057\n",
       "    obs: 'orig_ident', 'nCount_RNA', 'nFeature_RNA', 'nCount_ATAC', 'nFeature_ATAC', 'nucleosome_signal', 'nucleosome_percentile', 'TSS_enrichment', 'TSS_percentile', 'nCount_SCT', 'nFeature_SCT', 'global_annotation', 'nCount_peaks_bulk', 'nFeature_peaks_bulk', 'nCount_peaks_celltype', 'nFeature_peaks_celltype', 'nCount_peaks_merged', 'nFeature_peaks_merged', 'SCT_weight', 'peaks_merged_weight', 'nCount_Gene_Activity', 'nFeature_Gene_Activity', 'nCount_peaks_integrated', 'nFeature_peaks_integrated', 'dataset', 'integrated_weight', 'peaks_integrated_weight', 'wsnn_res_0_8', 'seurat_clusters', 'data_source', 'annotation_ML', 'scANVI_zscape'\n",
       "    var: 'features'\n",
       "    uns: 'annotation_ML_colors', 'dataset_colors', 'global_annotation_colors', 'log1p', 'scANVI_zscape_colors'\n",
       "    obsm: 'X_umap', 'X_umap.atac', 'X_umap.rna', 'X_wnn.umap'\n",
       "    layers: 'counts'"
      ]
     },
     "execution_count": 22,
     "metadata": {},
     "output_type": "execute_result"
    }
   ],
   "source": [
    "# filter out the low quality cells (annotated as either \"nan\" or \"low_quality_cells\")\n",
    "multiome = adata[adata.obs.annotation_ML!=\"low_quality_cells\"]\n",
    "multiome"
   ]
  },
  {
   "cell_type": "code",
   "execution_count": 23,
   "id": "3fe20854-0afc-4da8-aa2b-60722bab512c",
   "metadata": {},
   "outputs": [],
   "source": [
    "# create a list of celltypes from annotation_ML (fine annotation by Merlin Lange)\n",
    "list_celltypes_ML = multiome.obs.annotation_ML.unique().tolist()"
   ]
  },
  {
   "cell_type": "code",
   "execution_count": 24,
   "id": "47ac211f-5458-468a-9b0f-a48c2dabb5a3",
   "metadata": {},
   "outputs": [
    {
     "data": {
      "text/plain": [
       "{'epidermis': 'epidermis',\n",
       " 'pronephros': 'pronephros',\n",
       " 'hindbrain': 'hindbrain',\n",
       " 'spinal_cord': 'spinal_cord',\n",
       " 'neural_optic2': 'neural_optic',\n",
       " 'neural_floor_plate': 'neural_floor_plate',\n",
       " 'neural_crest2': 'neural_crest',\n",
       " 'PSM': 'PSM',\n",
       " 'optic_cup': 'optic_cup',\n",
       " 'lateral_plate_mesoderm': 'lateral_plate_mesoderm',\n",
       " 'midbrain_hindbrain_boundary2': 'midbrain_hindbrain_boundary',\n",
       " 'neural_telencephalon': 'neural_telencephalon',\n",
       " 'differentiating_neurons': 'differentiating_neurons',\n",
       " 'muscle': 'muscle',\n",
       " 'fast_muscle': 'fast_muscle',\n",
       " 'heart_myocardium': 'heart_myocardium',\n",
       " 'somites': 'somites',\n",
       " 'NMPs': 'NMPs',\n",
       " 'epidermis2': 'epidermis',\n",
       " 'pharyngeal_arches': 'pharyngeal_arches',\n",
       " 'floor_plate2': 'floor_plate',\n",
       " 'hemangioblasts': 'hemangioblasts',\n",
       " 'neural_posterior': 'neural_posterior',\n",
       " 'floor_plate': 'floor_plate',\n",
       " 'tail_bud': 'tail_bud',\n",
       " 'endoderm': 'endoderm',\n",
       " 'midbrain_hindbrain_boundary': 'midbrain_hindbrain_boundary',\n",
       " 'neural_crest': 'neural_crest',\n",
       " 'neural_optic': 'neural_optic',\n",
       " 'hematopoietic_vasculature': 'hematopoietic_vasculature',\n",
       " 'endocrine_pancreas': 'endocrine_pancreas',\n",
       " 'hatching_gland': 'hatching_gland',\n",
       " 'neurons': 'neurons',\n",
       " 'notochord': 'notochord',\n",
       " 'pronephros2': 'pronephros',\n",
       " 'enteric_neurons': 'enteric_neurons',\n",
       " 'epidermis3': 'epidermis',\n",
       " 'epidermis4': 'epidermis',\n",
       " 'neural': 'neural',\n",
       " 'primordial_germ_cells': 'primordial_germ_cells'}"
      ]
     },
     "execution_count": 24,
     "metadata": {},
     "output_type": "execute_result"
    }
   ],
   "source": [
    "# Remove NaNs from the list\n",
    "elements = [el for el in list_celltypes_ML if isinstance(el, str)]\n",
    "\n",
    "# Function to remove numbers\n",
    "def remove_numbers(name):\n",
    "    return re.sub(r'\\d+', '', name)\n",
    "\n",
    "# Create the dictionary\n",
    "merged_dict = {}\n",
    "for element in elements:\n",
    "    merged_dict[element] = remove_numbers(element)\n",
    "\n",
    "# Display the dictionary\n",
    "merged_dict"
   ]
  },
  {
   "cell_type": "code",
   "execution_count": 25,
   "id": "cbd5812f-75d2-46e0-8908-5f199126f48d",
   "metadata": {},
   "outputs": [
    {
     "name": "stderr",
     "output_type": "stream",
     "text": [
      "/tmp/ipykernel_1277712/1848327900.py:2: ImplicitModificationWarning: Trying to modify attribute `.obs` of view, initializing view as actual.\n",
      "  multiome.obs[\"annotation_ML_coarse\"] = multiome.obs[\"annotation_ML\"].map(merged_dict)\n"
     ]
    },
    {
     "data": {
      "text/plain": [
       "AAACAGCCACCTAAGC-1_1                 epidermis\n",
       "AAACAGCCAGGGAGGA-1_1                pronephros\n",
       "AAACAGCCATAGACCC-1_1                 hindbrain\n",
       "AAACATGCAAACTCAT-1_1               spinal_cord\n",
       "AAACATGCAAGGACCA-1_1              neural_optic\n",
       "                                 ...          \n",
       "TTTGTGTTCCCTCAGT-1_7                  tail_bud\n",
       "TTTGTTGGTACCTTAC-1_7    lateral_plate_mesoderm\n",
       "TTTGTTGGTATTGAGT-1_7          neural_posterior\n",
       "TTTGTTGGTGCGCGTA-1_7        endocrine_pancreas\n",
       "TTTGTTGGTTAAGGCC-1_7                   somites\n",
       "Name: annotation_ML_coarse, Length: 94562, dtype: object"
      ]
     },
     "execution_count": 25,
     "metadata": {},
     "output_type": "execute_result"
    }
   ],
   "source": [
    "# generate a coarse-grained annotation - \"annotation_ML_coarse\"\n",
    "multiome.obs[\"annotation_ML_coarse\"] = multiome.obs[\"annotation_ML\"].map(merged_dict)\n",
    "\n",
    "multiome.obs[\"annotation_ML_coarse\"]"
   ]
  },
  {
   "cell_type": "code",
   "execution_count": 26,
   "id": "b42d3941-d510-4075-9bc1-d07568d62224",
   "metadata": {},
   "outputs": [
    {
     "data": {
      "text/plain": [
       "array(['epidermis', 'pronephros', 'hindbrain', 'spinal_cord',\n",
       "       'neural_optic', 'neural_floor_plate', 'neural_crest', 'PSM',\n",
       "       'optic_cup', 'lateral_plate_mesoderm',\n",
       "       'midbrain_hindbrain_boundary', 'neural_telencephalon',\n",
       "       'differentiating_neurons', 'muscle', 'fast_muscle',\n",
       "       'heart_myocardium', 'somites', 'NMPs', 'pharyngeal_arches',\n",
       "       'floor_plate', 'hemangioblasts', 'neural_posterior', 'tail_bud',\n",
       "       'endoderm', 'hematopoietic_vasculature', 'endocrine_pancreas',\n",
       "       'hatching_gland', 'neurons', 'notochord', 'enteric_neurons',\n",
       "       'neural', 'primordial_germ_cells'], dtype=object)"
      ]
     },
     "execution_count": 26,
     "metadata": {},
     "output_type": "execute_result"
    }
   ],
   "source": [
    "multiome.obs[\"annotation_ML_coarse\"].unique()"
   ]
  },
  {
   "cell_type": "code",
   "execution_count": 49,
   "id": "658a1db6-3c9e-4b3e-b1d1-d295a9f02ee9",
   "metadata": {},
   "outputs": [
    {
     "data": {
      "text/plain": [
       "AnnData object with n_obs × n_vars = 94562 × 32057\n",
       "    obs: 'orig_ident', 'nCount_RNA', 'nFeature_RNA', 'nCount_ATAC', 'nFeature_ATAC', 'nucleosome_signal', 'nucleosome_percentile', 'TSS_enrichment', 'TSS_percentile', 'nCount_SCT', 'nFeature_SCT', 'global_annotation', 'nCount_peaks_bulk', 'nFeature_peaks_bulk', 'nCount_peaks_celltype', 'nFeature_peaks_celltype', 'nCount_peaks_merged', 'nFeature_peaks_merged', 'SCT_weight', 'peaks_merged_weight', 'nCount_Gene_Activity', 'nFeature_Gene_Activity', 'nCount_peaks_integrated', 'nFeature_peaks_integrated', 'dataset', 'integrated_weight', 'peaks_integrated_weight', 'wsnn_res_0_8', 'seurat_clusters', 'data_source', 'annotation_ML', 'scANVI_zscape', 'annotation_ML_coarse'\n",
       "    var: 'features'\n",
       "    uns: 'annotation_ML_colors', 'dataset_colors', 'global_annotation_colors', 'log1p', 'scANVI_zscape_colors'\n",
       "    obsm: 'X_umap', 'X_umap.atac', 'X_umap.rna', 'X_wnn.umap'\n",
       "    layers: 'counts'"
      ]
     },
     "execution_count": 49,
     "metadata": {},
     "output_type": "execute_result"
    }
   ],
   "source": [
    "multiome"
   ]
  },
  {
   "cell_type": "code",
   "execution_count": 52,
   "id": "3e7524bb-83a0-4d40-9046-48f70b0b66e7",
   "metadata": {},
   "outputs": [],
   "source": [
    "# Cell types\n",
    "cell_types = [\n",
    "       'epidermis', 'pronephros', 'hindbrain', 'axial_mesoderm',\n",
    "       'neural_optic', 'neural_floor_plate', 'neural_crest', 'PSM',\n",
    "       'optic_cup', 'lateral_plate_mesoderm',\n",
    "       'midbrain_hindbrain_boundary', 'neural_telencephalon',\n",
    "       'differentiating_neurons', 'muscle', 'fast_muscle',\n",
    "       'heart_myocardium', 'somites', 'NMPs', 'pharyngeal_arches',\n",
    "       'floor_plate', 'hemangioblasts', 'neural_posterior', 'tail_bud',\n",
    "       'endoderm', 'hematopoietic_vasculature', 'endocrine_pancreas',\n",
    "       'hatching_gland', 'neurons', 'notochord', 'enteric_neurons',\n",
    "       'neural_unknown', 'primordial_germ_cells'\n",
    "]"
   ]
  },
  {
   "cell_type": "code",
   "execution_count": 109,
   "id": "20c0399d-750c-40ec-92a6-c6814dc9e2b8",
   "metadata": {},
   "outputs": [
    {
     "data": {
      "text/plain": [
       "<Figure size 1000x200 with 0 Axes>"
      ]
     },
     "metadata": {},
     "output_type": "display_data"
    },
    {
     "data": {
      "image/png": "[encoded data removed]",
      "text/plain": [
       "<Figure size 3300x100 with 1 Axes>"
      ]
     },
     "metadata": {},
     "output_type": "display_data"
    }
   ],
   "source": [
    "# Generate a color palette with 33 distinct colors\n",
    "# Start with the seaborn colorblind palette and extend it\n",
    "base_palette = sns.color_palette(\"Set3\", 12)\n",
    "extended_palette = sns.color_palette(\"Set1\", 9) + sns.color_palette(\"Pastel2\", 8) + sns.color_palette(\"Dark2\", 8)\n",
    "\n",
    "# Combine the base and extended palettes to get 33 unique colors\n",
    "combined_palette = base_palette + extended_palette\n",
    "\n",
    "# manually swap some colors from the front with the ones from the back\n",
    "teal_color = (0.0, 0.5019607843137255, 0.5019607843137255)  # RGB for teal\n",
    "combined_palette[-1] = teal_color  # Replace the light yellow with teal\n",
    "\n",
    "combined_palette[1] = combined_palette[-1]\n",
    "combined_palette[17] = combined_palette[-3]\n",
    "combined_palette[19] = combined_palette[-4]\n",
    "combined_palette[32] = (213/256, 108/256, 85/256)\n",
    "combined_palette[7] = (0.875, 0.29296875, 0.609375)\n",
    "combined_palette[25] = (0.75390625, 0.75390625, 0.0)\n",
    "combined_palette[21] = (0.22265625, 0.23046875, 0.49609375)\n",
    "\n",
    "combined_palette = combined_palette[:33]  # Ensure we only take the first 33 colors\n",
    "\n",
    "# Verify the palette length\n",
    "assert len(combined_palette) == 33, \"The palette must have exactly 33 colors\"\n",
    "\n",
    "# Create a dictionary mapping cell types to colors\n",
    "cell_type_color_dict = {cell_type: combined_palette[i] for i, cell_type in enumerate(cell_types)}\n",
    "\n",
    "# Plot the color palette\n",
    "plt.figure(figsize=(10, 2))\n",
    "sns.palplot(combined_palette)\n",
    "plt.title(\"Combined Palette with 32 Unique Colors\")\n",
    "plt.show()\n",
    "\n",
    "# Print the dictionary to verify\n",
    "#print(cell_type_color_dict)"
   ]
  },
  {
   "cell_type": "code",
   "execution_count": null,
   "id": "801114e5-6203-4e5c-bc21-736010dede77",
   "metadata": {},
   "outputs": [],
   "source": []
  },
  {
   "cell_type": "code",
   "execution_count": null,
   "id": "7259058c-976f-4995-a5ea-0f6c4b646335",
   "metadata": {},
   "outputs": [],
   "source": []
  },
  {
   "cell_type": "code",
   "execution_count": null,
   "id": "fbb13892-d98d-4e08-b972-8b87f87ade39",
   "metadata": {},
   "outputs": [],
   "source": []
  },
  {
   "cell_type": "code",
   "execution_count": null,
   "id": "c0809eec-c132-471e-822c-33bde64d43f3",
   "metadata": {},
   "outputs": [],
   "source": []
  },
  {
   "cell_type": "code",
   "execution_count": null,
   "id": "a296977b-4e0f-4e2f-bb29-cb69f19de90d",
   "metadata": {},
   "outputs": [],
   "source": []
  },
  {
   "cell_type": "code",
   "execution_count": null,
   "id": "4572d61f-9a47-4b62-96b6-f9483236dd42",
   "metadata": {},
   "outputs": [],
   "source": []
  },
  {
   "cell_type": "code",
   "execution_count": null,
   "id": "7057f8df-3f9a-44c0-8607-3aa72bfcbbc1",
   "metadata": {},
   "outputs": [],
   "source": []
  }
 ],
 "metadata": {
  "kernelspec": {
   "display_name": "Global single-cell-base",
   "language": "python",
   "name": "global-single-cell-base"
  },
  "language_info": {
   "codemirror_mode": {
    "name": "ipython",
    "version": 3
   },
   "file_extension": ".py",
   "mimetype": "text/x-python",
   "name": "python",
   "nbconvert_exporter": "python",
   "pygments_lexer": "ipython3",
   "version": "3.10.13"
  }
 },
 "nbformat": 4,
 "nbformat_minor": 5
}
