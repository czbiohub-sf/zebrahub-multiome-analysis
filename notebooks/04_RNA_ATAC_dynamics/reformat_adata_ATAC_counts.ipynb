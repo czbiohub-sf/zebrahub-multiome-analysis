{
 "cells": [
  {
   "cell_type": "markdown",
   "id": "3f521f52-40d5-4e69-bf25-5b2f3706a152",
   "metadata": {},
   "source": [
    "## reformat the adata for ATAC\n",
    "\n",
    "- reformat the adata converted from Seurat objects\n",
    "- (1) make sure that we have extracted the \"raw counts\" in adata.X - this can be worked-around by using adata.raw.X, instead of adata.X\n",
    "- (2) export the \"gene.activity\" as a csv\n",
    "- (3) export \"cell_id\", \"var_names\", and \"count matrices\"\n"
   ]
  },
  {
   "cell_type": "code",
   "execution_count": 1,
   "id": "8184657e-db0d-477b-913e-78109c82b376",
   "metadata": {},
   "outputs": [
    {
     "name": "stderr",
     "output_type": "stream",
     "text": [
      "Registered S3 method overwritten by 'SeuratDisk':\n",
      "  method            from  \n",
      "  as.sparse.H5Group Seurat\n",
      "\n",
      "Loading required package: BiocGenerics\n",
      "\n",
      "\n",
      "Attaching package: ‘BiocGenerics’\n",
      "\n",
      "\n",
      "The following objects are masked from ‘package:stats’:\n",
      "\n",
      "    IQR, mad, sd, var, xtabs\n",
      "\n",
      "\n",
      "The following objects are masked from ‘package:base’:\n",
      "\n",
      "    anyDuplicated, aperm, append, as.data.frame, basename, cbind,\n",
      "    colnames, dirname, do.call, duplicated, eval, evalq, Filter, Find,\n",
      "    get, grep, grepl, intersect, is.unsorted, lapply, Map, mapply,\n",
      "    match, mget, order, paste, pmax, pmax.int, pmin, pmin.int,\n",
      "    Position, rank, rbind, Reduce, rownames, sapply, setdiff, sort,\n",
      "    table, tapply, union, unique, unsplit, which.max, which.min\n",
      "\n",
      "\n",
      "Loading required package: S4Vectors\n",
      "\n",
      "Loading required package: stats4\n",
      "\n",
      "\n",
      "Attaching package: ‘S4Vectors’\n",
      "\n",
      "\n",
      "The following objects are masked from ‘package:Matrix’:\n",
      "\n",
      "    expand, unname\n",
      "\n",
      "\n",
      "The following object is masked from ‘package:utils’:\n",
      "\n",
      "    findMatches\n",
      "\n",
      "\n",
      "The following objects are masked from ‘package:base’:\n",
      "\n",
      "    expand.grid, I, unname\n",
      "\n",
      "\n",
      "Loading required package: IRanges\n",
      "\n",
      "Loading required package: BSgenome\n",
      "\n",
      "Loading required package: GenomicRanges\n",
      "\n",
      "Loading required package: Biostrings\n",
      "\n",
      "Loading required package: XVector\n",
      "\n",
      "\n",
      "Attaching package: ‘Biostrings’\n",
      "\n",
      "\n",
      "The following object is masked from ‘package:base’:\n",
      "\n",
      "    strsplit\n",
      "\n",
      "\n",
      "Loading required package: rtracklayer\n",
      "\n"
     ]
    },
    {
     "name": "stdout",
     "output_type": "stream",
     "text": [
      "               _                           \n",
      "platform       x86_64-pc-linux-gnu         \n",
      "arch           x86_64                      \n",
      "os             linux-gnu                   \n",
      "system         x86_64, linux-gnu           \n",
      "status                                     \n",
      "major          4                           \n",
      "minor          3.2                         \n",
      "year           2023                        \n",
      "month          10                          \n",
      "day            31                          \n",
      "svn rev        85441                       \n",
      "language       R                           \n",
      "version.string R version 4.3.2 (2023-10-31)\n",
      "nickname       Eye Holes                   \n",
      "[1] ‘4.4.0’\n"
     ]
    },
    {
     "data": {
      "text/html": [
       "<pre class=language-r><code>structure(function (..., envir = parent.frame()) \n",
       "{\n",
       "<span style=white-space:pre-wrap>    future &lt;- SequentialFuture(..., envir = envir)</span>\n",
       "<span style=white-space:pre-wrap>    if (!future$lazy) </span>\n",
       "<span style=white-space:pre-wrap>        future &lt;- run(future)</span>\n",
       "<span style=white-space:pre-wrap>    invisible(future)</span>\n",
       "}, class = c(\"FutureStrategy\", \"sequential\", \"uniprocess\", \"future\", \n",
       "\"function\"))</code></pre>"
      ],
      "text/latex": [
       "\\begin{minted}{r}\n",
       "structure(function (..., envir = parent.frame()) \n",
       "\\{\n",
       "    future <- SequentialFuture(..., envir = envir)\n",
       "    if (!future\\$lazy) \n",
       "        future <- run(future)\n",
       "    invisible(future)\n",
       "\\}, class = c(\"FutureStrategy\", \"sequential\", \"uniprocess\", \"future\", \n",
       "\"function\"))\n",
       "\\end{minted}"
      ],
      "text/markdown": [
       "```r\n",
       "structure(function (..., envir = parent.frame()) \n",
       "{\n",
       "    future <- SequentialFuture(..., envir = envir)\n",
       "    if (!future$lazy) \n",
       "        future <- run(future)\n",
       "    invisible(future)\n",
       "}, class = c(\"FutureStrategy\", \"sequential\", \"uniprocess\", \"future\", \n",
       "\"function\"))\n",
       "```"
      ],
      "text/plain": [
       "sequential:\n",
       "- args: function (..., envir = parent.frame())\n",
       "- tweaked: FALSE\n",
       "- call: NULL"
      ]
     },
     "metadata": {},
     "output_type": "display_data"
    },
    {
     "data": {
      "text/html": [
       "<pre class=language-r><code>structure(function (..., workers = 20, envir = parent.frame()) \n",
       "strategy(..., workers = workers, envir = envir), class = c(\"FutureStrategy\", \n",
       "\"tweaked\", \"multicore\", \"multiprocess\", \"future\", \"function\"), call = plan(\"multicore\", \n",
       "<span style=white-space:pre-wrap>    workers = 20))</span></code></pre>"
      ],
      "text/latex": [
       "\\begin{minted}{r}\n",
       "structure(function (..., workers = 20, envir = parent.frame()) \n",
       "strategy(..., workers = workers, envir = envir), class = c(\"FutureStrategy\", \n",
       "\"tweaked\", \"multicore\", \"multiprocess\", \"future\", \"function\"), call = plan(\"multicore\", \n",
       "    workers = 20))\n",
       "\\end{minted}"
      ],
      "text/markdown": [
       "```r\n",
       "structure(function (..., workers = 20, envir = parent.frame()) \n",
       "strategy(..., workers = workers, envir = envir), class = c(\"FutureStrategy\", \n",
       "\"tweaked\", \"multicore\", \"multiprocess\", \"future\", \"function\"), call = plan(\"multicore\", \n",
       "    workers = 20))\n",
       "```"
      ],
      "text/plain": [
       "multicore:\n",
       "- args: function (..., workers = 20, envir = parent.frame())\n",
       "- tweaked: TRUE\n",
       "- call: plan(\"multicore\", workers = 20)"
      ]
     },
     "metadata": {},
     "output_type": "display_data"
    }
   ],
   "source": [
    "# load the libraries\n",
    "suppressMessages(library(Seurat))\n",
    "suppressMessages(library(Signac))\n",
    "library(SeuratData)\n",
    "library(SeuratDisk)\n",
    "library(Matrix)\n",
    "\n",
    "# genome info\n",
    "library(GenomeInfoDb)\n",
    "# library(ggplot2)\n",
    "# library(patchwork)\n",
    "# library(stringr)\n",
    "library(BSgenome.Drerio.UCSC.danRer11)\n",
    "\n",
    "print(R.version)\n",
    "print(packageVersion(\"Seurat\"))\n",
    "\n",
    "# parallelization in Signac: https://stuartlab.org/signac/articles/future\n",
    "library(future)\n",
    "plan()\n",
    "\n",
    "plan(\"multicore\", workers = 20)\n",
    "plan()"
   ]
  },
  {
   "cell_type": "code",
   "execution_count": 9,
   "id": "9239f123-f42d-46c6-9e3f-96ca4d743f09",
   "metadata": {},
   "outputs": [
    {
     "data": {
      "text/plain": [
       "An object of class Seurat \n",
       "1573599 features across 13614 samples within 7 assays \n",
       "Active assay: peaks_merged (485357 features, 485357 variable features)\n",
       " 6 other assays present: RNA, ATAC, SCT, peaks_bulk, peaks_celltype, Gene.Activity\n",
       " 5 dimensional reductions calculated: pca, umap.rna, lsi, umap.atac, umap.joint"
      ]
     },
     "metadata": {},
     "output_type": "display_data"
    }
   ],
   "source": [
    "# seurat <- readRDS(\"/hpc/projects/data.science/yangjoon.kim/zebrahub_multiome/data/processed_data/01_Signac_processed/TDR118reseq/TDR118_processed.RDS\")\n",
    "# seurat"
   ]
  },
  {
   "cell_type": "code",
   "execution_count": 7,
   "id": "236cd09a-ba78-4775-868d-82cb0674d6e4",
   "metadata": {},
   "outputs": [
    {
     "data": {
      "text/html": [],
      "text/latex": [],
      "text/markdown": [],
      "text/plain": [
       "<0 x 0 matrix>"
      ]
     },
     "metadata": {},
     "output_type": "display_data"
    }
   ],
   "source": [
    "# seurat@assays$peaks_merged@counts"
   ]
  },
  {
   "cell_type": "code",
   "execution_count": null,
   "id": "f181aa39-ca2b-452a-af09-960e6f2e996a",
   "metadata": {},
   "outputs": [],
   "source": [
    "# # Access the counts matrix from the 'Gene.Activity' assay, which is stored as a sparse matrix\n",
    "# gene_activity_counts_sparse <- GetAssayData(seurat_obj, assay = \"Gene.Activity\", slot = \"counts\")\n",
    "\n",
    "# # Convert the sparse matrix to a dense matrix\n",
    "# gene_activity_counts_dense <- as.matrix(gene_activity_counts_sparse)\n",
    "\n",
    "# # Optionally, convert the dense matrix to a data frame\n",
    "# gene_activity_counts_df <- as.data.frame(gene_activity_counts_dense)\n",
    "\n",
    "# # Export the dense matrix (or data frame) to a CSV file\n",
    "# write.csv(gene_activity_counts_df, \"gene_activity_counts.csv\", row.names = TRUE)"
   ]
  },
  {
   "cell_type": "code",
   "execution_count": 10,
   "id": "57637bc6-cc26-4612-b293-8a3b113c14f0",
   "metadata": {},
   "outputs": [
    {
     "name": "stderr",
     "output_type": "stream",
     "text": [
      "Warning message in asMethod(object):\n",
      "“sparse->dense coercion: allocating vector of size 2.5 GiB”\n"
     ]
    }
   ],
   "source": [
    "# save the gene.activity count matrices into the 01_Signac_processed\n",
    "write.table(\n",
    "  as.matrix(GetAssayData(object = seurat, assay = \"Gene.Activity\", slot = \"counts\")), \n",
    "  '/hpc/projects/data.science/yangjoon.kim/zebrahub_multiome/data/processed_data/01_Signac_processed/TDR118reseq/gene_activity_counts.csv', \n",
    "  sep = ',', \n",
    "  row.names = TRUE, \n",
    "  col.names = TRUE, # Use NA for default behavior, which includes column names for data frames\n",
    "  quote = FALSE\n",
    ")"
   ]
  },
  {
   "cell_type": "code",
   "execution_count": 3,
   "id": "362ef41f-6b5c-4e6d-bbb7-c682487d645b",
   "metadata": {},
   "outputs": [
    {
     "data": {
      "text/html": [
       "<style>\n",
       ".list-inline {list-style: none; margin:0; padding: 0}\n",
       ".list-inline>li {display: inline-block}\n",
       ".list-inline>li:not(:last-child)::after {content: \"\\00b7\"; padding: 0 .5ex}\n",
       "</style>\n",
       "<ol class=list-inline><li>'TDR118reseq'</li><li>'TDR119reseq'</li><li>'TDR124reseq'</li><li>'TDR125reseq'</li><li>'TDR126'</li><li>'TDR127'</li><li>'TDR128'</li></ol>\n"
      ],
      "text/latex": [
       "\\begin{enumerate*}\n",
       "\\item 'TDR118reseq'\n",
       "\\item 'TDR119reseq'\n",
       "\\item 'TDR124reseq'\n",
       "\\item 'TDR125reseq'\n",
       "\\item 'TDR126'\n",
       "\\item 'TDR127'\n",
       "\\item 'TDR128'\n",
       "\\end{enumerate*}\n"
      ],
      "text/markdown": [
       "1. 'TDR118reseq'\n",
       "2. 'TDR119reseq'\n",
       "3. 'TDR124reseq'\n",
       "4. 'TDR125reseq'\n",
       "5. 'TDR126'\n",
       "6. 'TDR127'\n",
       "7. 'TDR128'\n",
       "\n",
       "\n"
      ],
      "text/plain": [
       "[1] \"TDR118reseq\" \"TDR119reseq\" \"TDR124reseq\" \"TDR125reseq\" \"TDR126\"     \n",
       "[6] \"TDR127\"      \"TDR128\"     "
      ]
     },
     "metadata": {},
     "output_type": "display_data"
    },
    {
     "name": "stderr",
     "output_type": "stream",
     "text": [
      "Warning message in asMethod(object):\n",
      "“sparse->dense coercion: allocating vector of size 2.5 GiB”\n"
     ]
    },
    {
     "name": "stdout",
     "output_type": "stream",
     "text": [
      "[1] \"TDR118 gene.activity exported\"\n"
     ]
    },
    {
     "name": "stderr",
     "output_type": "stream",
     "text": [
      "Warning message in asMethod(object):\n",
      "“sparse->dense coercion: allocating vector of size 2.3 GiB”\n"
     ]
    },
    {
     "name": "stdout",
     "output_type": "stream",
     "text": [
      "[1] \"TDR119 gene.activity exported\"\n"
     ]
    },
    {
     "name": "stderr",
     "output_type": "stream",
     "text": [
      "Warning message in asMethod(object):\n",
      "“sparse->dense coercion: allocating vector of size 1.2 GiB”\n"
     ]
    },
    {
     "name": "stdout",
     "output_type": "stream",
     "text": [
      "[1] \"TDR124 gene.activity exported\"\n"
     ]
    },
    {
     "name": "stderr",
     "output_type": "stream",
     "text": [
      "Warning message in asMethod(object):\n",
      "“sparse->dense coercion: allocating vector of size 3.2 GiB”\n"
     ]
    },
    {
     "name": "stdout",
     "output_type": "stream",
     "text": [
      "[1] \"TDR125 gene.activity exported\"\n"
     ]
    },
    {
     "name": "stderr",
     "output_type": "stream",
     "text": [
      "Warning message in asMethod(object):\n",
      "“sparse->dense coercion: allocating vector of size 2.8 GiB”\n"
     ]
    },
    {
     "name": "stdout",
     "output_type": "stream",
     "text": [
      "[1] \"TDR126 gene.activity exported\"\n"
     ]
    },
    {
     "name": "stderr",
     "output_type": "stream",
     "text": [
      "Warning message in asMethod(object):\n",
      "“sparse->dense coercion: allocating vector of size 3.6 GiB”\n"
     ]
    },
    {
     "name": "stdout",
     "output_type": "stream",
     "text": [
      "[1] \"TDR127 gene.activity exported\"\n"
     ]
    },
    {
     "name": "stderr",
     "output_type": "stream",
     "text": [
      "Warning message in asMethod(object):\n",
      "“sparse->dense coercion: allocating vector of size 2.1 GiB”\n"
     ]
    },
    {
     "name": "stdout",
     "output_type": "stream",
     "text": [
      "[1] \"TDR128 gene.activity exported\"\n"
     ]
    }
   ],
   "source": [
    "# export the \"gene.activity\" count matrices to the 01_Signac_processed folder\n",
    "data.list = c(\"TDR118reseq\", \"TDR119reseq\",\"TDR124reseq\",\"TDR125reseq\",\"TDR126\",\"TDR127\",\"TDR128\")\n",
    "data.list\n",
    "\n",
    "seurat_data_path = \"/hpc/projects/data.science/yangjoon.kim/zebrahub_multiome/data/processed_data/01_Signac_processed/\"\n",
    "\n",
    "for (data_id in data.list) {\n",
    "    # load the seurat object\n",
    "    # Modify data_id to remove \"reseq\" for the filename\n",
    "    filename_id <- gsub(\"reseq\", \"\", data_id)\n",
    "    seurat_obj <- readRDS(paste0(seurat_data_path, data_id,\"/\",filename_id,\"_processed.RDS\"))\n",
    "\n",
    "    # Define the file path dynamically based on data_id\n",
    "    file_path <- paste0('/hpc/projects/data.science/yangjoon.kim/zebrahub_multiome/data/processed_data/01_Signac_processed/', data_id, '/gene_activity_counts.csv')\n",
    "\n",
    "    # Extract the counts matrix and write to CSV\n",
    "    write.table(\n",
    "    as.matrix(GetAssayData(object = seurat_obj, assay = \"Gene.Activity\", slot = \"counts\")), \n",
    "    file_path, \n",
    "    sep = ',', \n",
    "    row.names = TRUE, \n",
    "    col.names = NA, # Use NA for default behavior, which includes column names for data frames\n",
    "    quote = FALSE\n",
    "    )\n",
    "    print(paste0(filename_id, \" gene.activity exported\"))\n",
    "}\n",
    "\n"
   ]
  },
  {
   "cell_type": "code",
   "execution_count": null,
   "id": "fda0d6ad-d2a2-4283-8443-91c0b84923ce",
   "metadata": {},
   "outputs": [],
   "source": []
  },
  {
   "cell_type": "code",
   "execution_count": null,
   "id": "f967c6de-6ee3-47d4-80e7-c3d09fea104b",
   "metadata": {},
   "outputs": [],
   "source": []
  }
 ],
 "metadata": {
  "kernelspec": {
   "display_name": "R 4.3",
   "language": "R",
   "name": "ir43"
  },
  "language_info": {
   "codemirror_mode": "r",
   "file_extension": ".r",
   "mimetype": "text/x-r-source",
   "name": "R",
   "pygments_lexer": "r",
   "version": "4.3.2"
  }
 },
 "nbformat": 4,
 "nbformat_minor": 5
}
