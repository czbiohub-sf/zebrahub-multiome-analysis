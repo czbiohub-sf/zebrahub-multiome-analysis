{
 "cells": [
  {
   "cell_type": "markdown",
   "id": "48fc41f8-c077-4577-83d5-f27dd0aa540f",
   "metadata": {},
   "source": [
    "# A workflow to compute GRN\n",
    "\n"
   ]
  },
  {
   "cell_type": "code",
   "execution_count": null,
   "id": "12e8a464-0380-401d-a127-77a9dfb3e187",
   "metadata": {},
   "outputs": [],
   "source": [
    "# Step 1. run_01_preprocess_multiome.R\n",
    "!Rscript run01_"
   ]
  },
  {
   "cell_type": "code",
   "execution_count": null,
   "id": "ac919119-d129-4997-aa9f-918ad6887119",
   "metadata": {},
   "outputs": [],
   "source": [
    "# Step 2. run_02_compute_CCANS_cicero.R\n",
    "!Rscript run02_"
   ]
  },
  {
   "cell_type": "code",
   "execution_count": null,
   "id": "65097434-7ed6-400c-9b9e-00809aebed6e",
   "metadata": {},
   "outputs": [],
   "source": [
    "# activate the conda environment(actually this script should run on this conda environment)\n",
    "# ! conda activate celloracle_env"
   ]
  },
  {
   "cell_type": "code",
   "execution_count": null,
   "id": "9ac8c295-e42b-4fb0-9c5a-58f363c0781b",
   "metadata": {},
   "outputs": [],
   "source": [
    "# Step 3. run_03_celloracle_filter_CCANS.py\n",
    "!python run_03_celloracle_filter_CCANS_map_to_genes.py /hpc/projects/data.science/yangjoon.kim/zebrahub_multiome/data/processed_data/TDR119_cicero_output/ 01_TDR119_CRG_arc_peaks.csv 02_TDR119_cicero_connections_CRG_arc_peaks.csv 0.8 03_TDR119_processed_peak_file_danRer11.csv False None"
   ]
  },
  {
   "cell_type": "code",
   "execution_count": 1,
   "id": "8fec0c7a-7ed4-4400-a8fc-e08069093963",
   "metadata": {},
   "outputs": [],
   "source": [
    "# Step 4. run_04_celloracle_compute_baseGRN.py\n",
    "!python run_04_celloracle_compute_baseGRN.py.py /hpc/projects/data.science/yangjoon.kim/zebrahub_multiome/data/processed_data/TDR119_cicero_output/ 03_TDR119_processed_peak_file_danRer11.csv TDR119 danRer11 10"
   ]
  }
 ],
 "metadata": {
  "kernelspec": {
   "display_name": "Python [conda env:.conda-celloracle_env]",
   "language": "python",
   "name": "conda-env-.conda-celloracle_env-py"
  },
  "language_info": {
   "codemirror_mode": {
    "name": "ipython",
    "version": 3
   },
   "file_extension": ".py",
   "mimetype": "text/x-python",
   "name": "python",
   "nbconvert_exporter": "python",
   "pygments_lexer": "ipython3",
   "version": "3.8.17"
  }
 },
 "nbformat": 4,
 "nbformat_minor": 5
}
