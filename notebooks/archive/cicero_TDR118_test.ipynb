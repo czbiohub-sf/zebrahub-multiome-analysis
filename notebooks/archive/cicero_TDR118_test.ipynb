{
 "cells": [
  {
   "cell_type": "markdown",
   "metadata": {},
   "source": [
    "# Notebook to test-run Cicero on TDR118 dataset (pilot)\n",
    "\n",
    "- Here, we will just grab the TDR118 pilot data object (whose peak profiles might not be the most comprehensive one), and see if we can follow the Cicero workflow.\n",
    "- The end goal is to generate a csv file from Cicero (CCANs) that can be fed into CellOracle workflow.\n",
    "- Original sources: \n",
    "    - CellOracle paper (Kamimoto,...,Morris et al., Nature, 2023)\n",
    "    - Signac/Cicero vignette (https://stuartlab.org/signac/articles/cicero.html)\n",
    "    \n",
    "- input: h5Seurat file (preprocessed using Signac/Seurat)\n",
    "- output: csv file\n"
   ]
  },
  {
   "cell_type": "markdown",
   "metadata": {},
   "source": [
    "# Overview \n",
    "This notebook is an example R script on how to prepare the input data prior to building a base GRN.\n",
    "Here, we use Cicero to extract the cis-regulatory connections between scATAC-seq peaks.\n",
    "\n",
    " - `Cicero` documentation: https://cole-trapnell-lab.github.io/cicero-release/docs_m3/ \n",
    " \n",
    " **NOTE** \n",
    " Here, we installed Cicero's monocle3-compatible branch using local directory. Usually, it's better to do global installation of packages.\n"
   ]
  },
  {
   "cell_type": "code",
   "execution_count": 2,
   "metadata": {},
   "outputs": [
    {
     "name": "stderr",
     "output_type": "stream",
     "text": [
      "Downloading GitHub repo cole-trapnell-lab/cicero-release@monocle3\n",
      "\n"
     ]
    },
    {
     "name": "stdout",
     "output_type": "stream",
     "text": [
      "monocle3 (b2e9b6b19... -> 72cfa1daf...) [GitHub]\n"
     ]
    },
    {
     "name": "stderr",
     "output_type": "stream",
     "text": [
      "Downloading GitHub repo cole-trapnell-lab/monocle3@HEAD\n",
      "\n"
     ]
    },
    {
     "name": "stdout",
     "output_type": "stream",
     "text": [
      "leidenbase (0.1.18 -> 0.1.25) [CRAN]\n"
     ]
    },
    {
     "name": "stderr",
     "output_type": "stream",
     "text": [
      "Installing 1 packages: leidenbase\n",
      "\n",
      "Installing package into ‘/hpc/scratch/group.data.science/yangjoon.kim/.local/R_lib’\n",
      "(as ‘lib’ is unspecified)\n",
      "\n",
      "Warning message in i.p(...):\n",
      "“installation of package ‘leidenbase’ had non-zero exit status”\n"
     ]
    },
    {
     "name": "stdout",
     "output_type": "stream",
     "text": [
      "\u001b[36m──\u001b[39m \u001b[36mR CMD build\u001b[39m \u001b[36m─────────────────────────────────────────────────────────────────\u001b[39m\n",
      "* checking for file ‘/tmp/RtmpU8MutC/remotes22e7df1d77011f/cole-trapnell-lab-monocle3-72cfa1d/DESCRIPTION’ ... OK\n",
      "* preparing ‘monocle3’:\n",
      "* checking DESCRIPTION meta-information ... OK\n",
      "* cleaning src\n",
      "* checking for LF line-endings in source and make files and shell scripts\n",
      "* checking for empty or unneeded directories\n",
      "Omitted ‘LazyData’ from DESCRIPTION\n",
      "* building ‘monocle3_1.3.3.tar.gz’\n",
      "\n"
     ]
    },
    {
     "name": "stderr",
     "output_type": "stream",
     "text": [
      "Installing package into ‘/hpc/scratch/group.data.science/yangjoon.kim/.local/R_lib’\n",
      "(as ‘lib’ is unspecified)\n",
      "\n"
     ]
    },
    {
     "name": "stdout",
     "output_type": "stream",
     "text": [
      "\u001b[36m──\u001b[39m \u001b[36mR CMD build\u001b[39m \u001b[36m─────────────────────────────────────────────────────────────────\u001b[39m\n",
      "* checking for file ‘/tmp/RtmpU8MutC/remotes22e7df24569eb1/cole-trapnell-lab-cicero-release-2b0ee07/DESCRIPTION’ ... OK\n",
      "* preparing ‘cicero’:\n",
      "* checking DESCRIPTION meta-information ... OK\n",
      "* checking for LF line-endings in source and make files and shell scripts\n",
      "* checking for empty or unneeded directories\n",
      "* looking to see if a ‘data/datalist’ file should be added\n",
      "* building ‘cicero_1.3.9.tar.gz’\n",
      "\n"
     ]
    },
    {
     "name": "stderr",
     "output_type": "stream",
     "text": [
      "Installing package into ‘/hpc/scratch/group.data.science/yangjoon.kim/.local/R_lib’\n",
      "(as ‘lib’ is unspecified)\n",
      "\n"
     ]
    }
   ],
   "source": [
    "library(remotes)\n",
    "library(devtools)\n",
    "withr::with_libpaths(new=\"/hpc/scratch/group.data.science/yangjoon.kim/.local/R_lib\", \n",
    "                     install_github(\"cole-trapnell-lab/cicero-release\", ref = \"monocle3\", force = TRUE))"
   ]
  },
  {
   "cell_type": "code",
   "execution_count": 8,
   "metadata": {},
   "outputs": [
    {
     "name": "stderr",
     "output_type": "stream",
     "text": [
      "Downloading GitHub repo cole-trapnell-lab/cicero-release@monocle3\n",
      "\n"
     ]
    },
    {
     "name": "stdout",
     "output_type": "stream",
     "text": [
      "monocle3     (b54546096... -> 72cfa1daf...) [GitHub]\n",
      "DelayedArray (0.26.6       -> 0.26.7      ) [CRAN]\n",
      "S4Arrays     (1.0.4        -> 1.0.5       ) [CRAN]\n",
      "MatrixGen... (1.12.2       -> 1.12.3      ) [CRAN]\n",
      "viridis      (0.6.3        -> 0.6.4       ) [CRAN]\n"
     ]
    },
    {
     "name": "stderr",
     "output_type": "stream",
     "text": [
      "Installing 4 packages: DelayedArray, S4Arrays, MatrixGenerics, viridis\n",
      "\n",
      "Installing packages into '/hpc/projects/data.science/yangjoon.kim/zebrahub_multiome/archive/.local/R_lib'\n",
      "(as 'lib' is unspecified)\n",
      "\n",
      "Downloading GitHub repo cole-trapnell-lab/monocle3@HEAD\n",
      "\n"
     ]
    },
    {
     "name": "stdout",
     "output_type": "stream",
     "text": [
      "scuttle    (1.10.1 -> 1.10.2) [CRAN]\n",
      "leidenbase (0.1.18 -> 0.1.25) [CRAN]\n"
     ]
    },
    {
     "name": "stderr",
     "output_type": "stream",
     "text": [
      "Installing 2 packages: scuttle, leidenbase\n",
      "\n",
      "Installing packages into '/hpc/projects/data.science/yangjoon.kim/zebrahub_multiome/archive/.local/R_lib'\n",
      "(as 'lib' is unspecified)\n",
      "\n",
      "Warning message in i.p(...):\n",
      "\"installation of package 'leidenbase' had non-zero exit status\"\n"
     ]
    },
    {
     "name": "stdout",
     "output_type": "stream",
     "text": [
      "\u001b[36m──\u001b[39m \u001b[36mR CMD build\u001b[39m \u001b[36m─────────────────────────────────────────────────────────────────\u001b[39m\n",
      "* checking for file ‘/tmp/RtmpAPBp02/remotes224cc76b172ff7/cole-trapnell-lab-monocle3-72cfa1d/DESCRIPTION’ ... OK\n",
      "* preparing ‘monocle3’:\n",
      "* checking DESCRIPTION meta-information ... OK\n",
      "* cleaning src\n",
      "* checking for LF line-endings in source and make files and shell scripts\n",
      "* checking for empty or unneeded directories\n",
      "Omitted ‘LazyData’ from DESCRIPTION\n",
      "* building ‘monocle3_1.3.3.tar.gz’\n",
      "\n"
     ]
    },
    {
     "name": "stderr",
     "output_type": "stream",
     "text": [
      "Installing package into '/hpc/projects/data.science/yangjoon.kim/zebrahub_multiome/archive/.local/R_lib'\n",
      "(as 'lib' is unspecified)\n",
      "\n"
     ]
    },
    {
     "name": "stdout",
     "output_type": "stream",
     "text": [
      "\u001b[36m──\u001b[39m \u001b[36mR CMD build\u001b[39m \u001b[36m─────────────────────────────────────────────────────────────────\u001b[39m\n",
      "* checking for file ‘/tmp/RtmpAPBp02/remotes224cc75e8f1c12/cole-trapnell-lab-cicero-release-2b0ee07/DESCRIPTION’ ... OK\n",
      "* preparing ‘cicero’:\n",
      "* checking DESCRIPTION meta-information ... OK\n",
      "* checking for LF line-endings in source and make files and shell scripts\n",
      "* checking for empty or unneeded directories\n",
      "* looking to see if a ‘data/datalist’ file should be added\n",
      "* building ‘cicero_1.3.9.tar.gz’\n",
      "\n"
     ]
    },
    {
     "name": "stderr",
     "output_type": "stream",
     "text": [
      "Installing package into '/hpc/projects/data.science/yangjoon.kim/zebrahub_multiome/archive/.local/R_lib'\n",
      "(as 'lib' is unspecified)\n",
      "\n"
     ]
    }
   ],
   "source": [
    "# withr::with_libpaths(new=\"/hpc/projects/data.science/yangjoon.kim/zebrahub_multiome/archive/.local/R_lib\", \n",
    "#                      install_github(\"cole-trapnell-lab/cicero-release\", ref = \"monocle3\", force = TRUE))"
   ]
  },
  {
   "cell_type": "code",
   "execution_count": 9,
   "metadata": {},
   "outputs": [
    {
     "name": "stderr",
     "output_type": "stream",
     "text": [
      "Downloading GitHub repo cole-trapnell-lab/monocle3@develop\n",
      "\n"
     ]
    },
    {
     "name": "stdout",
     "output_type": "stream",
     "text": [
      "leidenbase (0.1.18 -> 0.1.25) [CRAN]\n"
     ]
    },
    {
     "name": "stderr",
     "output_type": "stream",
     "text": [
      "Installing 1 packages: leidenbase\n",
      "\n",
      "Installing package into '/hpc/scratch/group.data.science/yangjoon.kim/.local/R_lib'\n",
      "(as 'lib' is unspecified)\n",
      "\n",
      "Warning message in i.p(...):\n",
      "\"installation of package 'leidenbase' had non-zero exit status\"\n"
     ]
    },
    {
     "name": "stdout",
     "output_type": "stream",
     "text": [
      "\u001b[36m──\u001b[39m \u001b[36mR CMD build\u001b[39m \u001b[36m─────────────────────────────────────────────────────────────────\u001b[39m\n",
      "* checking for file ‘/tmp/RtmpAPBp02/remotes224cc74b4cd1be/cole-trapnell-lab-monocle3-b2e9b6b/DESCRIPTION’ ... OK\n",
      "* preparing ‘monocle3’:\n",
      "* checking DESCRIPTION meta-information ... OK\n",
      "* cleaning src\n",
      "* checking for LF line-endings in source and make files and shell scripts\n",
      "* checking for empty or unneeded directories\n",
      "Omitted ‘LazyData’ from DESCRIPTION\n",
      "* building ‘monocle3_1.3.1.tar.gz’\n",
      "\n"
     ]
    },
    {
     "name": "stderr",
     "output_type": "stream",
     "text": [
      "Installing package into '/hpc/scratch/group.data.science/yangjoon.kim/.local/R_lib'\n",
      "(as 'lib' is unspecified)\n",
      "\n"
     ]
    }
   ],
   "source": [
    "# withr::with_libpaths(new=\"/hpc/scratch/group.data.science/yangjoon.kim/.local/R_lib\", \n",
    "#                       install_github(\"cole-trapnell-lab/monocle3\", ref = \"develop\"))"
   ]
  },
  {
   "cell_type": "code",
   "execution_count": null,
   "metadata": {},
   "outputs": [],
   "source": [
    "# .libPaths(\"/hpc/scratch/group.data.science/yangjoon.kim/.local/R_lib\")"
   ]
  },
  {
   "cell_type": "code",
   "execution_count": 2,
   "metadata": {},
   "outputs": [
    {
     "name": "stderr",
     "output_type": "stream",
     "text": [
      "Loading required package: monocle3\n",
      "\n",
      "Loading required package: Biobase\n",
      "\n",
      "Loading required package: BiocGenerics\n",
      "\n",
      "\n",
      "Attaching package: ‘BiocGenerics’\n",
      "\n",
      "\n",
      "The following objects are masked from ‘package:stats’:\n",
      "\n",
      "    IQR, mad, sd, var, xtabs\n",
      "\n",
      "\n",
      "The following objects are masked from ‘package:base’:\n",
      "\n",
      "    anyDuplicated, aperm, append, as.data.frame, basename, cbind,\n",
      "    colnames, dirname, do.call, duplicated, eval, evalq, Filter, Find,\n",
      "    get, grep, grepl, intersect, is.unsorted, lapply, Map, mapply,\n",
      "    match, mget, order, paste, pmax, pmax.int, pmin, pmin.int,\n",
      "    Position, rank, rbind, Reduce, rownames, sapply, setdiff, sort,\n",
      "    table, tapply, union, unique, unsplit, which.max, which.min\n",
      "\n",
      "\n",
      "Welcome to Bioconductor\n",
      "\n",
      "    Vignettes contain introductory material; view with\n",
      "    'browseVignettes()'. To cite Bioconductor, see\n",
      "    'citation(\"Biobase\")', and for packages 'citation(\"pkgname\")'.\n",
      "\n",
      "\n",
      "Loading required package: SingleCellExperiment\n",
      "\n",
      "Loading required package: SummarizedExperiment\n",
      "\n",
      "Loading required package: MatrixGenerics\n",
      "\n",
      "Loading required package: matrixStats\n",
      "\n",
      "\n",
      "Attaching package: ‘matrixStats’\n",
      "\n",
      "\n",
      "The following objects are masked from ‘package:Biobase’:\n",
      "\n",
      "    anyMissing, rowMedians\n",
      "\n",
      "\n",
      "\n",
      "Attaching package: ‘MatrixGenerics’\n",
      "\n",
      "\n",
      "The following objects are masked from ‘package:matrixStats’:\n",
      "\n",
      "    colAlls, colAnyNAs, colAnys, colAvgsPerRowSet, colCollapse,\n",
      "    colCounts, colCummaxs, colCummins, colCumprods, colCumsums,\n",
      "    colDiffs, colIQRDiffs, colIQRs, colLogSumExps, colMadDiffs,\n",
      "    colMads, colMaxs, colMeans2, colMedians, colMins, colOrderStats,\n",
      "    colProds, colQuantiles, colRanges, colRanks, colSdDiffs, colSds,\n",
      "    colSums2, colTabulates, colVarDiffs, colVars, colWeightedMads,\n",
      "    colWeightedMeans, colWeightedMedians, colWeightedSds,\n",
      "    colWeightedVars, rowAlls, rowAnyNAs, rowAnys, rowAvgsPerColSet,\n",
      "    rowCollapse, rowCounts, rowCummaxs, rowCummins, rowCumprods,\n",
      "    rowCumsums, rowDiffs, rowIQRDiffs, rowIQRs, rowLogSumExps,\n",
      "    rowMadDiffs, rowMads, rowMaxs, rowMeans2, rowMedians, rowMins,\n",
      "    rowOrderStats, rowProds, rowQuantiles, rowRanges, rowRanks,\n",
      "    rowSdDiffs, rowSds, rowSums2, rowTabulates, rowVarDiffs, rowVars,\n",
      "    rowWeightedMads, rowWeightedMeans, rowWeightedMedians,\n",
      "    rowWeightedSds, rowWeightedVars\n",
      "\n",
      "\n",
      "The following object is masked from ‘package:Biobase’:\n",
      "\n",
      "    rowMedians\n",
      "\n",
      "\n",
      "Loading required package: GenomicRanges\n",
      "\n",
      "Loading required package: stats4\n",
      "\n",
      "Loading required package: S4Vectors\n",
      "\n",
      "\n",
      "Attaching package: ‘S4Vectors’\n",
      "\n",
      "\n",
      "The following object is masked from ‘package:utils’:\n",
      "\n",
      "    findMatches\n",
      "\n",
      "\n",
      "The following objects are masked from ‘package:base’:\n",
      "\n",
      "    expand.grid, I, unname\n",
      "\n",
      "\n",
      "Loading required package: IRanges\n",
      "\n",
      "Loading required package: GenomeInfoDb\n",
      "\n",
      "\n",
      "Attaching package: ‘SummarizedExperiment’\n",
      "\n",
      "\n",
      "The following object is masked from ‘package:SeuratObject’:\n",
      "\n",
      "    Assays\n",
      "\n",
      "\n",
      "The following object is masked from ‘package:Seurat’:\n",
      "\n",
      "    Assays\n",
      "\n",
      "\n",
      "\n",
      "Attaching package: ‘monocle3’\n",
      "\n",
      "\n",
      "The following objects are masked from ‘package:Biobase’:\n",
      "\n",
      "    exprs, fData, fData<-, pData, pData<-\n",
      "\n",
      "\n",
      "Loading required package: Gviz\n",
      "\n",
      "Loading required package: grid\n",
      "\n"
     ]
    }
   ],
   "source": [
    "# Load the Cicero library from the local installation (trapnell lab branch for Signac implementation)\n",
    "withr::with_libpaths(new = \"/hpc/scratch/group.data.science/yangjoon.kim/.local/R_lib\", \n",
    "                     library(cicero))"
   ]
  },
  {
   "cell_type": "code",
   "execution_count": 12,
   "metadata": {},
   "outputs": [],
   "source": [
    "# library(cicero)\n",
    "# library(monocle3)"
   ]
  },
  {
   "cell_type": "markdown",
   "metadata": {},
   "source": [
    "# 0. Import library"
   ]
  },
  {
   "cell_type": "code",
   "execution_count": 3,
   "metadata": {},
   "outputs": [],
   "source": [
    "# library(cicero)\n",
    "#library(monocle3)\n",
    "library(Signac)\n",
    "library(Seurat)\n",
    "library(SeuratWrappers)"
   ]
  },
  {
   "cell_type": "markdown",
   "metadata": {},
   "source": [
    "# 1. Load the dataset\n",
    "- We will use the TDR118 (single-cell Multiome dataset from zebrafish embryos, 15-somite stage).\n"
   ]
  },
  {
   "cell_type": "code",
   "execution_count": 5,
   "metadata": {},
   "outputs": [],
   "source": [
    "# # You can substitute the data path below to your scATAC-seq data.\n",
    "# data_folder <- \"/hpc/projects/data.science/yangjoon.kim/zebrahub_multiome/data/annotated_data/TDR118_processed.h5Seurat\"\n",
    "\n",
    "# # Create a folder to save results\n",
    "# output_folder <- \"cicero_output\"\n",
    "# dir.create(output_folder)"
   ]
  },
  {
   "cell_type": "markdown",
   "metadata": {},
   "source": [
    "# 2. Load data and make Cell Data Set (CDS) object \n",
    "## Option 1. Process data to make CDS object - from 10xCellranger-arc output files"
   ]
  },
  {
   "cell_type": "code",
   "execution_count": 5,
   "metadata": {},
   "outputs": [],
   "source": [
    "proc_data_folder <- \"/hpc/projects/data.science/yangjoon.kim/zebrahub_multiome/data/processed_data/TDR119/outs/filtered_feature_bc_matrix\"\n",
    "peaks_data_folder <- \"/hpc/projects/data.science/yangjoon.kim/zebrahub_multiome/data/processed_data/TDR119/outs\""
   ]
  },
  {
   "cell_type": "code",
   "execution_count": 6,
   "metadata": {},
   "outputs": [],
   "source": [
    "# # Read in matrix data using the Matrix package\n",
    "# indata <- Matrix::readMM(paste0(proc_data_folder, \"/matrix.mtx.gz\")) \n",
    "# # Binarize the matrix\n",
    "# indata@x[indata@x > 0] <- 1\n",
    "\n",
    "# # Format cell info\n",
    "# cellinfo <- read.table(paste0(proc_data_folder, \"/barcodes.tsv.gz\"))\n",
    "# row.names(cellinfo) <- cellinfo$V1\n",
    "# names(cellinfo) <- \"cells\"\n",
    "\n",
    "# # Format peak info\n",
    "# peakinfo <- read.table(paste0(peaks_data_folder, \"/atac_peaks.bed\"))\n",
    "# names(peakinfo) <- c(\"chr\", \"bp1\", \"bp2\")\n",
    "# peakinfo$site_name <- paste(peakinfo$chr, peakinfo$bp1, peakinfo$bp2, sep=\"_\")\n",
    "# row.names(peakinfo) <- peakinfo$site_name\n",
    "\n",
    "# row.names(indata) <- row.names(peakinfo)\n",
    "# colnames(indata) <- row.names(cellinfo)\n",
    "\n",
    "# # Make CDS\n",
    "# input_cds <-  suppressWarnings(new_cell_data_set(indata,\n",
    "# cell_metadata = cellinfo,\n",
    "# gene_metadata = peakinfo))\n",
    "\n",
    "# input_cds <- monocle3::detect_genes(input_cds)\n",
    "\n",
    "# #Ensure there are no peaks included with zero reads\n",
    "# input_cds <- input_cds[Matrix::rowSums(exprs(input_cds)) != 0,] "
   ]
  },
  {
   "cell_type": "markdown",
   "metadata": {},
   "source": [
    "## Option 2. Process data to make CDS object - from h5Seurat object"
   ]
  },
  {
   "cell_type": "code",
   "execution_count": 7,
   "metadata": {},
   "outputs": [
    {
     "data": {
      "text/plain": [
       "An object of class Seurat \n",
       "1055655 features across 13022 samples within 5 assays \n",
       "Active assay: peaks_celltype (316881 features, 316880 variable features)\n",
       " 4 other assays present: RNA, ATAC, SCT, peaks_bulk\n",
       " 5 dimensional reductions calculated: pca, umap.rna, lsi, umap.atac, umap.joint"
      ]
     },
     "metadata": {},
     "output_type": "display_data"
    }
   ],
   "source": [
    "# import Seurat object\n",
    "object <- readRDS(\"/hpc/projects/data.science/yangjoon.kim/zebrahub_multiome/data/processed_data/TDR119_cicero_output/TDR119_processed.RDS\")\n",
    "object"
   ]
  },
  {
   "cell_type": "code",
   "execution_count": 8,
   "metadata": {},
   "outputs": [],
   "source": [
    "# We will use the peak profiles from MACS2-bulk (all cells)\n",
    "DefaultAssay(object) <- \"ATAC\""
   ]
  },
  {
   "cell_type": "code",
   "execution_count": 9,
   "metadata": {},
   "outputs": [],
   "source": [
    "# convert to CellDataSet format\n",
    "object.cds <- as.cell_data_set(x = object)\n"
   ]
  },
  {
   "cell_type": "code",
   "execution_count": 10,
   "metadata": {},
   "outputs": [
    {
     "data": {
      "text/plain": [
       "class: cell_data_set \n",
       "dim: 248320 13022 \n",
       "metadata(0):\n",
       "assays(2): counts logcounts\n",
       "rownames(248320): 1-2372-3057 1-6507-7253 ... 9-56452315-56452858\n",
       "  9-56459068-56459827\n",
       "rowData names(0):\n",
       "colnames(13022): AAACAGCCACCTAAGC-1 AAACAGCCAGGGAGGA-1 ...\n",
       "  TTTGTTGGTTCGGGAT-1 TTTGTTGGTTTGTGGA-1\n",
       "colData names(35): orig.ident nCount_RNA ... ident Size_Factor\n",
       "reducedDimNames(3): UMAP.RNA UMAP.ATAC UMAP.JOINT\n",
       "mainExpName: ATAC\n",
       "altExpNames(0):"
      ]
     },
     "metadata": {},
     "output_type": "display_data"
    }
   ],
   "source": [
    "# Check the object.cds - NOTE that the dim.red fields are all capitalized\n",
    "object.cds"
   ]
  },
  {
   "cell_type": "code",
   "execution_count": null,
   "metadata": {},
   "outputs": [
    {
     "name": "stderr",
     "output_type": "stream",
     "text": [
      "Overlap QC metrics:\n",
      "Cells per bin: 50\n",
      "Maximum shared cells bin-bin: 44\n",
      "Mean shared cells bin-bin: 0.211055758836731\n",
      "Median shared cells bin-bin: 0\n",
      "\n"
     ]
    }
   ],
   "source": [
    "# make the cicero object\n",
    "# we will use the ATAC.UMAP here for the sampling of the neighborhoods - as we'll treat this dataset as if we only had scATAC-seq.\n",
    "# This is something we can ask Kenji Kamimoto/Samantha Morris later for their advice. (or compare the built GRNs from joint.UMAP vs ATAC.UMAP)\n",
    "object.cicero <- make_cicero_cds(object.cds, reduced_coordinates = reducedDims(object.cds)$UMAP.ATAC)"
   ]
  },
  {
   "cell_type": "code",
   "execution_count": 14,
   "metadata": {},
   "outputs": [
    {
     "data": {
      "text/plain": [
       "class: cell_data_set \n",
       "dim: 248320 2517 \n",
       "metadata(1): cds_version\n",
       "assays(1): counts\n",
       "rownames(248320): 1-2372-3057 1-6507-7253 ... 9-56452315-56452858\n",
       "  9-56459068-56459827\n",
       "rowData names(5): num_cells_expressed chr bp1 bp2 Peak\n",
       "colnames(2517): agg_9954 agg_9661 ... agg_2830 agg_5140\n",
       "colData names(3): agg_cell Size_Factor num_genes_expressed\n",
       "reducedDimNames(0):\n",
       "mainExpName: NULL\n",
       "altExpNames(0):"
      ]
     },
     "metadata": {},
     "output_type": "display_data"
    }
   ],
   "source": [
    "object.cicero"
   ]
  },
  {
   "cell_type": "markdown",
   "metadata": {},
   "source": [
    "# 3. Find Cicero connections\n",
    "\n",
    "We’ll demonstrate running Cicero here using just one chromosome to save some time, but the same workflow can be applied to find CCANs for the whole genome.\n",
    "\n",
    "Here we demonstrate the most basic workflow for running Cicero. This workflow can be broken down into several steps, each with parameters that can be changed from their defaults to fine-tune the Cicero algorithm depending on your data. We highly recommend that you explore the Cicero website, paper, and documentation for more information.\n"
   ]
  },
  {
   "cell_type": "code",
   "execution_count": 15,
   "metadata": {},
   "outputs": [
    {
     "data": {
      "text/plain": [
       "Seqinfo object with 1923 sequences (1 circular) from GRCz11 genome:\n",
       "  seqnames seqlengths isCircular genome\n",
       "  1          59578282      FALSE GRCz11\n",
       "  2          59640629      FALSE GRCz11\n",
       "  3          62628489      FALSE GRCz11\n",
       "  4          78093715      FALSE GRCz11\n",
       "  5          72500376      FALSE GRCz11\n",
       "  ...             ...        ...    ...\n",
       "  NA758          2601      FALSE GRCz11\n",
       "  CTG8005      153879      FALSE GRCz11\n",
       "  CTG20005      37354      FALSE GRCz11\n",
       "  CTG20006     161442      FALSE GRCz11\n",
       "  CTG20007     159186      FALSE GRCz11"
      ]
     },
     "metadata": {},
     "output_type": "display_data"
    }
   ],
   "source": [
    "object@assays$ATAC@seqinfo"
   ]
  },
  {
   "cell_type": "markdown",
   "metadata": {},
   "source": [
    "### NOTE\n",
    "- TDR118 seurat object has different seqinfo objects per slot. So, we have to define the major seqinfo object that we will use. i.e. \"TDR118@assays$ATAC@annotation\" or  \"TDR118@assays$ATAC\"\n",
    "- TDR118 didn't have the sequence length information for the chromosomes, so we will add it manually.\n",
    "- Note that there are 25 chromosomes in zebrafish and also 1 MT chromosome (total of 26)"
   ]
  },
  {
   "cell_type": "code",
   "execution_count": 17,
   "metadata": {},
   "outputs": [
    {
     "data": {
      "text/plain": [
       "Seqinfo object with 26 sequences from GRCz11 genome:\n",
       "  seqnames seqlengths isCircular genome\n",
       "  1          59578282       <NA> GRCz11\n",
       "  2          59640629       <NA> GRCz11\n",
       "  3          62628489       <NA> GRCz11\n",
       "  4          78093715       <NA> GRCz11\n",
       "  5          72500376       <NA> GRCz11\n",
       "  ...             ...        ...    ...\n",
       "  22         39133080       <NA> GRCz11\n",
       "  23         46223584       <NA> GRCz11\n",
       "  24         42172926       <NA> GRCz11\n",
       "  25         37502051       <NA> GRCz11\n",
       "  MT            16596       <NA> GRCz11"
      ]
     },
     "metadata": {},
     "output_type": "display_data"
    }
   ],
   "source": [
    "# TDR118 didn't have sequence length information for the chromosomes, so we will add it manually.\n",
    "# Note that there are 25 chromosomes in zebrafish and also 1 MT chromosome (total of 26)\n",
    "df_seqinfo <- as.data.frame(object@assays$ATAC@seqinfo)\n",
    "\n",
    "object@assays$ATAC@annotation@seqinfo@seqlengths <- df_seqinfo$seqlengths[1:26]\n",
    "object@assays$ATAC@annotation@seqinfo"
   ]
  },
  {
   "cell_type": "code",
   "execution_count": 18,
   "metadata": {},
   "outputs": [
    {
     "data": {
      "text/html": [
       "<style>\n",
       ".dl-inline {width: auto; margin:0; padding: 0}\n",
       ".dl-inline>dt, .dl-inline>dd {float: none; width: auto; display: inline-block}\n",
       ".dl-inline>dt::after {content: \":\\0020\"; padding-right: .5ex}\n",
       ".dl-inline>dt:not(:first-of-type) {padding-left: .5ex}\n",
       "</style><dl class=dl-inline><dt>1</dt><dd>59578282</dd><dt>2</dt><dd>59640629</dd><dt>3</dt><dd>62628489</dd><dt>4</dt><dd>78093715</dd><dt>5</dt><dd>72500376</dd><dt>6</dt><dd>60270059</dd><dt>7</dt><dd>74282399</dd><dt>8</dt><dd>54304671</dd><dt>9</dt><dd>56459846</dd><dt>10</dt><dd>45420867</dd><dt>11</dt><dd>45484837</dd><dt>12</dt><dd>49182954</dd><dt>13</dt><dd>52186027</dd><dt>14</dt><dd>52660232</dd><dt>15</dt><dd>48040578</dd><dt>16</dt><dd>55266484</dd><dt>17</dt><dd>53461100</dd><dt>18</dt><dd>51023478</dd><dt>19</dt><dd>48449771</dd><dt>20</dt><dd>55201332</dd><dt>21</dt><dd>45934066</dd><dt>22</dt><dd>39133080</dd><dt>23</dt><dd>46223584</dd><dt>24</dt><dd>42172926</dd><dt>25</dt><dd>37502051</dd><dt>MT</dt><dd>16596</dd></dl>\n"
      ],
      "text/latex": [
       "\\begin{description*}\n",
       "\\item[1] 59578282\n",
       "\\item[2] 59640629\n",
       "\\item[3] 62628489\n",
       "\\item[4] 78093715\n",
       "\\item[5] 72500376\n",
       "\\item[6] 60270059\n",
       "\\item[7] 74282399\n",
       "\\item[8] 54304671\n",
       "\\item[9] 56459846\n",
       "\\item[10] 45420867\n",
       "\\item[11] 45484837\n",
       "\\item[12] 49182954\n",
       "\\item[13] 52186027\n",
       "\\item[14] 52660232\n",
       "\\item[15] 48040578\n",
       "\\item[16] 55266484\n",
       "\\item[17] 53461100\n",
       "\\item[18] 51023478\n",
       "\\item[19] 48449771\n",
       "\\item[20] 55201332\n",
       "\\item[21] 45934066\n",
       "\\item[22] 39133080\n",
       "\\item[23] 46223584\n",
       "\\item[24] 42172926\n",
       "\\item[25] 37502051\n",
       "\\item[MT] 16596\n",
       "\\end{description*}\n"
      ],
      "text/markdown": [
       "1\n",
       ":   595782822\n",
       ":   596406293\n",
       ":   626284894\n",
       ":   780937155\n",
       ":   725003766\n",
       ":   602700597\n",
       ":   742823998\n",
       ":   543046719\n",
       ":   5645984610\n",
       ":   4542086711\n",
       ":   4548483712\n",
       ":   4918295413\n",
       ":   5218602714\n",
       ":   5266023215\n",
       ":   4804057816\n",
       ":   5526648417\n",
       ":   5346110018\n",
       ":   5102347819\n",
       ":   4844977120\n",
       ":   5520133221\n",
       ":   4593406622\n",
       ":   3913308023\n",
       ":   4622358424\n",
       ":   4217292625\n",
       ":   37502051MT\n",
       ":   16596\n",
       "\n"
      ],
      "text/plain": [
       "       1        2        3        4        5        6        7        8 \n",
       "59578282 59640629 62628489 78093715 72500376 60270059 74282399 54304671 \n",
       "       9       10       11       12       13       14       15       16 \n",
       "56459846 45420867 45484837 49182954 52186027 52660232 48040578 55266484 \n",
       "      17       18       19       20       21       22       23       24 \n",
       "53461100 51023478 48449771 55201332 45934066 39133080 46223584 42172926 \n",
       "      25       MT \n",
       "37502051    16596 "
      ]
     },
     "metadata": {},
     "output_type": "display_data"
    }
   ],
   "source": [
    "genome <- seqlengths(object@assays$ATAC@annotation)\n",
    "genome"
   ]
  },
  {
   "cell_type": "code",
   "execution_count": 23,
   "metadata": {},
   "outputs": [],
   "source": [
    "write.csv(as.data.frame(genome), file = \"/hpc/projects/data.science/yangjoon.kim/zebrahub_multiome/data/processed_data/chromosome_lengths.csv\", row.names = FALSE)"
   ]
  },
  {
   "cell_type": "code",
   "execution_count": 25,
   "metadata": {},
   "outputs": [
    {
     "data": {
      "text/html": [
       "<style>\n",
       ".dl-inline {width: auto; margin:0; padding: 0}\n",
       ".dl-inline>dt, .dl-inline>dd {float: none; width: auto; display: inline-block}\n",
       ".dl-inline>dt::after {content: \":\\0020\"; padding-right: .5ex}\n",
       ".dl-inline>dt:not(:first-of-type) {padding-left: .5ex}\n",
       "</style><dl class=dl-inline><dt>1</dt><dd>59578282</dd><dt>2</dt><dd>59640629</dd><dt>3</dt><dd>62628489</dd><dt>4</dt><dd>78093715</dd><dt>5</dt><dd>72500376</dd><dt>6</dt><dd>60270059</dd><dt>7</dt><dd>74282399</dd><dt>8</dt><dd>54304671</dd><dt>9</dt><dd>56459846</dd><dt>10</dt><dd>45420867</dd><dt>11</dt><dd>45484837</dd><dt>12</dt><dd>49182954</dd><dt>13</dt><dd>52186027</dd><dt>14</dt><dd>52660232</dd><dt>15</dt><dd>48040578</dd><dt>16</dt><dd>55266484</dd><dt>17</dt><dd>53461100</dd><dt>18</dt><dd>51023478</dd><dt>19</dt><dd>48449771</dd><dt>20</dt><dd>55201332</dd><dt>21</dt><dd>45934066</dd><dt>22</dt><dd>39133080</dd><dt>23</dt><dd>46223584</dd><dt>24</dt><dd>42172926</dd><dt>25</dt><dd>37502051</dd><dt>MT</dt><dd>16596</dd></dl>\n"
      ],
      "text/latex": [
       "\\begin{description*}\n",
       "\\item[1] 59578282\n",
       "\\item[2] 59640629\n",
       "\\item[3] 62628489\n",
       "\\item[4] 78093715\n",
       "\\item[5] 72500376\n",
       "\\item[6] 60270059\n",
       "\\item[7] 74282399\n",
       "\\item[8] 54304671\n",
       "\\item[9] 56459846\n",
       "\\item[10] 45420867\n",
       "\\item[11] 45484837\n",
       "\\item[12] 49182954\n",
       "\\item[13] 52186027\n",
       "\\item[14] 52660232\n",
       "\\item[15] 48040578\n",
       "\\item[16] 55266484\n",
       "\\item[17] 53461100\n",
       "\\item[18] 51023478\n",
       "\\item[19] 48449771\n",
       "\\item[20] 55201332\n",
       "\\item[21] 45934066\n",
       "\\item[22] 39133080\n",
       "\\item[23] 46223584\n",
       "\\item[24] 42172926\n",
       "\\item[25] 37502051\n",
       "\\item[MT] 16596\n",
       "\\end{description*}\n"
      ],
      "text/markdown": [
       "1\n",
       ":   595782822\n",
       ":   596406293\n",
       ":   626284894\n",
       ":   780937155\n",
       ":   725003766\n",
       ":   602700597\n",
       ":   742823998\n",
       ":   543046719\n",
       ":   5645984610\n",
       ":   4542086711\n",
       ":   4548483712\n",
       ":   4918295413\n",
       ":   5218602714\n",
       ":   5266023215\n",
       ":   4804057816\n",
       ":   5526648417\n",
       ":   5346110018\n",
       ":   5102347819\n",
       ":   4844977120\n",
       ":   5520133221\n",
       ":   4593406622\n",
       ":   3913308023\n",
       ":   4622358424\n",
       ":   4217292625\n",
       ":   37502051MT\n",
       ":   16596\n",
       "\n"
      ],
      "text/plain": [
       "       1        2        3        4        5        6        7        8 \n",
       "59578282 59640629 62628489 78093715 72500376 60270059 74282399 54304671 \n",
       "       9       10       11       12       13       14       15       16 \n",
       "56459846 45420867 45484837 49182954 52186027 52660232 48040578 55266484 \n",
       "      17       18       19       20       21       22       23       24 \n",
       "53461100 51023478 48449771 55201332 45934066 39133080 46223584 42172926 \n",
       "      25       MT \n",
       "37502051    16596 "
      ]
     },
     "metadata": {},
     "output_type": "display_data"
    }
   ],
   "source": [
    "genome <- seqlengths(object@assays$ATAC@annotation)\n",
    "genome"
   ]
  },
  {
   "cell_type": "code",
   "execution_count": 26,
   "metadata": {},
   "outputs": [],
   "source": [
    "# get the chromosome sizes from the Seurat object\n",
    "genome <- seqlengths(object@assays$ATAC@annotation)\n",
    "\n",
    "# use chromosome 1 to save some time\n",
    "# omit this step to run on the whole genome\n",
    "# genome <- genome[1]\n",
    "\n",
    "# convert chromosome sizes to a dataframe\n",
    "genome.df <- data.frame(\"chr\" = names(genome), \"length\" = genome)\n",
    "\n",
    "# run cicero\n",
    "conns <- run_cicero(object.cicero, genomic_coords = genome.df, sample_num = 100)"
   ]
  },
  {
   "cell_type": "code",
   "execution_count": null,
   "metadata": {},
   "outputs": [],
   "source": []
  },
  {
   "cell_type": "code",
   "execution_count": 62,
   "metadata": {},
   "outputs": [],
   "source": [
    "# run cicero\n",
    "conns <- run_cicero(TDR118.cicero, genomic_coords = genome.df, sample_num = 100)"
   ]
  },
  {
   "cell_type": "code",
   "execution_count": 65,
   "metadata": {},
   "outputs": [
    {
     "data": {
      "text/html": [
       "<table class=\"dataframe\">\n",
       "<caption>A data.frame: 6 × 3</caption>\n",
       "<thead>\n",
       "\t<tr><th></th><th scope=col>Peak1</th><th scope=col>Peak2</th><th scope=col>coaccess</th></tr>\n",
       "\t<tr><th></th><th scope=col>&lt;chr&gt;</th><th scope=col>&lt;fct&gt;</th><th scope=col>&lt;dbl&gt;</th></tr>\n",
       "</thead>\n",
       "<tbody>\n",
       "\t<tr><th scope=row>1</th><td>1-10001211-10001420</td><td>1-9751998-9752267</td><td> 0.0000000000</td></tr>\n",
       "\t<tr><th scope=row>2</th><td>1-10001211-10001420</td><td>1-9752880-9753667</td><td>-0.0041574440</td></tr>\n",
       "\t<tr><th scope=row>3</th><td>1-10001211-10001420</td><td>1-9759490-9760010</td><td> 0.0003054875</td></tr>\n",
       "\t<tr><th scope=row>4</th><td>1-10001211-10001420</td><td>1-9764232-9764701</td><td>-0.0035175474</td></tr>\n",
       "\t<tr><th scope=row>5</th><td>1-10001211-10001420</td><td>1-9768456-9768674</td><td>-0.0028105534</td></tr>\n",
       "\t<tr><th scope=row>6</th><td>1-10001211-10001420</td><td>1-9770147-9770354</td><td>-0.0014962415</td></tr>\n",
       "</tbody>\n",
       "</table>\n"
      ],
      "text/latex": [
       "A data.frame: 6 × 3\n",
       "\\begin{tabular}{r|lll}\n",
       "  & Peak1 & Peak2 & coaccess\\\\\n",
       "  & <chr> & <fct> & <dbl>\\\\\n",
       "\\hline\n",
       "\t1 & 1-10001211-10001420 & 1-9751998-9752267 &  0.0000000000\\\\\n",
       "\t2 & 1-10001211-10001420 & 1-9752880-9753667 & -0.0041574440\\\\\n",
       "\t3 & 1-10001211-10001420 & 1-9759490-9760010 &  0.0003054875\\\\\n",
       "\t4 & 1-10001211-10001420 & 1-9764232-9764701 & -0.0035175474\\\\\n",
       "\t5 & 1-10001211-10001420 & 1-9768456-9768674 & -0.0028105534\\\\\n",
       "\t6 & 1-10001211-10001420 & 1-9770147-9770354 & -0.0014962415\\\\\n",
       "\\end{tabular}\n"
      ],
      "text/markdown": [
       "\n",
       "A data.frame: 6 × 3\n",
       "\n",
       "| <!--/--> | Peak1 &lt;chr&gt; | Peak2 &lt;fct&gt; | coaccess &lt;dbl&gt; |\n",
       "|---|---|---|---|\n",
       "| 1 | 1-10001211-10001420 | 1-9751998-9752267 |  0.0000000000 |\n",
       "| 2 | 1-10001211-10001420 | 1-9752880-9753667 | -0.0041574440 |\n",
       "| 3 | 1-10001211-10001420 | 1-9759490-9760010 |  0.0003054875 |\n",
       "| 4 | 1-10001211-10001420 | 1-9764232-9764701 | -0.0035175474 |\n",
       "| 5 | 1-10001211-10001420 | 1-9768456-9768674 | -0.0028105534 |\n",
       "| 6 | 1-10001211-10001420 | 1-9770147-9770354 | -0.0014962415 |\n",
       "\n"
      ],
      "text/plain": [
       "  Peak1               Peak2             coaccess     \n",
       "1 1-10001211-10001420 1-9751998-9752267  0.0000000000\n",
       "2 1-10001211-10001420 1-9752880-9753667 -0.0041574440\n",
       "3 1-10001211-10001420 1-9759490-9760010  0.0003054875\n",
       "4 1-10001211-10001420 1-9764232-9764701 -0.0035175474\n",
       "5 1-10001211-10001420 1-9768456-9768674 -0.0028105534\n",
       "6 1-10001211-10001420 1-9770147-9770354 -0.0014962415"
      ]
     },
     "metadata": {},
     "output_type": "display_data"
    }
   ],
   "source": [
    "head(conns)"
   ]
  },
  {
   "cell_type": "code",
   "execution_count": 74,
   "metadata": {},
   "outputs": [
    {
     "data": {
      "text/html": [
       "<style>\n",
       ".list-inline {list-style: none; margin:0; padding: 0}\n",
       ".list-inline>li {display: inline-block}\n",
       ".list-inline>li:not(:last-child)::after {content: \"\\00b7\"; padding: 0 .5ex}\n",
       "</style>\n",
       "<ol class=list-inline><li>4413480</li><li>3</li></ol>\n"
      ],
      "text/latex": [
       "\\begin{enumerate*}\n",
       "\\item 4413480\n",
       "\\item 3\n",
       "\\end{enumerate*}\n"
      ],
      "text/markdown": [
       "1. 4413480\n",
       "2. 3\n",
       "\n",
       "\n"
      ],
      "text/plain": [
       "[1] 4413480       3"
      ]
     },
     "metadata": {},
     "output_type": "display_data"
    }
   ],
   "source": [
    "dim(conns)"
   ]
  },
  {
   "cell_type": "code",
   "execution_count": 71,
   "metadata": {},
   "outputs": [
    {
     "data": {
      "text/html": [
       "2100.82840803336"
      ],
      "text/latex": [
       "2100.82840803336"
      ],
      "text/markdown": [
       "2100.82840803336"
      ],
      "text/plain": [
       "[1] 2100.828"
      ]
     },
     "metadata": {},
     "output_type": "display_data"
    }
   ],
   "source": [
    "sqrt(4413480)"
   ]
  },
  {
   "cell_type": "code",
   "execution_count": 76,
   "metadata": {},
   "outputs": [
    {
     "data": {
      "text/plain": [
       "ChromatinAssay data with 435704 features for 13022 cells\n",
       "Variable features: 0 \n",
       "Genome: \n",
       "Annotation present: TRUE \n",
       "Motifs present: FALSE \n",
       "Fragment files: 1 "
      ]
     },
     "metadata": {},
     "output_type": "display_data"
    }
   ],
   "source": [
    "TDR118@assays$peaks_bulk"
   ]
  },
  {
   "cell_type": "code",
   "execution_count": 72,
   "metadata": {},
   "outputs": [],
   "source": [
    "# get the chromosome sizes from the Seurat object\n",
    "genome <- seqlengths(TDR118@assays$ATAC@annotation)\n",
    "\n",
    "# convert chromosome sizes to a dataframe (chr: chromosome name, and length: lenght of that chromosome, total of 26 entries)\n",
    "genome.df <- data.frame(\"chr\" = names(genome), \"length\" = genome)\n",
    "\n",
    "# run cicero\n",
    "conns_total <- run_cicero(TDR118.cicero, genomic_coords = genome.df, sample_num = 100, silent = FALSE)"
   ]
  },
  {
   "cell_type": "code",
   "execution_count": 73,
   "metadata": {},
   "outputs": [
    {
     "data": {
      "text/html": [
       "<table class=\"dataframe\">\n",
       "<caption>A data.frame: 6 × 3</caption>\n",
       "<thead>\n",
       "\t<tr><th></th><th scope=col>Peak1</th><th scope=col>Peak2</th><th scope=col>coaccess</th></tr>\n",
       "\t<tr><th></th><th scope=col>&lt;chr&gt;</th><th scope=col>&lt;fct&gt;</th><th scope=col>&lt;dbl&gt;</th></tr>\n",
       "</thead>\n",
       "<tbody>\n",
       "\t<tr><th scope=row>1</th><td>1-10001211-10001420</td><td>1-9751998-9752267</td><td> 0.0000000000</td></tr>\n",
       "\t<tr><th scope=row>2</th><td>1-10001211-10001420</td><td>1-9752880-9753667</td><td>-0.0041574440</td></tr>\n",
       "\t<tr><th scope=row>3</th><td>1-10001211-10001420</td><td>1-9759490-9760010</td><td> 0.0003054875</td></tr>\n",
       "\t<tr><th scope=row>4</th><td>1-10001211-10001420</td><td>1-9764232-9764701</td><td>-0.0035175474</td></tr>\n",
       "\t<tr><th scope=row>5</th><td>1-10001211-10001420</td><td>1-9768456-9768674</td><td>-0.0028105534</td></tr>\n",
       "\t<tr><th scope=row>6</th><td>1-10001211-10001420</td><td>1-9770147-9770354</td><td>-0.0014962415</td></tr>\n",
       "</tbody>\n",
       "</table>\n"
      ],
      "text/latex": [
       "A data.frame: 6 × 3\n",
       "\\begin{tabular}{r|lll}\n",
       "  & Peak1 & Peak2 & coaccess\\\\\n",
       "  & <chr> & <fct> & <dbl>\\\\\n",
       "\\hline\n",
       "\t1 & 1-10001211-10001420 & 1-9751998-9752267 &  0.0000000000\\\\\n",
       "\t2 & 1-10001211-10001420 & 1-9752880-9753667 & -0.0041574440\\\\\n",
       "\t3 & 1-10001211-10001420 & 1-9759490-9760010 &  0.0003054875\\\\\n",
       "\t4 & 1-10001211-10001420 & 1-9764232-9764701 & -0.0035175474\\\\\n",
       "\t5 & 1-10001211-10001420 & 1-9768456-9768674 & -0.0028105534\\\\\n",
       "\t6 & 1-10001211-10001420 & 1-9770147-9770354 & -0.0014962415\\\\\n",
       "\\end{tabular}\n"
      ],
      "text/markdown": [
       "\n",
       "A data.frame: 6 × 3\n",
       "\n",
       "| <!--/--> | Peak1 &lt;chr&gt; | Peak2 &lt;fct&gt; | coaccess &lt;dbl&gt; |\n",
       "|---|---|---|---|\n",
       "| 1 | 1-10001211-10001420 | 1-9751998-9752267 |  0.0000000000 |\n",
       "| 2 | 1-10001211-10001420 | 1-9752880-9753667 | -0.0041574440 |\n",
       "| 3 | 1-10001211-10001420 | 1-9759490-9760010 |  0.0003054875 |\n",
       "| 4 | 1-10001211-10001420 | 1-9764232-9764701 | -0.0035175474 |\n",
       "| 5 | 1-10001211-10001420 | 1-9768456-9768674 | -0.0028105534 |\n",
       "| 6 | 1-10001211-10001420 | 1-9770147-9770354 | -0.0014962415 |\n",
       "\n"
      ],
      "text/plain": [
       "  Peak1               Peak2             coaccess     \n",
       "1 1-10001211-10001420 1-9751998-9752267  0.0000000000\n",
       "2 1-10001211-10001420 1-9752880-9753667 -0.0041574440\n",
       "3 1-10001211-10001420 1-9759490-9760010  0.0003054875\n",
       "4 1-10001211-10001420 1-9764232-9764701 -0.0035175474\n",
       "5 1-10001211-10001420 1-9768456-9768674 -0.0028105534\n",
       "6 1-10001211-10001420 1-9770147-9770354 -0.0014962415"
      ]
     },
     "metadata": {},
     "output_type": "display_data"
    }
   ],
   "source": [
    "head(conns)"
   ]
  },
  {
   "cell_type": "markdown",
   "metadata": {},
   "source": [
    "# 4. Save results for the next step"
   ]
  },
  {
   "cell_type": "code",
   "execution_count": 31,
   "metadata": {},
   "outputs": [
    {
     "data": {
      "text/plain": [
       "class: cell_data_set \n",
       "dim: 248320 13022 \n",
       "metadata(0):\n",
       "assays(2): counts logcounts\n",
       "rownames(248320): 1-2372-3057 1-6507-7253 ... 9-56452315-56452858\n",
       "  9-56459068-56459827\n",
       "rowData names(0):\n",
       "colnames(13022): AAACAGCCACCTAAGC-1 AAACAGCCAGGGAGGA-1 ...\n",
       "  TTTGTTGGTTCGGGAT-1 TTTGTTGGTTTGTGGA-1\n",
       "colData names(62): orig.ident nCount_RNA ... ident Size_Factor\n",
       "reducedDimNames(6): UMAP ATAC.UMAP ... LSI.CELLRANGER\n",
       "  ATAC.UMAP.CELLRANGER\n",
       "mainExpName: ATAC\n",
       "altExpNames(0):"
      ]
     },
     "metadata": {},
     "output_type": "display_data"
    }
   ],
   "source": [
    "TDR118.cds"
   ]
  },
  {
   "cell_type": "code",
   "execution_count": 38,
   "metadata": {},
   "outputs": [
    {
     "data": {
      "text/html": [
       "<style>\n",
       ".list-inline {list-style: none; margin:0; padding: 0}\n",
       ".list-inline>li {display: inline-block}\n",
       ".list-inline>li:not(:last-child)::after {content: \"\\00b7\"; padding: 0 .5ex}\n",
       "</style>\n",
       "<ol class=list-inline><li>'1-2372-3057'</li><li>'1-6507-7253'</li><li>'1-11485-12198'</li><li>'1-14475-15248'</li><li>'1-16516-17393'</li><li>'1-17575-18198'</li></ol>\n"
      ],
      "text/latex": [
       "\\begin{enumerate*}\n",
       "\\item '1-2372-3057'\n",
       "\\item '1-6507-7253'\n",
       "\\item '1-11485-12198'\n",
       "\\item '1-14475-15248'\n",
       "\\item '1-16516-17393'\n",
       "\\item '1-17575-18198'\n",
       "\\end{enumerate*}\n"
      ],
      "text/markdown": [
       "1. '1-2372-3057'\n",
       "2. '1-6507-7253'\n",
       "3. '1-11485-12198'\n",
       "4. '1-14475-15248'\n",
       "5. '1-16516-17393'\n",
       "6. '1-17575-18198'\n",
       "\n",
       "\n"
      ],
      "text/plain": [
       "[1] \"1-2372-3057\"   \"1-6507-7253\"   \"1-11485-12198\" \"1-14475-15248\"\n",
       "[5] \"1-16516-17393\" \"1-17575-18198\""
      ]
     },
     "metadata": {},
     "output_type": "display_data"
    }
   ],
   "source": [
    "all_peaks <- row.names(TDR118@assays$ATAC@data)\n",
    "head(all_peaks)"
   ]
  },
  {
   "cell_type": "code",
   "execution_count": 28,
   "metadata": {},
   "outputs": [
    {
     "data": {
      "text/plain": [
       "NULL"
      ]
     },
     "metadata": {},
     "output_type": "display_data"
    }
   ],
   "source": [
    "dim(all_peaks)"
   ]
  },
  {
   "cell_type": "code",
   "execution_count": 22,
   "metadata": {},
   "outputs": [
    {
     "ename": "ERROR",
     "evalue": "Error in exprs(TDR118.cds): could not find function \"exprs\"\n",
     "output_type": "error",
     "traceback": [
      "Error in exprs(TDR118.cds): could not find function \"exprs\"\nTraceback:\n",
      "1. row.names(exprs(TDR118.cds))"
     ]
    }
   ],
   "source": [
    "all_peaks <- row.names(exprs(TDR118.cds))\n",
    "all_peaks"
   ]
  },
  {
   "cell_type": "code",
   "execution_count": 26,
   "metadata": {},
   "outputs": [],
   "source": [
    "# all_peaks <- row.names(exprs(TDR118.cds))\n",
    "# write.csv(x = all_peaks, file = paste0(output_folder, \"/TDR118_macs2_bulk_peaks.csv\"))\n",
    "# write.csv(x = conns_total, file = paste0(output_folder, \"/TDR118_cicero_connections_macs2_bulk_peaks.csv\"))\n"
   ]
  },
  {
   "cell_type": "code",
   "execution_count": null,
   "metadata": {},
   "outputs": [],
   "source": [
    "# save the TDR118 object again\n",
    "\n",
    "# save as RDS\n",
    "saveRDS(object = TDR118, \"/data/yangjoon.kim/bruno/projects/data.science/yangjoon.kim/zebrahub_multiome/data/annotated_data/TDR118_processed.RDS\", overwrite=TRUE)\n",
    "\n",
    "# save as h5Seurat\n",
    "SaveH5Seurat(object = TDR118, \n",
    "             filename = \"/data/yangjoon.kim/bruno/projects/data.science/yangjoon.kim/zebrahub_multiome/data/annotated_data/TDR118_processed.h5Seurat\", \n",
    "             overwrite = TRUE)"
   ]
  },
  {
   "cell_type": "code",
   "execution_count": 21,
   "metadata": {},
   "outputs": [
    {
     "data": {
      "text/plain": [
       "GRanges object with 1 range and 0 metadata columns:\n",
       "      seqnames            ranges strand\n",
       "         <Rle>         <IRanges>  <Rle>\n",
       "  [1]       19 14187540-14191592      *\n",
       "  -------\n",
       "  seqinfo: 1 sequence from an unspecified genome; no seqlengths"
      ]
     },
     "metadata": {},
     "output_type": "display_data"
    }
   ],
   "source": [
    "# LookupGeneCoords(TDR118, gene=\"tbxta\", assay = \"ATAC\")"
   ]
  },
  {
   "cell_type": "code",
   "execution_count": null,
   "metadata": {},
   "outputs": [],
   "source": []
  },
  {
   "cell_type": "code",
   "execution_count": null,
   "metadata": {},
   "outputs": [],
   "source": []
  },
  {
   "cell_type": "code",
   "execution_count": null,
   "metadata": {},
   "outputs": [],
   "source": []
  },
  {
   "cell_type": "code",
   "execution_count": null,
   "metadata": {},
   "outputs": [],
   "source": []
  },
  {
   "cell_type": "code",
   "execution_count": null,
   "metadata": {},
   "outputs": [],
   "source": []
  },
  {
   "cell_type": "markdown",
   "metadata": {},
   "source": [
    "# DEPRECATED (from CellOracle notebook)"
   ]
  },
  {
   "cell_type": "markdown",
   "metadata": {},
   "source": [
    "# 3. [Skip] Qauality check and Filtering\n",
    "\n",
    "- Note. Since we have done some QC on the seurat object before this step, we will skip this section for now."
   ]
  },
  {
   "cell_type": "code",
   "execution_count": 6,
   "metadata": {},
   "outputs": [
    {
     "data": {
      "image/png": "[encoded data removed]",
      "text/plain": [
       "Plot with title \"Histogram of Matrix::colSums(exprs(input_cds))\""
      ]
     },
     "metadata": {
      "image/png": {
       "height": 420,
       "width": 420
      }
     },
     "output_type": "display_data"
    }
   ],
   "source": [
    "# # Visualize peak_count_per_cell\n",
    "# hist(Matrix::colSums(exprs(TDR118.cds)))"
   ]
  },
  {
   "cell_type": "code",
   "execution_count": 7,
   "metadata": {},
   "outputs": [],
   "source": [
    "# # Filter cells by peak_count\n",
    "# # Please set an appropriate threshold values according to your data \n",
    "# max_count <-  15000\n",
    "# min_count <- 2000\n",
    "# input_cds <- input_cds[,Matrix::colSums(exprs(input_cds)) >= min_count] \n",
    "# input_cds <- input_cds[,Matrix::colSums(exprs(input_cds)) <= max_count] \n"
   ]
  },
  {
   "cell_type": "markdown",
   "metadata": {},
   "source": [
    "# 4. [Skip] Process Cicero-CDS object"
   ]
  },
  {
   "cell_type": "code",
   "execution_count": 8,
   "metadata": {},
   "outputs": [
    {
     "name": "stderr",
     "output_type": "stream",
     "text": [
      "Overlap QC metrics:\n",
      "Cells per bin: 50\n",
      "Maximum shared cells bin-bin: 44\n",
      "Mean shared cells bin-bin: 0.84960828849071\n",
      "Median shared cells bin-bin: 0\n",
      "\n"
     ]
    }
   ],
   "source": [
    "# # Data preprocessing\n",
    "# set.seed(2017)\n",
    "\n",
    "# input_cds <- detect_genes(input_cds)\n",
    "# input_cds <- estimate_size_factors(input_cds)\n",
    "# input_cds <- preprocess_cds(input_cds, method = \"LSI\")\n",
    "\n",
    "# # Dimensional reduction with umap\n",
    "# input_cds <- reduce_dimension(input_cds, reduction_method = 'UMAP', \n",
    "#                               preprocess_method = \"LSI\")\n",
    "# umap_coords <- reducedDims(input_cds)$UMAP\n",
    "\n",
    "\n",
    "# cicero_cds <- make_cicero_cds(input_cds, reduced_coordinates = umap_coords)\n",
    "\n",
    "# # Save Cds object (Optional)\n",
    "# #saveRDS(cicero_cds, paste0(output_folder, \"/cicero_cds.Rds\"))\n",
    "\n"
   ]
  },
  {
   "cell_type": "markdown",
   "metadata": {},
   "source": [
    "# 5. [Skip] Load reference genome information\n",
    "\n",
    "To run Cicero, you need to get a genomic coordinate file that contains the length of each chromosome.\n",
    "You can download the mm10 genomic information with the following command.\n",
    "\n",
    "If your scATAC-seq data was generated with a different reference genome, you will need to get the genome coordinates file for the reference genome you used. See the Cicero documentation for more information.\n",
    "\n",
    "https://cole-trapnell-lab.github.io/cicero-release/docs_m3/#installing-cicero"
   ]
  },
  {
   "cell_type": "code",
   "execution_count": 29,
   "metadata": {},
   "outputs": [
    {
     "data": {
      "text/html": [
       "<table class=\"dataframe\">\n",
       "<caption>A data.frame: 22 × 2</caption>\n",
       "<thead>\n",
       "\t<tr><th scope=col>V1</th><th scope=col>V2</th></tr>\n",
       "\t<tr><th scope=col>&lt;fct&gt;</th><th scope=col>&lt;int&gt;</th></tr>\n",
       "</thead>\n",
       "<tbody>\n",
       "\t<tr><td>chr1 </td><td>197195432</td></tr>\n",
       "\t<tr><td>chr2 </td><td>181748087</td></tr>\n",
       "\t<tr><td>chr3 </td><td>159599783</td></tr>\n",
       "\t<tr><td>chr4 </td><td>155630120</td></tr>\n",
       "\t<tr><td>chr5 </td><td>152537259</td></tr>\n",
       "\t<tr><td>chr6 </td><td>149517037</td></tr>\n",
       "\t<tr><td>chr7 </td><td>152524553</td></tr>\n",
       "\t<tr><td>chr8 </td><td>131738871</td></tr>\n",
       "\t<tr><td>chr9 </td><td>124076172</td></tr>\n",
       "\t<tr><td>chr10</td><td>129993255</td></tr>\n",
       "\t<tr><td>chr11</td><td>121843856</td></tr>\n",
       "\t<tr><td>chr12</td><td>121257530</td></tr>\n",
       "\t<tr><td>chr13</td><td>120284312</td></tr>\n",
       "\t<tr><td>chr14</td><td>125194864</td></tr>\n",
       "\t<tr><td>chr15</td><td>103494974</td></tr>\n",
       "\t<tr><td>chr16</td><td> 98319150</td></tr>\n",
       "\t<tr><td>chr17</td><td> 95272651</td></tr>\n",
       "\t<tr><td>chr18</td><td> 90772031</td></tr>\n",
       "\t<tr><td>chr19</td><td> 61342430</td></tr>\n",
       "\t<tr><td>chrX </td><td>166650296</td></tr>\n",
       "\t<tr><td>chrY </td><td> 15902555</td></tr>\n",
       "\t<tr><td>chrM </td><td>    16299</td></tr>\n",
       "</tbody>\n",
       "</table>\n"
      ],
      "text/latex": [
       "A data.frame: 22 × 2\n",
       "\\begin{tabular}{ll}\n",
       " V1 & V2\\\\\n",
       " <fct> & <int>\\\\\n",
       "\\hline\n",
       "\t chr1  & 197195432\\\\\n",
       "\t chr2  & 181748087\\\\\n",
       "\t chr3  & 159599783\\\\\n",
       "\t chr4  & 155630120\\\\\n",
       "\t chr5  & 152537259\\\\\n",
       "\t chr6  & 149517037\\\\\n",
       "\t chr7  & 152524553\\\\\n",
       "\t chr8  & 131738871\\\\\n",
       "\t chr9  & 124076172\\\\\n",
       "\t chr10 & 129993255\\\\\n",
       "\t chr11 & 121843856\\\\\n",
       "\t chr12 & 121257530\\\\\n",
       "\t chr13 & 120284312\\\\\n",
       "\t chr14 & 125194864\\\\\n",
       "\t chr15 & 103494974\\\\\n",
       "\t chr16 &  98319150\\\\\n",
       "\t chr17 &  95272651\\\\\n",
       "\t chr18 &  90772031\\\\\n",
       "\t chr19 &  61342430\\\\\n",
       "\t chrX  & 166650296\\\\\n",
       "\t chrY  &  15902555\\\\\n",
       "\t chrM  &     16299\\\\\n",
       "\\end{tabular}\n"
      ],
      "text/markdown": [
       "\n",
       "A data.frame: 22 × 2\n",
       "\n",
       "| V1 &lt;fct&gt; | V2 &lt;int&gt; |\n",
       "|---|---|\n",
       "| chr1  | 197195432 |\n",
       "| chr2  | 181748087 |\n",
       "| chr3  | 159599783 |\n",
       "| chr4  | 155630120 |\n",
       "| chr5  | 152537259 |\n",
       "| chr6  | 149517037 |\n",
       "| chr7  | 152524553 |\n",
       "| chr8  | 131738871 |\n",
       "| chr9  | 124076172 |\n",
       "| chr10 | 129993255 |\n",
       "| chr11 | 121843856 |\n",
       "| chr12 | 121257530 |\n",
       "| chr13 | 120284312 |\n",
       "| chr14 | 125194864 |\n",
       "| chr15 | 103494974 |\n",
       "| chr16 |  98319150 |\n",
       "| chr17 |  95272651 |\n",
       "| chr18 |  90772031 |\n",
       "| chr19 |  61342430 |\n",
       "| chrX  | 166650296 |\n",
       "| chrY  |  15902555 |\n",
       "| chrM  |     16299 |\n",
       "\n"
      ],
      "text/plain": [
       "   V1    V2       \n",
       "1  chr1  197195432\n",
       "2  chr2  181748087\n",
       "3  chr3  159599783\n",
       "4  chr4  155630120\n",
       "5  chr5  152537259\n",
       "6  chr6  149517037\n",
       "7  chr7  152524553\n",
       "8  chr8  131738871\n",
       "9  chr9  124076172\n",
       "10 chr10 129993255\n",
       "11 chr11 121843856\n",
       "12 chr12 121257530\n",
       "13 chr13 120284312\n",
       "14 chr14 125194864\n",
       "15 chr15 103494974\n",
       "16 chr16  98319150\n",
       "17 chr17  95272651\n",
       "18 chr18  90772031\n",
       "19 chr19  61342430\n",
       "20 chrX  166650296\n",
       "21 chrY   15902555\n",
       "22 chrM      16299"
      ]
     },
     "metadata": {},
     "output_type": "display_data"
    }
   ],
   "source": [
    "# !!Please make sure that the reference genome information below matches your scATAC-seq reference genome.\n",
    "\n",
    "# # If your scATAC-seq was aligned to the mm10 reference genome, you can read the chromosome length file using the following command.\n",
    "# download.file(url = \"https://raw.githubusercontent.com/morris-lab/CellOracle/master/docs/demo_data/mm10_chromosome_length.txt\",\n",
    "#               destfile = \"./mm10_chromosome_length.txt\")\n",
    "# chromosome_length <- read.table(\"./mm10_chromosome_length.txt\")\n",
    "\n",
    "# For mm9 genome, you can use the following command.\n",
    "data(\"mouse.mm9.genome\")\n",
    "chromosome_length <- mouse.mm9.genome\n",
    "chromosome_length\n",
    "\n",
    "# For hg19 genome, you can use the following command.\n",
    "# data(\"human.hg19.genome\")\n",
    "# chromosome_length <- human.hg19.genome\n",
    "# chromosome_length\n",
    "\n"
   ]
  },
  {
   "cell_type": "markdown",
   "metadata": {},
   "source": [
    "# 6. Run Cicero"
   ]
  },
  {
   "cell_type": "code",
   "execution_count": 10,
   "metadata": {
    "scrolled": true
   },
   "outputs": [
    {
     "data": {
      "text/html": [
       "<table>\n",
       "<caption>A data.frame: 6 × 3</caption>\n",
       "<thead>\n",
       "\t<tr><th></th><th scope=col>Peak1</th><th scope=col>Peak2</th><th scope=col>coaccess</th></tr>\n",
       "\t<tr><th></th><th scope=col>&lt;chr&gt;</th><th scope=col>&lt;fct&gt;</th><th scope=col>&lt;dbl&gt;</th></tr>\n",
       "</thead>\n",
       "<tbody>\n",
       "\t<tr><th scope=row>1</th><td>chr10_100006139_100006389</td><td>chr10_99774288_99774570  </td><td>-0.003546179</td></tr>\n",
       "\t<tr><th scope=row>2</th><td>chr10_100006139_100006389</td><td>chr10_99825945_99826237  </td><td>-0.027536333</td></tr>\n",
       "\t<tr><th scope=row>3</th><td>chr10_100006139_100006389</td><td>chr10_99830012_99830311  </td><td> 0.009588013</td></tr>\n",
       "\t<tr><th scope=row>4</th><td>chr10_100006139_100006389</td><td>chr10_99833211_99833540  </td><td>-0.008067111</td></tr>\n",
       "\t<tr><th scope=row>5</th><td>chr10_100006139_100006389</td><td>chr10_99941805_99941955  </td><td> 0.000000000</td></tr>\n",
       "\t<tr><th scope=row>7</th><td>chr10_100006139_100006389</td><td>chr10_100015291_100017830</td><td>-0.015018099</td></tr>\n",
       "</tbody>\n",
       "</table>\n"
      ],
      "text/latex": [
       "A data.frame: 6 × 3\n",
       "\\begin{tabular}{r|lll}\n",
       "  & Peak1 & Peak2 & coaccess\\\\\n",
       "  & <chr> & <fct> & <dbl>\\\\\n",
       "\\hline\n",
       "\t1 & chr10\\_100006139\\_100006389 & chr10\\_99774288\\_99774570   & -0.003546179\\\\\n",
       "\t2 & chr10\\_100006139\\_100006389 & chr10\\_99825945\\_99826237   & -0.027536333\\\\\n",
       "\t3 & chr10\\_100006139\\_100006389 & chr10\\_99830012\\_99830311   &  0.009588013\\\\\n",
       "\t4 & chr10\\_100006139\\_100006389 & chr10\\_99833211\\_99833540   & -0.008067111\\\\\n",
       "\t5 & chr10\\_100006139\\_100006389 & chr10\\_99941805\\_99941955   &  0.000000000\\\\\n",
       "\t7 & chr10\\_100006139\\_100006389 & chr10\\_100015291\\_100017830 & -0.015018099\\\\\n",
       "\\end{tabular}\n"
      ],
      "text/markdown": [
       "\n",
       "A data.frame: 6 × 3\n",
       "\n",
       "| <!--/--> | Peak1 &lt;chr&gt; | Peak2 &lt;fct&gt; | coaccess &lt;dbl&gt; |\n",
       "|---|---|---|---|\n",
       "| 1 | chr10_100006139_100006389 | chr10_99774288_99774570   | -0.003546179 |\n",
       "| 2 | chr10_100006139_100006389 | chr10_99825945_99826237   | -0.027536333 |\n",
       "| 3 | chr10_100006139_100006389 | chr10_99830012_99830311   |  0.009588013 |\n",
       "| 4 | chr10_100006139_100006389 | chr10_99833211_99833540   | -0.008067111 |\n",
       "| 5 | chr10_100006139_100006389 | chr10_99941805_99941955   |  0.000000000 |\n",
       "| 7 | chr10_100006139_100006389 | chr10_100015291_100017830 | -0.015018099 |\n",
       "\n"
      ],
      "text/plain": [
       "  Peak1                     Peak2                     coaccess    \n",
       "1 chr10_100006139_100006389 chr10_99774288_99774570   -0.003546179\n",
       "2 chr10_100006139_100006389 chr10_99825945_99826237   -0.027536333\n",
       "3 chr10_100006139_100006389 chr10_99830012_99830311    0.009588013\n",
       "4 chr10_100006139_100006389 chr10_99833211_99833540   -0.008067111\n",
       "5 chr10_100006139_100006389 chr10_99941805_99941955    0.000000000\n",
       "7 chr10_100006139_100006389 chr10_100015291_100017830 -0.015018099"
      ]
     },
     "metadata": {},
     "output_type": "display_data"
    }
   ],
   "source": [
    "# Run the main function\n",
    "conns <- run_cicero(cicero_cds, chromosome_length) # Takes a few minutes to run\n",
    "\n",
    "# Save results (Optional)\n",
    "#saveRDS(conns, paste0(output_folder, \"/cicero_connections.Rds\"))\n",
    "\n",
    "# Check results\n",
    "head(conns)"
   ]
  },
  {
   "cell_type": "markdown",
   "metadata": {},
   "source": [
    "# 7. Save results for the next step"
   ]
  },
  {
   "cell_type": "code",
   "execution_count": 26,
   "metadata": {},
   "outputs": [],
   "source": [
    "all_peaks <- row.names(exprs(input_cds))\n",
    "write.csv(x = all_peaks, file = paste0(output_folder, \"/all_peaks.csv\"))\n",
    "write.csv(x = conns, file = paste0(output_folder, \"/cicero_connections.csv\"))\n"
   ]
  },
  {
   "cell_type": "markdown",
   "metadata": {},
   "source": [
    "**Please go to next step: TSS annotation**\n",
    "\n",
    "https://morris-lab.github.io/CellOracle.documentation/tutorials/base_grn.html#step2-tss-annotation"
   ]
  },
  {
   "cell_type": "code",
   "execution_count": null,
   "metadata": {},
   "outputs": [],
   "source": []
  },
  {
   "cell_type": "code",
   "execution_count": null,
   "metadata": {},
   "outputs": [],
   "source": []
  },
  {
   "cell_type": "code",
   "execution_count": null,
   "metadata": {},
   "outputs": [],
   "source": []
  },
  {
   "cell_type": "code",
   "execution_count": null,
   "metadata": {},
   "outputs": [],
   "source": []
  },
  {
   "cell_type": "code",
   "execution_count": null,
   "metadata": {},
   "outputs": [],
   "source": []
  }
 ],
 "metadata": {
  "kernelspec": {
   "display_name": "R",
   "language": "R",
   "name": "ir"
  },
  "language_info": {
   "codemirror_mode": "r",
   "file_extension": ".r",
   "mimetype": "text/x-r-source",
   "name": "R",
   "pygments_lexer": "r",
   "version": "4.2.3"
  }
 },
 "nbformat": 4,
 "nbformat_minor": 5
}
