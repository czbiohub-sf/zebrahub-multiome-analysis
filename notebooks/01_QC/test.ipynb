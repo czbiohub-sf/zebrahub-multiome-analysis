{
 "cells": [
  {
   "cell_type": "code",
   "execution_count": 1,
   "id": "818955d2-170c-4a8b-a7f7-5dbb40edbc68",
   "metadata": {},
   "outputs": [],
   "source": [
    "import scanpy as sc\n"
   ]
  },
  {
   "cell_type": "code",
   "execution_count": 2,
   "id": "13631956-a294-4058-87f3-6fa9de262b84",
   "metadata": {},
   "outputs": [
    {
     "data": {
      "text/plain": [
       "AnnData object with n_obs × n_vars = 8460 × 32057\n",
       "    obs: 'orig.ident', 'nCount_RNA', 'nFeature_RNA', 'nCount_ATAC', 'nFeature_ATAC', 'nucleosome_signal', 'nucleosome_percentile', 'TSS.enrichment', 'TSS.percentile', 'nCount_SCT', 'nFeature_SCT', 'global_annotation', 'prediction.score.NMPs', 'prediction.score.Neural_Anterior', 'prediction.score.Neural_Posterior', 'prediction.score.Epidermal', 'prediction.score.Somites', 'prediction.score.unassigned', 'prediction.score.Muscle', 'prediction.score.Differentiating_Neurons', 'prediction.score.Endoderm', 'prediction.score.Neural_Crest', 'prediction.score.Adaxial_Cells', 'prediction.score.Notochord', 'prediction.score.PSM', 'prediction.score.max', 'nCount_peaks_bulk', 'nFeature_peaks_bulk', 'nCount_peaks_celltype', 'nFeature_peaks_celltype', 'SCT.weight', 'peaks_celltype.weight', 'nCount_Gene.Activity', 'nFeature_Gene.Activity'\n",
       "    var: 'features'\n",
       "    obsm: 'X_umap.atac', 'X_umap.joint', 'X_umap.rna'"
      ]
     },
     "execution_count": 2,
     "metadata": {},
     "output_type": "execute_result"
    }
   ],
   "source": [
    "adata = sc.read_h5ad(\"/hpc/projects/data.science/yangjoon.kim/zebrahub_multiome/data/processed_data/TDR124_cicero_output/TDR124_processed_RNA.h5ad\")\n",
    "adata"
   ]
  },
  {
   "cell_type": "code",
   "execution_count": null,
   "id": "cd70ef72-e3f2-4e22-a488-6b55d223ba59",
   "metadata": {},
   "outputs": [],
   "source": []
  },
  {
   "cell_type": "code",
   "execution_count": null,
   "id": "3674b154-d405-44e6-9857-69054e083a2b",
   "metadata": {},
   "outputs": [],
   "source": []
  },
  {
   "cell_type": "code",
   "execution_count": null,
   "id": "9c25d5a3-be01-4426-bda8-0274e08bc743",
   "metadata": {},
   "outputs": [],
   "source": []
  }
 ],
 "metadata": {
  "kernelspec": {
   "display_name": "Python [conda env:single-cell-basics]",
   "language": "python",
   "name": "conda-env-single-cell-basics-py"
  },
  "language_info": {
   "codemirror_mode": {
    "name": "ipython",
    "version": 3
   },
   "file_extension": ".py",
   "mimetype": "text/x-python",
   "name": "python",
   "nbconvert_exporter": "python",
   "pygments_lexer": "ipython3",
   "version": "3.8.16"
  }
 },
 "nbformat": 4,
 "nbformat_minor": 5
}
