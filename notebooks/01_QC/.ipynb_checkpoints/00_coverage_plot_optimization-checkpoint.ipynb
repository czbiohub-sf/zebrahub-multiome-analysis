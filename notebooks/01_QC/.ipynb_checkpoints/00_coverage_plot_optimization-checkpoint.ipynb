{
 "cells": [
  {
   "cell_type": "markdown",
   "id": "055f6477-ce4f-4614-8558-84d561e4abbc",
   "metadata": {},
   "source": [
    "# Notebook for coverage plot optimization\n",
    "\n",
    "- We want to generate coverage plots from Signac, but with our own style.\n",
    "\n",
    "More specific goals are below:\n",
    "- 1) Hack the basic coverage plot by accessing to the raw \"fragments\" file, generate coverage plot spanning certain region of the genome. (also with \"group.by\" parameters)\n",
    "- 2) Use the Signac's default functions to create "
   ]
  },
  {
   "cell_type": "code",
   "execution_count": null,
   "id": "32a34673-5ccb-4ee7-a747-0395c3edf152",
   "metadata": {},
   "outputs": [],
   "source": []
  },
  {
   "cell_type": "code",
   "execution_count": null,
   "id": "df9cba96-901b-46c1-bd57-9694068934cf",
   "metadata": {},
   "outputs": [],
   "source": []
  },
  {
   "cell_type": "code",
   "execution_count": null,
   "id": "5c66ec71-3dfe-406c-b901-583ea5cc671c",
   "metadata": {},
   "outputs": [],
   "source": []
  },
  {
   "cell_type": "code",
   "execution_count": null,
   "id": "f533000b-0094-43dc-afb8-8c013f7def68",
   "metadata": {},
   "outputs": [],
   "source": []
  },
  {
   "cell_type": "code",
   "execution_count": null,
   "id": "eb5a565d-d9c6-4da4-8405-0586bf1d915e",
   "metadata": {},
   "outputs": [],
   "source": []
  },
  {
   "cell_type": "code",
   "execution_count": null,
   "id": "46370edb-79d8-4d43-be3f-93c8ab370f4c",
   "metadata": {},
   "outputs": [],
   "source": []
  }
 ],
 "metadata": {
  "kernelspec": {
   "display_name": "celloracle_env",
   "language": "python",
   "name": "celloracle_env"
  },
  "language_info": {
   "codemirror_mode": {
    "name": "ipython",
    "version": 3
   },
   "file_extension": ".py",
   "mimetype": "text/x-python",
   "name": "python",
   "nbconvert_exporter": "python",
   "pygments_lexer": "ipython3",
   "version": "3.8.8"
  }
 },
 "nbformat": 4,
 "nbformat_minor": 5
}
