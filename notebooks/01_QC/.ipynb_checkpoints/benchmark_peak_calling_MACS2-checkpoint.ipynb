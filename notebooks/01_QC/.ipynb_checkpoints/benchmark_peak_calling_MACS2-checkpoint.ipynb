{
 "cells": [
  {
   "cell_type": "markdown",
   "id": "c75b85b6-c02f-43d0-a9a8-434d3b858d89",
   "metadata": {},
   "source": [
    "# benchmark peak-calling methods\n",
    "\n",
    "Last updated: 10/16/2023\n",
    "Author: Yang-Joon Kim\n",
    "\n",
    "- We use MACS2 (implemented in Signac) to call peaks at different group.by resolutions\n",
    "- First, we have Cellranger-arc called peaks (\"ATAC\" assay)\n",
    "- Second, we call peaks for the bulk dataset using MACS2 (\"peaks_bulk\" assay)\n",
    "- Third, we call peaks for each cell-type (coarse-grained, and predicted cell-type labels based on RNA - \"peaks_celltype\" assay)\n",
    "\n",
    "\n",
    "Caveats: Make sure that we remove MACS2 called peaks that are ranging over two chromosomes, this could be a case when the peaks were called from the end of the chromosome. \n",
    "\n",
    "- relevant github issue: https://github.com/stuart-lab/signac/issues/1050"
   ]
  },
  {
   "cell_type": "code",
   "execution_count": 2,
   "id": "2fbf99b1-4a5f-4d2a-864c-69f6c581a0dc",
   "metadata": {},
   "outputs": [
    {
     "name": "stderr",
     "output_type": "stream",
     "text": [
      "Loading required package: BSgenome\n",
      "\n",
      "Loading required package: GenomicRanges\n",
      "\n",
      "Loading required package: Biostrings\n",
      "\n",
      "Loading required package: XVector\n",
      "\n",
      "\n",
      "Attaching package: ‘Biostrings’\n",
      "\n",
      "\n",
      "The following object is masked from ‘package:base’:\n",
      "\n",
      "    strsplit\n",
      "\n",
      "\n",
      "Loading required package: rtracklayer\n",
      "\n"
     ]
    }
   ],
   "source": [
    "suppressMessages(library(Signac))\n",
    "suppressMessages(library(Seurat))\n",
    "suppressMessages(library(GenomeInfoDb))\n",
    "library(ggplot2)\n",
    "library(patchwork)\n",
    "library(anndata)\n",
    "library(stringr)\n",
    "\n",
    "# zebrafish genome\n",
    "library(BSgenome.Drerio.UCSC.danRer11)"
   ]
  },
  {
   "cell_type": "code",
   "execution_count": 3,
   "id": "a1f046c6-be68-42fb-997f-8300e04d74ac",
   "metadata": {},
   "outputs": [],
   "source": [
    "library(rtracklayer)\n",
    "library(GenomicRanges)"
   ]
  },
  {
   "cell_type": "code",
   "execution_count": 4,
   "id": "f9714170-5be5-4f91-bc3e-7b0787a0237d",
   "metadata": {},
   "outputs": [
    {
     "data": {
      "text/plain": [
       "An object of class Seurat \n",
       "1080486 features across 13022 samples within 6 assays \n",
       "Active assay: ATAC (248320 features, 0 variable features)\n",
       " 5 other assays present: RNA, SCT, peaks_bulk, peaks_celltype, Gene.Activity\n",
       " 5 dimensional reductions calculated: pca, umap.rna, lsi, umap.atac, umap.joint"
      ]
     },
     "metadata": {},
     "output_type": "display_data"
    }
   ],
   "source": [
    "TDR118 <- readRDS(\"/hpc/projects/data.science/yangjoon.kim/zebrahub_multiome/data/processed_data/TDR118_cicero_output/TDR118_gene_activity.RDS\")\n",
    "TDR118"
   ]
  },
  {
   "cell_type": "markdown",
   "id": "fa9acc95-b839-48f4-8aa7-423f9e0e3d00",
   "metadata": {},
   "source": [
    "## Step 1. Check the peak profiles called by different methods\n",
    "\n",
    "- 1) check the number of peaks for each method\n",
    "- 2) check the coverage of peak profiles for each method (% genome?)\n",
    "- 3) check the \"reduce\" method for joining peaks, and compare the joint peak profiles with the other methods by using \"CoveragePlot\" for some marker genes.\n"
   ]
  },
  {
   "cell_type": "code",
   "execution_count": 10,
   "id": "1c0dbe87-911c-477a-9a09-8ac6d4ad8487",
   "metadata": {},
   "outputs": [
    {
     "data": {
      "text/plain": [
       "GRanges object with 248320 ranges and 0 metadata columns:\n",
       "           seqnames            ranges strand\n",
       "              <Rle>         <IRanges>  <Rle>\n",
       "       [1]        1         2372-3057      *\n",
       "       [2]        1         6507-7253      *\n",
       "       [3]        1       11485-12198      *\n",
       "       [4]        1       14475-15248      *\n",
       "       [5]        1       16516-17393      *\n",
       "       ...      ...               ...    ...\n",
       "  [248316]        9 56433462-56434391      *\n",
       "  [248317]        9 56437053-56437849      *\n",
       "  [248318]        9 56450898-56451686      *\n",
       "  [248319]        9 56452315-56452858      *\n",
       "  [248320]        9 56459068-56459827      *\n",
       "  -------\n",
       "  seqinfo: 25 sequences from an unspecified genome; no seqlengths"
      ]
     },
     "metadata": {},
     "output_type": "display_data"
    }
   ],
   "source": [
    "# 1) check the number of peaks for each method\n",
    "\n",
    "TDR118@assays$ATAC@ranges"
   ]
  },
  {
   "cell_type": "code",
   "execution_count": 1,
   "id": "82c9a365-cad0-43d9-9b0d-fdbbc437714a",
   "metadata": {},
   "outputs": [
    {
     "data": {
      "text/html": [
       "1"
      ],
      "text/latex": [
       "1"
      ],
      "text/markdown": [
       "1"
      ],
      "text/plain": [
       "[1] 1"
      ]
     },
     "metadata": {},
     "output_type": "display_data"
    }
   ],
   "source": [
    "1"
   ]
  },
  {
   "cell_type": "code",
   "execution_count": 10,
   "id": "896694f0-5038-42a6-90a7-94f365821983",
   "metadata": {},
   "outputs": [
    {
     "data": {
      "text/html": [
       "<table class=\"dataframe\">\n",
       "<caption>A data.frame: 6 × 5</caption>\n",
       "<thead>\n",
       "\t<tr><th></th><th scope=col>seqnames</th><th scope=col>start</th><th scope=col>end</th><th scope=col>width</th><th scope=col>strand</th></tr>\n",
       "\t<tr><th></th><th scope=col>&lt;fct&gt;</th><th scope=col>&lt;int&gt;</th><th scope=col>&lt;int&gt;</th><th scope=col>&lt;int&gt;</th><th scope=col>&lt;fct&gt;</th></tr>\n",
       "</thead>\n",
       "<tbody>\n",
       "\t<tr><th scope=row>1</th><td>1</td><td> 2372</td><td> 3057</td><td>686</td><td>*</td></tr>\n",
       "\t<tr><th scope=row>2</th><td>1</td><td> 6507</td><td> 7253</td><td>747</td><td>*</td></tr>\n",
       "\t<tr><th scope=row>3</th><td>1</td><td>11485</td><td>12198</td><td>714</td><td>*</td></tr>\n",
       "\t<tr><th scope=row>4</th><td>1</td><td>14475</td><td>15248</td><td>774</td><td>*</td></tr>\n",
       "\t<tr><th scope=row>5</th><td>1</td><td>16516</td><td>17393</td><td>878</td><td>*</td></tr>\n",
       "\t<tr><th scope=row>6</th><td>1</td><td>17575</td><td>18198</td><td>624</td><td>*</td></tr>\n",
       "</tbody>\n",
       "</table>\n"
      ],
      "text/latex": [
       "A data.frame: 6 × 5\n",
       "\\begin{tabular}{r|lllll}\n",
       "  & seqnames & start & end & width & strand\\\\\n",
       "  & <fct> & <int> & <int> & <int> & <fct>\\\\\n",
       "\\hline\n",
       "\t1 & 1 &  2372 &  3057 & 686 & *\\\\\n",
       "\t2 & 1 &  6507 &  7253 & 747 & *\\\\\n",
       "\t3 & 1 & 11485 & 12198 & 714 & *\\\\\n",
       "\t4 & 1 & 14475 & 15248 & 774 & *\\\\\n",
       "\t5 & 1 & 16516 & 17393 & 878 & *\\\\\n",
       "\t6 & 1 & 17575 & 18198 & 624 & *\\\\\n",
       "\\end{tabular}\n"
      ],
      "text/markdown": [
       "\n",
       "A data.frame: 6 × 5\n",
       "\n",
       "| <!--/--> | seqnames &lt;fct&gt; | start &lt;int&gt; | end &lt;int&gt; | width &lt;int&gt; | strand &lt;fct&gt; |\n",
       "|---|---|---|---|---|---|\n",
       "| 1 | 1 |  2372 |  3057 | 686 | * |\n",
       "| 2 | 1 |  6507 |  7253 | 747 | * |\n",
       "| 3 | 1 | 11485 | 12198 | 714 | * |\n",
       "| 4 | 1 | 14475 | 15248 | 774 | * |\n",
       "| 5 | 1 | 16516 | 17393 | 878 | * |\n",
       "| 6 | 1 | 17575 | 18198 | 624 | * |\n",
       "\n"
      ],
      "text/plain": [
       "  seqnames start end   width strand\n",
       "1 1         2372  3057 686   *     \n",
       "2 1         6507  7253 747   *     \n",
       "3 1        11485 12198 714   *     \n",
       "4 1        14475 15248 774   *     \n",
       "5 1        16516 17393 878   *     \n",
       "6 1        17575 18198 624   *     "
      ]
     },
     "metadata": {},
     "output_type": "display_data"
    },
    {
     "data": {
      "text/html": [
       "<table class=\"dataframe\">\n",
       "<caption>A data.frame: 6 × 5</caption>\n",
       "<thead>\n",
       "\t<tr><th></th><th scope=col>seqnames</th><th scope=col>start</th><th scope=col>end</th><th scope=col>width</th><th scope=col>strand</th></tr>\n",
       "\t<tr><th></th><th scope=col>&lt;fct&gt;</th><th scope=col>&lt;int&gt;</th><th scope=col>&lt;int&gt;</th><th scope=col>&lt;int&gt;</th><th scope=col>&lt;fct&gt;</th></tr>\n",
       "</thead>\n",
       "<tbody>\n",
       "\t<tr><th scope=row>1</th><td>1</td><td> 3596</td><td> 4069</td><td> 474</td><td>*</td></tr>\n",
       "\t<tr><th scope=row>2</th><td>1</td><td> 4478</td><td> 6981</td><td>2504</td><td>*</td></tr>\n",
       "\t<tr><th scope=row>3</th><td>1</td><td>11049</td><td>12897</td><td>1849</td><td>*</td></tr>\n",
       "\t<tr><th scope=row>4</th><td>1</td><td>14695</td><td>15041</td><td> 347</td><td>*</td></tr>\n",
       "\t<tr><th scope=row>5</th><td>1</td><td>18522</td><td>19033</td><td> 512</td><td>*</td></tr>\n",
       "\t<tr><th scope=row>6</th><td>1</td><td>19253</td><td>19614</td><td> 362</td><td>*</td></tr>\n",
       "</tbody>\n",
       "</table>\n"
      ],
      "text/latex": [
       "A data.frame: 6 × 5\n",
       "\\begin{tabular}{r|lllll}\n",
       "  & seqnames & start & end & width & strand\\\\\n",
       "  & <fct> & <int> & <int> & <int> & <fct>\\\\\n",
       "\\hline\n",
       "\t1 & 1 &  3596 &  4069 &  474 & *\\\\\n",
       "\t2 & 1 &  4478 &  6981 & 2504 & *\\\\\n",
       "\t3 & 1 & 11049 & 12897 & 1849 & *\\\\\n",
       "\t4 & 1 & 14695 & 15041 &  347 & *\\\\\n",
       "\t5 & 1 & 18522 & 19033 &  512 & *\\\\\n",
       "\t6 & 1 & 19253 & 19614 &  362 & *\\\\\n",
       "\\end{tabular}\n"
      ],
      "text/markdown": [
       "\n",
       "A data.frame: 6 × 5\n",
       "\n",
       "| <!--/--> | seqnames &lt;fct&gt; | start &lt;int&gt; | end &lt;int&gt; | width &lt;int&gt; | strand &lt;fct&gt; |\n",
       "|---|---|---|---|---|---|\n",
       "| 1 | 1 |  3596 |  4069 |  474 | * |\n",
       "| 2 | 1 |  4478 |  6981 | 2504 | * |\n",
       "| 3 | 1 | 11049 | 12897 | 1849 | * |\n",
       "| 4 | 1 | 14695 | 15041 |  347 | * |\n",
       "| 5 | 1 | 18522 | 19033 |  512 | * |\n",
       "| 6 | 1 | 19253 | 19614 |  362 | * |\n",
       "\n"
      ],
      "text/plain": [
       "  seqnames start end   width strand\n",
       "1 1         3596  4069  474  *     \n",
       "2 1         4478  6981 2504  *     \n",
       "3 1        11049 12897 1849  *     \n",
       "4 1        14695 15041  347  *     \n",
       "5 1        18522 19033  512  *     \n",
       "6 1        19253 19614  362  *     "
      ]
     },
     "metadata": {},
     "output_type": "display_data"
    },
    {
     "data": {
      "text/html": [
       "<table class=\"dataframe\">\n",
       "<caption>A data.frame: 6 × 5</caption>\n",
       "<thead>\n",
       "\t<tr><th></th><th scope=col>seqnames</th><th scope=col>start</th><th scope=col>end</th><th scope=col>width</th><th scope=col>strand</th></tr>\n",
       "\t<tr><th></th><th scope=col>&lt;fct&gt;</th><th scope=col>&lt;int&gt;</th><th scope=col>&lt;int&gt;</th><th scope=col>&lt;int&gt;</th><th scope=col>&lt;fct&gt;</th></tr>\n",
       "</thead>\n",
       "<tbody>\n",
       "\t<tr><th scope=row>1</th><td>1</td><td> 3543</td><td> 3972</td><td> 430</td><td>*</td></tr>\n",
       "\t<tr><th scope=row>2</th><td>1</td><td> 4473</td><td> 6139</td><td>1667</td><td>*</td></tr>\n",
       "\t<tr><th scope=row>3</th><td>1</td><td>10985</td><td>12920</td><td>1936</td><td>*</td></tr>\n",
       "\t<tr><th scope=row>4</th><td>1</td><td>13368</td><td>13579</td><td> 212</td><td>*</td></tr>\n",
       "\t<tr><th scope=row>5</th><td>1</td><td>14640</td><td>15052</td><td> 413</td><td>*</td></tr>\n",
       "\t<tr><th scope=row>6</th><td>1</td><td>16769</td><td>17192</td><td> 424</td><td>*</td></tr>\n",
       "</tbody>\n",
       "</table>\n"
      ],
      "text/latex": [
       "A data.frame: 6 × 5\n",
       "\\begin{tabular}{r|lllll}\n",
       "  & seqnames & start & end & width & strand\\\\\n",
       "  & <fct> & <int> & <int> & <int> & <fct>\\\\\n",
       "\\hline\n",
       "\t1 & 1 &  3543 &  3972 &  430 & *\\\\\n",
       "\t2 & 1 &  4473 &  6139 & 1667 & *\\\\\n",
       "\t3 & 1 & 10985 & 12920 & 1936 & *\\\\\n",
       "\t4 & 1 & 13368 & 13579 &  212 & *\\\\\n",
       "\t5 & 1 & 14640 & 15052 &  413 & *\\\\\n",
       "\t6 & 1 & 16769 & 17192 &  424 & *\\\\\n",
       "\\end{tabular}\n"
      ],
      "text/markdown": [
       "\n",
       "A data.frame: 6 × 5\n",
       "\n",
       "| <!--/--> | seqnames &lt;fct&gt; | start &lt;int&gt; | end &lt;int&gt; | width &lt;int&gt; | strand &lt;fct&gt; |\n",
       "|---|---|---|---|---|---|\n",
       "| 1 | 1 |  3543 |  3972 |  430 | * |\n",
       "| 2 | 1 |  4473 |  6139 | 1667 | * |\n",
       "| 3 | 1 | 10985 | 12920 | 1936 | * |\n",
       "| 4 | 1 | 13368 | 13579 |  212 | * |\n",
       "| 5 | 1 | 14640 | 15052 |  413 | * |\n",
       "| 6 | 1 | 16769 | 17192 |  424 | * |\n",
       "\n"
      ],
      "text/plain": [
       "  seqnames start end   width strand\n",
       "1 1         3543  3972  430  *     \n",
       "2 1         4473  6139 1667  *     \n",
       "3 1        10985 12920 1936  *     \n",
       "4 1        13368 13579  212  *     \n",
       "5 1        14640 15052  413  *     \n",
       "6 1        16769 17192  424  *     "
      ]
     },
     "metadata": {},
     "output_type": "display_data"
    }
   ],
   "source": [
    "df_CRG_peaks = as.data.frame(TDR118@assays$ATAC@ranges)\n",
    "head(df_CRG_peaks)\n",
    "\n",
    "df_MACS2_bulk_peaks = as.data.frame(TDR118@assays$peaks_bulk@ranges)\n",
    "head(df_MACS2_bulk_peaks)\n",
    "\n",
    "df_MACS2_celltype_peaks = as.data.frame(TDR118@assays$peaks_celltype@ranges)\n",
    "head(df_MACS2_celltype_peaks)"
   ]
  },
  {
   "cell_type": "code",
   "execution_count": 16,
   "id": "a9fb105d-ca81-4fb6-9463-22fdc77bab67",
   "metadata": {},
   "outputs": [],
   "source": [
    "# export these dataframes to \"csv\" files for pandas data wrangling using python.\n",
    "write.csv(df_CRG_peaks, file=\"/hpc/projects/data.science/yangjoon.kim/zebrahub_multiome/data/processed_data/TDR118_cicero_output/df_CRG_peaks.csv\")\n",
    "write.csv(df_MACS2_bulk_peaks, file=\"/hpc/projects/data.science/yangjoon.kim/zebrahub_multiome/data/processed_data/TDR118_cicero_output/df_MACS2_bulk_peaks.csv\")\n",
    "write.csv(df_MACS2_celltype_peaks, file=\"/hpc/projects/data.science/yangjoon.kim/zebrahub_multiome/data/processed_data/TDR118_cicero_output/df_MACS2_celltype_peaks.csv\")\n"
   ]
  },
  {
   "cell_type": "code",
   "execution_count": 14,
   "id": "1cab506e-bd5a-4d28-996a-dce23817de29",
   "metadata": {},
   "outputs": [
    {
     "data": {
      "image/png": "[encoded data removed]",
      "text/plain": [
       "plot without title"
      ]
     },
     "metadata": {
      "image/png": {
       "height": 420,
       "width": 420
      }
     },
     "output_type": "display_data"
    }
   ],
   "source": [
    "library(ggplot2)\n",
    "\n",
    "ggplot(df_CRG_peaks, aes(x=width)) +\n",
    "    geom_histogram(binwidth=1, fill=\"blue\", color=\"black\", alpha=0.7) +\n",
    "    labs(title=\"Histogram of Some Column\", x=\"Values of Some Column\") +\n",
    "    theme_minimal()"
   ]
  },
  {
   "cell_type": "code",
   "execution_count": 15,
   "id": "68e91e7b-6b9c-4189-ad0d-b44dbf13e87a",
   "metadata": {},
   "outputs": [
    {
     "data": {
      "image/png": "[encoded data removed]",
      "text/plain": [
       "Plot with title “Histogram of df_CRG_peaks$width”"
      ]
     },
     "metadata": {
      "image/png": {
       "height": 420,
       "width": 420
      }
     },
     "output_type": "display_data"
    },
    {
     "data": {
      "image/png": "[encoded data removed]",
      "text/plain": [
       "Plot with title “Histogram of df_MACS2_bulk_peaks$width”"
      ]
     },
     "metadata": {
      "image/png": {
       "height": 420,
       "width": 420
      }
     },
     "output_type": "display_data"
    },
    {
     "data": {
      "image/png": "[encoded data removed]",
      "text/plain": [
       "Plot with title “Histogram of df_MACS2_celltype_peaks$width”"
      ]
     },
     "metadata": {
      "image/png": {
       "height": 420,
       "width": 420
      }
     },
     "output_type": "display_data"
    }
   ],
   "source": [
    "hist(df_CRG_peaks$width)\n",
    "hist(df_MACS2_bulk_peaks$width)\n",
    "hist(df_MACS2_celltype_peaks$width)"
   ]
  },
  {
   "cell_type": "code",
   "execution_count": 11,
   "id": "b654e52c-22e5-45ca-833c-27eeec2e87f9",
   "metadata": {},
   "outputs": [
    {
     "data": {
      "text/plain": [
       "ChromatinAssay data with 248320 features for 13022 cells\n",
       "Variable features: 0 \n",
       "Genome: GRCz11 \n",
       "Annotation present: TRUE \n",
       "Motifs present: FALSE \n",
       "Fragment files: 1 "
      ]
     },
     "metadata": {},
     "output_type": "display_data"
    }
   ],
   "source": [
    "TDR118@assays$ATAC"
   ]
  },
  {
   "cell_type": "code",
   "execution_count": null,
   "id": "3d952db8-7749-4d51-bf5e-baba596e2499",
   "metadata": {},
   "outputs": [],
   "source": []
  },
  {
   "cell_type": "code",
   "execution_count": 18,
   "id": "de07a062-d44d-46ed-a8b8-2d0649d11c2c",
   "metadata": {},
   "outputs": [
    {
     "name": "stderr",
     "output_type": "stream",
     "text": [
      "Loading required package: SummarizedExperiment\n",
      "\n",
      "Loading required package: MatrixGenerics\n",
      "\n",
      "Loading required package: matrixStats\n",
      "\n",
      "\n",
      "Attaching package: ‘MatrixGenerics’\n",
      "\n",
      "\n",
      "The following objects are masked from ‘package:matrixStats’:\n",
      "\n",
      "    colAlls, colAnyNAs, colAnys, colAvgsPerRowSet, colCollapse,\n",
      "    colCounts, colCummaxs, colCummins, colCumprods, colCumsums,\n",
      "    colDiffs, colIQRDiffs, colIQRs, colLogSumExps, colMadDiffs,\n",
      "    colMads, colMaxs, colMeans2, colMedians, colMins, colOrderStats,\n",
      "    colProds, colQuantiles, colRanges, colRanks, colSdDiffs, colSds,\n",
      "    colSums2, colTabulates, colVarDiffs, colVars, colWeightedMads,\n",
      "    colWeightedMeans, colWeightedMedians, colWeightedSds,\n",
      "    colWeightedVars, rowAlls, rowAnyNAs, rowAnys, rowAvgsPerColSet,\n",
      "    rowCollapse, rowCounts, rowCummaxs, rowCummins, rowCumprods,\n",
      "    rowCumsums, rowDiffs, rowIQRDiffs, rowIQRs, rowLogSumExps,\n",
      "    rowMadDiffs, rowMads, rowMaxs, rowMeans2, rowMedians, rowMins,\n",
      "    rowOrderStats, rowProds, rowQuantiles, rowRanges, rowRanks,\n",
      "    rowSdDiffs, rowSds, rowSums2, rowTabulates, rowVarDiffs, rowVars,\n",
      "    rowWeightedMads, rowWeightedMeans, rowWeightedMedians,\n",
      "    rowWeightedSds, rowWeightedVars\n",
      "\n",
      "\n",
      "Loading required package: Biobase\n",
      "\n",
      "Welcome to Bioconductor\n",
      "\n",
      "    Vignettes contain introductory material; view with\n",
      "    'browseVignettes()'. To cite Bioconductor, see\n",
      "    'citation(\"Biobase\")', and for packages 'citation(\"pkgname\")'.\n",
      "\n",
      "\n",
      "\n",
      "Attaching package: ‘Biobase’\n",
      "\n",
      "\n",
      "The following object is masked from ‘package:MatrixGenerics’:\n",
      "\n",
      "    rowMedians\n",
      "\n",
      "\n",
      "The following objects are masked from ‘package:matrixStats’:\n",
      "\n",
      "    anyMissing, rowMedians\n",
      "\n",
      "\n",
      "\n",
      "Attaching package: ‘SummarizedExperiment’\n",
      "\n",
      "\n",
      "The following object is masked from ‘package:SeuratObject’:\n",
      "\n",
      "    Assays\n",
      "\n",
      "\n",
      "The following object is masked from ‘package:Seurat’:\n",
      "\n",
      "    Assays\n",
      "\n",
      "\n"
     ]
    }
   ],
   "source": [
    "library(ComplexUpset)\n",
    "library(SingleR)"
   ]
  },
  {
   "cell_type": "code",
   "execution_count": 21,
   "id": "e5d43a12-f3c8-4e6a-9173-d858eeb6678e",
   "metadata": {},
   "outputs": [
    {
     "name": "stderr",
     "output_type": "stream",
     "text": [
      "Loading required package: grid\n",
      "\n",
      "\n",
      "Attaching package: ‘grid’\n",
      "\n",
      "\n",
      "The following object is masked from ‘package:Biostrings’:\n",
      "\n",
      "    pattern\n",
      "\n",
      "\n",
      "Loading required package: futile.logger\n",
      "\n"
     ]
    }
   ],
   "source": [
    "library(UpSetR)\n",
    "library(VennDiagram)"
   ]
  },
  {
   "cell_type": "code",
   "execution_count": 19,
   "id": "209b5ac3-0633-45da-81a4-d32bdcd8bf3d",
   "metadata": {},
   "outputs": [
    {
     "ename": "ERROR",
     "evalue": "Error in CreateComplexUpset(TDR118, assays = c(\"ATAC\", \"peaks_bulk\", \"peaks_celltype\")): could not find function \"CreateComplexUpset\"\n",
     "output_type": "error",
     "traceback": [
      "Error in CreateComplexUpset(TDR118, assays = c(\"ATAC\", \"peaks_bulk\", \"peaks_celltype\")): could not find function \"CreateComplexUpset\"\nTraceback:\n"
     ]
    }
   ],
   "source": [
    "# # Create a ComplexUpset object\n",
    "# upset_data <- CreateComplexUpset(TDR118, assays = c(\"ATAC\", \"peaks_bulk\", \"peaks_celltype\"))\n",
    "\n",
    "# # Plot the overlap using ComplexUpset\n",
    "# ComplexUpset(upset_data, sets.bar.color=\"lightblue\", sets.bar.fill.color=\"darkblue\")"
   ]
  },
  {
   "cell_type": "code",
   "execution_count": 26,
   "id": "649b04f4-1f5a-400a-968e-f6072ecb0b13",
   "metadata": {},
   "outputs": [
    {
     "ename": "ERROR",
     "evalue": "Error in h(simpleError(msg, call)): error in evaluating the argument 'x' in selecting a method for function 'as.matrix': comparison (>) is possible only for atomic and list types\n",
     "output_type": "error",
     "traceback": [
      "Error in h(simpleError(msg, call)): error in evaluating the argument 'x' in selecting a method for function 'as.matrix': comparison (>) is possible only for atomic and list types\nTraceback:\n",
      "1. as.matrix(TDR118@assays$ATAC > 0)",
      "2. .handleSimpleError(function (cond) \n . .Internal(C_tryCatchHelper(addr, 1L, cond)), \"comparison (>) is possible only for atomic and list types\", \n .     base::quote(TDR118@assays$ATAC > 0))",
      "3. h(simpleError(msg, call))"
     ]
    }
   ],
   "source": [
    "# # Extract the peak sets as binary matrices\n",
    "# peak_sets <- list(\n",
    "#   ATAC = as.matrix(TDR118@assays$ATAC > 0),\n",
    "#   peaks_bulk = as.matrix(TDR118@assays$peaks_bulk > 0),\n",
    "#   peaks_celltype = as.matrix(TDR118@assays$peaks_celltype > 0)\n",
    "# )\n",
    "\n",
    "# # Convert the binary matrices to data frames\n",
    "# peak_sets <- lapply(peak_sets, as.data.frame)\n",
    "\n",
    "# # Create an UpSet plot\n",
    "# upset(fromList(peak_sets), order.by = \"freq\")"
   ]
  },
  {
   "cell_type": "code",
   "execution_count": 27,
   "id": "d6535912-2474-45ee-b09f-f9a28984e170",
   "metadata": {},
   "outputs": [
    {
     "ename": "ERROR",
     "evalue": "Error in eval(expr, envir, enclos): object 'peak_sets' not found\n",
     "output_type": "error",
     "traceback": [
      "Error in eval(expr, envir, enclos): object 'peak_sets' not found\nTraceback:\n"
     ]
    }
   ],
   "source": [
    "peak_sets"
   ]
  },
  {
   "cell_type": "code",
   "execution_count": null,
   "id": "027bfabf-338e-4cc1-a13e-032143c6d349",
   "metadata": {},
   "outputs": [],
   "source": []
  },
  {
   "cell_type": "code",
   "execution_count": null,
   "id": "2519761f-ea3a-4763-b0fb-07a066d2121e",
   "metadata": {},
   "outputs": [],
   "source": []
  },
  {
   "cell_type": "code",
   "execution_count": null,
   "id": "2c1a6b54-98a7-476e-b386-b4d3c72eff3d",
   "metadata": {},
   "outputs": [],
   "source": []
  },
  {
   "cell_type": "code",
   "execution_count": null,
   "id": "0ca56f9a-4cfd-4b82-a203-f94f5b1b8305",
   "metadata": {},
   "outputs": [],
   "source": []
  },
  {
   "cell_type": "code",
   "execution_count": null,
   "id": "b51b57fc-ad0d-4810-b040-6fc6ddd6ffb5",
   "metadata": {},
   "outputs": [],
   "source": []
  },
  {
   "cell_type": "code",
   "execution_count": null,
   "id": "a18686ed-ab27-49bb-9cbb-cbec200f40a4",
   "metadata": {},
   "outputs": [],
   "source": []
  },
  {
   "cell_type": "code",
   "execution_count": null,
   "id": "a712c054-68fc-4d8d-bf6a-62c3e424e7fb",
   "metadata": {},
   "outputs": [],
   "source": []
  },
  {
   "cell_type": "code",
   "execution_count": null,
   "id": "cf71f0fc-0486-40f4-85ff-b138fddd9972",
   "metadata": {},
   "outputs": [],
   "source": []
  },
  {
   "cell_type": "code",
   "execution_count": 5,
   "id": "147602b4-de5d-440d-8691-0b311cc361e3",
   "metadata": {},
   "outputs": [],
   "source": [
    "# import the reference genome (rtracklayer)\n",
    "gtf_zf <- import(\"/hpc/reference/sequencing_alignment/alignment_references/zebrafish_genome_GRCz11/genes/genes.gtf.gz\")\n",
    "\n",
    "gene.coords.zf <- gtf_zf\n",
    "# gene.coords.zf <- gtf_zf[gtf_zf$type == 'gene']\n",
    "gene.coords.zf <- gene.coords.zf[! is.na(gene.coords.zf$gene_name),]\n",
    "\n",
    "gene.coords.zf <- keepStandardChromosomes(gene.coords.zf, pruning.mode = 'coarse')\n",
    "\n",
    "genome(gene.coords.zf) <-\"GRCz11\"\n",
    "seqlevelsStyle(gene.coords.zf) <- \"UCSC\"\n",
    "\n",
    "#gene.coords.zf$gene_biotype <- gene.coords.zf$gene_type\n",
    "Annotation(TDR118) <- gene.coords.zf"
   ]
  },
  {
   "cell_type": "code",
   "execution_count": 24,
   "id": "928626f4-92e9-4cfb-86e1-baf1f9ec4b07",
   "metadata": {},
   "outputs": [
    {
     "data": {
      "text/plain": [
       "GRanges object with 1303547 ranges and 7 metadata columns:\n",
       "            seqnames            ranges strand |     source       type     score\n",
       "               <Rle>         <IRanges>  <Rle> |   <factor>   <factor> <numeric>\n",
       "        [1]    chr12   6160446-6177944      - |       UMMS       gene        NA\n",
       "        [2]    chr12   6160446-6161260      - |       UMMS       exon        NA\n",
       "        [3]    chr12   6163727-6163869      - |       UMMS       exon        NA\n",
       "        [4]    chr12   6165086-6165222      - |       UMMS       exon        NA\n",
       "        [5]    chr12   6165305-6165498      - |       UMMS       exon        NA\n",
       "        ...      ...               ...    ... .        ...        ...       ...\n",
       "  [1303543]     chr4 28701424-28701505      + | ncbiRefSeq exon              NA\n",
       "  [1303544]     chr4 28701424-28701505      + | ncbiRefSeq transcript        NA\n",
       "  [1303545]     chr4 28703813-28703894      + | ncbiRefSeq gene              NA\n",
       "  [1303546]     chr4 28703813-28703894      + | ncbiRefSeq exon              NA\n",
       "  [1303547]     chr4 28703813-28703894      + | ncbiRefSeq transcript        NA\n",
       "                phase      gene_id   gene_name      transcript_id\n",
       "            <integer>  <character> <character>        <character>\n",
       "        [1]      <NA> LL0000000001        a1cf               <NA>\n",
       "        [2]      <NA> LL0000000001        a1cf ENSDART00000152292\n",
       "        [3]      <NA> LL0000000001        a1cf ENSDART00000152292\n",
       "        [4]      <NA> LL0000000001        a1cf ENSDART00000152292\n",
       "        [5]      <NA> LL0000000001        a1cf ENSDART00000152292\n",
       "        ...       ...          ...         ...                ...\n",
       "  [1303543]      <NA> LL0000040573  mir430a-11        NR_045248.1\n",
       "  [1303544]      <NA> LL0000040573  mir430a-11        NR_045248.1\n",
       "  [1303545]      <NA> LL0000040574  mir430a-17               <NA>\n",
       "  [1303546]      <NA> LL0000040574  mir430a-17        NR_045250.1\n",
       "  [1303547]      <NA> LL0000040574  mir430a-17        NR_045250.1\n",
       "  -------\n",
       "  seqinfo: 26 sequences from GRCz11 genome; no seqlengths"
      ]
     },
     "metadata": {},
     "output_type": "display_data"
    }
   ],
   "source": [
    "# import the reference genome (rtracklayer)\n",
    "gtf_zf_lawson <- import(\"/hpc/reference/sequencing_alignment/alignment_references/zebrafish_genome_GRCz11_v4.3.2/genes/genes.gtf.gz\")\n",
    "\n",
    "gene.coords.zf.lawson <- gtf_zf_lawson\n",
    "# gene.coords.zf <- gtf_zf[gtf_zf$type == 'gene']\n",
    "gene.coords.zf.lawson <- gene.coords.zf.lawson[! is.na(gene.coords.zf.lawson$gene_name),]\n",
    "\n",
    "gene.coords.zf.lawson <- keepStandardChromosomes(gene.coords.zf.lawson, pruning.mode = 'coarse')\n",
    "\n",
    "genome(gene.coords.zf.lawson) <-\"GRCz11\"\n",
    "seqlevelsStyle(gene.coords.zf.lawson) <- \"NCBI\"\n",
    "\n",
    "gene.coords.zf.lawson\n",
    "\n",
    "\n",
    "#gene.coords.zf$gene_biotype <- gene.coords.zf$gene_type\n",
    "# Annotation(TDR118) <- gene.coords.zf.lawson"
   ]
  },
  {
   "cell_type": "code",
   "execution_count": null,
   "id": "46894751-4690-47b2-b1bc-199fbfd63dd8",
   "metadata": {},
   "outputs": [],
   "source": []
  },
  {
   "cell_type": "code",
   "execution_count": 17,
   "id": "981f1414-c651-486b-ab6c-b3e3e296ae23",
   "metadata": {},
   "outputs": [
    {
     "data": {
      "text/plain": [
       "Seqinfo object with 1923 sequences (1 circular) from GRCz11 genome:\n",
       "  seqnames seqlengths isCircular genome\n",
       "  1          59578282      FALSE GRCz11\n",
       "  2          59640629      FALSE GRCz11\n",
       "  3          62628489      FALSE GRCz11\n",
       "  4          78093715      FALSE GRCz11\n",
       "  5          72500376      FALSE GRCz11\n",
       "  ...             ...        ...    ...\n",
       "  NA758          2601      FALSE GRCz11\n",
       "  CTG8005      153879      FALSE GRCz11\n",
       "  CTG20005      37354      FALSE GRCz11\n",
       "  CTG20006     161442      FALSE GRCz11\n",
       "  CTG20007     159186      FALSE GRCz11"
      ]
     },
     "metadata": {},
     "output_type": "display_data"
    }
   ],
   "source": [
    "TDR118@assays$ATAC@seqinfo"
   ]
  },
  {
   "cell_type": "code",
   "execution_count": 22,
   "id": "ccce2414-e3e7-40fa-9ef9-8544348f9b9f",
   "metadata": {},
   "outputs": [
    {
     "data": {
      "text/plain": [
       "Seqinfo object with 1 sequence (1 circular) from GRCz11 genome:\n",
       "  seqnames seqlengths isCircular genome\n",
       "  MT            16596       TRUE GRCz11"
      ]
     },
     "metadata": {},
     "output_type": "display_data"
    }
   ],
   "source": [
    "TDR118@assays$ATAC@seqinfo[\"MT\"]"
   ]
  },
  {
   "cell_type": "code",
   "execution_count": null,
   "id": "a1368ac6-2432-4b65-9c56-5592f188e693",
   "metadata": {},
   "outputs": [],
   "source": [
    "pbmc <- readRDS(...) # hg38-mapped object\n",
    "hg38 <- import(\"~/gencode.v32.annotation.gtf.gz\")\n",
    "\n",
    "genome(hg38) <- \"hg38\"\n",
    "seqlevelsStyle(hg38) <- \"UCSC\"\n",
    "hg38$gene_biotype <- hg38$gene_type\n",
    "Annotation(pbmc) <- hg38\n",
    "pbmc <- TSSEnrichment(pbmc)b"
   ]
  },
  {
   "cell_type": "code",
   "execution_count": null,
   "id": "1023df46-a117-4e1d-8636-070df1968ace",
   "metadata": {},
   "outputs": [],
   "source": [
    "pfm <- getMatrixSet( x = JASPAR2020, opts = list(collection = \"CORE\", tax_group = 'vertebrates', all_versions = FALSE) )"
   ]
  }
 ],
 "metadata": {
  "kernelspec": {
   "display_name": "R 4.3",
   "language": "R",
   "name": "ir43"
  },
  "language_info": {
   "codemirror_mode": "r",
   "file_extension": ".r",
   "mimetype": "text/x-r-source",
   "name": "R",
   "pygments_lexer": "r",
   "version": "4.3.0"
  }
 },
 "nbformat": 4,
 "nbformat_minor": 5
}
