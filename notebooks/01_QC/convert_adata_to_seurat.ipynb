{
 "cells": [
  {
   "cell_type": "markdown",
   "id": "0262846b-7956-4273-aba7-9622b802c629",
   "metadata": {},
   "source": [
    "## notebook to reformat the adata objects for single-cell multiome\n",
    "\n",
    "- make a joint object with both RNA and ATAC\n",
    "- reformat the cell_ids for RNA and export it as Seurat object"
   ]
  },
  {
   "cell_type": "code",
   "execution_count": 1,
   "id": "feaafc23-1d41-4cab-959f-0e67baa10cb0",
   "metadata": {},
   "outputs": [],
   "source": [
    "import scanpy as sc\n",
    "import pandas as pd\n",
    "import numpy as np\n",
    "\n",
    "import os"
   ]
  },
  {
   "cell_type": "code",
   "execution_count": 2,
   "id": "ce3a1ef9-7ba0-4b08-b4f5-542e53fb5e52",
   "metadata": {},
   "outputs": [],
   "source": [
    "adata_ATAC = sc.read_h5ad(\"/hpc/projects/data.science/yangjoon.kim/zebrahub_multiome/data/processed_data/01_Signac_processed/integrated_ATAC_rLSI_annotated.h5ad\")\n",
    "adata_RNA = sc.read_h5ad(\"/hpc/projects/data.science/yangjoon.kim/zebrahub_multiome/data/processed_data/01_Signac_processed/integrated_RNA.h5ad\")\n"
   ]
  },
  {
   "cell_type": "code",
   "execution_count": 13,
   "id": "973b1ec5-0cbe-4f19-8a28-de60710acaf9",
   "metadata": {},
   "outputs": [
    {
     "data": {
      "text/plain": [
       "AnnData object with n_obs × n_vars = 95196 × 640834\n",
       "    obs: 'orig.ident', 'nCount_RNA', 'nFeature_RNA', 'nCount_ATAC', 'nFeature_ATAC', 'nucleosome_signal', 'nucleosome_percentile', 'TSS.enrichment', 'TSS.percentile', 'nCount_SCT', 'nFeature_SCT', 'global_annotation', 'nCount_peaks_bulk', 'nFeature_peaks_bulk', 'nCount_peaks_celltype', 'nFeature_peaks_celltype', 'nCount_peaks_merged', 'nFeature_peaks_merged', 'SCT.weight', 'peaks_merged.weight', 'nCount_Gene.Activity', 'nFeature_Gene.Activity', 'dataset', 'orig.ident.1', 'nCount_peaks_integrated', 'nFeature_peaks_integrated', 'dataset.1'\n",
       "    var: 'features'\n",
       "    obsm: 'X_integrated_lsi', 'X_umap'"
      ]
     },
     "execution_count": 13,
     "metadata": {},
     "output_type": "execute_result"
    }
   ],
   "source": [
    "adata_ATAC"
   ]
  },
  {
   "cell_type": "code",
   "execution_count": 16,
   "id": "49370c9e-8164-4b0e-84c7-42366d22a66e",
   "metadata": {},
   "outputs": [
    {
     "data": {
      "text/plain": [
       "AnnData object with n_obs × n_vars = 95196 × 640834\n",
       "    obs: 'orig_ident', 'nCount_RNA', 'nFeature_RNA', 'nCount_ATAC', 'nFeature_ATAC', 'nucleosome_signal', 'nucleosome_percentile', 'TSS_enrichment', 'TSS_percentile', 'nCount_SCT', 'nFeature_SCT', 'global_annotation', 'nCount_peaks_bulk', 'nFeature_peaks_bulk', 'nCount_peaks_celltype', 'nFeature_peaks_celltype', 'nCount_peaks_merged', 'nFeature_peaks_merged', 'SCT_weight', 'peaks_merged_weight', 'nCount_Gene_Activity', 'nFeature_Gene_Activity', 'dataset', 'orig_ident_1', 'nCount_peaks_integrated', 'nFeature_peaks_integrated', 'dataset_1'\n",
       "    var: 'features'\n",
       "    obsm: 'X_integrated_lsi', 'X_umap'"
      ]
     },
     "execution_count": 16,
     "metadata": {},
     "output_type": "execute_result"
    }
   ],
   "source": [
    "# Step 1: Get the column names\n",
    "columns = adata_ATAC.obs.columns\n",
    "\n",
    "# Step 2: Replace \".\" with \"_\" in each column name\n",
    "new_columns = [col.replace(\".\", \"_\") for col in columns]\n",
    "\n",
    "# Step 3: Rename the columns in adata.obs\n",
    "adata_ATAC.obs.columns = new_columns\n",
    "adata_ATAC"
   ]
  },
  {
   "cell_type": "code",
   "execution_count": 18,
   "id": "6a15915d-9d37-411f-9ac4-faf58d7a8753",
   "metadata": {},
   "outputs": [],
   "source": [
    "# Check and rename '_index' in adata.obs\n",
    "if '_index' in adata_ATAC.obs.columns:\n",
    "    adata_ATAC.obs.rename(columns={'_index': 'index_renamed'}, inplace=True)\n",
    "\n",
    "# Check and rename '_index' in adata.var\n",
    "if '_index' in adata_ATAC.var.columns:\n",
    "    adata_ATAC.var.rename(columns={'_index': 'index_renamed'}, inplace=True)"
   ]
  },
  {
   "cell_type": "code",
   "execution_count": 22,
   "id": "12ad4bb6-91f1-4412-80ec-1a858344e0bc",
   "metadata": {},
   "outputs": [
    {
     "data": {
      "text/plain": [
       "AnnData object with n_obs × n_vars = 95196 × 640834\n",
       "    obs: 'orig_ident', 'nCount_RNA', 'nFeature_RNA', 'nCount_ATAC', 'nFeature_ATAC', 'nucleosome_signal', 'nucleosome_percentile', 'TSS_enrichment', 'TSS_percentile', 'nCount_SCT', 'nFeature_SCT', 'global_annotation', 'nCount_peaks_bulk', 'nFeature_peaks_bulk', 'nCount_peaks_celltype', 'nFeature_peaks_celltype', 'nCount_peaks_merged', 'nFeature_peaks_merged', 'SCT_weight', 'peaks_merged_weight', 'nCount_Gene_Activity', 'nFeature_Gene_Activity', 'dataset', 'orig_ident_1', 'nCount_peaks_integrated', 'nFeature_peaks_integrated', 'dataset_1'\n",
       "    var: '_index'\n",
       "    obsm: 'X_integrated_lsi', 'X_umap'"
      ]
     },
     "execution_count": 22,
     "metadata": {},
     "output_type": "execute_result"
    }
   ],
   "source": [
    "adata_ATAC.raw.to_adata().var[\"_index\"]"
   ]
  },
  {
   "cell_type": "code",
   "execution_count": 23,
   "id": "dd261f27-a264-47ee-b5ae-c59663235ee3",
   "metadata": {},
   "outputs": [
    {
     "data": {
      "text/html": [
       "<div>\n",
       "<style scoped>\n",
       "    .dataframe tbody tr th:only-of-type {\n",
       "        vertical-align: middle;\n",
       "    }\n",
       "\n",
       "    .dataframe tbody tr th {\n",
       "        vertical-align: top;\n",
       "    }\n",
       "\n",
       "    .dataframe thead th {\n",
       "        text-align: right;\n",
       "    }\n",
       "</style>\n",
       "<table border=\"1\" class=\"dataframe\">\n",
       "  <thead>\n",
       "    <tr style=\"text-align: right;\">\n",
       "      <th></th>\n",
       "    </tr>\n",
       "  </thead>\n",
       "  <tbody>\n",
       "    <tr>\n",
       "      <th>0</th>\n",
       "    </tr>\n",
       "    <tr>\n",
       "      <th>1</th>\n",
       "    </tr>\n",
       "    <tr>\n",
       "      <th>2</th>\n",
       "    </tr>\n",
       "    <tr>\n",
       "      <th>3</th>\n",
       "    </tr>\n",
       "    <tr>\n",
       "      <th>4</th>\n",
       "    </tr>\n",
       "    <tr>\n",
       "      <th>...</th>\n",
       "    </tr>\n",
       "    <tr>\n",
       "      <th>640829</th>\n",
       "    </tr>\n",
       "    <tr>\n",
       "      <th>640830</th>\n",
       "    </tr>\n",
       "    <tr>\n",
       "      <th>640831</th>\n",
       "    </tr>\n",
       "    <tr>\n",
       "      <th>640832</th>\n",
       "    </tr>\n",
       "    <tr>\n",
       "      <th>640833</th>\n",
       "    </tr>\n",
       "  </tbody>\n",
       "</table>\n",
       "<p>640834 rows × 0 columns</p>\n",
       "</div>"
      ],
      "text/plain": [
       "Empty DataFrame\n",
       "Columns: []\n",
       "Index: [0, 1, 2, 3, 4, 5, 6, 7, 8, 9, 10, 11, 12, 13, 14, 15, 16, 17, 18, 19, 20, 21, 22, 23, 24, 25, 26, 27, 28, 29, 30, 31, 32, 33, 34, 35, 36, 37, 38, 39, 40, 41, 42, 43, 44, 45, 46, 47, 48, 49, 50, 51, 52, 53, 54, 55, 56, 57, 58, 59, 60, 61, 62, 63, 64, 65, 66, 67, 68, 69, 70, 71, 72, 73, 74, 75, 76, 77, 78, 79, 80, 81, 82, 83, 84, 85, 86, 87, 88, 89, 90, 91, 92, 93, 94, 95, 96, 97, 98, 99, ...]\n",
       "\n",
       "[640834 rows x 0 columns]"
      ]
     },
     "execution_count": 23,
     "metadata": {},
     "output_type": "execute_result"
    }
   ],
   "source": [
    "adata_ATAC.raw.var.drop(columns=[\"_index\"])"
   ]
  },
  {
   "cell_type": "code",
   "execution_count": 26,
   "id": "1c2ce1a8-9381-46ee-a7ae-87efcb7d54fa",
   "metadata": {},
   "outputs": [],
   "source": [
    "adata_ATAC.__dict__['_raw'].__dict__['_var'] = adata_ATAC.__dict__['_raw'].__dict__['_var'].rename(columns={'_index': 'features'})"
   ]
  },
  {
   "cell_type": "code",
   "execution_count": 27,
   "id": "fcbc38c5-aa74-4515-bb4b-4fdfd8bb7715",
   "metadata": {},
   "outputs": [
    {
     "data": {
      "text/plain": [
       "AnnData object with n_obs × n_vars = 95196 × 640834\n",
       "    obs: 'orig_ident', 'nCount_RNA', 'nFeature_RNA', 'nCount_ATAC', 'nFeature_ATAC', 'nucleosome_signal', 'nucleosome_percentile', 'TSS_enrichment', 'TSS_percentile', 'nCount_SCT', 'nFeature_SCT', 'global_annotation', 'nCount_peaks_bulk', 'nFeature_peaks_bulk', 'nCount_peaks_celltype', 'nFeature_peaks_celltype', 'nCount_peaks_merged', 'nFeature_peaks_merged', 'SCT_weight', 'peaks_merged_weight', 'nCount_Gene_Activity', 'nFeature_Gene_Activity', 'dataset', 'orig_ident_1', 'nCount_peaks_integrated', 'nFeature_peaks_integrated', 'dataset_1'\n",
       "    var: 'features'\n",
       "    obsm: 'X_integrated_lsi', 'X_umap'"
      ]
     },
     "execution_count": 27,
     "metadata": {},
     "output_type": "execute_result"
    }
   ],
   "source": [
    "adata_ATAC.raw.to_adata()"
   ]
  },
  {
   "cell_type": "code",
   "execution_count": 28,
   "id": "0f50910e-0bed-487f-bf6e-7d39c3c27daa",
   "metadata": {},
   "outputs": [],
   "source": [
    "adata_ATAC.write_h5ad(\"/hpc/projects/data.science/yangjoon.kim/zebrahub_multiome/data/processed_data/01_Signac_processed/integrated_ATAC_rLSI_annotated.h5ad\")"
   ]
  },
  {
   "cell_type": "code",
   "execution_count": 4,
   "id": "b13a8f8b-dbe1-4232-bb1d-4ca5bcc2d437",
   "metadata": {},
   "outputs": [
    {
     "data": {
      "text/plain": [
       "AnnData object with n_obs × n_vars = 95196 × 32057\n",
       "    obs: 'orig.ident', 'nCount_RNA', 'nFeature_RNA', 'nCount_ATAC', 'nFeature_ATAC', 'nucleosome_signal', 'nucleosome_percentile', 'TSS.enrichment', 'TSS.percentile', 'nCount_SCT', 'nFeature_SCT', 'global_annotation', 'prediction.score.Lateral_Mesoderm', 'prediction.score.Neural_Crest', 'prediction.score.Somites', 'prediction.score.Epidermal', 'prediction.score.Neural_Anterior', 'prediction.score.Neural_Posterior', 'prediction.score.Endoderm', 'prediction.score.PSM', 'prediction.score.Differentiating_Neurons', 'prediction.score.Adaxial_Cells', 'prediction.score.NMPs', 'prediction.score.Notochord', 'prediction.score.Muscle', 'prediction.score.unassigned', 'prediction.score.max', 'nCount_peaks_bulk', 'nFeature_peaks_bulk', 'nCount_peaks_celltype', 'nFeature_peaks_celltype', 'nCount_peaks_merged', 'nFeature_peaks_merged', 'SCT.weight', 'peaks_merged.weight', 'nCount_Gene.Activity', 'nFeature_Gene.Activity', 'prediction.score.Germline', 'integrated_snn_res.0.5', 'seurat_clusters'\n",
       "    var: 'features'\n",
       "    obsm: 'X_umap'"
      ]
     },
     "execution_count": 4,
     "metadata": {},
     "output_type": "execute_result"
    }
   ],
   "source": [
    "adata_RNA"
   ]
  },
  {
   "cell_type": "code",
   "execution_count": 8,
   "id": "1bf89d88-8860-498e-aebe-d1a13e474a58",
   "metadata": {},
   "outputs": [
    {
     "data": {
      "text/html": [
       "<div>\n",
       "<style scoped>\n",
       "    .dataframe tbody tr th:only-of-type {\n",
       "        vertical-align: middle;\n",
       "    }\n",
       "\n",
       "    .dataframe tbody tr th {\n",
       "        vertical-align: top;\n",
       "    }\n",
       "\n",
       "    .dataframe thead th {\n",
       "        text-align: right;\n",
       "    }\n",
       "</style>\n",
       "<table border=\"1\" class=\"dataframe\">\n",
       "  <thead>\n",
       "    <tr style=\"text-align: right;\">\n",
       "      <th></th>\n",
       "      <th>orig.ident</th>\n",
       "      <th>nCount_RNA</th>\n",
       "      <th>nFeature_RNA</th>\n",
       "      <th>nCount_ATAC</th>\n",
       "      <th>nFeature_ATAC</th>\n",
       "      <th>nucleosome_signal</th>\n",
       "      <th>nucleosome_percentile</th>\n",
       "      <th>TSS.enrichment</th>\n",
       "      <th>TSS.percentile</th>\n",
       "      <th>nCount_SCT</th>\n",
       "      <th>...</th>\n",
       "      <th>nFeature_peaks_celltype</th>\n",
       "      <th>nCount_peaks_merged</th>\n",
       "      <th>nFeature_peaks_merged</th>\n",
       "      <th>SCT.weight</th>\n",
       "      <th>peaks_merged.weight</th>\n",
       "      <th>nCount_Gene.Activity</th>\n",
       "      <th>nFeature_Gene.Activity</th>\n",
       "      <th>prediction.score.Germline</th>\n",
       "      <th>integrated_snn_res.0.5</th>\n",
       "      <th>seurat_clusters</th>\n",
       "    </tr>\n",
       "  </thead>\n",
       "  <tbody>\n",
       "    <tr>\n",
       "      <th>TDR118_AAACAGCCACCTAAGC-1</th>\n",
       "      <td>SeuratProject</td>\n",
       "      <td>6522.0</td>\n",
       "      <td>2317</td>\n",
       "      <td>21425.0</td>\n",
       "      <td>9781</td>\n",
       "      <td>0.571984</td>\n",
       "      <td>0.40</td>\n",
       "      <td>4.488213</td>\n",
       "      <td>0.48</td>\n",
       "      <td>5661.0</td>\n",
       "      <td>...</td>\n",
       "      <td>9934</td>\n",
       "      <td>12591.0</td>\n",
       "      <td>10714</td>\n",
       "      <td>0.493270</td>\n",
       "      <td>0.506730</td>\n",
       "      <td>12380.0</td>\n",
       "      <td>7106</td>\n",
       "      <td>NaN</td>\n",
       "      <td>0</td>\n",
       "      <td>0</td>\n",
       "    </tr>\n",
       "    <tr>\n",
       "      <th>TDR118_AAACAGCCAGGGAGGA-1</th>\n",
       "      <td>SeuratProject</td>\n",
       "      <td>6100.0</td>\n",
       "      <td>2319</td>\n",
       "      <td>10334.0</td>\n",
       "      <td>5028</td>\n",
       "      <td>0.448143</td>\n",
       "      <td>0.13</td>\n",
       "      <td>4.795205</td>\n",
       "      <td>0.75</td>\n",
       "      <td>5553.0</td>\n",
       "      <td>...</td>\n",
       "      <td>5123</td>\n",
       "      <td>6115.0</td>\n",
       "      <td>5563</td>\n",
       "      <td>0.498962</td>\n",
       "      <td>0.501038</td>\n",
       "      <td>6192.0</td>\n",
       "      <td>4256</td>\n",
       "      <td>NaN</td>\n",
       "      <td>19</td>\n",
       "      <td>7</td>\n",
       "    </tr>\n",
       "    <tr>\n",
       "      <th>TDR118_AAACAGCCATAGACCC-1</th>\n",
       "      <td>SeuratProject</td>\n",
       "      <td>12581.0</td>\n",
       "      <td>3467</td>\n",
       "      <td>51485.0</td>\n",
       "      <td>19874</td>\n",
       "      <td>0.514213</td>\n",
       "      <td>0.24</td>\n",
       "      <td>5.238692</td>\n",
       "      <td>0.92</td>\n",
       "      <td>5781.0</td>\n",
       "      <td>...</td>\n",
       "      <td>19930</td>\n",
       "      <td>29548.0</td>\n",
       "      <td>21333</td>\n",
       "      <td>0.572315</td>\n",
       "      <td>0.427685</td>\n",
       "      <td>26083.0</td>\n",
       "      <td>10345</td>\n",
       "      <td>NaN</td>\n",
       "      <td>12</td>\n",
       "      <td>2</td>\n",
       "    </tr>\n",
       "    <tr>\n",
       "      <th>TDR118_AAACATGCAAACTCAT-1</th>\n",
       "      <td>SeuratProject</td>\n",
       "      <td>5642.0</td>\n",
       "      <td>2145</td>\n",
       "      <td>19812.0</td>\n",
       "      <td>9183</td>\n",
       "      <td>0.673319</td>\n",
       "      <td>0.85</td>\n",
       "      <td>4.409525</td>\n",
       "      <td>0.41</td>\n",
       "      <td>5363.0</td>\n",
       "      <td>...</td>\n",
       "      <td>9116</td>\n",
       "      <td>11621.0</td>\n",
       "      <td>9939</td>\n",
       "      <td>0.481765</td>\n",
       "      <td>0.518235</td>\n",
       "      <td>11748.0</td>\n",
       "      <td>6534</td>\n",
       "      <td>NaN</td>\n",
       "      <td>1</td>\n",
       "      <td>1</td>\n",
       "    </tr>\n",
       "    <tr>\n",
       "      <th>TDR118_AAACATGCAAGGACCA-1</th>\n",
       "      <td>SeuratProject</td>\n",
       "      <td>2691.0</td>\n",
       "      <td>838</td>\n",
       "      <td>5182.0</td>\n",
       "      <td>2565</td>\n",
       "      <td>0.394904</td>\n",
       "      <td>0.06</td>\n",
       "      <td>4.939061</td>\n",
       "      <td>0.83</td>\n",
       "      <td>4727.0</td>\n",
       "      <td>...</td>\n",
       "      <td>2559</td>\n",
       "      <td>2983.0</td>\n",
       "      <td>2761</td>\n",
       "      <td>0.408465</td>\n",
       "      <td>0.591535</td>\n",
       "      <td>3061.0</td>\n",
       "      <td>2376</td>\n",
       "      <td>NaN</td>\n",
       "      <td>15</td>\n",
       "      <td>3</td>\n",
       "    </tr>\n",
       "  </tbody>\n",
       "</table>\n",
       "<p>5 rows × 40 columns</p>\n",
       "</div>"
      ],
      "text/plain": [
       "                              orig.ident  nCount_RNA  nFeature_RNA  \\\n",
       "TDR118_AAACAGCCACCTAAGC-1  SeuratProject      6522.0          2317   \n",
       "TDR118_AAACAGCCAGGGAGGA-1  SeuratProject      6100.0          2319   \n",
       "TDR118_AAACAGCCATAGACCC-1  SeuratProject     12581.0          3467   \n",
       "TDR118_AAACATGCAAACTCAT-1  SeuratProject      5642.0          2145   \n",
       "TDR118_AAACATGCAAGGACCA-1  SeuratProject      2691.0           838   \n",
       "\n",
       "                           nCount_ATAC  nFeature_ATAC  nucleosome_signal  \\\n",
       "TDR118_AAACAGCCACCTAAGC-1      21425.0           9781           0.571984   \n",
       "TDR118_AAACAGCCAGGGAGGA-1      10334.0           5028           0.448143   \n",
       "TDR118_AAACAGCCATAGACCC-1      51485.0          19874           0.514213   \n",
       "TDR118_AAACATGCAAACTCAT-1      19812.0           9183           0.673319   \n",
       "TDR118_AAACATGCAAGGACCA-1       5182.0           2565           0.394904   \n",
       "\n",
       "                           nucleosome_percentile  TSS.enrichment  \\\n",
       "TDR118_AAACAGCCACCTAAGC-1                   0.40        4.488213   \n",
       "TDR118_AAACAGCCAGGGAGGA-1                   0.13        4.795205   \n",
       "TDR118_AAACAGCCATAGACCC-1                   0.24        5.238692   \n",
       "TDR118_AAACATGCAAACTCAT-1                   0.85        4.409525   \n",
       "TDR118_AAACATGCAAGGACCA-1                   0.06        4.939061   \n",
       "\n",
       "                           TSS.percentile  nCount_SCT  ...  \\\n",
       "TDR118_AAACAGCCACCTAAGC-1            0.48      5661.0  ...   \n",
       "TDR118_AAACAGCCAGGGAGGA-1            0.75      5553.0  ...   \n",
       "TDR118_AAACAGCCATAGACCC-1            0.92      5781.0  ...   \n",
       "TDR118_AAACATGCAAACTCAT-1            0.41      5363.0  ...   \n",
       "TDR118_AAACATGCAAGGACCA-1            0.83      4727.0  ...   \n",
       "\n",
       "                           nFeature_peaks_celltype nCount_peaks_merged  \\\n",
       "TDR118_AAACAGCCACCTAAGC-1                     9934             12591.0   \n",
       "TDR118_AAACAGCCAGGGAGGA-1                     5123              6115.0   \n",
       "TDR118_AAACAGCCATAGACCC-1                    19930             29548.0   \n",
       "TDR118_AAACATGCAAACTCAT-1                     9116             11621.0   \n",
       "TDR118_AAACATGCAAGGACCA-1                     2559              2983.0   \n",
       "\n",
       "                           nFeature_peaks_merged  SCT.weight  \\\n",
       "TDR118_AAACAGCCACCTAAGC-1                  10714    0.493270   \n",
       "TDR118_AAACAGCCAGGGAGGA-1                   5563    0.498962   \n",
       "TDR118_AAACAGCCATAGACCC-1                  21333    0.572315   \n",
       "TDR118_AAACATGCAAACTCAT-1                   9939    0.481765   \n",
       "TDR118_AAACATGCAAGGACCA-1                   2761    0.408465   \n",
       "\n",
       "                           peaks_merged.weight  nCount_Gene.Activity  \\\n",
       "TDR118_AAACAGCCACCTAAGC-1             0.506730               12380.0   \n",
       "TDR118_AAACAGCCAGGGAGGA-1             0.501038                6192.0   \n",
       "TDR118_AAACAGCCATAGACCC-1             0.427685               26083.0   \n",
       "TDR118_AAACATGCAAACTCAT-1             0.518235               11748.0   \n",
       "TDR118_AAACATGCAAGGACCA-1             0.591535                3061.0   \n",
       "\n",
       "                           nFeature_Gene.Activity  prediction.score.Germline  \\\n",
       "TDR118_AAACAGCCACCTAAGC-1                    7106                        NaN   \n",
       "TDR118_AAACAGCCAGGGAGGA-1                    4256                        NaN   \n",
       "TDR118_AAACAGCCATAGACCC-1                   10345                        NaN   \n",
       "TDR118_AAACATGCAAACTCAT-1                    6534                        NaN   \n",
       "TDR118_AAACATGCAAGGACCA-1                    2376                        NaN   \n",
       "\n",
       "                           integrated_snn_res.0.5  seurat_clusters  \n",
       "TDR118_AAACAGCCACCTAAGC-1                       0                0  \n",
       "TDR118_AAACAGCCAGGGAGGA-1                      19                7  \n",
       "TDR118_AAACAGCCATAGACCC-1                      12                2  \n",
       "TDR118_AAACATGCAAACTCAT-1                       1                1  \n",
       "TDR118_AAACATGCAAGGACCA-1                      15                3  \n",
       "\n",
       "[5 rows x 40 columns]"
      ]
     },
     "execution_count": 8,
     "metadata": {},
     "output_type": "execute_result"
    }
   ],
   "source": [
    "adata_RNA.obs_names = adata_ATAC.obs_names\n",
    "adata_RNA.obs.head()"
   ]
  },
  {
   "cell_type": "code",
   "execution_count": 6,
   "id": "5d3fff5b-f8c7-4599-9330-26381f0dbd03",
   "metadata": {},
   "outputs": [
    {
     "data": {
      "text/plain": [
       "Index(['TDR118_AAACAGCCACCTAAGC-1', 'TDR118_AAACAGCCAGGGAGGA-1',\n",
       "       'TDR118_AAACAGCCATAGACCC-1', 'TDR118_AAACATGCAAACTCAT-1',\n",
       "       'TDR118_AAACATGCAAGGACCA-1', 'TDR118_AAACATGCAAGGATTA-1',\n",
       "       'TDR118_AAACATGCACGTTACA-1', 'TDR118_AAACATGCAGGACCTT-1',\n",
       "       'TDR118_AAACATGCAGGCGATA-1', 'TDR118_AAACATGCAGTTTCTC-1',\n",
       "       ...\n",
       "       'TDR128_TTTGTGGCAATTAACC-1', 'TDR128_TTTGTGGCACTTCACT-1',\n",
       "       'TDR128_TTTGTGTTCAAAGGCA-1', 'TDR128_TTTGTGTTCAAGTGTC-1',\n",
       "       'TDR128_TTTGTGTTCATGGTGT-1', 'TDR128_TTTGTGTTCCCTCAGT-1',\n",
       "       'TDR128_TTTGTTGGTACCTTAC-1', 'TDR128_TTTGTTGGTATTGAGT-1',\n",
       "       'TDR128_TTTGTTGGTGCGCGTA-1', 'TDR128_TTTGTTGGTTAAGGCC-1'],\n",
       "      dtype='object', length=95196)"
      ]
     },
     "execution_count": 6,
     "metadata": {},
     "output_type": "execute_result"
    }
   ],
   "source": [
    "adata_RNA."
   ]
  },
  {
   "cell_type": "code",
   "execution_count": null,
   "id": "fa0588bd-0abc-42a0-8ee7-2ba37d7d794e",
   "metadata": {},
   "outputs": [],
   "source": []
  },
  {
   "cell_type": "code",
   "execution_count": null,
   "id": "a02de080-03e7-4afe-b9b3-86218c8c31de",
   "metadata": {},
   "outputs": [],
   "source": []
  },
  {
   "cell_type": "markdown",
   "id": "c95efe69-317b-42cd-b840-4d9ad28cd2dc",
   "metadata": {},
   "source": [
    "## Zebrahub revision\n",
    "\n",
    "- last updated: 2/27/2024\n",
    "- author: Yang-Joon Kim\n",
    "\n",
    "Endoderm and Neural_Crest celltypes.\n",
    "\n"
   ]
  },
  {
   "cell_type": "code",
   "execution_count": 36,
   "id": "610d3234-9bbe-49e8-9fe1-40ea5b28ee28",
   "metadata": {},
   "outputs": [],
   "source": [
    "import scipy.sparse as sparse\n",
    "import scipy.io as sio\n",
    "import scanpy as sc\n"
   ]
  },
  {
   "cell_type": "code",
   "execution_count": 30,
   "id": "eb66b9f6-de9c-4157-81e8-12aa952e7583",
   "metadata": {},
   "outputs": [],
   "source": [
    "# load the h5ad objects\n",
    "endoderm = sc.read_h5ad(\"/hpc/projects/zebrahub/zebrahub_revision/scRNAseq/subset_lineages/merlin_resubsetted_Jan2024/umap_endodermV3.h5ad\")\n",
    "neural_crest = sc.read_h5ad(\"/hpc/projects/zebrahub/zebrahub_revision/scRNAseq/subset_lineages/merlin_resubsetted_Jan2024/umap_neuralcrestV3.h5ad\")"
   ]
  },
  {
   "cell_type": "code",
   "execution_count": 54,
   "id": "0e97d0a3-b301-44f0-88e9-8ea3368aedad",
   "metadata": {},
   "outputs": [],
   "source": [
    "# export the count matrices (adata.X) and the metadata (adata.obs)\n",
    "sio.mmwrite(\"/hpc/projects/zebrahub/zebrahub_revision/scRNAseq/subset_lineages/merlin_resubsetted_Jan2024/endoderm_sparse_matrix.mtx\",endoderm.X.T)\n",
    "sio.mmwrite(\"/hpc/projects/zebrahub/zebrahub_revision/scRNAseq/subset_lineages/merlin_resubsetted_Jan2024/neural_crest_sparse_matrix.mtx\",neural_crest.X.T)\n"
   ]
  },
  {
   "cell_type": "code",
   "execution_count": 47,
   "id": "1dea3ee3-b8d5-456a-a86e-50a85a224ac4",
   "metadata": {},
   "outputs": [],
   "source": [
    "!cd /hpc/projects/zebrahub/zebrahub_revision/scRNAseq/subset_lineages/merlin_resubsetted_Jan2024/"
   ]
  },
  {
   "cell_type": "code",
   "execution_count": 48,
   "id": "bdaacd00-1834-4613-a578-ff620c07da56",
   "metadata": {},
   "outputs": [],
   "source": [
    "os.chdir('/hpc/projects/zebrahub/zebrahub_revision/scRNAseq/subset_lineages/merlin_resubsetted_Jan2024/')"
   ]
  },
  {
   "cell_type": "markdown",
   "id": "06f87b2a-e719-4603-aa64-fb791481e4db",
   "metadata": {},
   "source": [
    "### export the endoderm object"
   ]
  },
  {
   "cell_type": "code",
   "execution_count": 49,
   "id": "4499a92c-772a-428f-b056-9c272d8fdff6",
   "metadata": {},
   "outputs": [],
   "source": [
    "# export the cell_ids for endoderm as a tsv file\n",
    "with open(\"endoderm_barcodes.tsv\", \"w\") as f:\n",
    "    for item in endoderm.obs_names:\n",
    "        f.write(item+\"\\n\")"
   ]
  },
  {
   "cell_type": "code",
   "execution_count": 53,
   "id": "f5846bbf-e60c-4914-b53c-3c92b199c3c8",
   "metadata": {},
   "outputs": [],
   "source": [
    "# export the gene_names for endoderm as a tsv file\n",
    "with open(\"endoderm_features.tsv\", \"w\") as f:\n",
    "    for item in ['\\t'.join([x,x,\"Gene Expression\"]) for x in endoderm.var_names]:\n",
    "        f.write(item+\"\\n\")"
   ]
  },
  {
   "cell_type": "code",
   "execution_count": 59,
   "id": "b57ac8c0-805e-43a2-bceb-67414ab3220e",
   "metadata": {},
   "outputs": [],
   "source": [
    "# save the metadata (cells-by-features)\n",
    "endoderm.obs.to_csv(\"/hpc/projects/zebrahub/zebrahub_revision/scRNAseq/subset_lineages/merlin_resubsetted_Jan2024/endoderm_obs.csv\")\n"
   ]
  },
  {
   "cell_type": "markdown",
   "id": "441a1fc8-7b90-4f30-8f74-c00698b249f1",
   "metadata": {},
   "source": [
    "### export the neural_crest object"
   ]
  },
  {
   "cell_type": "code",
   "execution_count": 55,
   "id": "b722fe0a-015b-4372-a086-a9317328988d",
   "metadata": {},
   "outputs": [],
   "source": [
    "# export the cell_ids for endoderm as a tsv file\n",
    "with open(\"neural_crest_barcodes.tsv\", \"w\") as f:\n",
    "    for item in neural_crest.obs_names:\n",
    "        f.write(item+\"\\n\")"
   ]
  },
  {
   "cell_type": "code",
   "execution_count": 56,
   "id": "7e3b0e73-d311-4d92-a386-83f9dbc74d85",
   "metadata": {},
   "outputs": [],
   "source": [
    "# export the gene_names for endoderm as a tsv file\n",
    "with open(\"neural_crest_features.tsv\", \"w\") as f:\n",
    "    for item in ['\\t'.join([x,x,\"Gene Expression\"]) for x in neural_crest.var_names]:\n",
    "        f.write(item+\"\\n\")"
   ]
  },
  {
   "cell_type": "code",
   "execution_count": 60,
   "id": "ddc034fc-c2ff-4ecf-8b31-4629971ad6b8",
   "metadata": {},
   "outputs": [],
   "source": [
    "# save the metadata (cells-by-features)\n",
    "neural_crest.obs.to_csv(\"/hpc/projects/zebrahub/zebrahub_revision/scRNAseq/subset_lineages/merlin_resubsetted_Jan2024/neural_crest_obs.csv\")"
   ]
  }
 ],
 "metadata": {
  "kernelspec": {
   "display_name": "Python [conda env:single-cell-base]",
   "language": "python",
   "name": "conda-env-single-cell-base-py"
  },
  "language_info": {
   "codemirror_mode": {
    "name": "ipython",
    "version": 3
   },
   "file_extension": ".py",
   "mimetype": "text/x-python",
   "name": "python",
   "nbconvert_exporter": "python",
   "pygments_lexer": "ipython3",
   "version": "3.10.13"
  }
 },
 "nbformat": 4,
 "nbformat_minor": 5
}
