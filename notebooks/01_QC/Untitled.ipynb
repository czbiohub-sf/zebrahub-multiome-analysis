{
 "cells": [
  {
   "cell_type": "markdown",
   "id": "c75b85b6-c02f-43d0-a9a8-434d3b858d89",
   "metadata": {},
   "source": [
    "# benchmark peak-calling methods\n",
    "\n",
    "Last updated: 10/11/2023\n",
    "\n",
    "- we use MACS2 (implemented in Signac) to call peaks at different group.by resolutions\n",
    "- First, we have Cellranger-arc called peaks ("
   ]
  },
  {
   "cell_type": "code",
   "execution_count": null,
   "id": "2fbf99b1-4a5f-4d2a-864c-69f6c581a0dc",
   "metadata": {},
   "outputs": [],
   "source": []
  },
  {
   "cell_type": "code",
   "execution_count": null,
   "id": "f9714170-5be5-4f91-bc3e-7b0787a0237d",
   "metadata": {},
   "outputs": [],
   "source": []
  },
  {
   "cell_type": "code",
   "execution_count": null,
   "id": "a1368ac6-2432-4b65-9c56-5592f188e693",
   "metadata": {},
   "outputs": [],
   "source": []
  },
  {
   "cell_type": "code",
   "execution_count": null,
   "id": "1023df46-a117-4e1d-8636-070df1968ace",
   "metadata": {},
   "outputs": [],
   "source": []
  }
 ],
 "metadata": {
  "kernelspec": {
   "display_name": "R 4.3",
   "language": "R",
   "name": "ir43"
  },
  "language_info": {
   "codemirror_mode": "r",
   "file_extension": ".r",
   "mimetype": "text/x-r-source",
   "name": "R",
   "pygments_lexer": "r",
   "version": "4.3.0"
  }
 },
 "nbformat": 4,
 "nbformat_minor": 5
}
