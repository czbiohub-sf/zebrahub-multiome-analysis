version https://git-lfs.github.com/spec/v1
oid sha256:bfb75c1892d730cf8120c0ff95a37f66d9712de0c75aede35e6cf02ef7b31619
size 29482160
