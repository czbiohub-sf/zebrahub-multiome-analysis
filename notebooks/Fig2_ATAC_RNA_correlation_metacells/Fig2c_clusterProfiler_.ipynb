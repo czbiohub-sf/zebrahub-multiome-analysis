{
 "cells": [
  {
   "cell_type": "markdown",
   "id": "1314d1a6-4cd6-47fc-8c41-2204f999e384",
   "metadata": {},
   "source": []
  },
  {
   "cell_type": "code",
   "execution_count": 1,
   "id": "07061d66-7519-4697-88e1-ecf9f6f26486",
   "metadata": {},
   "outputs": [
    {
     "name": "stderr",
     "output_type": "stream",
     "text": [
      "\n",
      "\n",
      "clusterProfiler v4.8.3  For help: https://yulab-smu.top/biomedical-knowledge-mining-book/\n",
      "\n",
      "If you use clusterProfiler in published research, please cite:\n",
      "T Wu, E Hu, S Xu, M Chen, P Guo, Z Dai, T Feng, L Zhou, W Tang, L Zhan, X Fu, S Liu, X Bo, and G Yu. clusterProfiler 4.0: A universal enrichment tool for interpreting omics data. The Innovation. 2021, 2(3):100141\n",
      "\n",
      "\n",
      "Attaching package: ‘clusterProfiler’\n",
      "\n",
      "\n",
      "The following object is masked from ‘package:stats’:\n",
      "\n",
      "    filter\n",
      "\n",
      "\n"
     ]
    },
    {
     "data": {
      "text/html": [
       "<style>\n",
       ".list-inline {list-style: none; margin:0; padding: 0}\n",
       ".list-inline>li {display: inline-block}\n",
       ".list-inline>li:not(:last-child)::after {content: \"\\00b7\"; padding: 0 .5ex}\n",
       "</style>\n",
       "<ol class=list-inline><li>'4312'</li><li>'8318'</li><li>'10874'</li><li>'55143'</li><li>'55388'</li><li>'991'</li></ol>\n"
      ],
      "text/latex": [
       "\\begin{enumerate*}\n",
       "\\item '4312'\n",
       "\\item '8318'\n",
       "\\item '10874'\n",
       "\\item '55143'\n",
       "\\item '55388'\n",
       "\\item '991'\n",
       "\\end{enumerate*}\n"
      ],
      "text/markdown": [
       "1. '4312'\n",
       "2. '8318'\n",
       "3. '10874'\n",
       "4. '55143'\n",
       "5. '55388'\n",
       "6. '991'\n",
       "\n",
       "\n"
      ],
      "text/plain": [
       "[1] \"4312\"  \"8318\"  \"10874\" \"55143\" \"55388\" \"991\"  "
      ]
     },
     "metadata": {},
     "output_type": "display_data"
    }
   ],
   "source": [
    "library(clusterProfiler)\n",
    "data(geneList, package=\"DOSE\")\n",
    "gene <- names(geneList)[abs(geneList) > 2]\n",
    "\n",
    "# Entrez gene ID\n",
    "head(gene)"
   ]
  },
  {
   "cell_type": "code",
   "execution_count": null,
   "id": "57d36555-b589-454c-a6e0-1d87011b3829",
   "metadata": {},
   "outputs": [],
   "source": []
  }
 ],
 "metadata": {
  "kernelspec": {
   "display_name": "R 4.3",
   "language": "R",
   "name": "ir43"
  },
  "language_info": {
   "codemirror_mode": "r",
   "file_extension": ".r",
   "mimetype": "text/x-r-source",
   "name": "R",
   "pygments_lexer": "r",
   "version": "4.3.2"
  }
 },
 "nbformat": 4,
 "nbformat_minor": 5
}
