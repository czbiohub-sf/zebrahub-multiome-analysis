version https://git-lfs.github.com/spec/v1
oid sha256:a7c3ca9ba558bd2b638501c3b5403448148b95cfb6f5d12fe1dfce96f343cf1e
size 18460373
