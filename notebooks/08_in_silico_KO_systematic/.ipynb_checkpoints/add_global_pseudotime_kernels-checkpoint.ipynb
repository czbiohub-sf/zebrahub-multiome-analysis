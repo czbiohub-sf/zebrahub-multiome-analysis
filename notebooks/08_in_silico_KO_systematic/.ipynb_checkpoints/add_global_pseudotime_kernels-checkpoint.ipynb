{
 "cells": [
  {
   "cell_type": "markdown",
   "id": "b58a187b-5dad-4fdf-9a97-6c4a58a9102b",
   "metadata": {},
   "source": [
    "## ADD global pseudotime kernels to compute cell-cell trans.probs using CellRank2\n",
    "\n",
    "- Last updated: 08/27/2024\n",
    "- Author: Yang-Joon Kim\n",
    "\n"
   ]
  },
  {
   "cell_type": "code",
   "execution_count": 1,
   "id": "99ef675e-5f7a-4228-8d84-42afa00f42b8",
   "metadata": {},
   "outputs": [
    {
     "name": "stderr",
     "output_type": "stream",
     "text": [
      "INFO:matplotlib.font_manager:Failed to extract font properties from /usr/share/fonts/google-noto-emoji/NotoColorEmoji.ttf: In FT2Font: Can not load face (unknown file format; error code 0x2)\n"
     ]
    },
    {
     "data": {
      "text/plain": [
       "'0.18.0'"
      ]
     },
     "execution_count": 1,
     "metadata": {},
     "output_type": "execute_result"
    }
   ],
   "source": [
    "# import libraries\n",
    "import os\n",
    "import pandas as pd\n",
    "import numpy as np\n",
    "import scanpy as sc\n",
    "from anndata import AnnData\n",
    "import glob\n",
    "import os\n",
    "import scipy as sp\n",
    "from scipy import sparse\n",
    "import cellrank as cr\n",
    "import scvelo as scv\n",
    "\n",
    "import matplotlib.colors as colors\n",
    "import matplotlib.pyplot as plt\n",
    "import seaborn as sns\n",
    "import argparse\n",
    "\n",
    "import celloracle as co\n",
    "from celloracle.applications import Oracle_development_module\n",
    "co.__version__"
   ]
  },
  {
   "cell_type": "markdown",
   "id": "b0290db5-7351-4fc4-aa17-03779bb24a27",
   "metadata": {},
   "source": [
    "### Step 1. Import the Oracle object and pseudotime values (global)"
   ]
  },
  {
   "cell_type": "code",
   "execution_count": 4,
   "id": "036d9096-7dce-42fe-a828-9180f510d7f1",
   "metadata": {},
   "outputs": [
    {
     "data": {
      "text/plain": [
       "Oracle object\n",
       "\n",
       "Meta data\n",
       "    celloracle version used for instantiation: 0.18.0\n",
       "    n_cells: 4602\n",
       "    n_genes: 3000\n",
       "    cluster_name: manual_annotation\n",
       "    dimensional_reduction_name: X_umap_aligned\n",
       "    n_target_genes_in_TFdict: 13625 genes\n",
       "    n_regulatory_in_TFdict: 872 genes\n",
       "    n_regulatory_in_both_TFdict_and_scRNA-seq: 242 genes\n",
       "    n_target_genes_both_TFdict_and_scRNA-seq: 1735 genes\n",
       "    k_for_knn_imputation: 115\n",
       "Status\n",
       "    Gene expression matrix: Ready\n",
       "    BaseGRN: Ready\n",
       "    PCA calculation: Done\n",
       "    Knn imputation: Done\n",
       "    GRN calculation for simulation: Done"
      ]
     },
     "execution_count": 4,
     "metadata": {},
     "output_type": "execute_result"
    }
   ],
   "source": [
    "oracle = co.load_hdf5(\"/hpc/projects/data.science/yangjoon.kim/zebrahub_multiome/data/processed_data/09_NMPs_subsetted_v2/14_TDR126_in_silico_KO_trans_probs_added.celloracle.oracle\")\n",
    "oracle"
   ]
  },
  {
   "cell_type": "code",
   "execution_count": 5,
   "id": "a412049c-7d9d-43f3-bc36-a4625de2e184",
   "metadata": {},
   "outputs": [
    {
     "data": {
      "text/plain": [
       "AnnData object with n_obs × n_vars = 4602 × 3000\n",
       "    obs: 'orig_ident', 'nCount_RNA', 'nFeature_RNA', 'nCount_ATAC', 'nFeature_ATAC', 'nucleosome_signal', 'nucleosome_percentile', 'TSS_enrichment', 'TSS_percentile', 'nCount_SCT', 'nFeature_SCT', 'global_annotation', 'nCount_peaks_bulk', 'nFeature_peaks_bulk', 'nCount_peaks_celltype', 'nFeature_peaks_celltype', 'nCount_peaks_merged', 'nFeature_peaks_merged', 'SCT_weight', 'peaks_merged_weight', 'nCount_Gene_Activity', 'nFeature_Gene_Activity', 'nCount_peaks_integrated', 'nFeature_peaks_integrated', 'dataset', 'integrated_weight', 'peaks_integrated_weight', 'wsnn_res_0_8', 'seurat_clusters', 'data_source', 'annotation_ML', 'scANVI_zscape', 'annotation_ML_coarse', 'dev_stage', 'timepoints', 'manual_annotation', 'Pseudotime', 'Pseudotime_Lineage_Meso', 'Pseudotime_Lineage_NeuroEcto'\n",
       "    var: 'features', 'highly_variable', 'highly_variable_rank', 'means', 'variances', 'variances_norm', 'symbol', 'isin_top1000_var_mean_genes', 'isin_TFdict_targets', 'isin_TFdict_regulators', 'isin_actve_regulators'\n",
       "    uns: 'annotation_ML_coarse_colors', 'annotation_ML_colors', 'dataset_colors', 'global_annotation_colors', 'log1p', 'scANVI_zscape_colors', 'hvg', 'manual_annotation_colors', 'manual_annotation_color'\n",
       "    obsm: 'X_umap.atac', 'X_umap.rna', 'X_umap_aligned', 'X_wnn.umap', 'WT_umap_aligned', 'arntl1b_KO_umap_aligned', 'arxb_KO_umap_aligned', 'atoh1a_KO_umap_aligned', 'barhl1a_KO_umap_aligned', 'barx2_KO_umap_aligned', 'bcl11aa_KO_umap_aligned', 'bcl11ab_KO_umap_aligned', 'bhlha15_KO_umap_aligned', 'cdx4_KO_umap_aligned', 'cebpb_KO_umap_aligned', 'creb3l1_KO_umap_aligned', 'ctcf_KO_umap_aligned', 'cxxc5a_KO_umap_aligned', 'dbx1a_KO_umap_aligned', 'dbx1b_KO_umap_aligned', 'dlx3b_KO_umap_aligned', 'dlx4b_KO_umap_aligned', 'dlx5a_KO_umap_aligned', 'dlx6a_KO_umap_aligned', 'dmbx1a_KO_umap_aligned', 'dmrt2a_KO_umap_aligned', 'dmrta2_KO_umap_aligned', 'drgx_KO_umap_aligned', 'e2f5_KO_umap_aligned', 'ebf1b_KO_umap_aligned', 'ebf2_KO_umap_aligned', 'ebf3a_KO_umap_aligned', 'egr1_KO_umap_aligned', 'egr2b_KO_umap_aligned', 'egr3_KO_umap_aligned', 'egr4_KO_umap_aligned', 'emx3_KO_umap_aligned', 'en2a_KO_umap_aligned', 'esrrga_KO_umap_aligned', 'etv2_KO_umap_aligned', 'etv5a_KO_umap_aligned', 'etv5b_KO_umap_aligned', 'eve1_KO_umap_aligned', 'fezf2_KO_umap_aligned', 'fli1a_KO_umap_aligned', 'fosab_KO_umap_aligned', 'fosb_KO_umap_aligned', 'fosl2_KO_umap_aligned', 'foxb1a_KO_umap_aligned', 'foxc1a_KO_umap_aligned', 'foxc1b_KO_umap_aligned', 'foxd1_KO_umap_aligned', 'foxd2_KO_umap_aligned', 'foxd3_KO_umap_aligned', 'foxd5_KO_umap_aligned', 'foxg1a_KO_umap_aligned', 'foxi1_KO_umap_aligned', 'foxi3a_KO_umap_aligned', 'foxj1a_KO_umap_aligned', 'foxj1b_KO_umap_aligned', 'foxl1_KO_umap_aligned', 'foxn4_KO_umap_aligned', 'foxo1a_KO_umap_aligned', 'foxo1b_KO_umap_aligned', 'foxo3b_KO_umap_aligned', 'foxp4_KO_umap_aligned', 'gata2a_KO_umap_aligned', 'gata3_KO_umap_aligned', 'gata5_KO_umap_aligned', 'gata6_KO_umap_aligned', 'gbx1_KO_umap_aligned', 'gcm2_KO_umap_aligned', 'gfi1aa_KO_umap_aligned', 'gli3_KO_umap_aligned', 'grhl2b_KO_umap_aligned', 'gsc_KO_umap_aligned', 'gsx1_KO_umap_aligned', 'hand2_KO_umap_aligned', 'her6_KO_umap_aligned', 'her9_KO_umap_aligned', 'hey1_KO_umap_aligned', 'hlfa_KO_umap_aligned', 'hmga1a_KO_umap_aligned', 'hnf1a_KO_umap_aligned', 'hnf1ba_KO_umap_aligned', 'hnf1bb_KO_umap_aligned', 'hnf4g_KO_umap_aligned', 'hoxa10b_KO_umap_aligned', 'hoxa11b_KO_umap_aligned', 'hoxa9a_KO_umap_aligned', 'hoxa9b_KO_umap_aligned', 'hoxb10a_KO_umap_aligned', 'hoxb7a_KO_umap_aligned', 'hoxb9a_KO_umap_aligned', 'hoxc4a_KO_umap_aligned', 'hoxd10a_KO_umap_aligned', 'hoxd11a_KO_umap_aligned', 'hoxd12a_KO_umap_aligned', 'hoxd4a_KO_umap_aligned', 'hoxd9a_KO_umap_aligned', 'irf2a_KO_umap_aligned', 'irf4a_KO_umap_aligned', 'irx1a_KO_umap_aligned', 'irx1b_KO_umap_aligned', 'irx3a_KO_umap_aligned', 'irx3b_KO_umap_aligned', 'irx7_KO_umap_aligned', 'isl1_KO_umap_aligned', 'isl2a_KO_umap_aligned', 'jun_KO_umap_aligned', 'klf17_KO_umap_aligned', 'klf2a_KO_umap_aligned', 'klf2b_KO_umap_aligned', 'klf6a_KO_umap_aligned', 'klf7a_KO_umap_aligned', 'lbx1b_KO_umap_aligned', 'lbx2_KO_umap_aligned', 'lhx1a_KO_umap_aligned', 'lhx2b_KO_umap_aligned', 'lhx5_KO_umap_aligned', 'lhx6_KO_umap_aligned', 'lhx9_KO_umap_aligned', 'lin28a_KO_umap_aligned', 'lmx1bb_KO_umap_aligned', 'mafba_KO_umap_aligned', 'mecp2_KO_umap_aligned', 'mef2aa_KO_umap_aligned', 'mef2cb_KO_umap_aligned', 'mef2d_KO_umap_aligned', 'meis1a_KO_umap_aligned', 'meis2a_KO_umap_aligned', 'meis3_KO_umap_aligned', 'meox1_KO_umap_aligned', 'meox2a_KO_umap_aligned', 'mespab_KO_umap_aligned', 'mnx1_KO_umap_aligned', 'msx1b_KO_umap_aligned', 'msx2b_KO_umap_aligned', 'mxi1_KO_umap_aligned', 'myf5_KO_umap_aligned', 'myod1_KO_umap_aligned', 'neurod1_KO_umap_aligned', 'neurod4_KO_umap_aligned', 'nfic_KO_umap_aligned', 'nfil3_KO_umap_aligned', 'nkx1.2la_KO_umap_aligned', 'nkx2.2a_KO_umap_aligned', 'nkx2.4a_KO_umap_aligned', 'nkx2.5_KO_umap_aligned', 'nkx2.7_KO_umap_aligned', 'nkx3-1_KO_umap_aligned', 'nkx6.1_KO_umap_aligned', 'nkx6.2_KO_umap_aligned', 'noto_KO_umap_aligned', 'nr2f5_KO_umap_aligned', 'nr5a1a_KO_umap_aligned', 'olig2_KO_umap_aligned', 'onecut2_KO_umap_aligned', 'onecut3b_KO_umap_aligned', 'onecutl_KO_umap_aligned', 'osr1_KO_umap_aligned', 'pax2a_KO_umap_aligned', 'pax2b_KO_umap_aligned', 'pax3a_KO_umap_aligned', 'pax3b_KO_umap_aligned', 'pax5_KO_umap_aligned', 'pax6a_KO_umap_aligned', 'pax6b_KO_umap_aligned', 'pax7a_KO_umap_aligned', 'pax7b_KO_umap_aligned', 'pbx1b_KO_umap_aligned', 'pitx3_KO_umap_aligned', 'pnx_KO_umap_aligned', 'pou3f3b_KO_umap_aligned', 'prrx1a_KO_umap_aligned', 'rarga_KO_umap_aligned', 'rfx4_KO_umap_aligned', 'rfx6_KO_umap_aligned', 'rorc_KO_umap_aligned', 'runx2b_KO_umap_aligned', 'runx3_KO_umap_aligned', 'rx2_KO_umap_aligned', 'rx3_KO_umap_aligned', 'rxraa_KO_umap_aligned', 'rxrgb_KO_umap_aligned', 'sebox_KO_umap_aligned', 'six1b_KO_umap_aligned', 'six3b_KO_umap_aligned', 'six4b_KO_umap_aligned', 'six7_KO_umap_aligned', 'smad3a_KO_umap_aligned', 'snai1a_KO_umap_aligned', 'snai2_KO_umap_aligned', 'sox10_KO_umap_aligned', 'sox11a_KO_umap_aligned', 'sox11b_KO_umap_aligned', 'sox13_KO_umap_aligned', 'sox17_KO_umap_aligned', 'sox19a_KO_umap_aligned', 'sox19b_KO_umap_aligned', 'sox2_KO_umap_aligned', 'sox3_KO_umap_aligned', 'sox32_KO_umap_aligned', 'sox6_KO_umap_aligned', 'sox7_KO_umap_aligned', 'sox9b_KO_umap_aligned', 'sp5l_KO_umap_aligned', 'sp7_KO_umap_aligned', 'sp8a_KO_umap_aligned', 'sp8b_KO_umap_aligned', 'sp9_KO_umap_aligned', 'stat5a_KO_umap_aligned', 'tal1_KO_umap_aligned', 'tbpl2_KO_umap_aligned', 'tbx1_KO_umap_aligned', 'tbx16_KO_umap_aligned', 'tbx18_KO_umap_aligned', 'tbx2a_KO_umap_aligned', 'tbx2b_KO_umap_aligned', 'tbx3a_KO_umap_aligned', 'tcf3b_KO_umap_aligned', 'tead1b_KO_umap_aligned', 'tefb_KO_umap_aligned', 'tfap2a_KO_umap_aligned', 'tfap2c_KO_umap_aligned', 'tgif1_KO_umap_aligned', 'thrab_KO_umap_aligned', 'tlx2_KO_umap_aligned', 'tlx3b_KO_umap_aligned', 'tp63_KO_umap_aligned', 'twist1a_KO_umap_aligned', 'twist1b_KO_umap_aligned', 'twist2_KO_umap_aligned', 'twist3_KO_umap_aligned', 'uncx_KO_umap_aligned', 'uncx4.1_KO_umap_aligned', 'ved_KO_umap_aligned', 'vent_KO_umap_aligned', 'vox_KO_umap_aligned', 'wt1a_KO_umap_aligned', 'zbtb18_KO_umap_aligned', 'zeb1a_KO_umap_aligned', 'zic1_KO_umap_aligned', 'zic2a_KO_umap_aligned', 'zic2b_KO_umap_aligned', 'zic3_KO_umap_aligned', 'WT_global_umap_aligned', 'WT_global_nmps_umap_aligned'\n",
       "    layers: 'counts', 'raw_count', 'normalized_count', 'imputed_count', 'simulation_input', 'simulated_count', 'delta_X'\n",
       "    obsp: 'T_fwd_WT', 'T_fwd_arntl1b_KO', 'T_fwd_arxb_KO', 'T_fwd_atoh1a_KO', 'T_fwd_barhl1a_KO', 'T_fwd_barx2_KO', 'T_fwd_bcl11aa_KO', 'T_fwd_bcl11ab_KO', 'T_fwd_bhlha15_KO', 'T_fwd_cdx4_KO', 'T_fwd_cebpb_KO', 'T_fwd_creb3l1_KO', 'T_fwd_ctcf_KO', 'T_fwd_cxxc5a_KO', 'T_fwd_dbx1a_KO', 'T_fwd_dbx1b_KO', 'T_fwd_dlx3b_KO', 'T_fwd_dlx4b_KO', 'T_fwd_dlx5a_KO', 'T_fwd_dlx6a_KO', 'T_fwd_dmbx1a_KO', 'T_fwd_dmrt2a_KO', 'T_fwd_dmrta2_KO', 'T_fwd_drgx_KO', 'T_fwd_e2f5_KO', 'T_fwd_ebf1b_KO', 'T_fwd_ebf2_KO', 'T_fwd_ebf3a_KO', 'T_fwd_egr1_KO', 'T_fwd_egr2b_KO', 'T_fwd_egr3_KO', 'T_fwd_egr4_KO', 'T_fwd_emx3_KO', 'T_fwd_en2a_KO', 'T_fwd_esrrga_KO', 'T_fwd_etv2_KO', 'T_fwd_etv5a_KO', 'T_fwd_etv5b_KO', 'T_fwd_eve1_KO', 'T_fwd_fezf2_KO', 'T_fwd_fli1a_KO', 'T_fwd_fosab_KO', 'T_fwd_fosb_KO', 'T_fwd_fosl2_KO', 'T_fwd_foxb1a_KO', 'T_fwd_foxc1a_KO', 'T_fwd_foxc1b_KO', 'T_fwd_foxd1_KO', 'T_fwd_foxd2_KO', 'T_fwd_foxd3_KO', 'T_fwd_foxd5_KO', 'T_fwd_foxg1a_KO', 'T_fwd_foxi1_KO', 'T_fwd_foxi3a_KO', 'T_fwd_foxj1a_KO', 'T_fwd_foxj1b_KO', 'T_fwd_foxl1_KO', 'T_fwd_foxn4_KO', 'T_fwd_foxo1a_KO', 'T_fwd_foxo1b_KO', 'T_fwd_foxo3b_KO', 'T_fwd_foxp4_KO', 'T_fwd_gata2a_KO', 'T_fwd_gata3_KO', 'T_fwd_gata5_KO', 'T_fwd_gata6_KO', 'T_fwd_gbx1_KO', 'T_fwd_gcm2_KO', 'T_fwd_gfi1aa_KO', 'T_fwd_gli3_KO', 'T_fwd_grhl2b_KO', 'T_fwd_gsc_KO', 'T_fwd_gsx1_KO', 'T_fwd_hand2_KO', 'T_fwd_her6_KO', 'T_fwd_her9_KO', 'T_fwd_hey1_KO', 'T_fwd_hlfa_KO', 'T_fwd_hmga1a_KO', 'T_fwd_hnf1a_KO', 'T_fwd_hnf1ba_KO', 'T_fwd_hnf1bb_KO', 'T_fwd_hnf4g_KO', 'T_fwd_hoxa10b_KO', 'T_fwd_hoxa11b_KO', 'T_fwd_hoxa9a_KO', 'T_fwd_hoxa9b_KO', 'T_fwd_hoxb10a_KO', 'T_fwd_hoxb7a_KO', 'T_fwd_hoxb9a_KO', 'T_fwd_hoxc4a_KO', 'T_fwd_hoxd10a_KO', 'T_fwd_hoxd11a_KO', 'T_fwd_hoxd12a_KO', 'T_fwd_hoxd4a_KO', 'T_fwd_hoxd9a_KO', 'T_fwd_irf2a_KO', 'T_fwd_irf4a_KO', 'T_fwd_irx1a_KO', 'T_fwd_irx1b_KO', 'T_fwd_irx3a_KO', 'T_fwd_irx3b_KO', 'T_fwd_irx7_KO', 'T_fwd_isl1_KO', 'T_fwd_isl2a_KO', 'T_fwd_jun_KO', 'T_fwd_klf17_KO', 'T_fwd_klf2a_KO', 'T_fwd_klf2b_KO', 'T_fwd_klf6a_KO', 'T_fwd_klf7a_KO', 'T_fwd_lbx1b_KO', 'T_fwd_lbx2_KO', 'T_fwd_lhx1a_KO', 'T_fwd_lhx2b_KO', 'T_fwd_lhx5_KO', 'T_fwd_lhx6_KO', 'T_fwd_lhx9_KO', 'T_fwd_lin28a_KO', 'T_fwd_lmx1bb_KO', 'T_fwd_mafba_KO', 'T_fwd_mecp2_KO', 'T_fwd_mef2aa_KO', 'T_fwd_mef2cb_KO', 'T_fwd_mef2d_KO', 'T_fwd_meis1a_KO', 'T_fwd_meis2a_KO', 'T_fwd_meis3_KO', 'T_fwd_meox1_KO', 'T_fwd_meox2a_KO', 'T_fwd_mespab_KO', 'T_fwd_mnx1_KO', 'T_fwd_msx1b_KO', 'T_fwd_msx2b_KO', 'T_fwd_mxi1_KO', 'T_fwd_myf5_KO', 'T_fwd_myod1_KO', 'T_fwd_neurod1_KO', 'T_fwd_neurod4_KO', 'T_fwd_nfic_KO', 'T_fwd_nfil3_KO', 'T_fwd_nkx1.2la_KO', 'T_fwd_nkx2.2a_KO', 'T_fwd_nkx2.4a_KO', 'T_fwd_nkx2.5_KO', 'T_fwd_nkx2.7_KO', 'T_fwd_nkx3-1_KO', 'T_fwd_nkx6.1_KO', 'T_fwd_nkx6.2_KO', 'T_fwd_noto_KO', 'T_fwd_nr2f5_KO', 'T_fwd_nr5a1a_KO', 'T_fwd_olig2_KO', 'T_fwd_onecut2_KO', 'T_fwd_onecut3b_KO', 'T_fwd_onecutl_KO', 'T_fwd_osr1_KO', 'T_fwd_pax2a_KO', 'T_fwd_pax2b_KO', 'T_fwd_pax3a_KO', 'T_fwd_pax3b_KO', 'T_fwd_pax5_KO', 'T_fwd_pax6a_KO', 'T_fwd_pax6b_KO', 'T_fwd_pax7a_KO', 'T_fwd_pax7b_KO', 'T_fwd_pbx1b_KO', 'T_fwd_pitx3_KO', 'T_fwd_pnx_KO', 'T_fwd_pou3f3b_KO', 'T_fwd_prrx1a_KO', 'T_fwd_rarga_KO', 'T_fwd_rfx4_KO', 'T_fwd_rfx6_KO', 'T_fwd_rorc_KO', 'T_fwd_runx2b_KO', 'T_fwd_runx3_KO', 'T_fwd_rx2_KO', 'T_fwd_rx3_KO', 'T_fwd_rxraa_KO', 'T_fwd_rxrgb_KO', 'T_fwd_sebox_KO', 'T_fwd_six1b_KO', 'T_fwd_six3b_KO', 'T_fwd_six4b_KO', 'T_fwd_six7_KO', 'T_fwd_smad3a_KO', 'T_fwd_snai1a_KO', 'T_fwd_snai2_KO', 'T_fwd_sox10_KO', 'T_fwd_sox11a_KO', 'T_fwd_sox11b_KO', 'T_fwd_sox13_KO', 'T_fwd_sox17_KO', 'T_fwd_sox19a_KO', 'T_fwd_sox19b_KO', 'T_fwd_sox2_KO', 'T_fwd_sox3_KO', 'T_fwd_sox32_KO', 'T_fwd_sox6_KO', 'T_fwd_sox7_KO', 'T_fwd_sox9b_KO', 'T_fwd_sp5l_KO', 'T_fwd_sp7_KO', 'T_fwd_sp8a_KO', 'T_fwd_sp8b_KO', 'T_fwd_sp9_KO', 'T_fwd_stat5a_KO', 'T_fwd_tal1_KO', 'T_fwd_tbpl2_KO', 'T_fwd_tbx1_KO', 'T_fwd_tbx16_KO', 'T_fwd_tbx18_KO', 'T_fwd_tbx2a_KO', 'T_fwd_tbx2b_KO', 'T_fwd_tbx3a_KO', 'T_fwd_tcf3b_KO', 'T_fwd_tead1b_KO', 'T_fwd_tefb_KO', 'T_fwd_tfap2a_KO', 'T_fwd_tfap2c_KO', 'T_fwd_tgif1_KO', 'T_fwd_thrab_KO', 'T_fwd_tlx2_KO', 'T_fwd_tlx3b_KO', 'T_fwd_tp63_KO', 'T_fwd_twist1a_KO', 'T_fwd_twist1b_KO', 'T_fwd_twist2_KO', 'T_fwd_twist3_KO', 'T_fwd_uncx_KO', 'T_fwd_uncx4.1_KO', 'T_fwd_ved_KO', 'T_fwd_vent_KO', 'T_fwd_vox_KO', 'T_fwd_wt1a_KO', 'T_fwd_zbtb18_KO', 'T_fwd_zeb1a_KO', 'T_fwd_zic1_KO', 'T_fwd_zic2a_KO', 'T_fwd_zic2b_KO', 'T_fwd_zic3_KO', 'T_fwd_WT_global', 'T_fwd_WT_global_nmps'"
      ]
     },
     "execution_count": 5,
     "metadata": {},
     "output_type": "execute_result"
    }
   ],
   "source": [
    "oracle.adata"
   ]
  },
  {
   "cell_type": "code",
   "execution_count": 12,
   "id": "2e674cba-b323-4aee-8abb-abd7a9f8f8b2",
   "metadata": {},
   "outputs": [],
   "source": [
    "# 1) \"Pseudotime_global\" from the integrated object (whole embryo - all celltypes)\n",
    "# 2) \"Pseudotime_global_nmps\" from the integrated object (NMP trajectory subsets)\n",
    "# first, pseudotime computed with \"integrated\" object - all celltypes\n",
    "global_pt = pd.read_csv(\"/hpc/projects/data.science/yangjoon.kim/zebrahub_multiome/data/processed_data/07_slingshot_processed/integrated_slingshot.csv\", \n",
    "                        index_col=0)\n",
    "# second, pseudotime computed with \"integrated\" object, but subsetted for NMP trajectories (celltypes)\n",
    "global_pt_nmps = pd.read_csv(\"/hpc/projects/data.science/yangjoon.kim/zebrahub_multiome/data/processed_data/07_slingshot_processed/integrated_nmps_slingshot.csv\", \n",
    "                            index_col=0)\n",
    "\n",
    "# import the \"X_lsi_integrated\" from the integrated object\n",
    "lsi_integrated = pd.read_csv(\"/hpc/projects/data.science/yangjoon.kim/zebrahub_multiome/data/processed_data/01_Signac_processed/integrated_lsi.csv\", index_col=0)\n"
   ]
  },
  {
   "cell_type": "code",
   "execution_count": 7,
   "id": "dd65151d-c5c8-4fa1-9b8f-511c57b1be1a",
   "metadata": {},
   "outputs": [],
   "source": [
    "# list of all datasets\n",
    "list_datasets = [\"TDR126\",\"TDR127\",\"TDR128\",\n",
    "                 \"TDR118\",\"TDR119\",\"TDR125\",\"TDR124\"]"
   ]
  },
  {
   "cell_type": "code",
   "execution_count": 14,
   "id": "9185f46c-1303-474e-b9ef-f7c05710f28a",
   "metadata": {},
   "outputs": [
    {
     "data": {
      "application/vnd.jupyter.widget-view+json": {
       "model_id": "8c05dc44be3a4983b3fb094abdeb7f4c",
       "version_major": 2,
       "version_minor": 0
      },
      "text/plain": [
       "  0%|          | 0/4602 [00:00<?, ?cell/s]"
      ]
     },
     "metadata": {},
     "output_type": "display_data"
    },
    {
     "data": {
      "application/vnd.jupyter.widget-view+json": {
       "model_id": "a75341bcc09e4663ae79a0bd779416e9",
       "version_major": 2,
       "version_minor": 0
      },
      "text/plain": [
       "  0%|          | 0/4602 [00:00<?, ?cell/s]"
      ]
     },
     "metadata": {},
     "output_type": "display_data"
    },
    {
     "data": {
      "application/vnd.jupyter.widget-view+json": {
       "model_id": "9c2dd335780f457ca9883ca4ee5caaa0",
       "version_major": 2,
       "version_minor": 0
      },
      "text/plain": [
       "  0%|          | 0/4602 [00:00<?, ?cell/s]"
      ]
     },
     "metadata": {},
     "output_type": "display_data"
    },
    {
     "name": "stdout",
     "output_type": "stream",
     "text": [
      "TDR126 is completed with pseudotime-driven trans.probs\n"
     ]
    },
    {
     "data": {
      "application/vnd.jupyter.widget-view+json": {
       "model_id": "0c4a8d5177414ceea8a023fe21b9c2a6",
       "version_major": 2,
       "version_minor": 0
      },
      "text/plain": [
       "  0%|          | 0/5304 [00:00<?, ?cell/s]"
      ]
     },
     "metadata": {},
     "output_type": "display_data"
    },
    {
     "data": {
      "application/vnd.jupyter.widget-view+json": {
       "model_id": "46d3ed67ce464eb9829cba9e5400ae8b",
       "version_major": 2,
       "version_minor": 0
      },
      "text/plain": [
       "  0%|          | 0/5304 [00:00<?, ?cell/s]"
      ]
     },
     "metadata": {},
     "output_type": "display_data"
    },
    {
     "data": {
      "application/vnd.jupyter.widget-view+json": {
       "model_id": "24c822e53e5f41159df954506913c530",
       "version_major": 2,
       "version_minor": 0
      },
      "text/plain": [
       "  0%|          | 0/5304 [00:00<?, ?cell/s]"
      ]
     },
     "metadata": {},
     "output_type": "display_data"
    },
    {
     "name": "stdout",
     "output_type": "stream",
     "text": [
      "TDR127 is completed with pseudotime-driven trans.probs\n"
     ]
    },
    {
     "data": {
      "application/vnd.jupyter.widget-view+json": {
       "model_id": "2e58d9741787488d92cbc8772f3b93ce",
       "version_major": 2,
       "version_minor": 0
      },
      "text/plain": [
       "  0%|          | 0/2627 [00:00<?, ?cell/s]"
      ]
     },
     "metadata": {},
     "output_type": "display_data"
    },
    {
     "data": {
      "application/vnd.jupyter.widget-view+json": {
       "model_id": "b1509158be724e2f9ca1a7f6f201c43d",
       "version_major": 2,
       "version_minor": 0
      },
      "text/plain": [
       "  0%|          | 0/2627 [00:00<?, ?cell/s]"
      ]
     },
     "metadata": {},
     "output_type": "display_data"
    },
    {
     "data": {
      "application/vnd.jupyter.widget-view+json": {
       "model_id": "5cc34c9392bb49d9a387e1b0535cbadd",
       "version_major": 2,
       "version_minor": 0
      },
      "text/plain": [
       "  0%|          | 0/2627 [00:00<?, ?cell/s]"
      ]
     },
     "metadata": {},
     "output_type": "display_data"
    },
    {
     "name": "stdout",
     "output_type": "stream",
     "text": [
      "TDR128 is completed with pseudotime-driven trans.probs\n"
     ]
    },
    {
     "data": {
      "application/vnd.jupyter.widget-view+json": {
       "model_id": "00840822e2024608b41c826e92c40b2e",
       "version_major": 2,
       "version_minor": 0
      },
      "text/plain": [
       "  0%|          | 0/3363 [00:00<?, ?cell/s]"
      ]
     },
     "metadata": {},
     "output_type": "display_data"
    },
    {
     "data": {
      "application/vnd.jupyter.widget-view+json": {
       "model_id": "03f55388921d4c4c8b57ef489b06cb32",
       "version_major": 2,
       "version_minor": 0
      },
      "text/plain": [
       "  0%|          | 0/3363 [00:00<?, ?cell/s]"
      ]
     },
     "metadata": {},
     "output_type": "display_data"
    },
    {
     "data": {
      "application/vnd.jupyter.widget-view+json": {
       "model_id": "4d50b0e216d94198bdf09448b9834000",
       "version_major": 2,
       "version_minor": 0
      },
      "text/plain": [
       "  0%|          | 0/3363 [00:00<?, ?cell/s]"
      ]
     },
     "metadata": {},
     "output_type": "display_data"
    },
    {
     "name": "stdout",
     "output_type": "stream",
     "text": [
      "TDR118 is completed with pseudotime-driven trans.probs\n"
     ]
    },
    {
     "data": {
      "application/vnd.jupyter.widget-view+json": {
       "model_id": "e4346b6bb712426ea786a370fcd2d788",
       "version_major": 2,
       "version_minor": 0
      },
      "text/plain": [
       "  0%|          | 0/2699 [00:00<?, ?cell/s]"
      ]
     },
     "metadata": {},
     "output_type": "display_data"
    },
    {
     "data": {
      "application/vnd.jupyter.widget-view+json": {
       "model_id": "d780064145594e7d86676746e56f6792",
       "version_major": 2,
       "version_minor": 0
      },
      "text/plain": [
       "  0%|          | 0/2699 [00:00<?, ?cell/s]"
      ]
     },
     "metadata": {},
     "output_type": "display_data"
    },
    {
     "data": {
      "application/vnd.jupyter.widget-view+json": {
       "model_id": "a47ca43a06ef4b1ab8a65eae296588c0",
       "version_major": 2,
       "version_minor": 0
      },
      "text/plain": [
       "  0%|          | 0/2699 [00:00<?, ?cell/s]"
      ]
     },
     "metadata": {},
     "output_type": "display_data"
    },
    {
     "name": "stdout",
     "output_type": "stream",
     "text": [
      "TDR119 is completed with pseudotime-driven trans.probs\n"
     ]
    },
    {
     "data": {
      "application/vnd.jupyter.widget-view+json": {
       "model_id": "5f0ca1b2f03b40aba72a4459917ae288",
       "version_major": 2,
       "version_minor": 0
      },
      "text/plain": [
       "  0%|          | 0/4283 [00:00<?, ?cell/s]"
      ]
     },
     "metadata": {},
     "output_type": "display_data"
    },
    {
     "data": {
      "application/vnd.jupyter.widget-view+json": {
       "model_id": "240fc95523e644feb38113ba3043d9fe",
       "version_major": 2,
       "version_minor": 0
      },
      "text/plain": [
       "  0%|          | 0/4283 [00:00<?, ?cell/s]"
      ]
     },
     "metadata": {},
     "output_type": "display_data"
    },
    {
     "data": {
      "application/vnd.jupyter.widget-view+json": {
       "model_id": "281d04d77d2145e897fe9adb3f614134",
       "version_major": 2,
       "version_minor": 0
      },
      "text/plain": [
       "  0%|          | 0/4283 [00:00<?, ?cell/s]"
      ]
     },
     "metadata": {},
     "output_type": "display_data"
    },
    {
     "name": "stdout",
     "output_type": "stream",
     "text": [
      "TDR125 is completed with pseudotime-driven trans.probs\n"
     ]
    },
    {
     "data": {
      "application/vnd.jupyter.widget-view+json": {
       "model_id": "9372591e5b9d49b7ba36c4c260162df5",
       "version_major": 2,
       "version_minor": 0
      },
      "text/plain": [
       "  0%|          | 0/1244 [00:00<?, ?cell/s]"
      ]
     },
     "metadata": {},
     "output_type": "display_data"
    },
    {
     "data": {
      "application/vnd.jupyter.widget-view+json": {
       "model_id": "b32fed8a952942b79f624a6150c700c1",
       "version_major": 2,
       "version_minor": 0
      },
      "text/plain": [
       "  0%|          | 0/1244 [00:00<?, ?cell/s]"
      ]
     },
     "metadata": {},
     "output_type": "display_data"
    },
    {
     "data": {
      "application/vnd.jupyter.widget-view+json": {
       "model_id": "a59df03fb49d4db2baafebada9d1e698",
       "version_major": 2,
       "version_minor": 0
      },
      "text/plain": [
       "  0%|          | 0/1244 [00:00<?, ?cell/s]"
      ]
     },
     "metadata": {},
     "output_type": "display_data"
    },
    {
     "name": "stdout",
     "output_type": "stream",
     "text": [
      "TDR124 is completed with pseudotime-driven trans.probs\n"
     ]
    }
   ],
   "source": [
    "adata_path = \"/hpc/projects/data.science/yangjoon.kim/zebrahub_multiome/data/processed_data/09_NMPs_subsetted_v2/\"\n",
    "oracle_path = \"/hpc/projects/data.science/yangjoon.kim/zebrahub_multiome/data/processed_data/09_NMPs_subsetted_v2/\"\n",
    "basis=\"umap_aligned\"\n",
    "\n",
    "for data_id in list_datasets:\n",
    "    # Step 1. Load the datasets (adata and dim.reductions)\n",
    "    # 1-1. Load the adata object\n",
    "    adata = sc.read_h5ad(adata_path + f'{data_id}_nmps_manual_annotation.h5ad')\n",
    "\n",
    "    # 1-2. Load the Oracle object\n",
    "    # oracle_path = f\"/hpc/projects/data.science/yangjoon.kim/zebrahub_multiome/data/processed_data/09_NMPs_subsetted_v2/{data_id}/\"\n",
    "    oracle = co.load_hdf5(oracle_path + f\"{data_id}/\" + f'14_{data_id}_in_silico_KO_trans_probs_added.celloracle.oracle')\n",
    "\n",
    "    # 1-3. compute the k-nn\n",
    "    # subset the LSI embedding to the cells in the adata\n",
    "    lsi_integrated_sub = lsi_integrated[lsi_integrated.index.isin(adata.obs_names)]\n",
    "\n",
    "    # take the 2nd to 40th columns (dropping the 1st LSI component)\n",
    "    lsi_integrated_sub_filtered = lsi_integrated_sub.iloc[:,1:40]\n",
    "\n",
    "    # make sure that the indicies match between the lsi and adata\n",
    "    lsi_integrated_sub_filtered = lsi_integrated_sub_filtered.reindex(adata.obs.index)\n",
    "\n",
    "    # Add the LSI embedding to the adata\n",
    "    adata.obsm[\"X_lsi_integrated\"] = lsi_integrated_sub_filtered.to_numpy()\n",
    "    \n",
    "    # NOTE. CellRank requires adata.obsp[\"connectivities\"] to be present\n",
    "    sc.pp.neighbors(adata, use_rep=\"X_lsi_integrated\")\n",
    "    \n",
    "    # Step 2. (WT) Compute the cell-cell transition probabilities using\n",
    "    # the Pseudotime (computed by pySlingshot)\n",
    "    # First, transfer the \"Pseudotime\" from the Oracle.adata to the \"adata\" object\n",
    "    adata.obs[\"Pseudotime\"] = oracle.adata.obs[\"Pseudotime\"]\n",
    "    \n",
    "    # subset the pseudotime for specific dataset (using \"cell_id\")\n",
    "    global_pt_sub = global_pt[global_pt.index.isin(adata.obs_names)]\n",
    "    global_pt_nmps_sub = global_pt_nmps[global_pt_nmps.index.isin(adata.obs_names)]\n",
    "\n",
    "    # transfer the \"Pseudotime_global\" from the Oracle.adata to the \"adata\" object\n",
    "    adata.obs[\"Pseudotime_global\"] = global_pt_sub[\"Pseudotime\"]\n",
    "    adata.obs[\"Pseudotime_global_nmps\"] = global_pt_nmps_sub[\"Pseudotime\"]\n",
    "\n",
    "    # 2-1. k-nn graph:computing the nearest-neighborhood using the \"integrated_lsi\"\n",
    "    # NOTE. CellRank requires adata.obsp[\"connectivities\"] to be present\n",
    "    # sc.pp.neighbors(adata, use_rep=\"X_lsi_integrated\")\n",
    "\n",
    "    # Use CellRank's \"PseudotimeKernel\" to compute the cell-cell transition probabilities\n",
    "    # compute a transition matrix using the \"PseudotimeKernel\"\n",
    "    # \"local\" Pseudotime\n",
    "    pk = cr.kernels.PseudotimeKernel(adata, time_key=\"Pseudotime\")\n",
    "    pk.compute_transition_matrix()\n",
    "\n",
    "    # pseudotime_global\n",
    "    pk_global = cr.kernels.PseudotimeKernel(adata, time_key=\"Pseudotime_global\")\n",
    "    pk_global.compute_transition_matrix()\n",
    "\n",
    "    # pseudotime_global_nmps\n",
    "    pk_global_nmps = cr.kernels.PseudotimeKernel(adata, time_key=\"Pseudotime_global_nmps\")\n",
    "    pk_global_nmps.compute_transition_matrix()\n",
    "\n",
    "    #extract the trans_probs for the WT (PseudotimeKernel)\n",
    "    trans_probs_WT_pt = pk.transition_matrix\n",
    "    trnas_probs_WT_global = pk_global.transition_matrix\n",
    "    trans_probs_WT_global_nmps = pk_global_nmps.transition_matrix\n",
    "    \n",
    "    # generate the 2D projection of the metacell transitions with weighted vectors\n",
    "    # NOTE. this saves adata.obsm[\"{key_added}_{\"basis\"}\"]\n",
    "    # for the 2D projection of cell-cell trans.probs at single-cell level (cells-by-(x,y))\n",
    "    # NOTE. this also saves adata.obsp[\"T_fwd_{\"basis\"}\"] to save the cell-cell trans.probs\n",
    "    pk.plot_projection(basis=\"umap_aligned\", recompute=True, stream=False, scale=0.5, key_added=\"WT\")\n",
    "    # NOTE. this saves adata.obsm[\"{key_added}_{\"basis\"}\"] to be averaged/smoothed later either at k-nn, or metacells\n",
    "    # Repeat this for the global pseudotime\n",
    "    pk_global.plot_projection(basis=\"umap_aligned\", recompute=True, stream=False, scale=0.5, key_added=\"WT_global\")\n",
    "    pk_global_nmps.plot_projection(basis=\"umap_aligned\", recompute=True, stream=False, scale=0.5, key_added=\"WT_global_nmps\")\n",
    "\n",
    "\n",
    "    # update the Oracle object with the \"adata\" (for pseudotime-derived cell-cell trans.probs and 2D projections)\n",
    "    # oracle.adata = adata.copy()\n",
    "    oracle.adata.obsp[\"connectivities\"] = adata.obsp[\"connectivities\"]\n",
    "    oracle.adata.obsp[f\"T_fwd_WT\"] = trans_probs_WT_pt\n",
    "    oracle.adata.obsm[f\"WT_{basis}\"] = adata.obsm[f\"WT_{basis}\"]\n",
    "    # ADD the global pseudotime\n",
    "    oracle.adata.obsp[f\"T_fwd_WT_global\"] = trnas_probs_WT_global\n",
    "    oracle.adata.obsm[f\"WT_global_{basis}\"] = adata.obsm[f\"WT_global_{basis}\"]\n",
    "    # ADD the global pseudotime (NMPs)\n",
    "    oracle.adata.obsp[f\"T_fwd_WT_global_nmps\"] = trans_probs_WT_global_nmps\n",
    "    oracle.adata.obsm[f\"WT_global_nmps_{basis}\"] = adata.obsm[f\"WT_global_nmps_{basis}\"]\n",
    "    \n",
    "    # Save the Oracle object\n",
    "    oracle.to_hdf5(oracle_path + f\"14_{data_id}_in_silico_KO_trans_probs_added.celloracle.oracle\")\n",
    "    print(f\"{data_id} is completed with pseudotime-driven trans.probs\")"
   ]
  }
 ],
 "metadata": {
  "kernelspec": {
   "display_name": "celloracle_env",
   "language": "python",
   "name": "celloracle_env"
  },
  "language_info": {
   "codemirror_mode": {
    "name": "ipython",
    "version": 3
   },
   "file_extension": ".py",
   "mimetype": "text/x-python",
   "name": "python",
   "nbconvert_exporter": "python",
   "pygments_lexer": "ipython3",
   "version": "3.8.17"
  }
 },
 "nbformat": 4,
 "nbformat_minor": 5
}
