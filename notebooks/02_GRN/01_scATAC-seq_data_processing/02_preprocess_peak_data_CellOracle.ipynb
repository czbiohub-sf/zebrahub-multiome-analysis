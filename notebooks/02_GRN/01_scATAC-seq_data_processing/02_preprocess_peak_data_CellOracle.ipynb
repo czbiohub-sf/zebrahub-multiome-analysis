{
 "cells": [
  {
   "cell_type": "markdown",
   "metadata": {},
   "source": [
    "# Overview\n",
    "\n",
    "Before building the base GRN, we need to annotate the coaccessible peaks and filter our active promoter/enhancer elements. First, we will identify the peaks around transcription starting sites (TSS). We will then merge the Cicero data with the TSS peak information and filter any peaks with weak connections to the TSS peaks. As such, the filtered peak data will only include TSS peaks and peaks with strong TSS connections. These will be our active promoter/enhancer elements for our base GRN. \n",
    "\n",
    "### Notebook file\n",
    "\n",
    "Notebook file is available on CellOracle GitHub page.\n",
    "https://github.com/morris-lab/CellOracle/blob/master/docs/notebooks/01_ATAC-seq_data_processing/option1_scATAC-seq_data_analysis_with_cicero/02_preprocess_peak_data.ipynb\n",
    "\n"
   ]
  },
  {
   "cell_type": "markdown",
   "metadata": {},
   "source": [
    "# 0. Import libraries"
   ]
  },
  {
   "cell_type": "code",
   "execution_count": 1,
   "metadata": {},
   "outputs": [],
   "source": [
    "import pandas as pd\n",
    "import numpy as np\n",
    "import matplotlib.pyplot as plt\n",
    "%matplotlib inline\n",
    "\n",
    "import seaborn as sns\n",
    "\n",
    "\n",
    "import os, sys, shutil, importlib, glob\n",
    "from tqdm.notebook import tqdm"
   ]
  },
  {
   "cell_type": "code",
   "execution_count": 2,
   "metadata": {
    "scrolled": true,
    "tags": []
   },
   "outputs": [
    {
     "name": "stderr",
     "output_type": "stream",
     "text": [
      "/home/yang-joon.kim/.conda/envs/celloracle_env/lib/python3.8/site-packages/loompy/bus_file.py:68: NumbaDeprecationWarning: \u001b[1mThe 'nopython' keyword argument was not supplied to the 'numba.jit' decorator. The implicit default value for this argument is currently False, but it will be changed to True in Numba 0.59.0. See https://numba.readthedocs.io/en/stable/reference/deprecation.html#deprecation-of-object-mode-fall-back-behaviour-when-using-jit for details.\u001b[0m\n",
      "  def twobit_to_dna(twobit: int, size: int) -> str:\n",
      "/home/yang-joon.kim/.conda/envs/celloracle_env/lib/python3.8/site-packages/loompy/bus_file.py:85: NumbaDeprecationWarning: \u001b[1mThe 'nopython' keyword argument was not supplied to the 'numba.jit' decorator. The implicit default value for this argument is currently False, but it will be changed to True in Numba 0.59.0. See https://numba.readthedocs.io/en/stable/reference/deprecation.html#deprecation-of-object-mode-fall-back-behaviour-when-using-jit for details.\u001b[0m\n",
      "  def dna_to_twobit(dna: str) -> int:\n",
      "/home/yang-joon.kim/.conda/envs/celloracle_env/lib/python3.8/site-packages/loompy/bus_file.py:102: NumbaDeprecationWarning: \u001b[1mThe 'nopython' keyword argument was not supplied to the 'numba.jit' decorator. The implicit default value for this argument is currently False, but it will be changed to True in Numba 0.59.0. See https://numba.readthedocs.io/en/stable/reference/deprecation.html#deprecation-of-object-mode-fall-back-behaviour-when-using-jit for details.\u001b[0m\n",
      "  def twobit_1hamming(twobit: int, size: int) -> List[int]:\n",
      "INFO:matplotlib.font_manager:Failed to extract font properties from /usr/share/fonts/google-noto-emoji/NotoColorEmoji.ttf: In FT2Font: Can not load face (unknown file format; error code 0x2)\n"
     ]
    },
    {
     "data": {
      "text/plain": [
       "'0.14.0'"
      ]
     },
     "execution_count": 2,
     "metadata": {},
     "output_type": "execute_result"
    }
   ],
   "source": [
    "from celloracle import motif_analysis as ma\n",
    "import celloracle as co\n",
    "co.__version__"
   ]
  },
  {
   "cell_type": "code",
   "execution_count": 3,
   "metadata": {},
   "outputs": [],
   "source": [
    "# %config InlineBackend.figure_format = 'retina'\n",
    "\n",
    "plt.rcParams['figure.figsize'] = [6, 4.5]\n",
    "plt.rcParams[\"savefig.dpi\"] = 300\n",
    "%matplotlib inline"
   ]
  },
  {
   "cell_type": "code",
   "execution_count": 4,
   "metadata": {},
   "outputs": [],
   "source": [
    "# Plotting style function (run this before plotting the final figure)\n",
    "def set_plotting_style():\n",
    "    plt.style.use('seaborn-paper')\n",
    "    plt.rc('axes', labelsize=12)\n",
    "    plt.rc('axes', titlesize=12)\n",
    "    plt.rc('xtick', labelsize=10)\n",
    "    plt.rc('ytick', labelsize=10)\n",
    "    plt.rc('legend', fontsize=10)\n",
    "    plt.rc('text.latex', preamble=r'\\usepackage{sfmath}')\n",
    "    plt.rc('xtick.major', pad=2)\n",
    "    plt.rc('ytick.major', pad=2)\n",
    "    plt.rc('mathtext', fontset='stixsans', sf='sansserif')\n",
    "#     plt.rc('figure', figsize=[10,9])\n",
    "    plt.rc('svg', fonttype='none')\n",
    "    \n",
    "set_plotting_style()"
   ]
  },
  {
   "cell_type": "code",
   "execution_count": 5,
   "metadata": {},
   "outputs": [],
   "source": [
    "figpath = \"/hpc/projects/data.science/yangjoon.kim/zebrahub_multiome/zebrahub-multiome-analysis/figures/peaks_TDR118\"\n",
    "os.makedirs(figpath, exist_ok=True)"
   ]
  },
  {
   "cell_type": "markdown",
   "metadata": {},
   "source": [
    "# 1. Load scATAC peak data and peak connection data made with Cicero"
   ]
  },
  {
   "cell_type": "markdown",
   "metadata": {},
   "source": [
    "## 1.0. Download data\n",
    "\n",
    "In this notebook, we will annotate and filter output from Cicero. Please refer to the previous step to learn about data preparation with Cicero.\n",
    "https://morris-lab.github.io/CellOracle.documentation/tutorials/base_grn.html#step1-scatac-seq-analysis-with-cicero\n",
    "\n",
    "\n",
    "Here, we will use the preprocessed fetal brain scATAC-seq data from step 1.\n",
    "\n",
    "\n",
    "You can download the demo file by running the following command. \n",
    "\n",
    "Note: If the download fails, please manually download and unzip the data.\n",
    "https://raw.githubusercontent.com/morris-lab/CellOracle/master/docs/demo_data/all_peaks.csv\n",
    "\n",
    "https://raw.githubusercontent.com/morris-lab/CellOracle/master/docs/demo_data/cicero_connections.csv"
   ]
  },
  {
   "cell_type": "code",
   "execution_count": 4,
   "metadata": {},
   "outputs": [
    {
     "name": "stdout",
     "output_type": "stream",
     "text": [
      "--2023-01-20 17:19:21--  https://raw.githubusercontent.com/morris-lab/CellOracle/master/docs/demo_data/all_peaks.csv\n",
      "Resolving raw.githubusercontent.com (raw.githubusercontent.com)... 185.199.108.133, 185.199.109.133, 185.199.110.133, ...\n",
      "Connecting to raw.githubusercontent.com (raw.githubusercontent.com)|185.199.108.133|:443... connected.\n",
      "HTTP request sent, awaiting response... 200 OK\n",
      "Length: 2940392 (2.8M) [text/plain]\n",
      "Saving to: ‘all_peaks.csv’\n",
      "\n",
      "all_peaks.csv       100%[===================>]   2.80M  --.-KB/s    in 0.03s   \n",
      "\n",
      "2023-01-20 17:19:22 (92.3 MB/s) - ‘all_peaks.csv’ saved [2940392/2940392]\n",
      "\n",
      "--2023-01-20 17:19:22--  https://raw.githubusercontent.com/morris-lab/CellOracle/master/docs/demo_data/cicero_connections.csv\n",
      "Resolving raw.githubusercontent.com (raw.githubusercontent.com)... 185.199.111.133, 185.199.110.133, 185.199.109.133, ...\n",
      "Connecting to raw.githubusercontent.com (raw.githubusercontent.com)|185.199.111.133|:443... connected.\n",
      "HTTP request sent, awaiting response... 200 OK\n",
      "Length: 22749615 (22M) [text/plain]\n",
      "Saving to: ‘cicero_connections.csv’\n",
      "\n",
      "cicero_connections. 100%[===================>]  21.70M   109MB/s    in 0.2s    \n",
      "\n",
      "2023-01-20 17:19:23 (109 MB/s) - ‘cicero_connections.csv’ saved [22749615/22749615]\n",
      "\n"
     ]
    }
   ],
   "source": [
    "# # Download file. \n",
    "# !wget https://raw.githubusercontent.com/morris-lab/CellOracle/master/docs/demo_data/all_peaks.csv\n",
    "# !wget https://raw.githubusercontent.com/morris-lab/CellOracle/master/docs/demo_data/cicero_connections.csv\n",
    "    \n",
    "# # If you are using macOS, please try the following command.\n",
    "# #!curl -O https://raw.githubusercontent.com/morris-lab/CellOracle/master/docs/demo_data/all_peaks.csv\n",
    "# #!curl -O https://raw.githubusercontent.com/morris-lab/CellOracle/master/docs/demo_data/cicero_connections.csv\n"
   ]
  },
  {
   "cell_type": "markdown",
   "metadata": {},
   "source": [
    "## 1.1. Load data"
   ]
  },
  {
   "cell_type": "code",
   "execution_count": 17,
   "metadata": {},
   "outputs": [],
   "source": [
    "cicero_output_path = \"/hpc/projects/data.science/yangjoon.kim/zebrahub_multiome/data/processed_data/TDR118_cicero_output/\""
   ]
  },
  {
   "cell_type": "code",
   "execution_count": 18,
   "metadata": {},
   "outputs": [
    {
     "data": {
      "text/plain": [
       "array(['1-2372-3057', '1-6507-7253', '1-11485-12198', ...,\n",
       "       '9-56450898-56451686', '9-56452315-56452858',\n",
       "       '9-56459068-56459827'], dtype=object)"
      ]
     },
     "execution_count": 18,
     "metadata": {},
     "output_type": "execute_result"
    }
   ],
   "source": [
    "# Load scATAC-seq peak list.\n",
    "peaks = pd.read_csv(cicero_output_path+\"01_TDR118_CRG_arc_peaks.csv\", index_col=0)\n",
    "peaks = peaks.x.values\n",
    "peaks"
   ]
  },
  {
   "cell_type": "code",
   "execution_count": 19,
   "metadata": {},
   "outputs": [
    {
     "data": {
      "text/plain": [
       "248320"
      ]
     },
     "execution_count": 19,
     "metadata": {},
     "output_type": "execute_result"
    }
   ],
   "source": [
    "len(peaks)"
   ]
  },
  {
   "cell_type": "code",
   "execution_count": 20,
   "metadata": {},
   "outputs": [
    {
     "data": {
      "text/plain": [
       "array(['chr1_2372_3057', 'chr1_6507_7253', 'chr1_11485_12198', ...,\n",
       "       'chr9_56450898_56451686', 'chr9_56452315_56452858',\n",
       "       'chr9_56459068_56459827'], dtype='<U23')"
      ]
     },
     "execution_count": 20,
     "metadata": {},
     "output_type": "execute_result"
    }
   ],
   "source": [
    "# add \"chr\" in front of each peak element for formatting (CellOracle genome reference)\n",
    "peaks = \"chr\" + peaks\n",
    "peaks\n",
    "\n",
    "# reformat the peaks (replace the \"-\" with \"_\")\n",
    "peaks = [s.replace(\"-\",\"_\") for s in peaks]\n",
    "peaks = np.array(peaks)\n",
    "peaks"
   ]
  },
  {
   "cell_type": "code",
   "execution_count": 21,
   "metadata": {},
   "outputs": [
    {
     "data": {
      "text/html": [
       "<div>\n",
       "<style scoped>\n",
       "    .dataframe tbody tr th:only-of-type {\n",
       "        vertical-align: middle;\n",
       "    }\n",
       "\n",
       "    .dataframe tbody tr th {\n",
       "        vertical-align: top;\n",
       "    }\n",
       "\n",
       "    .dataframe thead th {\n",
       "        text-align: right;\n",
       "    }\n",
       "</style>\n",
       "<table border=\"1\" class=\"dataframe\">\n",
       "  <thead>\n",
       "    <tr style=\"text-align: right;\">\n",
       "      <th></th>\n",
       "      <th>Peak1</th>\n",
       "      <th>Peak2</th>\n",
       "      <th>coaccess</th>\n",
       "    </tr>\n",
       "  </thead>\n",
       "  <tbody>\n",
       "    <tr>\n",
       "      <th>1</th>\n",
       "      <td>1-10000089-10000951</td>\n",
       "      <td>1-9799170-9799935</td>\n",
       "      <td>-0.073049</td>\n",
       "    </tr>\n",
       "    <tr>\n",
       "      <th>2</th>\n",
       "      <td>1-10000089-10000951</td>\n",
       "      <td>1-9820778-9821643</td>\n",
       "      <td>-0.069486</td>\n",
       "    </tr>\n",
       "    <tr>\n",
       "      <th>3</th>\n",
       "      <td>1-10000089-10000951</td>\n",
       "      <td>1-9846358-9847274</td>\n",
       "      <td>-0.040536</td>\n",
       "    </tr>\n",
       "    <tr>\n",
       "      <th>4</th>\n",
       "      <td>1-10000089-10000951</td>\n",
       "      <td>1-9858069-9858966</td>\n",
       "      <td>-0.028729</td>\n",
       "    </tr>\n",
       "    <tr>\n",
       "      <th>5</th>\n",
       "      <td>1-10000089-10000951</td>\n",
       "      <td>1-9859992-9860913</td>\n",
       "      <td>-0.025691</td>\n",
       "    </tr>\n",
       "  </tbody>\n",
       "</table>\n",
       "</div>"
      ],
      "text/plain": [
       "                 Peak1              Peak2  coaccess\n",
       "1  1-10000089-10000951  1-9799170-9799935 -0.073049\n",
       "2  1-10000089-10000951  1-9820778-9821643 -0.069486\n",
       "3  1-10000089-10000951  1-9846358-9847274 -0.040536\n",
       "4  1-10000089-10000951  1-9858069-9858966 -0.028729\n",
       "5  1-10000089-10000951  1-9859992-9860913 -0.025691"
      ]
     },
     "execution_count": 21,
     "metadata": {},
     "output_type": "execute_result"
    }
   ],
   "source": [
    "# Load Cicero coaccessibility scores.\n",
    "cicero_connections = pd.read_csv(cicero_output_path + \"02_TDR118_cicero_connections_CRG_arc_peaks.csv\", index_col=0)\n",
    "cicero_connections.head()"
   ]
  },
  {
   "cell_type": "code",
   "execution_count": 22,
   "metadata": {},
   "outputs": [
    {
     "data": {
      "text/plain": [
       "39776378"
      ]
     },
     "execution_count": 22,
     "metadata": {},
     "output_type": "execute_result"
    }
   ],
   "source": [
    "len(cicero_connections)"
   ]
  },
  {
   "cell_type": "code",
   "execution_count": 25,
   "metadata": {},
   "outputs": [
    {
     "data": {
      "text/plain": [
       "'/hpc/projects/data.science/yangjoon.kim/zebrahub_multiome/zebrahub-multiome-analysis/figures/peaks_TDR118'"
      ]
     },
     "execution_count": 25,
     "metadata": {},
     "output_type": "execute_result"
    }
   ],
   "source": [
    "figpath"
   ]
  },
  {
   "cell_type": "code",
   "execution_count": 24,
   "metadata": {},
   "outputs": [
    {
     "data": {
      "image/png": "[encoded data removed]",
      "text/plain": [
       "<Figure size 640x440 with 1 Axes>"
      ]
     },
     "metadata": {},
     "output_type": "display_data"
    }
   ],
   "source": [
    "# cicero_connections.coaccess.hist(bins=30)\n",
    "plt.hist(cicero_connections[\"coaccess\"], bins=50)\n",
    "plt.yscale(\"log\")\n",
    "plt.xlabel(\"co-accessibility score\")\n",
    "plt.ylabel(\"occurences\")\n",
    "plt.savefig(figpath+\"/cicero_scores_histogram.pdf\")"
   ]
  },
  {
   "cell_type": "code",
   "execution_count": 17,
   "metadata": {},
   "outputs": [
    {
     "data": {
      "text/html": [
       "<div>\n",
       "<style scoped>\n",
       "    .dataframe tbody tr th:only-of-type {\n",
       "        vertical-align: middle;\n",
       "    }\n",
       "\n",
       "    .dataframe tbody tr th {\n",
       "        vertical-align: top;\n",
       "    }\n",
       "\n",
       "    .dataframe thead th {\n",
       "        text-align: right;\n",
       "    }\n",
       "</style>\n",
       "<table border=\"1\" class=\"dataframe\">\n",
       "  <thead>\n",
       "    <tr style=\"text-align: right;\">\n",
       "      <th></th>\n",
       "      <th>Peak1</th>\n",
       "      <th>Peak2</th>\n",
       "      <th>coaccess</th>\n",
       "    </tr>\n",
       "  </thead>\n",
       "  <tbody>\n",
       "    <tr>\n",
       "      <th>25081532</th>\n",
       "      <td>24-17168001-17168928</td>\n",
       "      <td>24-17160375-17161077</td>\n",
       "      <td>-0.673312</td>\n",
       "    </tr>\n",
       "    <tr>\n",
       "      <th>25080832</th>\n",
       "      <td>24-17160375-17161077</td>\n",
       "      <td>24-17168001-17168928</td>\n",
       "      <td>-0.673312</td>\n",
       "    </tr>\n",
       "    <tr>\n",
       "      <th>24130795</th>\n",
       "      <td>23-32499634-32500463</td>\n",
       "      <td>23-32198630-32199562</td>\n",
       "      <td>-0.665333</td>\n",
       "    </tr>\n",
       "    <tr>\n",
       "      <th>24115462</th>\n",
       "      <td>23-32198630-32199562</td>\n",
       "      <td>23-32499634-32500463</td>\n",
       "      <td>-0.665333</td>\n",
       "    </tr>\n",
       "    <tr>\n",
       "      <th>11553317</th>\n",
       "      <td>16-33655530-33656446</td>\n",
       "      <td>16-33484518-33485430</td>\n",
       "      <td>-0.658803</td>\n",
       "    </tr>\n",
       "    <tr>\n",
       "      <th>...</th>\n",
       "      <td>...</td>\n",
       "      <td>...</td>\n",
       "      <td>...</td>\n",
       "    </tr>\n",
       "    <tr>\n",
       "      <th>1966764</th>\n",
       "      <td>10-27126669-27127580</td>\n",
       "      <td>10-27203983-27204783</td>\n",
       "      <td>-0.602423</td>\n",
       "    </tr>\n",
       "    <tr>\n",
       "      <th>12115900</th>\n",
       "      <td>16-51407153-51407994</td>\n",
       "      <td>16-51141595-51142506</td>\n",
       "      <td>-0.602304</td>\n",
       "    </tr>\n",
       "    <tr>\n",
       "      <th>12102462</th>\n",
       "      <td>16-51141595-51142506</td>\n",
       "      <td>16-51407153-51407994</td>\n",
       "      <td>-0.602304</td>\n",
       "    </tr>\n",
       "    <tr>\n",
       "      <th>25080843</th>\n",
       "      <td>24-17160375-17161077</td>\n",
       "      <td>24-17194853-17195761</td>\n",
       "      <td>-0.600365</td>\n",
       "    </tr>\n",
       "    <tr>\n",
       "      <th>25083468</th>\n",
       "      <td>24-17194853-17195761</td>\n",
       "      <td>24-17160375-17161077</td>\n",
       "      <td>-0.600365</td>\n",
       "    </tr>\n",
       "  </tbody>\n",
       "</table>\n",
       "<p>62 rows × 3 columns</p>\n",
       "</div>"
      ],
      "text/plain": [
       "                         Peak1                 Peak2  coaccess\n",
       "25081532  24-17168001-17168928  24-17160375-17161077 -0.673312\n",
       "25080832  24-17160375-17161077  24-17168001-17168928 -0.673312\n",
       "24130795  23-32499634-32500463  23-32198630-32199562 -0.665333\n",
       "24115462  23-32198630-32199562  23-32499634-32500463 -0.665333\n",
       "11553317  16-33655530-33656446  16-33484518-33485430 -0.658803\n",
       "...                        ...                   ...       ...\n",
       "1966764   10-27126669-27127580  10-27203983-27204783 -0.602423\n",
       "12115900  16-51407153-51407994  16-51141595-51142506 -0.602304\n",
       "12102462  16-51141595-51142506  16-51407153-51407994 -0.602304\n",
       "25080843  24-17160375-17161077  24-17194853-17195761 -0.600365\n",
       "25083468  24-17194853-17195761  24-17160375-17161077 -0.600365\n",
       "\n",
       "[62 rows x 3 columns]"
      ]
     },
     "execution_count": 17,
     "metadata": {},
     "output_type": "execute_result"
    }
   ],
   "source": [
    "cicero_connections[cicero_connections[\"coaccess\"]<-0.6].sort_values(\"coaccess\")"
   ]
  },
  {
   "cell_type": "code",
   "execution_count": null,
   "metadata": {},
   "outputs": [],
   "source": [
    "cicero_connections.head()"
   ]
  },
  {
   "cell_type": "code",
   "execution_count": 26,
   "metadata": {},
   "outputs": [
    {
     "data": {
      "text/html": [
       "<div>\n",
       "<style scoped>\n",
       "    .dataframe tbody tr th:only-of-type {\n",
       "        vertical-align: middle;\n",
       "    }\n",
       "\n",
       "    .dataframe tbody tr th {\n",
       "        vertical-align: top;\n",
       "    }\n",
       "\n",
       "    .dataframe thead th {\n",
       "        text-align: right;\n",
       "    }\n",
       "</style>\n",
       "<table border=\"1\" class=\"dataframe\">\n",
       "  <thead>\n",
       "    <tr style=\"text-align: right;\">\n",
       "      <th></th>\n",
       "      <th>Peak1</th>\n",
       "      <th>Peak2</th>\n",
       "      <th>coaccess</th>\n",
       "    </tr>\n",
       "  </thead>\n",
       "  <tbody>\n",
       "    <tr>\n",
       "      <th>1</th>\n",
       "      <td>chr1_10000089_10000951</td>\n",
       "      <td>chr1_9799170_9799935</td>\n",
       "      <td>-0.073049</td>\n",
       "    </tr>\n",
       "    <tr>\n",
       "      <th>2</th>\n",
       "      <td>chr1_10000089_10000951</td>\n",
       "      <td>chr1_9820778_9821643</td>\n",
       "      <td>-0.069486</td>\n",
       "    </tr>\n",
       "    <tr>\n",
       "      <th>3</th>\n",
       "      <td>chr1_10000089_10000951</td>\n",
       "      <td>chr1_9846358_9847274</td>\n",
       "      <td>-0.040536</td>\n",
       "    </tr>\n",
       "    <tr>\n",
       "      <th>4</th>\n",
       "      <td>chr1_10000089_10000951</td>\n",
       "      <td>chr1_9858069_9858966</td>\n",
       "      <td>-0.028729</td>\n",
       "    </tr>\n",
       "    <tr>\n",
       "      <th>5</th>\n",
       "      <td>chr1_10000089_10000951</td>\n",
       "      <td>chr1_9859992_9860913</td>\n",
       "      <td>-0.025691</td>\n",
       "    </tr>\n",
       "  </tbody>\n",
       "</table>\n",
       "</div>"
      ],
      "text/plain": [
       "                    Peak1                 Peak2  coaccess\n",
       "1  chr1_10000089_10000951  chr1_9799170_9799935 -0.073049\n",
       "2  chr1_10000089_10000951  chr1_9820778_9821643 -0.069486\n",
       "3  chr1_10000089_10000951  chr1_9846358_9847274 -0.040536\n",
       "4  chr1_10000089_10000951  chr1_9858069_9858966 -0.028729\n",
       "5  chr1_10000089_10000951  chr1_9859992_9860913 -0.025691"
      ]
     },
     "execution_count": 26,
     "metadata": {},
     "output_type": "execute_result"
    }
   ],
   "source": [
    "# add \"chr\" in front of each peak element for formatting (CellOracle genome reference)\n",
    "cicero_connections[\"Peak1\"] = \"chr\" + cicero_connections[\"Peak1\"]\n",
    "cicero_connections[\"Peak2\"] = \"chr\" + cicero_connections[\"Peak2\"]\n",
    "\n",
    "# replace the \"-\" with \"_\"\n",
    "cicero_connections[\"Peak1\"] = [s.replace(\"-\",\"_\") for s in cicero_connections[\"Peak1\"]]\n",
    "cicero_connections[\"Peak2\"] = [s.replace(\"-\",\"_\") for s in cicero_connections[\"Peak2\"]]\n",
    "\n",
    "cicero_connections.head()"
   ]
  },
  {
   "cell_type": "code",
   "execution_count": 17,
   "metadata": {},
   "outputs": [
    {
     "data": {
      "text/html": [
       "<div>\n",
       "<style scoped>\n",
       "    .dataframe tbody tr th:only-of-type {\n",
       "        vertical-align: middle;\n",
       "    }\n",
       "\n",
       "    .dataframe tbody tr th {\n",
       "        vertical-align: top;\n",
       "    }\n",
       "\n",
       "    .dataframe thead th {\n",
       "        text-align: right;\n",
       "    }\n",
       "</style>\n",
       "<table border=\"1\" class=\"dataframe\">\n",
       "  <thead>\n",
       "    <tr style=\"text-align: right;\">\n",
       "      <th></th>\n",
       "      <th>Peak1</th>\n",
       "      <th>Peak2</th>\n",
       "      <th>coaccess</th>\n",
       "    </tr>\n",
       "  </thead>\n",
       "  <tbody>\n",
       "    <tr>\n",
       "      <th>40024380</th>\n",
       "      <td>chr9_9997566_9998393</td>\n",
       "      <td>chr9_10218935_10219764</td>\n",
       "      <td>0.000132</td>\n",
       "    </tr>\n",
       "    <tr>\n",
       "      <th>40024381</th>\n",
       "      <td>chr9_9997566_9998393</td>\n",
       "      <td>chr9_10220226_10221127</td>\n",
       "      <td>0.001715</td>\n",
       "    </tr>\n",
       "    <tr>\n",
       "      <th>40024382</th>\n",
       "      <td>chr9_9997566_9998393</td>\n",
       "      <td>chr9_10223977_10224768</td>\n",
       "      <td>0.000078</td>\n",
       "    </tr>\n",
       "    <tr>\n",
       "      <th>40024383</th>\n",
       "      <td>chr9_9997566_9998393</td>\n",
       "      <td>chr9_10234336_10235271</td>\n",
       "      <td>0.007772</td>\n",
       "    </tr>\n",
       "    <tr>\n",
       "      <th>40024384</th>\n",
       "      <td>chr9_9997566_9998393</td>\n",
       "      <td>chr9_10235921_10236844</td>\n",
       "      <td>0.000000</td>\n",
       "    </tr>\n",
       "  </tbody>\n",
       "</table>\n",
       "</div>"
      ],
      "text/plain": [
       "                         Peak1                   Peak2  coaccess\n",
       "40024380  chr9_9997566_9998393  chr9_10218935_10219764  0.000132\n",
       "40024381  chr9_9997566_9998393  chr9_10220226_10221127  0.001715\n",
       "40024382  chr9_9997566_9998393  chr9_10223977_10224768  0.000078\n",
       "40024383  chr9_9997566_9998393  chr9_10234336_10235271  0.007772\n",
       "40024384  chr9_9997566_9998393  chr9_10235921_10236844  0.000000"
      ]
     },
     "execution_count": 17,
     "metadata": {},
     "output_type": "execute_result"
    }
   ],
   "source": [
    "cicero_connections.tail()"
   ]
  },
  {
   "cell_type": "code",
   "execution_count": 24,
   "metadata": {},
   "outputs": [
    {
     "data": {
      "text/html": [
       "<div>\n",
       "<style scoped>\n",
       "    .dataframe tbody tr th:only-of-type {\n",
       "        vertical-align: middle;\n",
       "    }\n",
       "\n",
       "    .dataframe tbody tr th {\n",
       "        vertical-align: top;\n",
       "    }\n",
       "\n",
       "    .dataframe thead th {\n",
       "        text-align: right;\n",
       "    }\n",
       "</style>\n",
       "<table border=\"1\" class=\"dataframe\">\n",
       "  <thead>\n",
       "    <tr style=\"text-align: right;\">\n",
       "      <th></th>\n",
       "      <th>Peak1</th>\n",
       "      <th>Peak2</th>\n",
       "      <th>coaccess</th>\n",
       "    </tr>\n",
       "  </thead>\n",
       "  <tbody>\n",
       "  </tbody>\n",
       "</table>\n",
       "</div>"
      ],
      "text/plain": [
       "Empty DataFrame\n",
       "Columns: [Peak1, Peak2, coaccess]\n",
       "Index: []"
      ]
     },
     "execution_count": 24,
     "metadata": {},
     "output_type": "execute_result"
    }
   ],
   "source": [
    "# Just to check if there are peaks from specific chromosomes\n",
    "cicero_connections[cicero_connections.Peak1.str.startswith(\"MT\")]"
   ]
  },
  {
   "cell_type": "code",
   "execution_count": 23,
   "metadata": {},
   "outputs": [
    {
     "data": {
      "text/plain": [
       "array([ 1,  2,  3,  4,  5,  6,  7,  8,  9, 10, 11, 12, 13, 14, 15, 16, 17,\n",
       "       18, 19, 20, 21, 22, 23, 24, 25, 26])"
      ]
     },
     "execution_count": 23,
     "metadata": {},
     "output_type": "execute_result"
    }
   ],
   "source": [
    "np.arange(1,26)"
   ]
  },
  {
   "cell_type": "code",
   "execution_count": 27,
   "metadata": {},
   "outputs": [
    {
     "data": {
      "text/plain": [
       "[17313404,\n",
       " 9804346,\n",
       " 1642932,\n",
       " 1448972,\n",
       " 2082936,\n",
       " 1767088,\n",
       " 2360162,\n",
       " 1521416,\n",
       " 1835122,\n",
       " 1367330,\n",
       " 1565672,\n",
       " 1380020,\n",
       " 1923188,\n",
       " 1468194,\n",
       " 1491042,\n",
       " 1711088,\n",
       " 1598742,\n",
       " 1628318,\n",
       " 1685318,\n",
       " 1611028,\n",
       " 1344260,\n",
       " 1116190,\n",
       " 1756094,\n",
       " 1342086,\n",
       " 1072050]"
      ]
     },
     "execution_count": 27,
     "metadata": {},
     "output_type": "execute_result"
    }
   ],
   "source": [
    "# make an empty list \n",
    "n_peaks_chrom = []\n",
    "\n",
    "# for each chromosome, compute the number of CCANs\n",
    "for chromosome in np.arange(1,26):\n",
    "    chrom_num = chromosome\n",
    "    chrom_id = \"chr\"+str(chrom_num)\n",
    "    n_peaks = len(cicero_connections[cicero_connections.Peak1.str.startswith(chrom_id)])\n",
    "    n_peaks_chrom.append(n_peaks)\n",
    "\n",
    "n_peaks_chrom\n"
   ]
  },
  {
   "cell_type": "code",
   "execution_count": 28,
   "metadata": {},
   "outputs": [
    {
     "name": "stdout",
     "output_type": "stream",
     "text": [
      "   chr    Length\n",
      "0    1  59578282\n",
      "1    2  59640629\n",
      "2    3  62628489\n",
      "3    4  78093715\n",
      "4    5  72500376\n",
      "5    6  60270059\n",
      "6    7  74282399\n",
      "7    8  54304671\n",
      "8    9  56459846\n",
      "9   10  45420867\n",
      "10  11  45484837\n",
      "11  12  49182954\n",
      "12  13  52186027\n",
      "13  14  52660232\n",
      "14  15  48040578\n",
      "15  16  55266484\n",
      "16  17  53461100\n",
      "17  18  51023478\n",
      "18  19  48449771\n",
      "19  20  55201332\n",
      "20  21  45934066\n",
      "21  22  39133080\n",
      "22  23  46223584\n",
      "23  24  42172926\n",
      "24  25  37502051\n",
      "25  26     16596\n"
     ]
    }
   ],
   "source": [
    "# chromosome length (extracted from zebrafish Signac object)\n",
    "data = [\n",
    "    1, 59578282, 2, 59640629, 3, 62628489, 4, 78093715, 5, 72500376, \n",
    "    6, 60270059, 7, 74282399, 8, 54304671, 9, 56459846, 10, 45420867, \n",
    "    11, 45484837, 12, 49182954, 13, 52186027, 14, 52660232, 15, 48040578, \n",
    "    16, 55266484, 17, 53461100, 18, 51023478, 19, 48449771, 20, 55201332, \n",
    "    21, 45934066, 22, 39133080, 23, 46223584, 24, 42172926, 25, 37502051, \n",
    "    \"MT\", 16596\n",
    "]\n",
    "\n",
    "# Extract even-positioned numbers\n",
    "even_numbers = data[1::2]\n",
    "\n",
    "# Create a list of indices ranging from 1 to \"MT\"\n",
    "indices = [str(i) for i in range(1, len(even_numbers) + 1)]\n",
    "\n",
    "# Create a DataFrame\n",
    "df_chrom_length = pd.DataFrame({'chr': indices, 'Length': even_numbers})\n",
    "\n",
    "print(df_chrom_length)"
   ]
  },
  {
   "cell_type": "code",
   "execution_count": 29,
   "metadata": {},
   "outputs": [
    {
     "data": {
      "text/plain": [
       "<zip at 0x14fb1294dec0>"
      ]
     },
     "execution_count": 29,
     "metadata": {},
     "output_type": "execute_result"
    }
   ],
   "source": [
    "zip(n_peaks_chrom, df_chrom_length[\"Length\"][0:25])"
   ]
  },
  {
   "cell_type": "code",
   "execution_count": 42,
   "metadata": {},
   "outputs": [
    {
     "data": {
      "text/plain": [
       "[1.0,\n",
       " 0.5656944615066845,\n",
       " 0.09027202136980127,\n",
       " 0.06384831237914135,\n",
       " 0.09886468335025575,\n",
       " 0.10089324110899245,\n",
       " 0.10933555280464054,\n",
       " 0.09640871733329263,\n",
       " 0.11184865474655943,\n",
       " 0.10359133627326471,\n",
       " 0.11845125178719727,\n",
       " 0.09655533688820896,\n",
       " 0.12681569857758165,\n",
       " 0.09594143045469605,\n",
       " 0.10680391328513136,\n",
       " 0.10654081680805039,\n",
       " 0.10290725799869976,\n",
       " 0.10981829012642452,\n",
       " 0.11970041142727156,\n",
       " 0.10042897815023323,\n",
       " 0.10070566424142732,\n",
       " 0.09815210298564711,\n",
       " 0.13073433304049392,\n",
       " 0.10950958287463418,\n",
       " 0.09837064830906518]"
      ]
     },
     "execution_count": 42,
     "metadata": {},
     "output_type": "execute_result"
    }
   ],
   "source": [
    "# normalize by the chromosome length\n",
    "n_peaks_chrom_normalized_by_length = [x/y for x,y in zip(n_peaks_chrom, df_chrom_length[\"Length\"][0:25])]\n",
    "n_peaks_chrom_normalized_by_length\n",
    "\n",
    "n_peaks_chrom_normalized_by_length = [x/n_peaks_chrom_normalized_by_length[0] for x in n_peaks_chrom_normalized_by_length]\n",
    "n_peaks_chrom_normalized_by_length"
   ]
  },
  {
   "cell_type": "code",
   "execution_count": 32,
   "metadata": {},
   "outputs": [
    {
     "data": {
      "image/png": "[encoded data removed]",
      "text/plain": [
       "<Figure size 640x440 with 1 Axes>"
      ]
     },
     "metadata": {},
     "output_type": "display_data"
    }
   ],
   "source": [
    "sns.barplot(x=list(np.arange(1,26)), y=n_peaks_chrom_normalized_by_length, palette = \"viridis\")\n",
    "plt.xlabel(\"chromosomes\")\n",
    "plt.ylabel(\"number of peaks \\n (normalized by chromosome length)\")\n",
    "plt.savefig(figpath+\"/n_CCANs_per_chromosome_norm_scaled.pdf\")"
   ]
  },
  {
   "cell_type": "code",
   "execution_count": 33,
   "metadata": {},
   "outputs": [
    {
     "data": {
      "image/png": "[encoded data removed]",
      "text/plain": [
       "<Figure size 640x440 with 1 Axes>"
      ]
     },
     "metadata": {},
     "output_type": "display_data"
    }
   ],
   "source": [
    "sns.barplot(x=list(np.arange(1,26)), y=n_peaks_chrom, palette = \"viridis\")\n",
    "plt.xlabel(\"chromosomes\")\n",
    "plt.ylabel(\"number of peaks\")\n",
    "plt.savefig(figpath+\"/n_CCANs_per_chromosome.pdf\")"
   ]
  },
  {
   "cell_type": "code",
   "execution_count": 34,
   "metadata": {},
   "outputs": [
    {
     "data": {
      "image/png": "[encoded data removed]",
      "text/plain": [
       "<Figure size 640x440 with 1 Axes>"
      ]
     },
     "metadata": {},
     "output_type": "display_data"
    }
   ],
   "source": [
    "sns.barplot(x=list(np.arange(1,26)), y=n_peaks_chrom_normalized_by_length)\n",
    "plt.xlabel(\"chromosomes\")\n",
    "plt.ylabel(\"number of peaks\")\n",
    "plt.savefig(figpath+\"/n_CCANs_per_chromosome_norm_scaled_R_palette.pdf\")"
   ]
  },
  {
   "cell_type": "code",
   "execution_count": 35,
   "metadata": {},
   "outputs": [
    {
     "data": {
      "image/png": "[encoded data removed]",
      "text/plain": [
       "<Figure size 640x440 with 1 Axes>"
      ]
     },
     "metadata": {},
     "output_type": "display_data"
    }
   ],
   "source": [
    "sns.barplot(x=list(np.arange(1,26)), y=n_peaks_chrom)\n",
    "plt.xlabel(\"chromosomes\")\n",
    "plt.ylabel(\"number of peaks\")\n",
    "plt.savefig(figpath+\"/n_CCANs_per_chromosome.pdf\")\n"
   ]
  },
  {
   "cell_type": "markdown",
   "metadata": {},
   "source": [
    "# 2. Annotate transcription start sites (TSSs)¶\n",
    "## IMPORTANT: Please make sure that you are setting correct reference genoms.\n",
    " If your scATAC-seq data was generated with danRer11 reference genome, please set `ref_genome=\"danRer11\"`.\n",
    " \n",
    "You can check supported reference genome using `ma.SUPPORTED_REF_GENOME`\n",
    "\n",
    " If your reference genome is not in the list, please send a request to us through CellOracle GitHub issue page."
   ]
  },
  {
   "cell_type": "code",
   "execution_count": 6,
   "metadata": {},
   "outputs": [
    {
     "data": {
      "text/html": [
       "<div>\n",
       "<style scoped>\n",
       "    .dataframe tbody tr th:only-of-type {\n",
       "        vertical-align: middle;\n",
       "    }\n",
       "\n",
       "    .dataframe tbody tr th {\n",
       "        vertical-align: top;\n",
       "    }\n",
       "\n",
       "    .dataframe thead th {\n",
       "        text-align: right;\n",
       "    }\n",
       "</style>\n",
       "<table border=\"1\" class=\"dataframe\">\n",
       "  <thead>\n",
       "    <tr style=\"text-align: right;\">\n",
       "      <th></th>\n",
       "      <th>species</th>\n",
       "      <th>ref_genome</th>\n",
       "      <th>provider</th>\n",
       "    </tr>\n",
       "  </thead>\n",
       "  <tbody>\n",
       "    <tr>\n",
       "      <th>0</th>\n",
       "      <td>Human</td>\n",
       "      <td>hg38</td>\n",
       "      <td>UCSC</td>\n",
       "    </tr>\n",
       "    <tr>\n",
       "      <th>1</th>\n",
       "      <td>Human</td>\n",
       "      <td>hg19</td>\n",
       "      <td>UCSC</td>\n",
       "    </tr>\n",
       "    <tr>\n",
       "      <th>2</th>\n",
       "      <td>Mouse</td>\n",
       "      <td>mm39</td>\n",
       "      <td>UCSC</td>\n",
       "    </tr>\n",
       "    <tr>\n",
       "      <th>3</th>\n",
       "      <td>Mouse</td>\n",
       "      <td>mm10</td>\n",
       "      <td>UCSC</td>\n",
       "    </tr>\n",
       "    <tr>\n",
       "      <th>4</th>\n",
       "      <td>Mouse</td>\n",
       "      <td>mm9</td>\n",
       "      <td>UCSC</td>\n",
       "    </tr>\n",
       "    <tr>\n",
       "      <th>5</th>\n",
       "      <td>S.cerevisiae</td>\n",
       "      <td>sacCer2</td>\n",
       "      <td>UCSC</td>\n",
       "    </tr>\n",
       "    <tr>\n",
       "      <th>6</th>\n",
       "      <td>S.cerevisiae</td>\n",
       "      <td>sacCer3</td>\n",
       "      <td>UCSC</td>\n",
       "    </tr>\n",
       "    <tr>\n",
       "      <th>7</th>\n",
       "      <td>Zebrafish</td>\n",
       "      <td>danRer7</td>\n",
       "      <td>UCSC</td>\n",
       "    </tr>\n",
       "    <tr>\n",
       "      <th>8</th>\n",
       "      <td>Zebrafish</td>\n",
       "      <td>danRer10</td>\n",
       "      <td>UCSC</td>\n",
       "    </tr>\n",
       "    <tr>\n",
       "      <th>9</th>\n",
       "      <td>Zebrafish</td>\n",
       "      <td>danRer11</td>\n",
       "      <td>UCSC</td>\n",
       "    </tr>\n",
       "    <tr>\n",
       "      <th>10</th>\n",
       "      <td>Xenopus tropicalis</td>\n",
       "      <td>xenTro2</td>\n",
       "      <td>UCSC</td>\n",
       "    </tr>\n",
       "    <tr>\n",
       "      <th>11</th>\n",
       "      <td>Xenopus tropicalis</td>\n",
       "      <td>xenTro3</td>\n",
       "      <td>UCSC</td>\n",
       "    </tr>\n",
       "    <tr>\n",
       "      <th>12</th>\n",
       "      <td>Xenopus laevis</td>\n",
       "      <td>Xenopus_laevis_v10.1</td>\n",
       "      <td>NCBI</td>\n",
       "    </tr>\n",
       "    <tr>\n",
       "      <th>13</th>\n",
       "      <td>Rat</td>\n",
       "      <td>rn4</td>\n",
       "      <td>UCSC</td>\n",
       "    </tr>\n",
       "    <tr>\n",
       "      <th>14</th>\n",
       "      <td>Rat</td>\n",
       "      <td>rn5</td>\n",
       "      <td>UCSC</td>\n",
       "    </tr>\n",
       "    <tr>\n",
       "      <th>15</th>\n",
       "      <td>Rat</td>\n",
       "      <td>rn6</td>\n",
       "      <td>UCSC</td>\n",
       "    </tr>\n",
       "    <tr>\n",
       "      <th>16</th>\n",
       "      <td>Drosophila</td>\n",
       "      <td>dm3</td>\n",
       "      <td>UCSC</td>\n",
       "    </tr>\n",
       "    <tr>\n",
       "      <th>17</th>\n",
       "      <td>Drosophila</td>\n",
       "      <td>dm6</td>\n",
       "      <td>UCSC</td>\n",
       "    </tr>\n",
       "    <tr>\n",
       "      <th>18</th>\n",
       "      <td>C.elegans</td>\n",
       "      <td>ce6</td>\n",
       "      <td>UCSC</td>\n",
       "    </tr>\n",
       "    <tr>\n",
       "      <th>19</th>\n",
       "      <td>C.elegans</td>\n",
       "      <td>ce10</td>\n",
       "      <td>UCSC</td>\n",
       "    </tr>\n",
       "    <tr>\n",
       "      <th>20</th>\n",
       "      <td>Arabidopsis</td>\n",
       "      <td>TAIR10</td>\n",
       "      <td>Ensembl</td>\n",
       "    </tr>\n",
       "    <tr>\n",
       "      <th>21</th>\n",
       "      <td>Chicken</td>\n",
       "      <td>galGal4</td>\n",
       "      <td>UCSC</td>\n",
       "    </tr>\n",
       "    <tr>\n",
       "      <th>22</th>\n",
       "      <td>Chicken</td>\n",
       "      <td>galGal5</td>\n",
       "      <td>UCSC</td>\n",
       "    </tr>\n",
       "    <tr>\n",
       "      <th>23</th>\n",
       "      <td>Chicken</td>\n",
       "      <td>galGal6</td>\n",
       "      <td>UCSC</td>\n",
       "    </tr>\n",
       "    <tr>\n",
       "      <th>24</th>\n",
       "      <td>Guinea_Pig</td>\n",
       "      <td>Cavpor3.0</td>\n",
       "      <td>Ensembl</td>\n",
       "    </tr>\n",
       "    <tr>\n",
       "      <th>25</th>\n",
       "      <td>Pig</td>\n",
       "      <td>Sscrofa11.1</td>\n",
       "      <td>Ensembl</td>\n",
       "    </tr>\n",
       "    <tr>\n",
       "      <th>26</th>\n",
       "      <td>Axolotl</td>\n",
       "      <td>AmexG_v6.0-DD</td>\n",
       "      <td>Axolotl-omics.org</td>\n",
       "    </tr>\n",
       "  </tbody>\n",
       "</table>\n",
       "</div>"
      ],
      "text/plain": [
       "               species            ref_genome           provider\n",
       "0                Human                  hg38               UCSC\n",
       "1                Human                  hg19               UCSC\n",
       "2                Mouse                  mm39               UCSC\n",
       "3                Mouse                  mm10               UCSC\n",
       "4                Mouse                   mm9               UCSC\n",
       "5         S.cerevisiae               sacCer2               UCSC\n",
       "6         S.cerevisiae               sacCer3               UCSC\n",
       "7            Zebrafish               danRer7               UCSC\n",
       "8            Zebrafish              danRer10               UCSC\n",
       "9            Zebrafish              danRer11               UCSC\n",
       "10  Xenopus tropicalis               xenTro2               UCSC\n",
       "11  Xenopus tropicalis               xenTro3               UCSC\n",
       "12      Xenopus laevis  Xenopus_laevis_v10.1               NCBI\n",
       "13                 Rat                   rn4               UCSC\n",
       "14                 Rat                   rn5               UCSC\n",
       "15                 Rat                   rn6               UCSC\n",
       "16          Drosophila                   dm3               UCSC\n",
       "17          Drosophila                   dm6               UCSC\n",
       "18           C.elegans                   ce6               UCSC\n",
       "19           C.elegans                  ce10               UCSC\n",
       "20         Arabidopsis                TAIR10            Ensembl\n",
       "21             Chicken               galGal4               UCSC\n",
       "22             Chicken               galGal5               UCSC\n",
       "23             Chicken               galGal6               UCSC\n",
       "24          Guinea_Pig             Cavpor3.0            Ensembl\n",
       "25                 Pig           Sscrofa11.1            Ensembl\n",
       "26             Axolotl         AmexG_v6.0-DD  Axolotl-omics.org"
      ]
     },
     "execution_count": 6,
     "metadata": {},
     "output_type": "execute_result"
    }
   ],
   "source": [
    "ma.SUPPORTED_REF_GENOME"
   ]
  },
  {
   "cell_type": "code",
   "execution_count": 7,
   "metadata": {},
   "outputs": [],
   "source": [
    "# # bedtools has to be re-installed\n",
    "# conda install -c bioconda bedtools"
   ]
  },
  {
   "cell_type": "markdown",
   "metadata": {},
   "source": [
    "## Check - TSS annotation from the reference genome\n",
    "\n",
    "- Note that we can also generate our own custom TSS annotation (check the Lawson lab's latest anotation)"
   ]
  },
  {
   "cell_type": "code",
   "execution_count": 7,
   "metadata": {},
   "outputs": [],
   "source": [
    "def _load_tss_ref_data(ref_genome):\n",
    "\n",
    "    \"\"\"\n",
    "    Args:\n",
    "        ref_genome (str): Reference genome name.\n",
    "            Please contact us through github issue page if you have a request for another referene genome.\n",
    "    \"\"\"\n",
    "    path = os.path.join(parent_path[0], \"tss_ref_data\", f\"{ref_genome}_tss_info.bed\")\n",
    "    return BedTool(fn=path)"
   ]
  },
  {
   "cell_type": "code",
   "execution_count": 8,
   "metadata": {},
   "outputs": [],
   "source": [
    "from celloracle.motif_analysis import __path__ as parent_path\n",
    "from pybedtools import BedTool"
   ]
  },
  {
   "cell_type": "code",
   "execution_count": 9,
   "metadata": {},
   "outputs": [
    {
     "data": {
      "text/html": [
       "<div>\n",
       "<style scoped>\n",
       "    .dataframe tbody tr th:only-of-type {\n",
       "        vertical-align: middle;\n",
       "    }\n",
       "\n",
       "    .dataframe tbody tr th {\n",
       "        vertical-align: top;\n",
       "    }\n",
       "\n",
       "    .dataframe thead th {\n",
       "        text-align: right;\n",
       "    }\n",
       "</style>\n",
       "<table border=\"1\" class=\"dataframe\">\n",
       "  <thead>\n",
       "    <tr style=\"text-align: right;\">\n",
       "      <th></th>\n",
       "      <th>species</th>\n",
       "      <th>ref_genome</th>\n",
       "      <th>provider</th>\n",
       "    </tr>\n",
       "  </thead>\n",
       "  <tbody>\n",
       "    <tr>\n",
       "      <th>0</th>\n",
       "      <td>Human</td>\n",
       "      <td>hg38</td>\n",
       "      <td>UCSC</td>\n",
       "    </tr>\n",
       "    <tr>\n",
       "      <th>1</th>\n",
       "      <td>Human</td>\n",
       "      <td>hg19</td>\n",
       "      <td>UCSC</td>\n",
       "    </tr>\n",
       "    <tr>\n",
       "      <th>2</th>\n",
       "      <td>Mouse</td>\n",
       "      <td>mm39</td>\n",
       "      <td>UCSC</td>\n",
       "    </tr>\n",
       "    <tr>\n",
       "      <th>3</th>\n",
       "      <td>Mouse</td>\n",
       "      <td>mm10</td>\n",
       "      <td>UCSC</td>\n",
       "    </tr>\n",
       "    <tr>\n",
       "      <th>4</th>\n",
       "      <td>Mouse</td>\n",
       "      <td>mm9</td>\n",
       "      <td>UCSC</td>\n",
       "    </tr>\n",
       "    <tr>\n",
       "      <th>5</th>\n",
       "      <td>S.cerevisiae</td>\n",
       "      <td>sacCer2</td>\n",
       "      <td>UCSC</td>\n",
       "    </tr>\n",
       "    <tr>\n",
       "      <th>6</th>\n",
       "      <td>S.cerevisiae</td>\n",
       "      <td>sacCer3</td>\n",
       "      <td>UCSC</td>\n",
       "    </tr>\n",
       "    <tr>\n",
       "      <th>7</th>\n",
       "      <td>Zebrafish</td>\n",
       "      <td>danRer7</td>\n",
       "      <td>UCSC</td>\n",
       "    </tr>\n",
       "    <tr>\n",
       "      <th>8</th>\n",
       "      <td>Zebrafish</td>\n",
       "      <td>danRer10</td>\n",
       "      <td>UCSC</td>\n",
       "    </tr>\n",
       "    <tr>\n",
       "      <th>9</th>\n",
       "      <td>Zebrafish</td>\n",
       "      <td>danRer11</td>\n",
       "      <td>UCSC</td>\n",
       "    </tr>\n",
       "    <tr>\n",
       "      <th>10</th>\n",
       "      <td>Xenopus tropicalis</td>\n",
       "      <td>xenTro2</td>\n",
       "      <td>UCSC</td>\n",
       "    </tr>\n",
       "    <tr>\n",
       "      <th>11</th>\n",
       "      <td>Xenopus tropicalis</td>\n",
       "      <td>xenTro3</td>\n",
       "      <td>UCSC</td>\n",
       "    </tr>\n",
       "    <tr>\n",
       "      <th>12</th>\n",
       "      <td>Xenopus laevis</td>\n",
       "      <td>Xenopus_laevis_v10.1</td>\n",
       "      <td>NCBI</td>\n",
       "    </tr>\n",
       "    <tr>\n",
       "      <th>13</th>\n",
       "      <td>Rat</td>\n",
       "      <td>rn4</td>\n",
       "      <td>UCSC</td>\n",
       "    </tr>\n",
       "    <tr>\n",
       "      <th>14</th>\n",
       "      <td>Rat</td>\n",
       "      <td>rn5</td>\n",
       "      <td>UCSC</td>\n",
       "    </tr>\n",
       "    <tr>\n",
       "      <th>15</th>\n",
       "      <td>Rat</td>\n",
       "      <td>rn6</td>\n",
       "      <td>UCSC</td>\n",
       "    </tr>\n",
       "    <tr>\n",
       "      <th>16</th>\n",
       "      <td>Drosophila</td>\n",
       "      <td>dm3</td>\n",
       "      <td>UCSC</td>\n",
       "    </tr>\n",
       "    <tr>\n",
       "      <th>17</th>\n",
       "      <td>Drosophila</td>\n",
       "      <td>dm6</td>\n",
       "      <td>UCSC</td>\n",
       "    </tr>\n",
       "    <tr>\n",
       "      <th>18</th>\n",
       "      <td>C.elegans</td>\n",
       "      <td>ce6</td>\n",
       "      <td>UCSC</td>\n",
       "    </tr>\n",
       "    <tr>\n",
       "      <th>19</th>\n",
       "      <td>C.elegans</td>\n",
       "      <td>ce10</td>\n",
       "      <td>UCSC</td>\n",
       "    </tr>\n",
       "    <tr>\n",
       "      <th>20</th>\n",
       "      <td>Arabidopsis</td>\n",
       "      <td>TAIR10</td>\n",
       "      <td>Ensembl</td>\n",
       "    </tr>\n",
       "    <tr>\n",
       "      <th>21</th>\n",
       "      <td>Chicken</td>\n",
       "      <td>galGal4</td>\n",
       "      <td>UCSC</td>\n",
       "    </tr>\n",
       "    <tr>\n",
       "      <th>22</th>\n",
       "      <td>Chicken</td>\n",
       "      <td>galGal5</td>\n",
       "      <td>UCSC</td>\n",
       "    </tr>\n",
       "    <tr>\n",
       "      <th>23</th>\n",
       "      <td>Chicken</td>\n",
       "      <td>galGal6</td>\n",
       "      <td>UCSC</td>\n",
       "    </tr>\n",
       "    <tr>\n",
       "      <th>24</th>\n",
       "      <td>Guinea_Pig</td>\n",
       "      <td>Cavpor3.0</td>\n",
       "      <td>Ensembl</td>\n",
       "    </tr>\n",
       "    <tr>\n",
       "      <th>25</th>\n",
       "      <td>Pig</td>\n",
       "      <td>Sscrofa11.1</td>\n",
       "      <td>Ensembl</td>\n",
       "    </tr>\n",
       "    <tr>\n",
       "      <th>26</th>\n",
       "      <td>Axolotl</td>\n",
       "      <td>AmexG_v6.0-DD</td>\n",
       "      <td>Axolotl-omics.org</td>\n",
       "    </tr>\n",
       "  </tbody>\n",
       "</table>\n",
       "</div>"
      ],
      "text/plain": [
       "               species            ref_genome           provider\n",
       "0                Human                  hg38               UCSC\n",
       "1                Human                  hg19               UCSC\n",
       "2                Mouse                  mm39               UCSC\n",
       "3                Mouse                  mm10               UCSC\n",
       "4                Mouse                   mm9               UCSC\n",
       "5         S.cerevisiae               sacCer2               UCSC\n",
       "6         S.cerevisiae               sacCer3               UCSC\n",
       "7            Zebrafish               danRer7               UCSC\n",
       "8            Zebrafish              danRer10               UCSC\n",
       "9            Zebrafish              danRer11               UCSC\n",
       "10  Xenopus tropicalis               xenTro2               UCSC\n",
       "11  Xenopus tropicalis               xenTro3               UCSC\n",
       "12      Xenopus laevis  Xenopus_laevis_v10.1               NCBI\n",
       "13                 Rat                   rn4               UCSC\n",
       "14                 Rat                   rn5               UCSC\n",
       "15                 Rat                   rn6               UCSC\n",
       "16          Drosophila                   dm3               UCSC\n",
       "17          Drosophila                   dm6               UCSC\n",
       "18           C.elegans                   ce6               UCSC\n",
       "19           C.elegans                  ce10               UCSC\n",
       "20         Arabidopsis                TAIR10            Ensembl\n",
       "21             Chicken               galGal4               UCSC\n",
       "22             Chicken               galGal5               UCSC\n",
       "23             Chicken               galGal6               UCSC\n",
       "24          Guinea_Pig             Cavpor3.0            Ensembl\n",
       "25                 Pig           Sscrofa11.1            Ensembl\n",
       "26             Axolotl         AmexG_v6.0-DD  Axolotl-omics.org"
      ]
     },
     "execution_count": 9,
     "metadata": {},
     "output_type": "execute_result"
    }
   ],
   "source": [
    "from celloracle.motif_analysis.reference_genomes import SUPPORTED_REF_GENOME\n",
    "SUPPORTED_REF_GENOME"
   ]
  },
  {
   "cell_type": "code",
   "execution_count": 10,
   "metadata": {},
   "outputs": [
    {
     "data": {
      "text/plain": [
       "<BedTool(/home/yang-joon.kim/.conda/envs/celloracle_env/lib/python3.8/site-packages/celloracle/motif_analysis/tss_ref_data/danRer11_tss_info.bed)>"
      ]
     },
     "execution_count": 10,
     "metadata": {},
     "output_type": "execute_result"
    }
   ],
   "source": [
    "ref_genome = _load_tss_ref_data(ref_genome = \"danRer11\")\n",
    "ref_genome"
   ]
  },
  {
   "cell_type": "code",
   "execution_count": 11,
   "metadata": {},
   "outputs": [
    {
     "data": {
      "text/html": [
       "<div>\n",
       "<style scoped>\n",
       "    .dataframe tbody tr th:only-of-type {\n",
       "        vertical-align: middle;\n",
       "    }\n",
       "\n",
       "    .dataframe tbody tr th {\n",
       "        vertical-align: top;\n",
       "    }\n",
       "\n",
       "    .dataframe thead th {\n",
       "        text-align: right;\n",
       "    }\n",
       "</style>\n",
       "<table border=\"1\" class=\"dataframe\">\n",
       "  <thead>\n",
       "    <tr style=\"text-align: right;\">\n",
       "      <th></th>\n",
       "      <th>chrom</th>\n",
       "      <th>start</th>\n",
       "      <th>end</th>\n",
       "      <th>name</th>\n",
       "      <th>score</th>\n",
       "      <th>strand</th>\n",
       "    </tr>\n",
       "  </thead>\n",
       "  <tbody>\n",
       "    <tr>\n",
       "      <th>0</th>\n",
       "      <td>chr18</td>\n",
       "      <td>48530121</td>\n",
       "      <td>48531221</td>\n",
       "      <td>kcnj1a.2</td>\n",
       "      <td>-450</td>\n",
       "      <td>-</td>\n",
       "    </tr>\n",
       "    <tr>\n",
       "      <th>1</th>\n",
       "      <td>chr10</td>\n",
       "      <td>34033347</td>\n",
       "      <td>34034447</td>\n",
       "      <td>rfc3</td>\n",
       "      <td>-450</td>\n",
       "      <td>-</td>\n",
       "    </tr>\n",
       "    <tr>\n",
       "      <th>2</th>\n",
       "      <td>chr16</td>\n",
       "      <td>22864944</td>\n",
       "      <td>22866044</td>\n",
       "      <td>flad1</td>\n",
       "      <td>-450</td>\n",
       "      <td>+</td>\n",
       "    </tr>\n",
       "    <tr>\n",
       "      <th>3</th>\n",
       "      <td>chr12</td>\n",
       "      <td>46739584</td>\n",
       "      <td>46740684</td>\n",
       "      <td>plaub</td>\n",
       "      <td>-450</td>\n",
       "      <td>+</td>\n",
       "    </tr>\n",
       "    <tr>\n",
       "      <th>4</th>\n",
       "      <td>chr12</td>\n",
       "      <td>41697174</td>\n",
       "      <td>41698274</td>\n",
       "      <td>bnip3</td>\n",
       "      <td>-450</td>\n",
       "      <td>+</td>\n",
       "    </tr>\n",
       "    <tr>\n",
       "      <th>...</th>\n",
       "      <td>...</td>\n",
       "      <td>...</td>\n",
       "      <td>...</td>\n",
       "      <td>...</td>\n",
       "      <td>...</td>\n",
       "      <td>...</td>\n",
       "    </tr>\n",
       "    <tr>\n",
       "      <th>17795</th>\n",
       "      <td>chr5</td>\n",
       "      <td>38096024</td>\n",
       "      <td>38097124</td>\n",
       "      <td>si:ch211-284e13.5</td>\n",
       "      <td>-450</td>\n",
       "      <td>+</td>\n",
       "    </tr>\n",
       "    <tr>\n",
       "      <th>17796</th>\n",
       "      <td>chr5</td>\n",
       "      <td>70344518</td>\n",
       "      <td>70345618</td>\n",
       "      <td>pappaa</td>\n",
       "      <td>-450</td>\n",
       "      <td>+</td>\n",
       "    </tr>\n",
       "    <tr>\n",
       "      <th>17797</th>\n",
       "      <td>chr21_KZ115628v1_alt</td>\n",
       "      <td>57121</td>\n",
       "      <td>57857</td>\n",
       "      <td>nectin1a</td>\n",
       "      <td>469</td>\n",
       "      <td>+</td>\n",
       "    </tr>\n",
       "    <tr>\n",
       "      <th>17798</th>\n",
       "      <td>chr13</td>\n",
       "      <td>31377201</td>\n",
       "      <td>31378301</td>\n",
       "      <td>ubtd1a</td>\n",
       "      <td>-450</td>\n",
       "      <td>-</td>\n",
       "    </tr>\n",
       "    <tr>\n",
       "      <th>17799</th>\n",
       "      <td>chr6</td>\n",
       "      <td>42290015</td>\n",
       "      <td>42291115</td>\n",
       "      <td>tex264a</td>\n",
       "      <td>-450</td>\n",
       "      <td>-</td>\n",
       "    </tr>\n",
       "  </tbody>\n",
       "</table>\n",
       "<p>17800 rows × 6 columns</p>\n",
       "</div>"
      ],
      "text/plain": [
       "                      chrom     start       end               name  score  \\\n",
       "0                     chr18  48530121  48531221           kcnj1a.2   -450   \n",
       "1                     chr10  34033347  34034447               rfc3   -450   \n",
       "2                     chr16  22864944  22866044              flad1   -450   \n",
       "3                     chr12  46739584  46740684              plaub   -450   \n",
       "4                     chr12  41697174  41698274              bnip3   -450   \n",
       "...                     ...       ...       ...                ...    ...   \n",
       "17795                  chr5  38096024  38097124  si:ch211-284e13.5   -450   \n",
       "17796                  chr5  70344518  70345618             pappaa   -450   \n",
       "17797  chr21_KZ115628v1_alt     57121     57857           nectin1a    469   \n",
       "17798                 chr13  31377201  31378301             ubtd1a   -450   \n",
       "17799                  chr6  42290015  42291115            tex264a   -450   \n",
       "\n",
       "      strand  \n",
       "0          -  \n",
       "1          -  \n",
       "2          +  \n",
       "3          +  \n",
       "4          +  \n",
       "...      ...  \n",
       "17795      +  \n",
       "17796      +  \n",
       "17797      +  \n",
       "17798      -  \n",
       "17799      -  \n",
       "\n",
       "[17800 rows x 6 columns]"
      ]
     },
     "execution_count": 11,
     "metadata": {},
     "output_type": "execute_result"
    }
   ],
   "source": [
    "df_zebrafish_ref_genome = ref_genome.to_dataframe()\n",
    "df_zebrafish_ref_genome"
   ]
  },
  {
   "cell_type": "code",
   "execution_count": 13,
   "metadata": {},
   "outputs": [
    {
     "data": {
      "text/plain": [
       "15299"
      ]
     },
     "execution_count": 13,
     "metadata": {},
     "output_type": "execute_result"
    }
   ],
   "source": [
    "len(df_zebrafish_ref_genome.name.unique())"
   ]
  },
  {
   "cell_type": "code",
   "execution_count": 14,
   "metadata": {},
   "outputs": [
    {
     "data": {
      "text/plain": [
       "name\n",
       "LOC573060    31\n",
       "mir2185-3    17\n",
       "mir2185-1    15\n",
       "zgc:77614    14\n",
       "mir2185-2    12\n",
       "             ..\n",
       "il17a/f3      1\n",
       "il17c         1\n",
       "il17ra1a      1\n",
       "il17rd        1\n",
       "zzz3          1\n",
       "Length: 15299, dtype: int64"
      ]
     },
     "execution_count": 14,
     "metadata": {},
     "output_type": "execute_result"
    }
   ],
   "source": [
    "df_zebrafish_ref_genome.value_counts(\"name\")"
   ]
  },
  {
   "cell_type": "code",
   "execution_count": 75,
   "metadata": {},
   "outputs": [
    {
     "data": {
      "text/plain": [
       "False"
      ]
     },
     "execution_count": 75,
     "metadata": {},
     "output_type": "execute_result"
    }
   ],
   "source": [
    "\"meox1\" in ref_genome.to_dataframe().name"
   ]
  },
  {
   "cell_type": "code",
   "execution_count": null,
   "metadata": {},
   "outputs": [],
   "source": []
  },
  {
   "cell_type": "code",
   "execution_count": 36,
   "metadata": {},
   "outputs": [
    {
     "name": "stdout",
     "output_type": "stream",
     "text": [
      "que bed peaks: 248320\n",
      "tss peaks in que: 14372\n"
     ]
    },
    {
     "data": {
      "text/html": [
       "<div>\n",
       "<style scoped>\n",
       "    .dataframe tbody tr th:only-of-type {\n",
       "        vertical-align: middle;\n",
       "    }\n",
       "\n",
       "    .dataframe tbody tr th {\n",
       "        vertical-align: top;\n",
       "    }\n",
       "\n",
       "    .dataframe thead th {\n",
       "        text-align: right;\n",
       "    }\n",
       "</style>\n",
       "<table border=\"1\" class=\"dataframe\">\n",
       "  <thead>\n",
       "    <tr style=\"text-align: right;\">\n",
       "      <th></th>\n",
       "      <th>chr</th>\n",
       "      <th>start</th>\n",
       "      <th>end</th>\n",
       "      <th>gene_short_name</th>\n",
       "      <th>strand</th>\n",
       "    </tr>\n",
       "  </thead>\n",
       "  <tbody>\n",
       "    <tr>\n",
       "      <th>14367</th>\n",
       "      <td>chr5</td>\n",
       "      <td>38096894</td>\n",
       "      <td>38097792</td>\n",
       "      <td>si:ch211-284e13.5</td>\n",
       "      <td>+</td>\n",
       "    </tr>\n",
       "    <tr>\n",
       "      <th>14368</th>\n",
       "      <td>chr5</td>\n",
       "      <td>70345049</td>\n",
       "      <td>70345786</td>\n",
       "      <td>pappaa</td>\n",
       "      <td>+</td>\n",
       "    </tr>\n",
       "    <tr>\n",
       "      <th>14369</th>\n",
       "      <td>chr13</td>\n",
       "      <td>31376751</td>\n",
       "      <td>31377551</td>\n",
       "      <td>ubtd1a</td>\n",
       "      <td>-</td>\n",
       "    </tr>\n",
       "    <tr>\n",
       "      <th>14370</th>\n",
       "      <td>chr13</td>\n",
       "      <td>31378197</td>\n",
       "      <td>31379115</td>\n",
       "      <td>ubtd1a</td>\n",
       "      <td>-</td>\n",
       "    </tr>\n",
       "    <tr>\n",
       "      <th>14371</th>\n",
       "      <td>chr6</td>\n",
       "      <td>42289578</td>\n",
       "      <td>42290470</td>\n",
       "      <td>tex264a</td>\n",
       "      <td>-</td>\n",
       "    </tr>\n",
       "  </tbody>\n",
       "</table>\n",
       "</div>"
      ],
      "text/plain": [
       "         chr     start       end    gene_short_name strand\n",
       "14367   chr5  38096894  38097792  si:ch211-284e13.5      +\n",
       "14368   chr5  70345049  70345786             pappaa      +\n",
       "14369  chr13  31376751  31377551             ubtd1a      -\n",
       "14370  chr13  31378197  31379115             ubtd1a      -\n",
       "14371   chr6  42289578  42290470            tex264a      -"
      ]
     },
     "execution_count": 36,
     "metadata": {},
     "output_type": "execute_result"
    }
   ],
   "source": [
    "##!! Please make sure to specify the correct reference genome here\n",
    "tss_annotated = ma.get_tss_info(peak_str_list=peaks, ref_genome=\"danRer11\") \n",
    "\n",
    "# Check results\n",
    "tss_annotated.tail()"
   ]
  },
  {
   "cell_type": "code",
   "execution_count": 47,
   "metadata": {},
   "outputs": [
    {
     "data": {
      "text/plain": [
       "False"
      ]
     },
     "execution_count": 47,
     "metadata": {},
     "output_type": "execute_result"
    }
   ],
   "source": [
    "\"myog\" in tss_annotated.gene_short_name"
   ]
  },
  {
   "cell_type": "markdown",
   "metadata": {},
   "source": [
    "# 3. Integrate TSS info and cicero connections\n",
    "\n",
    "The output file after the integration process has three columns: `[\"peak_id\", \"gene_short_name\", \"coaccess\"`].\n",
    "\n",
    "- \"peak_id\" is either the TSS peak or the peaks that have a connection to a TSS peak.\n",
    "- \"gene_short_name\" is the gene name that associated with the TSS site. \n",
    "- \"coaccess\" is the coaccessibility score between the peak and a TSS peak. If the score is 1, it means that the peak is a TSS itself.\n",
    "\n",
    "\n",
    "**Question: Check if the CCANs with negative cicero scores are filtered out at this step.**\n",
    "\n",
    "**ANSWER**: It does filter out the CCANs with negative cicero scores, and also assign \"1\" for the same peak-TSS combo (for the TSS-TSS pairs)"
   ]
  },
  {
   "cell_type": "code",
   "execution_count": 38,
   "metadata": {
    "scrolled": true
   },
   "outputs": [
    {
     "name": "stdout",
     "output_type": "stream",
     "text": [
      "(1056808, 3)\n"
     ]
    },
    {
     "data": {
      "text/html": [
       "<div>\n",
       "<style scoped>\n",
       "    .dataframe tbody tr th:only-of-type {\n",
       "        vertical-align: middle;\n",
       "    }\n",
       "\n",
       "    .dataframe tbody tr th {\n",
       "        vertical-align: top;\n",
       "    }\n",
       "\n",
       "    .dataframe thead th {\n",
       "        text-align: right;\n",
       "    }\n",
       "</style>\n",
       "<table border=\"1\" class=\"dataframe\">\n",
       "  <thead>\n",
       "    <tr style=\"text-align: right;\">\n",
       "      <th></th>\n",
       "      <th>peak_id</th>\n",
       "      <th>gene_short_name</th>\n",
       "      <th>coaccess</th>\n",
       "    </tr>\n",
       "  </thead>\n",
       "  <tbody>\n",
       "    <tr>\n",
       "      <th>0</th>\n",
       "      <td>chr10_10001645_10002381</td>\n",
       "      <td>mir219-1</td>\n",
       "      <td>0.035199</td>\n",
       "    </tr>\n",
       "    <tr>\n",
       "      <th>1</th>\n",
       "      <td>chr10_10001645_10002381</td>\n",
       "      <td>urm1</td>\n",
       "      <td>0.010262</td>\n",
       "    </tr>\n",
       "    <tr>\n",
       "      <th>2</th>\n",
       "      <td>chr10_10003590_10004266</td>\n",
       "      <td>urm1</td>\n",
       "      <td>0.012672</td>\n",
       "    </tr>\n",
       "    <tr>\n",
       "      <th>3</th>\n",
       "      <td>chr10_10004570_10005459</td>\n",
       "      <td>mir219-1</td>\n",
       "      <td>0.475773</td>\n",
       "    </tr>\n",
       "    <tr>\n",
       "      <th>4</th>\n",
       "      <td>chr10_10004570_10005459</td>\n",
       "      <td>urm1</td>\n",
       "      <td>0.005687</td>\n",
       "    </tr>\n",
       "  </tbody>\n",
       "</table>\n",
       "</div>"
      ],
      "text/plain": [
       "                   peak_id gene_short_name  coaccess\n",
       "0  chr10_10001645_10002381        mir219-1  0.035199\n",
       "1  chr10_10001645_10002381            urm1  0.010262\n",
       "2  chr10_10003590_10004266            urm1  0.012672\n",
       "3  chr10_10004570_10005459        mir219-1  0.475773\n",
       "4  chr10_10004570_10005459            urm1  0.005687"
      ]
     },
     "execution_count": 38,
     "metadata": {},
     "output_type": "execute_result"
    }
   ],
   "source": [
    "integrated = ma.integrate_tss_peak_with_cicero(tss_peak=tss_annotated, \n",
    "                                               cicero_connections=cicero_connections)\n",
    "print(integrated.shape)\n",
    "integrated.head()"
   ]
  },
  {
   "cell_type": "markdown",
   "metadata": {},
   "source": [
    "# 4. Filter peaks\n",
    "Remove peaks with weak coaccessibility scores.\n",
    "\n",
    "- Note that, from here, co-accessibility score >=0.8, we will just connect those peaks to the TSS/gene_names, and will ignore the co-accessbility scores from now on."
   ]
  },
  {
   "cell_type": "code",
   "execution_count": 40,
   "metadata": {},
   "outputs": [
    {
     "data": {
      "image/png": "[encoded data removed]",
      "text/plain": [
       "<Figure size 640x440 with 1 Axes>"
      ]
     },
     "metadata": {},
     "output_type": "display_data"
    }
   ],
   "source": [
    "# (optional) plot a histogram to see the distribution of the co-accessibility scores\n",
    "%matplotlib inline\n",
    "plt.hist(integrated[\"coaccess\"], bins=30)\n",
    "plt.yscale(\"log\")\n",
    "plt.xlabel(\"co-accessibility score (cicero)\")\n",
    "plt.ylabel(\"occurences\")\n",
    "plt.savefig(figpath+\"/CCANs_integrated_withTSS.pdf\")"
   ]
  },
  {
   "cell_type": "markdown",
   "metadata": {},
   "source": [
    "### Check the distribution of CCANs mapped to TSS across different chromosomes"
   ]
  },
  {
   "cell_type": "code",
   "execution_count": 43,
   "metadata": {},
   "outputs": [
    {
     "data": {
      "text/plain": [
       "[1.0,\n",
       " 0.6048309953619094,\n",
       " 0.11576852509403573,\n",
       " 0.07669776337928318,\n",
       " 0.11721006666894676,\n",
       " 0.09171511784014019,\n",
       " 0.0954240418227655,\n",
       " 0.1146832005998175,\n",
       " 0.10060641035829818,\n",
       " 0.10359081710469964,\n",
       " 0.11787294524375723,\n",
       " 0.09291210832592385,\n",
       " 0.13617286547082494,\n",
       " 0.09728805406328839,\n",
       " 0.09277351339190955,\n",
       " 0.1062800737253104,\n",
       " 0.08832283602857127,\n",
       " 0.0962769585213324,\n",
       " 0.13561245766806507,\n",
       " 0.11608249986763478,\n",
       " 0.1149222650319713,\n",
       " 0.11213719878094028,\n",
       " 0.12708077432320444,\n",
       " 0.0888086620666768,\n",
       " 0.10570991686818436]"
      ]
     },
     "execution_count": 43,
     "metadata": {},
     "output_type": "execute_result"
    }
   ],
   "source": [
    "# make an empty list \n",
    "n_CCANs_mappedTSS_chrom = []\n",
    "\n",
    "# for each chromosome, compute the number of CCANs\n",
    "for chromosome in np.arange(1,26):\n",
    "    chrom_num = chromosome\n",
    "    chrom_id = \"chr\"+str(chrom_num)\n",
    "    n_peaks = len(integrated[integrated.peak_id.str.startswith(chrom_id)])\n",
    "    n_CCANs_mappedTSS_chrom.append(n_peaks)\n",
    "\n",
    "n_CCANs_mappedTSS_chrom\n",
    "\n",
    "# normalize by the chromosome length\n",
    "n_peaks_chrom_normalized_by_length = [x/y for x,y in zip(n_CCANs_mappedTSS_chrom, df_chrom_length[\"Length\"][0:25])]\n",
    "n_peaks_chrom_normalized_by_length\n",
    "\n",
    "n_peaks_chrom_normalized_by_length = [x/n_peaks_chrom_normalized_by_length[0] for x in n_peaks_chrom_normalized_by_length]\n",
    "n_peaks_chrom_normalized_by_length"
   ]
  },
  {
   "cell_type": "code",
   "execution_count": 44,
   "metadata": {},
   "outputs": [
    {
     "data": {
      "image/png": "[encoded data removed]",
      "text/plain": [
       "<Figure size 640x440 with 1 Axes>"
      ]
     },
     "metadata": {},
     "output_type": "display_data"
    }
   ],
   "source": [
    "sns.barplot(x=list(np.arange(1,26)), y=n_peaks_chrom_normalized_by_length)\n",
    "plt.xlabel(\"chromosomes\")\n",
    "plt.ylabel(\"number of CCANs\")\n",
    "plt.savefig(figpath+\"/n_CCANs_TSSmapped_per_chromosome_norm_scaled_R_palette.pdf\")"
   ]
  },
  {
   "cell_type": "code",
   "execution_count": 45,
   "metadata": {},
   "outputs": [
    {
     "data": {
      "image/png": "[encoded data removed]",
      "text/plain": [
       "<Figure size 640x440 with 1 Axes>"
      ]
     },
     "metadata": {},
     "output_type": "display_data"
    }
   ],
   "source": [
    "sns.barplot(x=list(np.arange(1,26)), y=n_CCANs_mappedTSS_chrom)\n",
    "plt.xlabel(\"chromosomes\")\n",
    "plt.ylabel(\"number of CCANs\")\n",
    "plt.savefig(figpath+\"/n_CCANs_TSSmapped_per_chromosome_R_palette.pdf\")"
   ]
  },
  {
   "cell_type": "markdown",
   "metadata": {},
   "source": [
    "### Question - does the ma.integrate_tss_peak_with_cicero filter out the peaks with co-accessiblity score =<0?\n",
    "\n",
    "### Answer: Yes, **\"integrated = ma.integrate_tss_peak_with_cicero\"** does the following:\n",
    "- 1) filtering out CCANs whose co-access score is equal or smaller than 0.\n",
    "- 2) add the peaks for the TSS, as self co-access score of 1."
   ]
  },
  {
   "cell_type": "code",
   "execution_count": 46,
   "metadata": {},
   "outputs": [
    {
     "data": {
      "text/html": [
       "<div>\n",
       "<style scoped>\n",
       "    .dataframe tbody tr th:only-of-type {\n",
       "        vertical-align: middle;\n",
       "    }\n",
       "\n",
       "    .dataframe tbody tr th {\n",
       "        vertical-align: top;\n",
       "    }\n",
       "\n",
       "    .dataframe thead th {\n",
       "        text-align: right;\n",
       "    }\n",
       "</style>\n",
       "<table border=\"1\" class=\"dataframe\">\n",
       "  <thead>\n",
       "    <tr style=\"text-align: right;\">\n",
       "      <th></th>\n",
       "      <th>peak_id</th>\n",
       "      <th>gene_short_name</th>\n",
       "    </tr>\n",
       "  </thead>\n",
       "  <tbody>\n",
       "    <tr>\n",
       "      <th>0</th>\n",
       "      <td>chr10_10310135_10311044</td>\n",
       "      <td>mir219-1</td>\n",
       "    </tr>\n",
       "    <tr>\n",
       "      <th>1</th>\n",
       "      <td>chr10_10312654_10313520</td>\n",
       "      <td>urm1</td>\n",
       "    </tr>\n",
       "    <tr>\n",
       "      <th>2</th>\n",
       "      <td>chr10_10318857_10319768</td>\n",
       "      <td>mir219-1</td>\n",
       "    </tr>\n",
       "    <tr>\n",
       "      <th>3</th>\n",
       "      <td>chr10_10330150_10331040</td>\n",
       "      <td>mir219-1</td>\n",
       "    </tr>\n",
       "    <tr>\n",
       "      <th>4</th>\n",
       "      <td>chr10_10728430_10729439</td>\n",
       "      <td>swi5</td>\n",
       "    </tr>\n",
       "    <tr>\n",
       "      <th>...</th>\n",
       "      <td>...</td>\n",
       "      <td>...</td>\n",
       "    </tr>\n",
       "    <tr>\n",
       "      <th>14506</th>\n",
       "      <td>chr9_9670995_9671898</td>\n",
       "      <td>gsk3ba</td>\n",
       "    </tr>\n",
       "    <tr>\n",
       "      <th>14507</th>\n",
       "      <td>chr9_9841650_9842440</td>\n",
       "      <td>fstl1b</td>\n",
       "    </tr>\n",
       "    <tr>\n",
       "      <th>14508</th>\n",
       "      <td>chr9_9960217_9961167</td>\n",
       "      <td>prmt2</td>\n",
       "    </tr>\n",
       "    <tr>\n",
       "      <th>14509</th>\n",
       "      <td>chr9_9977190_9977958</td>\n",
       "      <td>ugt1a1</td>\n",
       "    </tr>\n",
       "    <tr>\n",
       "      <th>14510</th>\n",
       "      <td>chr9_9997566_9998393</td>\n",
       "      <td>ugt1a6</td>\n",
       "    </tr>\n",
       "  </tbody>\n",
       "</table>\n",
       "<p>14511 rows × 2 columns</p>\n",
       "</div>"
      ],
      "text/plain": [
       "                       peak_id gene_short_name\n",
       "0      chr10_10310135_10311044        mir219-1\n",
       "1      chr10_10312654_10313520            urm1\n",
       "2      chr10_10318857_10319768        mir219-1\n",
       "3      chr10_10330150_10331040        mir219-1\n",
       "4      chr10_10728430_10729439            swi5\n",
       "...                        ...             ...\n",
       "14506     chr9_9670995_9671898          gsk3ba\n",
       "14507     chr9_9841650_9842440          fstl1b\n",
       "14508     chr9_9960217_9961167           prmt2\n",
       "14509     chr9_9977190_9977958          ugt1a1\n",
       "14510     chr9_9997566_9998393          ugt1a6\n",
       "\n",
       "[14511 rows x 2 columns]"
      ]
     },
     "execution_count": 46,
     "metadata": {},
     "output_type": "execute_result"
    }
   ],
   "source": [
    "peak = integrated[integrated.coaccess >= 0.8]\n",
    "peak = peak[[\"peak_id\", \"gene_short_name\"]].reset_index(drop=True)\n",
    "peak"
   ]
  },
  {
   "cell_type": "code",
   "execution_count": 22,
   "metadata": {},
   "outputs": [
    {
     "name": "stdout",
     "output_type": "stream",
     "text": [
      "(14511, 2)\n"
     ]
    },
    {
     "data": {
      "text/html": [
       "<div>\n",
       "<style scoped>\n",
       "    .dataframe tbody tr th:only-of-type {\n",
       "        vertical-align: middle;\n",
       "    }\n",
       "\n",
       "    .dataframe tbody tr th {\n",
       "        vertical-align: top;\n",
       "    }\n",
       "\n",
       "    .dataframe thead th {\n",
       "        text-align: right;\n",
       "    }\n",
       "</style>\n",
       "<table border=\"1\" class=\"dataframe\">\n",
       "  <thead>\n",
       "    <tr style=\"text-align: right;\">\n",
       "      <th></th>\n",
       "      <th>peak_id</th>\n",
       "      <th>gene_short_name</th>\n",
       "    </tr>\n",
       "  </thead>\n",
       "  <tbody>\n",
       "    <tr>\n",
       "      <th>0</th>\n",
       "      <td>chr10_10310135_10311044</td>\n",
       "      <td>mir219-1</td>\n",
       "    </tr>\n",
       "    <tr>\n",
       "      <th>1</th>\n",
       "      <td>chr10_10312654_10313520</td>\n",
       "      <td>urm1</td>\n",
       "    </tr>\n",
       "    <tr>\n",
       "      <th>2</th>\n",
       "      <td>chr10_10318857_10319768</td>\n",
       "      <td>mir219-1</td>\n",
       "    </tr>\n",
       "    <tr>\n",
       "      <th>3</th>\n",
       "      <td>chr10_10330150_10331040</td>\n",
       "      <td>mir219-1</td>\n",
       "    </tr>\n",
       "    <tr>\n",
       "      <th>4</th>\n",
       "      <td>chr10_10728430_10729439</td>\n",
       "      <td>swi5</td>\n",
       "    </tr>\n",
       "  </tbody>\n",
       "</table>\n",
       "</div>"
      ],
      "text/plain": [
       "                   peak_id gene_short_name\n",
       "0  chr10_10310135_10311044        mir219-1\n",
       "1  chr10_10312654_10313520            urm1\n",
       "2  chr10_10318857_10319768        mir219-1\n",
       "3  chr10_10330150_10331040        mir219-1\n",
       "4  chr10_10728430_10729439            swi5"
      ]
     },
     "execution_count": 22,
     "metadata": {},
     "output_type": "execute_result"
    }
   ],
   "source": [
    "print(peak.shape)\n",
    "peak.head()"
   ]
  },
  {
   "cell_type": "markdown",
   "metadata": {},
   "source": [
    "# 5. Save data\n",
    "Save the promoter/enhancer peaks."
   ]
  },
  {
   "cell_type": "code",
   "execution_count": 24,
   "metadata": {},
   "outputs": [],
   "source": [
    "peak.to_csv(cicero_output_path+ \"04_processed_peak_file_danRer11.csv\")"
   ]
  },
  {
   "cell_type": "markdown",
   "metadata": {},
   "source": [
    "**Please go to next step: Transcriptoin factor motif scan**\n",
    "\n",
    "https://morris-lab.github.io/CellOracle.documentation/tutorials/motifscan.html"
   ]
  }
 ],
 "metadata": {
  "finalized": {
   "timestamp": 1674256776783,
   "trusted": true
  },
  "kernelspec": {
   "display_name": "Python [conda env:.conda-celloracle_env]",
   "language": "python",
   "name": "conda-env-.conda-celloracle_env-py"
  },
  "language_info": {
   "codemirror_mode": {
    "name": "ipython",
    "version": 3
   },
   "file_extension": ".py",
   "mimetype": "text/x-python",
   "name": "python",
   "nbconvert_exporter": "python",
   "pygments_lexer": "ipython3",
   "version": "3.8.17"
  }
 },
 "nbformat": 4,
 "nbformat_minor": 4
}
