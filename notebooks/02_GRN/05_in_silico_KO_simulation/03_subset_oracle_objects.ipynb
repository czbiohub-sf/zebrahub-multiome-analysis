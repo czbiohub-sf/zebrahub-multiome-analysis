{
 "cells": [
  {
   "cell_type": "markdown",
   "id": "763dbbee-c7e5-41ad-893f-54c908f2b898",
   "metadata": {},
   "source": [
    "## subset Oracle objects for in silico KO perturbation\n",
    "\n",
    "- last updated: 04/17/2024\n",
    "- author: Yang-Joon Kim\n",
    "\n",
    "\n",
    "### Goals\n",
    "- take and subset the Oracle objects for in silico KO simulation for a subset of population (for example, we can subset NMP trajectories as in Zebrahub) to focus on the genes whose KO effect change over dev stages."
   ]
  },
  {
   "cell_type": "code",
   "execution_count": 1,
   "id": "f0cdbc7e-6f17-4d9e-b574-5f659178e8cd",
   "metadata": {},
   "outputs": [],
   "source": [
    "import copy\n",
    "import glob\n",
    "import time\n",
    "import os\n",
    "import shutil\n",
    "import sys\n",
    "\n",
    "import matplotlib.pyplot as plt\n",
    "import numpy as np\n",
    "import pandas as pd\n",
    "import scanpy as sc\n",
    "import seaborn as sns\n",
    "from tqdm.auto import tqdm"
   ]
  },
  {
   "cell_type": "markdown",
   "id": "80080ded-1083-4975-85fe-62bd49b61ea5",
   "metadata": {},
   "source": [
    "## 0.2. Import our library"
   ]
  },
  {
   "cell_type": "code",
   "execution_count": 2,
   "id": "87886a0e-31e2-4227-8bac-9003933421f0",
   "metadata": {},
   "outputs": [
    {
     "name": "stderr",
     "output_type": "stream",
     "text": [
      "/home/yang-joon.kim/.conda/envs/celloracle_env/lib/python3.8/site-packages/loompy/bus_file.py:68: NumbaDeprecationWarning: \u001b[1mThe 'nopython' keyword argument was not supplied to the 'numba.jit' decorator. The implicit default value for this argument is currently False, but it will be changed to True in Numba 0.59.0. See https://numba.readthedocs.io/en/stable/reference/deprecation.html#deprecation-of-object-mode-fall-back-behaviour-when-using-jit for details.\u001b[0m\n",
      "  def twobit_to_dna(twobit: int, size: int) -> str:\n",
      "/home/yang-joon.kim/.conda/envs/celloracle_env/lib/python3.8/site-packages/loompy/bus_file.py:85: NumbaDeprecationWarning: \u001b[1mThe 'nopython' keyword argument was not supplied to the 'numba.jit' decorator. The implicit default value for this argument is currently False, but it will be changed to True in Numba 0.59.0. See https://numba.readthedocs.io/en/stable/reference/deprecation.html#deprecation-of-object-mode-fall-back-behaviour-when-using-jit for details.\u001b[0m\n",
      "  def dna_to_twobit(dna: str) -> int:\n",
      "/home/yang-joon.kim/.conda/envs/celloracle_env/lib/python3.8/site-packages/loompy/bus_file.py:102: NumbaDeprecationWarning: \u001b[1mThe 'nopython' keyword argument was not supplied to the 'numba.jit' decorator. The implicit default value for this argument is currently False, but it will be changed to True in Numba 0.59.0. See https://numba.readthedocs.io/en/stable/reference/deprecation.html#deprecation-of-object-mode-fall-back-behaviour-when-using-jit for details.\u001b[0m\n",
      "  def twobit_1hamming(twobit: int, size: int) -> List[int]:\n",
      "INFO:matplotlib.font_manager:Failed to extract font properties from /usr/share/fonts/google-noto-emoji/NotoColorEmoji.ttf: In FT2Font: Can not load face (unknown file format; error code 0x2)\n"
     ]
    },
    {
     "data": {
      "text/plain": [
       "'0.14.0'"
      ]
     },
     "execution_count": 2,
     "metadata": {},
     "output_type": "execute_result"
    }
   ],
   "source": [
    "import celloracle as co\n",
    "from celloracle.applications import Pseudotime_calculator\n",
    "co.__version__"
   ]
  },
  {
   "cell_type": "markdown",
   "id": "4a79b223-c5bc-4cf1-b833-0798e5aa88ea",
   "metadata": {},
   "source": [
    "## 0.3. Plotting parameter setting"
   ]
  },
  {
   "cell_type": "code",
   "execution_count": 3,
   "id": "339ab7a0-d6e5-45a5-aaea-d11d38795944",
   "metadata": {},
   "outputs": [],
   "source": [
    "#plt.rcParams[\"font.family\"] = \"arial\"\n",
    "plt.rcParams[\"figure.figsize\"] = [5,5]\n",
    "%config InlineBackend.figure_format = 'retina'\n",
    "plt.rcParams[\"savefig.dpi\"] = 300\n",
    "\n",
    "%matplotlib inline"
   ]
  },
  {
   "cell_type": "markdown",
   "id": "f1c213c2-3576-4e8f-b30f-4d2eaf389f48",
   "metadata": {},
   "source": [
    "# 1. Load data\n",
    "\n",
    "- If you have `Oracle` object, please run **1.1.[Option1] Load oracle data.**\n",
    "\n",
    "- If you have not made an `Oracle` object yet and want to calculate pseudotime using `Anndata` object, please run **1.2.[Option2] Load anndata.** \n",
    "\n",
    "In this notebook, we will load demo `Oracle` object and add pseudotime information to it.\n",
    "\n",
    "## 1.1. [Option1] Load oracle data"
   ]
  },
  {
   "cell_type": "code",
   "execution_count": 7,
   "id": "7ba2288a-6ece-4cbf-8712-2f51229abb7c",
   "metadata": {},
   "outputs": [
    {
     "name": "stdout",
     "output_type": "stream",
     "text": [
      "Data not found in the local folder. Loading data from github. Data will be saved at /home/yang-joon.kim/celloracle_data/tutorial_data\n"
     ]
    },
    {
     "data": {
      "application/vnd.jupyter.widget-view+json": {
       "model_id": "923bec89fa19473c91c5759d908bb0d8",
       "version_major": 2,
       "version_minor": 0
      },
      "text/plain": [
       "  0%|          | 0.00/77.7M [00:00<?, ?B/s]"
      ]
     },
     "metadata": {},
     "output_type": "display_data"
    }
   ],
   "source": [
    "# # Load demo scRNA-seq data.\n",
    "# oracle = co.data.load_tutorial_oracle_object()\n",
    "\n",
    "# # Instantiate pseudotime object using oracle object.\n",
    "# pt = Pseudotime_calculator(oracle_object=oracle)"
   ]
  },
  {
   "cell_type": "code",
   "execution_count": 4,
   "id": "eef26a19-578d-4bb6-97c1-f5f75a0afb87",
   "metadata": {},
   "outputs": [
    {
     "data": {
      "text/plain": [
       "Oracle object\n",
       "\n",
       "Meta data\n",
       "    celloracle version used for instantiation: 0.14.0\n",
       "    n_cells: 13614\n",
       "    n_genes: 3000\n",
       "    cluster_name: global_annotation\n",
       "    dimensional_reduction_name: X_umap.joint\n",
       "    n_target_genes_in_TFdict: 13576 genes\n",
       "    n_regulatory_in_TFdict: 872 genes\n",
       "    n_regulatory_in_both_TFdict_and_scRNA-seq: 327 genes\n",
       "    n_target_genes_both_TFdict_and_scRNA-seq: 1731 genes\n",
       "    k_for_knn_imputation: 340\n",
       "Status\n",
       "    Gene expression matrix: Ready\n",
       "    BaseGRN: Ready\n",
       "    PCA calculation: Done\n",
       "    Knn imputation: Done\n",
       "    GRN calculation for simulation: Not finished"
      ]
     },
     "execution_count": 4,
     "metadata": {},
     "output_type": "execute_result"
    }
   ],
   "source": [
    "# Load the TDR118 oracle data\n",
    "oracle_15somites = co.load_hdf5(\"/hpc/projects/data.science/yangjoon.kim/zebrahub_multiome/data/processed_data/03_celloracle_celltype_GRNs/TDR118reseq/06_TDR118reseq.celloracle.oracle\")\n",
    "oracle_15somites"
   ]
  },
  {
   "cell_type": "code",
   "execution_count": 5,
   "id": "b25e628a-1928-420e-892c-d92a427f2879",
   "metadata": {},
   "outputs": [],
   "source": [
    "from celloracle.applications import development_module"
   ]
  },
  {
   "cell_type": "code",
   "execution_count": 6,
   "id": "a79df5fb-0ef7-4496-9ee4-e5c3e31121ae",
   "metadata": {},
   "outputs": [
    {
     "name": "stdout",
     "output_type": "stream",
     "text": [
      "Help on function subset_oracle_for_development_analysiis in module celloracle.applications.development_module:\n",
      "\n",
      "subset_oracle_for_development_analysiis(oracle_object, cell_idx_use)\n",
      "    Make a subset of oracle object by specifying of cluster.\n",
      "    This function pick up some of attributes that needed for development analysis rather than whole attributes.\n",
      "\n"
     ]
    }
   ],
   "source": [
    "help(development_module.subset_oracle_for_development_analysiis)"
   ]
  },
  {
   "cell_type": "code",
   "execution_count": 9,
   "id": "020fc370-71ac-4d2e-8b23-26b733438072",
   "metadata": {},
   "outputs": [
    {
     "data": {
      "text/html": [
       "<div>\n",
       "<style scoped>\n",
       "    .dataframe tbody tr th:only-of-type {\n",
       "        vertical-align: middle;\n",
       "    }\n",
       "\n",
       "    .dataframe tbody tr th {\n",
       "        vertical-align: top;\n",
       "    }\n",
       "\n",
       "    .dataframe thead th {\n",
       "        text-align: right;\n",
       "    }\n",
       "</style>\n",
       "<table border=\"1\" class=\"dataframe\">\n",
       "  <thead>\n",
       "    <tr style=\"text-align: right;\">\n",
       "      <th></th>\n",
       "      <th>UMAP_1</th>\n",
       "      <th>UMAP_2</th>\n",
       "      <th>timepoint</th>\n",
       "      <th>cell_type</th>\n",
       "      <th>cell_id</th>\n",
       "    </tr>\n",
       "  </thead>\n",
       "  <tbody>\n",
       "    <tr>\n",
       "      <th>0</th>\n",
       "      <td>1.070022</td>\n",
       "      <td>-6.046746</td>\n",
       "      <td>0somites</td>\n",
       "      <td>Neural_Posterior</td>\n",
       "      <td>AAACAGCCAAACGGGC-1_5</td>\n",
       "    </tr>\n",
       "    <tr>\n",
       "      <th>1</th>\n",
       "      <td>2.922442</td>\n",
       "      <td>-6.883583</td>\n",
       "      <td>0somites</td>\n",
       "      <td>Neural_Posterior</td>\n",
       "      <td>AAACAGCCAACACTTG-1_5</td>\n",
       "    </tr>\n",
       "    <tr>\n",
       "      <th>2</th>\n",
       "      <td>8.178947</td>\n",
       "      <td>5.224598</td>\n",
       "      <td>0somites</td>\n",
       "      <td>Somites</td>\n",
       "      <td>AAACAGCCACAATGCC-1_5</td>\n",
       "    </tr>\n",
       "    <tr>\n",
       "      <th>3</th>\n",
       "      <td>-4.169683</td>\n",
       "      <td>-9.929869</td>\n",
       "      <td>0somites</td>\n",
       "      <td>Neural_Posterior</td>\n",
       "      <td>AAACAGCCACCTGGTG-1_5</td>\n",
       "    </tr>\n",
       "    <tr>\n",
       "      <th>4</th>\n",
       "      <td>5.393727</td>\n",
       "      <td>-3.432797</td>\n",
       "      <td>0somites</td>\n",
       "      <td>NMPs</td>\n",
       "      <td>AAACAGCCAGTTATCG-1_5</td>\n",
       "    </tr>\n",
       "  </tbody>\n",
       "</table>\n",
       "</div>"
      ],
      "text/plain": [
       "     UMAP_1    UMAP_2 timepoint         cell_type               cell_id\n",
       "0  1.070022 -6.046746  0somites  Neural_Posterior  AAACAGCCAAACGGGC-1_5\n",
       "1  2.922442 -6.883583  0somites  Neural_Posterior  AAACAGCCAACACTTG-1_5\n",
       "2  8.178947  5.224598  0somites           Somites  AAACAGCCACAATGCC-1_5\n",
       "3 -4.169683 -9.929869  0somites  Neural_Posterior  AAACAGCCACCTGGTG-1_5\n",
       "4  5.393727 -3.432797  0somites              NMPs  AAACAGCCAGTTATCG-1_5"
      ]
     },
     "execution_count": 9,
     "metadata": {},
     "output_type": "execute_result"
    }
   ],
   "source": [
    "# import the csv file for the \"alignedUMAP\" coordinates for the NMP trajectory\n",
    "umap_coords_nmps = pd.read_csv(\"/hpc/projects/data.science/yangjoon.kim/zebrahub_multiome/data/processed_data/01_Signac_processed/aligned_umap_coords_NMPs.csv\", index_col=0)\n",
    "umap_coords_nmps.head()"
   ]
  },
  {
   "cell_type": "code",
   "execution_count": 17,
   "id": "c04f556d-6f56-47df-b2c6-d6290208dfbe",
   "metadata": {},
   "outputs": [
    {
     "data": {
      "text/html": [
       "<div>\n",
       "<style scoped>\n",
       "    .dataframe tbody tr th:only-of-type {\n",
       "        vertical-align: middle;\n",
       "    }\n",
       "\n",
       "    .dataframe tbody tr th {\n",
       "        vertical-align: top;\n",
       "    }\n",
       "\n",
       "    .dataframe thead th {\n",
       "        text-align: right;\n",
       "    }\n",
       "</style>\n",
       "<table border=\"1\" class=\"dataframe\">\n",
       "  <thead>\n",
       "    <tr style=\"text-align: right;\">\n",
       "      <th></th>\n",
       "      <th>UMAP_1</th>\n",
       "      <th>UMAP_2</th>\n",
       "      <th>timepoint</th>\n",
       "      <th>cell_type</th>\n",
       "      <th>cell_id</th>\n",
       "    </tr>\n",
       "  </thead>\n",
       "  <tbody>\n",
       "    <tr>\n",
       "      <th>0</th>\n",
       "      <td>-5.541245</td>\n",
       "      <td>-7.746141</td>\n",
       "      <td>15somites</td>\n",
       "      <td>Neural_Posterior</td>\n",
       "      <td>AAACAGCCATAGACCC-1_1</td>\n",
       "    </tr>\n",
       "    <tr>\n",
       "      <th>1</th>\n",
       "      <td>4.825198</td>\n",
       "      <td>-7.891592</td>\n",
       "      <td>15somites</td>\n",
       "      <td>Neural_Posterior</td>\n",
       "      <td>AAACATGCAAACTCAT-1_1</td>\n",
       "    </tr>\n",
       "    <tr>\n",
       "      <th>2</th>\n",
       "      <td>-4.484263</td>\n",
       "      <td>7.431350</td>\n",
       "      <td>15somites</td>\n",
       "      <td>Neural_Anterior</td>\n",
       "      <td>AAACATGCAAGGACCA-1_1</td>\n",
       "    </tr>\n",
       "    <tr>\n",
       "      <th>3</th>\n",
       "      <td>-3.275126</td>\n",
       "      <td>-4.276315</td>\n",
       "      <td>15somites</td>\n",
       "      <td>Neural_Anterior</td>\n",
       "      <td>AAACATGCAAGGATTA-1_1</td>\n",
       "    </tr>\n",
       "    <tr>\n",
       "      <th>4</th>\n",
       "      <td>8.242519</td>\n",
       "      <td>0.078934</td>\n",
       "      <td>15somites</td>\n",
       "      <td>PSM</td>\n",
       "      <td>AAACATGCAGGACCTT-1_1</td>\n",
       "    </tr>\n",
       "    <tr>\n",
       "      <th>...</th>\n",
       "      <td>...</td>\n",
       "      <td>...</td>\n",
       "      <td>...</td>\n",
       "      <td>...</td>\n",
       "      <td>...</td>\n",
       "    </tr>\n",
       "    <tr>\n",
       "      <th>8232</th>\n",
       "      <td>-3.951273</td>\n",
       "      <td>-3.006925</td>\n",
       "      <td>15somites</td>\n",
       "      <td>Neural_Anterior</td>\n",
       "      <td>TTTGTGTTCGAGGTGG-1_1</td>\n",
       "    </tr>\n",
       "    <tr>\n",
       "      <th>8233</th>\n",
       "      <td>-3.961044</td>\n",
       "      <td>-4.258544</td>\n",
       "      <td>15somites</td>\n",
       "      <td>Neural_Anterior</td>\n",
       "      <td>TTTGTGTTCGCTAAGT-1_1</td>\n",
       "    </tr>\n",
       "    <tr>\n",
       "      <th>8234</th>\n",
       "      <td>-2.692312</td>\n",
       "      <td>10.970349</td>\n",
       "      <td>15somites</td>\n",
       "      <td>Neural_Anterior</td>\n",
       "      <td>TTTGTTGGTAAAGCAA-1_1</td>\n",
       "    </tr>\n",
       "    <tr>\n",
       "      <th>8235</th>\n",
       "      <td>-5.109061</td>\n",
       "      <td>-4.869098</td>\n",
       "      <td>15somites</td>\n",
       "      <td>Neural_Posterior</td>\n",
       "      <td>TTTGTTGGTAATAACC-1_1</td>\n",
       "    </tr>\n",
       "    <tr>\n",
       "      <th>8236</th>\n",
       "      <td>-2.801218</td>\n",
       "      <td>11.797975</td>\n",
       "      <td>15somites</td>\n",
       "      <td>Neural_Anterior</td>\n",
       "      <td>TTTGTTGGTTCACCCA-1_1</td>\n",
       "    </tr>\n",
       "  </tbody>\n",
       "</table>\n",
       "<p>8237 rows × 5 columns</p>\n",
       "</div>"
      ],
      "text/plain": [
       "        UMAP_1     UMAP_2  timepoint         cell_type               cell_id\n",
       "0    -5.541245  -7.746141  15somites  Neural_Posterior  AAACAGCCATAGACCC-1_1\n",
       "1     4.825198  -7.891592  15somites  Neural_Posterior  AAACATGCAAACTCAT-1_1\n",
       "2    -4.484263   7.431350  15somites   Neural_Anterior  AAACATGCAAGGACCA-1_1\n",
       "3    -3.275126  -4.276315  15somites   Neural_Anterior  AAACATGCAAGGATTA-1_1\n",
       "4     8.242519   0.078934  15somites               PSM  AAACATGCAGGACCTT-1_1\n",
       "...        ...        ...        ...               ...                   ...\n",
       "8232 -3.951273  -3.006925  15somites   Neural_Anterior  TTTGTGTTCGAGGTGG-1_1\n",
       "8233 -3.961044  -4.258544  15somites   Neural_Anterior  TTTGTGTTCGCTAAGT-1_1\n",
       "8234 -2.692312  10.970349  15somites   Neural_Anterior  TTTGTTGGTAAAGCAA-1_1\n",
       "8235 -5.109061  -4.869098  15somites  Neural_Posterior  TTTGTTGGTAATAACC-1_1\n",
       "8236 -2.801218  11.797975  15somites   Neural_Anterior  TTTGTTGGTTCACCCA-1_1\n",
       "\n",
       "[8237 rows x 5 columns]"
      ]
     },
     "execution_count": 17,
     "metadata": {},
     "output_type": "execute_result"
    }
   ],
   "source": [
    "umap_coords_sub = umap_coords_nmps[umap_coords_nmps.timepoint==\"15somites\"]\n",
    "umap_coords_sub"
   ]
  },
  {
   "cell_type": "code",
   "execution_count": 18,
   "id": "078e7cf8-265b-4e7f-914f-988528ba560c",
   "metadata": {},
   "outputs": [
    {
     "data": {
      "text/html": [
       "<div>\n",
       "<style scoped>\n",
       "    .dataframe tbody tr th:only-of-type {\n",
       "        vertical-align: middle;\n",
       "    }\n",
       "\n",
       "    .dataframe tbody tr th {\n",
       "        vertical-align: top;\n",
       "    }\n",
       "\n",
       "    .dataframe thead th {\n",
       "        text-align: right;\n",
       "    }\n",
       "</style>\n",
       "<table border=\"1\" class=\"dataframe\">\n",
       "  <thead>\n",
       "    <tr style=\"text-align: right;\">\n",
       "      <th></th>\n",
       "      <th>UMAP_1</th>\n",
       "      <th>UMAP_2</th>\n",
       "      <th>timepoint</th>\n",
       "      <th>cell_type</th>\n",
       "      <th>cell_id</th>\n",
       "    </tr>\n",
       "  </thead>\n",
       "  <tbody>\n",
       "    <tr>\n",
       "      <th>0</th>\n",
       "      <td>-5.541245</td>\n",
       "      <td>-7.746141</td>\n",
       "      <td>15somites</td>\n",
       "      <td>Neural_Posterior</td>\n",
       "      <td>AAACAGCCATAGACCC-1</td>\n",
       "    </tr>\n",
       "    <tr>\n",
       "      <th>1</th>\n",
       "      <td>4.825198</td>\n",
       "      <td>-7.891592</td>\n",
       "      <td>15somites</td>\n",
       "      <td>Neural_Posterior</td>\n",
       "      <td>AAACATGCAAACTCAT-1</td>\n",
       "    </tr>\n",
       "    <tr>\n",
       "      <th>2</th>\n",
       "      <td>-4.484263</td>\n",
       "      <td>7.431350</td>\n",
       "      <td>15somites</td>\n",
       "      <td>Neural_Anterior</td>\n",
       "      <td>AAACATGCAAGGACCA-1</td>\n",
       "    </tr>\n",
       "    <tr>\n",
       "      <th>3</th>\n",
       "      <td>-3.275126</td>\n",
       "      <td>-4.276315</td>\n",
       "      <td>15somites</td>\n",
       "      <td>Neural_Anterior</td>\n",
       "      <td>AAACATGCAAGGATTA-1</td>\n",
       "    </tr>\n",
       "    <tr>\n",
       "      <th>4</th>\n",
       "      <td>8.242519</td>\n",
       "      <td>0.078934</td>\n",
       "      <td>15somites</td>\n",
       "      <td>PSM</td>\n",
       "      <td>AAACATGCAGGACCTT-1</td>\n",
       "    </tr>\n",
       "  </tbody>\n",
       "</table>\n",
       "</div>"
      ],
      "text/plain": [
       "     UMAP_1    UMAP_2  timepoint         cell_type             cell_id\n",
       "0 -5.541245 -7.746141  15somites  Neural_Posterior  AAACAGCCATAGACCC-1\n",
       "1  4.825198 -7.891592  15somites  Neural_Posterior  AAACATGCAAACTCAT-1\n",
       "2 -4.484263  7.431350  15somites   Neural_Anterior  AAACATGCAAGGACCA-1\n",
       "3 -3.275126 -4.276315  15somites   Neural_Anterior  AAACATGCAAGGATTA-1\n",
       "4  8.242519  0.078934  15somites               PSM  AAACATGCAGGACCTT-1"
      ]
     },
     "execution_count": 18,
     "metadata": {},
     "output_type": "execute_result"
    }
   ],
   "source": [
    "umap_coords_sub.cell_id = umap_coords_sub.cell_id.str.replace(\"_1\",\"\")\n",
    "umap_coords_sub.head()"
   ]
  },
  {
   "cell_type": "code",
   "execution_count": 21,
   "id": "803d71ce-fc10-447a-b28b-22911a25ce21",
   "metadata": {},
   "outputs": [
    {
     "data": {
      "text/plain": [
       "View of AnnData object with n_obs × n_vars = 8237 × 3000\n",
       "    obs: 'orig.ident', 'nCount_RNA', 'nFeature_RNA', 'nCount_ATAC', 'nFeature_ATAC', 'nucleosome_signal', 'nucleosome_percentile', 'TSS.enrichment', 'TSS.percentile', 'nCount_SCT', 'nFeature_SCT', 'global_annotation', 'prediction.score.Lateral_Mesoderm', 'prediction.score.Neural_Crest', 'prediction.score.Somites', 'prediction.score.Epidermal', 'prediction.score.Neural_Anterior', 'prediction.score.Neural_Posterior', 'prediction.score.Endoderm', 'prediction.score.PSM', 'prediction.score.Differentiating_Neurons', 'prediction.score.Adaxial_Cells', 'prediction.score.NMPs', 'prediction.score.Notochord', 'prediction.score.Muscle', 'prediction.score.unassigned', 'prediction.score.max', 'nCount_peaks_bulk', 'nFeature_peaks_bulk', 'nCount_peaks_celltype', 'nFeature_peaks_celltype', 'nCount_peaks_merged', 'nFeature_peaks_merged', 'SCT.weight', 'peaks_merged.weight', 'nCount_Gene.Activity', 'nFeature_Gene.Activity'\n",
       "    var: 'features', 'highly_variable', 'highly_variable_rank', 'means', 'variances', 'variances_norm', 'symbol', 'isin_top1000_var_mean_genes', 'isin_TFdict_targets', 'isin_TFdict_regulators'\n",
       "    uns: 'hvg', 'log1p', 'global_annotation_colors'\n",
       "    obsm: 'X_umap.atac', 'X_umap.joint', 'X_umap.rna'\n",
       "    layers: 'raw_count', 'normalized_count', 'imputed_count'"
      ]
     },
     "execution_count": 21,
     "metadata": {},
     "output_type": "execute_result"
    }
   ],
   "source": [
    "# extract the adata (all cells)\n",
    "adata = oracle_15somites.adata\n",
    "\n",
    "# subset for the NMP trajectories\n",
    "adata_sub = adata[adata.obs_names.isin(umap_coords_sub.cell_id)]\n",
    "adata_sub"
   ]
  },
  {
   "cell_type": "code",
   "execution_count": null,
   "id": "842703bc-e4ab-4eca-b28f-88e2b7d0a345",
   "metadata": {},
   "outputs": [],
   "source": [
    "adata_sub.obs_names"
   ]
  },
  {
   "cell_type": "code",
   "execution_count": 22,
   "id": "395fe0e0-8337-4d74-b670-4fa4986c0e55",
   "metadata": {},
   "outputs": [
    {
     "ename": "AttributeError",
     "evalue": "'Oracle' object has no attribute 'delta_embedding'",
     "output_type": "error",
     "traceback": [
      "\u001b[0;31m---------------------------------------------------------------------------\u001b[0m",
      "\u001b[0;31mAttributeError\u001b[0m                            Traceback (most recent call last)",
      "Cell \u001b[0;32mIn[22], line 1\u001b[0m\n\u001b[0;32m----> 1\u001b[0m oracle_NMPs \u001b[38;5;241m=\u001b[39m \u001b[43mdevelopment_module\u001b[49m\u001b[38;5;241;43m.\u001b[39;49m\u001b[43msubset_oracle_for_development_analysiis\u001b[49m\u001b[43m(\u001b[49m\u001b[43moracle_15somites\u001b[49m\u001b[43m,\u001b[49m\u001b[43m \u001b[49m\u001b[43mcell_idx_use\u001b[49m\u001b[38;5;241;43m=\u001b[39;49m\u001b[43madata_sub\u001b[49m\u001b[38;5;241;43m.\u001b[39;49m\u001b[43mobs_names\u001b[49m\u001b[43m)\u001b[49m\n",
      "File \u001b[0;32m~/.conda/envs/celloracle_env/lib/python3.8/site-packages/celloracle/applications/development_module.py:337\u001b[0m, in \u001b[0;36msubset_oracle_for_development_analysiis\u001b[0;34m(oracle_object, cell_idx_use)\u001b[0m\n\u001b[1;32m    335\u001b[0m oracle_ \u001b[38;5;241m=\u001b[39m Oracle()\n\u001b[1;32m    336\u001b[0m \u001b[38;5;28;01mfor\u001b[39;00m i \u001b[38;5;129;01min\u001b[39;00m [\u001b[38;5;124m\"\u001b[39m\u001b[38;5;124membedding\u001b[39m\u001b[38;5;124m\"\u001b[39m, \u001b[38;5;124m\"\u001b[39m\u001b[38;5;124mdelta_embedding\u001b[39m\u001b[38;5;124m\"\u001b[39m, \u001b[38;5;124m\"\u001b[39m\u001b[38;5;124mdelta_embedding_random\u001b[39m\u001b[38;5;124m\"\u001b[39m, \u001b[38;5;124m\"\u001b[39m\u001b[38;5;124mcorrcoef_random\u001b[39m\u001b[38;5;124m\"\u001b[39m, \u001b[38;5;124m\"\u001b[39m\u001b[38;5;124madata\u001b[39m\u001b[38;5;124m\"\u001b[39m]:\n\u001b[0;32m--> 337\u001b[0m     \u001b[38;5;28msetattr\u001b[39m(oracle_, i, \u001b[38;5;28;43mgetattr\u001b[39;49m\u001b[43m(\u001b[49m\u001b[43moracle_object\u001b[49m\u001b[43m,\u001b[49m\u001b[43m \u001b[49m\u001b[43mi\u001b[49m\u001b[43m)\u001b[49m)\n\u001b[1;32m    339\u001b[0m \u001b[38;5;28;01mfor\u001b[39;00m i \u001b[38;5;129;01min\u001b[39;00m [\u001b[38;5;124m\"\u001b[39m\u001b[38;5;124membedding\u001b[39m\u001b[38;5;124m\"\u001b[39m, \u001b[38;5;124m\"\u001b[39m\u001b[38;5;124mdelta_embedding\u001b[39m\u001b[38;5;124m\"\u001b[39m, \u001b[38;5;124m\"\u001b[39m\u001b[38;5;124mdelta_embedding_random\u001b[39m\u001b[38;5;124m\"\u001b[39m, \u001b[38;5;124m\"\u001b[39m\u001b[38;5;124mcorrcoef_random\u001b[39m\u001b[38;5;124m\"\u001b[39m]:\n\u001b[1;32m    340\u001b[0m     \u001b[38;5;28msetattr\u001b[39m(oracle_, i, \u001b[38;5;28mgetattr\u001b[39m(oracle_, i)[cell_idx_use])\n",
      "\u001b[0;31mAttributeError\u001b[0m: 'Oracle' object has no attribute 'delta_embedding'"
     ]
    }
   ],
   "source": [
    "oracle_NMPs = development_module.subset_oracle_for_development_analysiis(oracle_15somites, cell_idx_use=adata_sub.obs_names)"
   ]
  },
  {
   "cell_type": "code",
   "execution_count": null,
   "id": "b11a4042-9b44-4e8b-baf2-c0ddd89036f9",
   "metadata": {},
   "outputs": [],
   "source": []
  },
  {
   "cell_type": "code",
   "execution_count": 6,
   "id": "e2c3141a-d156-489c-adf8-b0b5381bcefd",
   "metadata": {},
   "outputs": [],
   "source": [
    "# redefine the default embedding for the oracle object (\"X_atac.umap.cellranger\")\n",
    "oracle.embedding = oracle.adata.obsm[\"X_umap.joint\"]\n",
    "oracle.embedding_name = \"X_umap.joint\""
   ]
  },
  {
   "cell_type": "code",
   "execution_count": 7,
   "id": "3b1f9692-e78e-437c-a550-0fbc154f9e02",
   "metadata": {},
   "outputs": [
    {
     "data": {
      "text/plain": [
       "'X_umap.joint'"
      ]
     },
     "execution_count": 7,
     "metadata": {},
     "output_type": "execute_result"
    }
   ],
   "source": [
    "oracle.embedding_name"
   ]
  },
  {
   "cell_type": "code",
   "execution_count": 8,
   "id": "59ef29e5-1f4d-46ee-986b-9cf6fb0064b7",
   "metadata": {},
   "outputs": [
    {
     "data": {
      "text/plain": [
       "<celloracle.network_analysis.links_object.Links at 0x149a39aef0d0>"
      ]
     },
     "execution_count": 8,
     "metadata": {},
     "output_type": "execute_result"
    }
   ],
   "source": [
    "# Load the TDR118 links data (GRN)\n",
    "links = co.load_hdf5(\"/hpc/projects/data.science/yangjoon.kim/zebrahub_multiome/data/processed_data/TDR119_cicero_output/08_TDR119_celltype_GRNs.celloracle.links\")\n",
    "links"
   ]
  },
  {
   "cell_type": "code",
   "execution_count": 9,
   "id": "43cc2e22-1817-4968-b33e-7cff3eb83878",
   "metadata": {},
   "outputs": [],
   "source": [
    "# Instantiate pseudotime object using oracle object\n",
    "pt = Pseudotime_calculator(oracle_object=oracle)"
   ]
  },
  {
   "cell_type": "code",
   "execution_count": 10,
   "id": "80ec6dcb-8994-4996-ae28-7f655ff3a37d",
   "metadata": {},
   "outputs": [
    {
     "data": {
      "text/plain": [
       "AnnData object with n_obs × n_vars = 13022 × 3000\n",
       "    obs: 'orig.ident', 'nCount_RNA', 'nFeature_RNA', 'nCount_ATAC', 'nFeature_ATAC', 'nucleosome_signal', 'nucleosome_percentile', 'TSS.enrichment', 'TSS.percentile', 'nCount_SCT', 'nFeature_SCT', 'global_annotation', 'nCount_peaks_bulk', 'nFeature_peaks_bulk', 'nCount_peaks_celltype', 'nFeature_peaks_celltype', 'SCT.weight', 'peaks_celltype.weight'\n",
       "    var: 'features', 'highly_variable', 'highly_variable_rank', 'means', 'variances', 'variances_norm', 'symbol', 'isin_top1000_var_mean_genes', 'isin_TFdict_targets', 'isin_TFdict_regulators'\n",
       "    uns: 'hvg', 'log1p', 'global_annotation_colors'\n",
       "    obsm: 'X_umap.atac', 'X_umap.joint', 'X_umap.rna'\n",
       "    layers: 'raw_count', 'normalized_count', 'imputed_count'"
      ]
     },
     "execution_count": 10,
     "metadata": {},
     "output_type": "execute_result"
    }
   ],
   "source": [
    "adata = oracle.adata\n",
    "adata"
   ]
  },
  {
   "cell_type": "code",
   "execution_count": 4,
   "id": "2dc74fa9-5140-40fc-b340-44101cbfd0b9",
   "metadata": {},
   "outputs": [
    {
     "data": {
      "text/plain": [
       "Oracle object\n",
       "\n",
       "Meta data\n",
       "    celloracle version used for instantiation: 0.14.0\n",
       "    n_cells: 13022\n",
       "    n_genes: 3000\n",
       "    cluster_name: global_annotation\n",
       "    dimensional_reduction_name: X_umap.atac\n",
       "    n_target_genes_in_TFdict: 12674 genes\n",
       "    n_regulatory_in_TFdict: 872 genes\n",
       "    n_regulatory_in_both_TFdict_and_scRNA-seq: 318 genes\n",
       "    n_target_genes_both_TFdict_and_scRNA-seq: 1637 genes\n",
       "    k_for_knn_imputation: 325\n",
       "Status\n",
       "    Gene expression matrix: Ready\n",
       "    BaseGRN: Ready\n",
       "    PCA calculation: Done\n",
       "    Knn imputation: Done\n",
       "    GRN calculation for simulation: Not finished"
      ]
     },
     "execution_count": 4,
     "metadata": {},
     "output_type": "execute_result"
    }
   ],
   "source": [
    "# # Load the TDR118 oracle data\n",
    "# oracle = co.load_hdf5(\"/hpc/projects/data.science/yangjoon.kim/zebrahub_multiome/data/processed_data/03_celloracle_celltype_GRNs/TDR118reseq/06_TDR118reseq.celloracle.oracle\")\n",
    "# oracle"
   ]
  },
  {
   "cell_type": "code",
   "execution_count": null,
   "id": "88db218e-d031-488c-91ac-0dcda25c3933",
   "metadata": {},
   "outputs": [],
   "source": []
  },
  {
   "cell_type": "code",
   "execution_count": null,
   "id": "ad5635f4-9589-4cb3-93f6-5cff825e9ce1",
   "metadata": {},
   "outputs": [],
   "source": []
  },
  {
   "cell_type": "code",
   "execution_count": null,
   "id": "516220f3-f653-4d0b-8104-a790dfc78cf7",
   "metadata": {},
   "outputs": [],
   "source": []
  },
  {
   "cell_type": "code",
   "execution_count": null,
   "id": "27946291-d937-4b78-b146-b8474cdf1d50",
   "metadata": {},
   "outputs": [],
   "source": []
  },
  {
   "cell_type": "code",
   "execution_count": null,
   "id": "06051f81-d4a1-4730-aaf9-51a2066b9776",
   "metadata": {},
   "outputs": [],
   "source": []
  },
  {
   "cell_type": "code",
   "execution_count": null,
   "id": "1d7c1195-4d95-4920-bb8e-0ac90b209279",
   "metadata": {},
   "outputs": [],
   "source": []
  },
  {
   "cell_type": "code",
   "execution_count": null,
   "id": "1aa74957-d89f-47a2-8d95-e343175b5913",
   "metadata": {},
   "outputs": [],
   "source": []
  },
  {
   "cell_type": "code",
   "execution_count": null,
   "id": "9be5593a-e505-4c40-b947-89d40782d382",
   "metadata": {},
   "outputs": [],
   "source": []
  }
 ],
 "metadata": {
  "kernelspec": {
   "display_name": "Python [conda env:.conda-celloracle_env]",
   "language": "python",
   "name": "conda-env-.conda-celloracle_env-py"
  },
  "language_info": {
   "codemirror_mode": {
    "name": "ipython",
    "version": 3
   },
   "file_extension": ".py",
   "mimetype": "text/x-python",
   "name": "python",
   "nbconvert_exporter": "python",
   "pygments_lexer": "ipython3",
   "version": "3.8.17"
  }
 },
 "nbformat": 4,
 "nbformat_minor": 5
}
