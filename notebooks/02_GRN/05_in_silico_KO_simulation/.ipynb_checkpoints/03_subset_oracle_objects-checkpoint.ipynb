{
 "cells": [
  {
   "cell_type": "markdown",
   "id": "763dbbee-c7e5-41ad-893f-54c908f2b898",
   "metadata": {},
   "source": [
    "## subset Oracle objects for in silico KO perturbation\n",
    "\n",
    "- last updated: 04/17/2024\n",
    "- author: Yang-Joon Kim\n",
    "\n",
    "\n",
    "### Goals\n",
    "- take and subset the Oracle objects for in silico KO simulation for a subset of population (for example, we can subset NMP trajectories as in Zebrahub) to focus on the genes whose KO effect change over developmental stages. (Followed by the GRN examination over timepoints)."
   ]
  },
  {
   "cell_type": "code",
   "execution_count": 1,
   "id": "f0cdbc7e-6f17-4d9e-b574-5f659178e8cd",
   "metadata": {},
   "outputs": [],
   "source": [
    "import copy\n",
    "import glob\n",
    "import time\n",
    "import os\n",
    "import shutil\n",
    "import sys\n",
    "\n",
    "import matplotlib.pyplot as plt\n",
    "import numpy as np\n",
    "import pandas as pd\n",
    "import scanpy as sc\n",
    "import seaborn as sns\n",
    "from tqdm.auto import tqdm"
   ]
  },
  {
   "cell_type": "markdown",
   "id": "80080ded-1083-4975-85fe-62bd49b61ea5",
   "metadata": {},
   "source": [
    "## 0.2. Import our library"
   ]
  },
  {
   "cell_type": "code",
   "execution_count": 2,
   "id": "87886a0e-31e2-4227-8bac-9003933421f0",
   "metadata": {},
   "outputs": [
    {
     "name": "stderr",
     "output_type": "stream",
     "text": [
      "/home/yang-joon.kim/.conda/envs/celloracle_env/lib/python3.8/site-packages/loompy/bus_file.py:68: NumbaDeprecationWarning: \u001b[1mThe 'nopython' keyword argument was not supplied to the 'numba.jit' decorator. The implicit default value for this argument is currently False, but it will be changed to True in Numba 0.59.0. See https://numba.readthedocs.io/en/stable/reference/deprecation.html#deprecation-of-object-mode-fall-back-behaviour-when-using-jit for details.\u001b[0m\n",
      "  def twobit_to_dna(twobit: int, size: int) -> str:\n",
      "/home/yang-joon.kim/.conda/envs/celloracle_env/lib/python3.8/site-packages/loompy/bus_file.py:85: NumbaDeprecationWarning: \u001b[1mThe 'nopython' keyword argument was not supplied to the 'numba.jit' decorator. The implicit default value for this argument is currently False, but it will be changed to True in Numba 0.59.0. See https://numba.readthedocs.io/en/stable/reference/deprecation.html#deprecation-of-object-mode-fall-back-behaviour-when-using-jit for details.\u001b[0m\n",
      "  def dna_to_twobit(dna: str) -> int:\n",
      "/home/yang-joon.kim/.conda/envs/celloracle_env/lib/python3.8/site-packages/loompy/bus_file.py:102: NumbaDeprecationWarning: \u001b[1mThe 'nopython' keyword argument was not supplied to the 'numba.jit' decorator. The implicit default value for this argument is currently False, but it will be changed to True in Numba 0.59.0. See https://numba.readthedocs.io/en/stable/reference/deprecation.html#deprecation-of-object-mode-fall-back-behaviour-when-using-jit for details.\u001b[0m\n",
      "  def twobit_1hamming(twobit: int, size: int) -> List[int]:\n",
      "INFO:matplotlib.font_manager:Failed to extract font properties from /usr/share/fonts/google-noto-emoji/NotoColorEmoji.ttf: In FT2Font: Can not load face (unknown file format; error code 0x2)\n"
     ]
    },
    {
     "data": {
      "text/plain": [
       "'0.14.0'"
      ]
     },
     "execution_count": 2,
     "metadata": {},
     "output_type": "execute_result"
    }
   ],
   "source": [
    "import celloracle as co\n",
    "from celloracle.applications import Pseudotime_calculator\n",
    "co.__version__"
   ]
  },
  {
   "cell_type": "markdown",
   "id": "4a79b223-c5bc-4cf1-b833-0798e5aa88ea",
   "metadata": {},
   "source": [
    "## 0.3. Plotting parameter setting"
   ]
  },
  {
   "cell_type": "code",
   "execution_count": 3,
   "id": "339ab7a0-d6e5-45a5-aaea-d11d38795944",
   "metadata": {},
   "outputs": [],
   "source": [
    "#plt.rcParams[\"font.family\"] = \"arial\"\n",
    "plt.rcParams[\"figure.figsize\"] = [5,5]\n",
    "%config InlineBackend.figure_format = 'retina'\n",
    "plt.rcParams[\"savefig.dpi\"] = 300\n",
    "\n",
    "%matplotlib inline"
   ]
  },
  {
   "cell_type": "markdown",
   "id": "f1c213c2-3576-4e8f-b30f-4d2eaf389f48",
   "metadata": {},
   "source": [
    "# 1. Load data\n",
    "\n",
    "- If you have `Oracle` object, please run **1.1.[Option1] Load oracle data.**\n",
    "\n",
    "- If you have not made an `Oracle` object yet and want to calculate pseudotime using `Anndata` object, please run **1.2.[Option2] Load anndata.** \n",
    "\n",
    "In this notebook, we will load demo `Oracle` object and add pseudotime information to it.\n",
    "\n",
    "## 1.1. [Option1] Load oracle data"
   ]
  },
  {
   "cell_type": "code",
   "execution_count": 7,
   "id": "7ba2288a-6ece-4cbf-8712-2f51229abb7c",
   "metadata": {},
   "outputs": [
    {
     "name": "stdout",
     "output_type": "stream",
     "text": [
      "Data not found in the local folder. Loading data from github. Data will be saved at /home/yang-joon.kim/celloracle_data/tutorial_data\n"
     ]
    },
    {
     "data": {
      "application/vnd.jupyter.widget-view+json": {
       "model_id": "923bec89fa19473c91c5759d908bb0d8",
       "version_major": 2,
       "version_minor": 0
      },
      "text/plain": [
       "  0%|          | 0.00/77.7M [00:00<?, ?B/s]"
      ]
     },
     "metadata": {},
     "output_type": "display_data"
    }
   ],
   "source": [
    "# # Load demo scRNA-seq data.\n",
    "# oracle = co.data.load_tutorial_oracle_object()\n",
    "\n",
    "# # Instantiate pseudotime object using oracle object.\n",
    "# pt = Pseudotime_calculator(oracle_object=oracle)"
   ]
  },
  {
   "cell_type": "code",
   "execution_count": 4,
   "id": "2dc74fa9-5140-40fc-b340-44101cbfd0b9",
   "metadata": {},
   "outputs": [
    {
     "data": {
      "text/plain": [
       "Oracle object\n",
       "\n",
       "Meta data\n",
       "    celloracle version used for instantiation: 0.14.0\n",
       "    n_cells: 13022\n",
       "    n_genes: 3000\n",
       "    cluster_name: global_annotation\n",
       "    dimensional_reduction_name: X_umap.atac\n",
       "    n_target_genes_in_TFdict: 12674 genes\n",
       "    n_regulatory_in_TFdict: 872 genes\n",
       "    n_regulatory_in_both_TFdict_and_scRNA-seq: 318 genes\n",
       "    n_target_genes_both_TFdict_and_scRNA-seq: 1637 genes\n",
       "    k_for_knn_imputation: 325\n",
       "Status\n",
       "    Gene expression matrix: Ready\n",
       "    BaseGRN: Ready\n",
       "    PCA calculation: Done\n",
       "    Knn imputation: Done\n",
       "    GRN calculation for simulation: Not finished"
      ]
     },
     "execution_count": 4,
     "metadata": {},
     "output_type": "execute_result"
    }
   ],
   "source": [
    "# Load the TDR118 oracle data\n",
    "oracle = co.load_hdf5(\"/hpc/projects/data.science/yangjoon.kim/zebrahub_multiome/data/processed_data/TDR119_cicero_output/06_TDR119.celloracle.oracle\")\n",
    "oracle"
   ]
  },
  {
   "cell_type": "code",
   "execution_count": null,
   "id": "88db218e-d031-488c-91ac-0dcda25c3933",
   "metadata": {},
   "outputs": [],
   "source": []
  },
  {
   "cell_type": "code",
   "execution_count": null,
   "id": "ad5635f4-9589-4cb3-93f6-5cff825e9ce1",
   "metadata": {},
   "outputs": [],
   "source": []
  },
  {
   "cell_type": "code",
   "execution_count": null,
   "id": "516220f3-f653-4d0b-8104-a790dfc78cf7",
   "metadata": {},
   "outputs": [],
   "source": []
  },
  {
   "cell_type": "code",
   "execution_count": null,
   "id": "27946291-d937-4b78-b146-b8474cdf1d50",
   "metadata": {},
   "outputs": [],
   "source": []
  },
  {
   "cell_type": "code",
   "execution_count": null,
   "id": "06051f81-d4a1-4730-aaf9-51a2066b9776",
   "metadata": {},
   "outputs": [],
   "source": []
  },
  {
   "cell_type": "code",
   "execution_count": null,
   "id": "1d7c1195-4d95-4920-bb8e-0ac90b209279",
   "metadata": {},
   "outputs": [],
   "source": []
  },
  {
   "cell_type": "code",
   "execution_count": null,
   "id": "1aa74957-d89f-47a2-8d95-e343175b5913",
   "metadata": {},
   "outputs": [],
   "source": []
  },
  {
   "cell_type": "code",
   "execution_count": null,
   "id": "9be5593a-e505-4c40-b947-89d40782d382",
   "metadata": {},
   "outputs": [],
   "source": []
  }
 ],
 "metadata": {
  "kernelspec": {
   "display_name": "Python [conda env:.conda-celloracle_env]",
   "language": "python",
   "name": "conda-env-.conda-celloracle_env-py"
  },
  "language_info": {
   "codemirror_mode": {
    "name": "ipython",
    "version": 3
   },
   "file_extension": ".py",
   "mimetype": "text/x-python",
   "name": "python",
   "nbconvert_exporter": "python",
   "pygments_lexer": "ipython3",
   "version": "3.8.17"
  }
 },
 "nbformat": 4,
 "nbformat_minor": 5
}
